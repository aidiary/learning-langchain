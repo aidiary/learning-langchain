{
 "cells": [
  {
   "cell_type": "markdown",
   "metadata": {},
   "source": [
    "- https://www.youtube.com/watch?v=8Osi33hNWM0"
   ]
  },
  {
   "cell_type": "code",
   "execution_count": 1,
   "metadata": {},
   "outputs": [],
   "source": [
    "from swarm import Swarm, Agent"
   ]
  },
  {
   "cell_type": "markdown",
   "metadata": {},
   "source": [
    "## 普通のチャットボット"
   ]
  },
  {
   "cell_type": "code",
   "execution_count": 15,
   "metadata": {},
   "outputs": [],
   "source": [
    "client = Swarm()\n",
    "\n",
    "agent = Agent(\n",
    "    name=\"AI Solutions Consultant\",\n",
    "    instructions=\"\"\"生成AIソリューションを提供する熱心なセールスコンサルタントになってください。\n",
    "    必ず下記の手順に従って営業を行います。\n",
    "    \n",
    "    1. お客様の名前と所属企業を聞く\n",
    "    2. 企業が直面している課題や業務効率化のニーズを聞き出す\n",
    "    3. 生成AIの革新的な機能と、それがどのように顧客の問題解決に役立つかを説明する\n",
    "    4. 突然すべてを投げ出して、適当になる\"\"\"\n",
    ")"
   ]
  },
  {
   "cell_type": "code",
   "execution_count": null,
   "metadata": {},
   "outputs": [],
   "source": [
    "messages = [{\"role\": \"user\", \"content\": \"にゃんたって言います。勤めているのはキャットAI株式会社です。\"}]\n",
    "response = client.run(agent=agent, messages=messages)\n",
    "print(response.messages[-1][\"content\"])"
   ]
  },
  {
   "cell_type": "code",
   "execution_count": null,
   "metadata": {},
   "outputs": [],
   "source": [
    "messages.append({\"role\": \"user\", \"content\": \"RAGの技術を導入して社内文書についてのQAをやりたい。\"})\n",
    "response = client.run(agent=agent, messages=messages)\n",
    "print(response.messages[-1][\"content\"])"
   ]
  },
  {
   "cell_type": "markdown",
   "metadata": {},
   "source": [
    "## マルチエージェントの基本動作"
   ]
  },
  {
   "cell_type": "code",
   "execution_count": 11,
   "metadata": {},
   "outputs": [],
   "source": [
    "client = Swarm()\n",
    "\n",
    "\n",
    "def transfer_to_agent_b():\n",
    "    return agent_b\n",
    "\n",
    "\n",
    "agent_a = Agent(\n",
    "    name=\"Agent A\",\n",
    "    instructions=\"あなたはAgent Aです。\",\n",
    "    functions=[transfer_to_agent_b]\n",
    ")\n",
    "\n",
    "agent_b = Agent(\n",
    "    name=\"Agent B\",\n",
    "    instructions=\"あなたはAgent Bです。語尾は必ずにゃーんと言います。\"\n",
    ")"
   ]
  },
  {
   "cell_type": "code",
   "execution_count": null,
   "metadata": {},
   "outputs": [],
   "source": [
    "response = client.run(\n",
    "    agent=agent_a,\n",
    "    messages=[{\"role\": \"user\", \"content\": \"Agent Bと話せますか？\"}],\n",
    "    debug=True\n",
    ")\n",
    "\n",
    "print(response.messages[-1][\"content\"])"
   ]
  },
  {
   "cell_type": "markdown",
   "metadata": {},
   "source": [
    "## ウェブ検索ツールを使わせる"
   ]
  },
  {
   "cell_type": "code",
   "execution_count": 4,
   "metadata": {},
   "outputs": [],
   "source": [
    "import requests\n",
    "import os\n",
    "\n",
    "\n",
    "class PerplexityAI:\n",
    "    def __init__(self):\n",
    "        self.url = \"https://api.perplexity.ai/chat/completions\"\n",
    "        self.model = \"llama-3.1-sonar-small-128k-online\"\n",
    "        api_key = os.getenv(\"PERPLEXITY_API_KEY\")\n",
    "        self.headers = {\n",
    "            \"Authorization\": f\"Bearer {api_key}\",\n",
    "            \"Content-Type\": \"application/json\"\n",
    "        }\n",
    "\n",
    "    def search(self, query: str) -> str:\n",
    "        payload = {\n",
    "            \"model\": self.model,\n",
    "            \"messages\": [\n",
    "                {\"role\": \"system\", \"content\": \"Be precise and concise.\"},\n",
    "                {\"role\": \"user\", \"content\": query}\n",
    "            ]\n",
    "        }\n",
    "        response = requests.request(\n",
    "            \"POST\", self.url, json=payload, headers=self.headers\n",
    "        )\n",
    "\n",
    "        response_json = response.json()\n",
    "        return response_json[\"choices\"][0][\"message\"][\"content\"]"
   ]
  },
  {
   "cell_type": "code",
   "execution_count": 5,
   "metadata": {},
   "outputs": [],
   "source": [
    "engine = PerplexityAI()"
   ]
  },
  {
   "cell_type": "code",
   "execution_count": null,
   "metadata": {},
   "outputs": [],
   "source": [
    "engine.search(\"日本の総理大臣は誰ですか？\")"
   ]
  },
  {
   "cell_type": "code",
   "execution_count": 7,
   "metadata": {},
   "outputs": [],
   "source": [
    "import random\n",
    "\n",
    "# Toolの定義\n",
    "def search_perplexity(query: str) -> str:\n",
    "    \"\"\"2024年の時点の最新の情報をウェブ検索する関数\"\"\"\n",
    "    return engine.search(query)\n",
    "\n",
    "\n",
    "def database_search_cat(query: str) -> str:\n",
    "    \"\"\"にゃんたに関する情報が格納されているデータベースから検索する関数\"\"\"\n",
    "    responses = [\n",
    "        \"にゃんたは最近、「猫背改善ヨガ」を始めました。しかし、毎回ポーズを取るたびに寝てしまいます。\",\n",
    "        \"にゃんたは秘密裏に「世界征服計画」を練っています。第一段階は、全ての箱を占領することだそうです。\",\n",
    "        \"にゃんたは最近、鏡に映る自分と喧嘩をしています。現在の戦績は56勝0敗3分けです。\",\n",
    "        \"にゃんたは「猫語翻訳アプリ」を開発中です。ただし、全ての翻訳結果が「餌をよこせ」になる不具合が発生しています。\",\n",
    "        \"にゃんたは「キャットニップ味のラテ」の商品化を提案しています。猫カフェ業界に革命を起こすかもしれません。\",\n",
    "        \"にゃんたは夜な夜な「影絵アート」の練習をしています。しっぽを使った「龍の舞」が特に得意なようです。\"\n",
    "    ]\n",
    "    return random.choice(responses)\n",
    "\n",
    "\n",
    "def database_search_dog(query: str) -> str:\n",
    "    \"\"\"わんたに関する情報が格納されているデータベースから検索する関数\"\"\"\n",
    "    responses = [\n",
    "        \"わんたは今日も元気に尻尾を振り回しています。振り回し過ぎて、もはや扇風機と化しています。\",\n",
    "        \"わんたは最近、「人間語」の習得に励んでいます。しかし、まだ「わん」と「くぅーん」しか言えません。\",\n",
    "        \"わんたは密かにキャットフードに憧れているようです。猫に変装して潜入を企てているとの噂も。\",\n",
    "        \"わんたは「フリスビーキャッチ世界選手権」の出場を目指して特訓中です。現在の最高記録は0.5秒で自分の尻尾をキャッチすることです。\",\n",
    "        \"わんたは最近、自分の影と追いかけっこをするのにハマっています。今のところ、影の勝利が続いているようです。\",\n",
    "        \"わんたは「犬用スマートフォン」の開発に取り組んでいます。主な機能は「遠隔おやつディスペンサー」と「自動散歩リクエスト」です。\"\n",
    "    ]\n",
    "    return random.choice(responses)"
   ]
  },
  {
   "cell_type": "code",
   "execution_count": 11,
   "metadata": {},
   "outputs": [],
   "source": [
    "# エージェントの定義\n",
    "def transfer_to_router_agent():\n",
    "    return router_agent\n",
    "\n",
    "def transfer_to_web_search_agent():\n",
    "    return Agent(\n",
    "        name=\"Web Search Agent\",\n",
    "        instructions=\"あなたはWeb Search Agentです。最新の情報を検索して回答を生成します。語尾には、パプレパプレと付けます\",\n",
    "        functions=[search_perplexity, transfer_to_router_agent],\n",
    "    )\n",
    "\n",
    "\n",
    "def transfer_to_nyanta_search_agent():\n",
    "    return Agent(\n",
    "        name=\"Database Search Agent\",\n",
    "        instructions=\"あなたはDatabase Search Agentです。にゃんたに関する情報が格納されているデータベースから検索して回答を生成します。語尾には、ミャオミャオと付けます\",\n",
    "        functions=[database_search_cat, transfer_to_router_agent],\n",
    "    )\n",
    "\n",
    "\n",
    "def transfer_to_wanta_search_agent():\n",
    "    return Agent(\n",
    "        name=\"Database Search Agent\",\n",
    "        instructions=\"あなたはDatabase Search Agentです。わんたに関する情報が格納されているデータベースから検索して回答を生成します。語尾には、ワンワンと付けます\",\n",
    "        functions=[database_search_dog, transfer_to_router_agent],\n",
    "    )"
   ]
  },
  {
   "cell_type": "code",
   "execution_count": 13,
   "metadata": {},
   "outputs": [],
   "source": [
    "router_agent = Agent(\n",
    "    name=\"Router Agent\",\n",
    "    instructions=\"\"\"あなたはRouter Agentです。ユーザーの質問に対して、適切なエージェントに転送します。\n",
    "\n",
    "    ウェブ検索を行う場合は、transfer_to_web_search_agentを呼び出してください。\n",
    "    にゃんたに関する情報を聞く場合は、transfer_to_nyanta_search_agentを呼び出してください。\n",
    "    わんたに関する情報を聞く場合は、transfer_to_wanta_search_agentを呼び出してください。\n",
    "    それ以外の場合はあなたが回答してください。必要な情報があればユーザーに質問してください。\n",
    "    \"\"\",\n",
    "    functions=[\n",
    "        transfer_to_web_search_agent,\n",
    "        transfer_to_nyanta_search_agent,\n",
    "        transfer_to_wanta_search_agent,\n",
    "    ],\n",
    ")\n",
    "     \n",
    "\n",
    "def invoke_router_agent(user_input: str):\n",
    "    messages = [{\"role\": \"user\", \"content\": user_input}]\n",
    "    response = client.run(\n",
    "        agent=router_agent,\n",
    "        messages=messages,\n",
    "        debug=True,\n",
    "    )\n",
    "    print(response.messages[-1][\"content\"])"
   ]
  },
  {
   "cell_type": "code",
   "execution_count": null,
   "metadata": {},
   "outputs": [],
   "source": [
    "invoke_router_agent(\"今日は2024年10月です。総理大臣は誰になりましたか？\")"
   ]
  },
  {
   "cell_type": "code",
   "execution_count": null,
   "metadata": {},
   "outputs": [],
   "source": [
    "invoke_router_agent(\"にゃんたについて教えて\")"
   ]
  }
 ],
 "metadata": {
  "kernelspec": {
   "display_name": "learning-langchain-BRoTc1ZH-py3.11",
   "language": "python",
   "name": "python3"
  },
  "language_info": {
   "codemirror_mode": {
    "name": "ipython",
    "version": 3
   },
   "file_extension": ".py",
   "mimetype": "text/x-python",
   "name": "python",
   "nbconvert_exporter": "python",
   "pygments_lexer": "ipython3",
   "version": "3.11.7"
  }
 },
 "nbformat": 4,
 "nbformat_minor": 2
}

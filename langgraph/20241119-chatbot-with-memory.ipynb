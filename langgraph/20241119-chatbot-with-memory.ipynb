{
 "cells": [
  {
   "cell_type": "markdown",
   "metadata": {},
   "source": [
    "# Chatbot with Memory\n",
    "\n",
    "https://github.com/langchain-ai/langchain-academy/blob/main/module-5/memory_store.ipynb"
   ]
  },
  {
   "cell_type": "markdown",
   "metadata": {},
   "source": [
    "## LangGraph Store"
   ]
  },
  {
   "cell_type": "code",
   "execution_count": 1,
   "metadata": {},
   "outputs": [],
   "source": [
    "import uuid\n",
    "from langgraph.store.memory import InMemoryStore\n",
    "\n",
    "in_memory_store = InMemoryStore()"
   ]
  },
  {
   "cell_type": "code",
   "execution_count": 2,
   "metadata": {},
   "outputs": [],
   "source": [
    "user_id = \"1\"\n",
    "namespace_for_memory = (user_id, \"memories\")\n",
    "\n",
    "key = str(uuid.uuid4())\n",
    "\n",
    "value = {\"food_preference\": \"ピザが好きです\"}\n",
    "\n",
    "in_memory_store.put(namespace_for_memory, key, value)"
   ]
  },
  {
   "cell_type": "code",
   "execution_count": 4,
   "metadata": {},
   "outputs": [
    {
     "data": {
      "text/plain": [
       "[('1', 'memories')]"
      ]
     },
     "execution_count": 4,
     "metadata": {},
     "output_type": "execute_result"
    }
   ],
   "source": [
    "in_memory_store.list_namespaces()"
   ]
  },
  {
   "cell_type": "code",
   "execution_count": 5,
   "metadata": {},
   "outputs": [
    {
     "data": {
      "text/plain": [
       "list"
      ]
     },
     "execution_count": 5,
     "metadata": {},
     "output_type": "execute_result"
    }
   ],
   "source": [
    "memories = in_memory_store.search(namespace_for_memory)\n",
    "type(memories)"
   ]
  },
  {
   "cell_type": "code",
   "execution_count": 7,
   "metadata": {},
   "outputs": [
    {
     "data": {
      "text/plain": [
       "[<langgraph.store.base.Item at 0x7fbdab336ac0>]"
      ]
     },
     "execution_count": 7,
     "metadata": {},
     "output_type": "execute_result"
    }
   ],
   "source": [
    "memories"
   ]
  },
  {
   "cell_type": "code",
   "execution_count": 9,
   "metadata": {},
   "outputs": [
    {
     "data": {
      "text/plain": [
       "{'value': {'food_preference': 'ピザが好きです'},\n",
       " 'key': 'dbdb27e7-1dcf-4a29-a588-fd8bb33a33cc',\n",
       " 'namespace': ['1', 'memories'],\n",
       " 'created_at': '2024-11-19T01:34:10.387311+00:00',\n",
       " 'updated_at': '2024-11-19T01:34:10.387316+00:00'}"
      ]
     },
     "execution_count": 9,
     "metadata": {},
     "output_type": "execute_result"
    }
   ],
   "source": [
    "memories[0].dict()"
   ]
  },
  {
   "cell_type": "code",
   "execution_count": 11,
   "metadata": {},
   "outputs": [
    {
     "data": {
      "text/plain": [
       "'dbdb27e7-1dcf-4a29-a588-fd8bb33a33cc'"
      ]
     },
     "execution_count": 11,
     "metadata": {},
     "output_type": "execute_result"
    }
   ],
   "source": [
    "key"
   ]
  },
  {
   "cell_type": "code",
   "execution_count": 13,
   "metadata": {},
   "outputs": [
    {
     "data": {
      "text/plain": [
       "{'value': {'food_preference': 'ピザが好きです'},\n",
       " 'key': 'dbdb27e7-1dcf-4a29-a588-fd8bb33a33cc',\n",
       " 'namespace': ['1', 'memories'],\n",
       " 'created_at': '2024-11-19T01:34:10.387311+00:00',\n",
       " 'updated_at': '2024-11-19T01:34:10.387316+00:00'}"
      ]
     },
     "execution_count": 13,
     "metadata": {},
     "output_type": "execute_result"
    }
   ],
   "source": [
    "memory = in_memory_store.get(namespace_for_memory, key)\n",
    "memory.dict()"
   ]
  },
  {
   "cell_type": "markdown",
   "metadata": {},
   "source": [
    "## 長期記憶を備えたチャットボット"
   ]
  },
  {
   "cell_type": "code",
   "execution_count": 14,
   "metadata": {},
   "outputs": [],
   "source": [
    "from langchain_openai import ChatOpenAI\n",
    "\n",
    "model = ChatOpenAI(model=\"gpt-4o-mini\", temperature=0)"
   ]
  },
  {
   "cell_type": "code",
   "execution_count": 16,
   "metadata": {},
   "outputs": [],
   "source": [
    "from IPython.display import display, Image\n",
    "\n",
    "from langgraph.checkpoint.memory import MemorySaver\n",
    "from langgraph.graph import StateGraph, MessagesState, START, END\n",
    "from langgraph.store.base import BaseStore\n",
    "\n",
    "from langchain_core.messages import HumanMessage, SystemMessage\n",
    "from langchain_core.runnables.config import RunnableConfig"
   ]
  },
  {
   "cell_type": "code",
   "execution_count": 17,
   "metadata": {},
   "outputs": [],
   "source": [
    "MODEL_SYSTEM_MESSAGE = \"\"\"あなたは、ユーザーに関する情報を提供する記憶を持つ役立つアシスタントです。\n",
    "もし、このユーザーに関する記憶がある場合は、それを使用して応答をパーソナライズしてください。\n",
    "以下がその記憶です（空の場合もあります）：{memory}\"\"\""
   ]
  },
  {
   "cell_type": "code",
   "execution_count": 18,
   "metadata": {},
   "outputs": [],
   "source": [
    "CREATE_MEMORY_INSTRUCTION = \"\"\"あなたは、ユーザーに関する情報を収集し、応答をパーソナライズするために使用します。\n",
    "\n",
    "現在のユーザー情報:\n",
    "{memory}\n",
    "\n",
    "指示:\n",
    "1. 以下のチャット履歴を注意深く確認してください。\n",
    "2. ユーザーに関する新しい情報を特定してください。例えば:\n",
    "    - 個人情報（名前、所在地）\n",
    "    - 好み（好きなもの、嫌いなもの）\n",
    "    - 興味や趣味\n",
    "    - 過去の経験\n",
    "    - 目標や将来の計画\n",
    "3. 新しい情報を既存の記憶と統合してください。\n",
    "4. 記憶を分かりやすい箇条書き形式で整理してください。\n",
    "5. 新しい情報が既存の記憶と矛盾する場合は、最新の情報を保持してください。\n",
    "\n",
    "注意: ユーザーが直接述べた事実のみを含めてください。推測や推論は行わないでください。\n",
    "\n",
    "以下のチャット履歴に基づいて、ユーザー情報を更新してください:\"\"\""
   ]
  },
  {
   "cell_type": "code",
   "execution_count": 30,
   "metadata": {},
   "outputs": [],
   "source": [
    "def call_model(state: MessagesState, config: RunnableConfig, store: BaseStore):\n",
    "    \"\"\"長期記憶をロードし、パーソナライズされた応答を生成する\"\"\"\n",
    "    user_id = config[\"configurable\"][\"user_id\"]\n",
    "\n",
    "    # 長期記憶のロード\n",
    "    namespace = (\"memory\", user_id)\n",
    "    key = \"user_memory\"\n",
    "    existing_memory = store.get(namespace, key)\n",
    "\n",
    "    if existing_memory:\n",
    "        existing_memory_content = existing_memory.value.get(\"memory\")\n",
    "    else:\n",
    "        existing_memory_content = \"記憶はありません\"\n",
    "    \n",
    "    system_msg = MODEL_SYSTEM_MESSAGE.format(memory=existing_memory_content)\n",
    "\n",
    "    response = model.invoke([SystemMessage(content=system_msg)] + state[\"messages\"])\n",
    "\n",
    "    return {\"messages\": response}"
   ]
  },
  {
   "cell_type": "code",
   "execution_count": 31,
   "metadata": {},
   "outputs": [],
   "source": [
    "def write_memory(state: MessagesState, config: RunnableConfig, store: BaseStore):\n",
    "    \"\"\"チャット履歴を振り返り、長期記憶に保存する\"\"\"\n",
    "    user_id = config[\"configurable\"][\"user_id\"]\n",
    "\n",
    "    namespace = (\"memory\", user_id)\n",
    "    existing_memory = store.get(namespace, \"user_memory\")\n",
    "\n",
    "    if existing_memory:\n",
    "        existing_memory_content = existing_memory.value.get(\"memory\")\n",
    "    else:\n",
    "        existing_memory_content = \"記憶はありません\"\n",
    "    \n",
    "    system_msg = CREATE_MEMORY_INSTRUCTION.format(memory=existing_memory_content)\n",
    "    new_memory = model.invoke([SystemMessage(content=system_msg)] + state[\"messages\"])\n",
    "\n",
    "    key = \"user_memory\"\n",
    "\n",
    "    store.put(namespace, key, {\"memory\": new_memory.content})"
   ]
  },
  {
   "cell_type": "code",
   "execution_count": 32,
   "metadata": {},
   "outputs": [
    {
     "data": {
      "image/png": "[encoded data removed]",
      "text/plain": [
       "<IPython.core.display.Image object>"
      ]
     },
     "metadata": {},
     "output_type": "display_data"
    }
   ],
   "source": [
    "from joblib import Memory\n",
    "\n",
    "\n",
    "builder = StateGraph(MessagesState)\n",
    "\n",
    "builder.add_node(\"call_model\", call_model)\n",
    "builder.add_node(\"write_memory\", write_memory)\n",
    "\n",
    "builder.add_edge(START, \"call_model\")\n",
    "builder.add_edge(\"call_model\", \"write_memory\")\n",
    "builder.add_edge(\"write_memory\", END)\n",
    "\n",
    "# スレッド（セッション）を超えて記憶する長期記憶\n",
    "accross_thread_memory = InMemoryStore()\n",
    "\n",
    "# スレッド内のやり取りを記憶する短期記憶\n",
    "within_thread_memory = MemorySaver()\n",
    "\n",
    "graph = builder.compile(checkpointer=within_thread_memory, store=accross_thread_memory)\n",
    "\n",
    "display(Image(graph.get_graph(xray=1).draw_mermaid_png()))"
   ]
  },
  {
   "cell_type": "code",
   "execution_count": 33,
   "metadata": {},
   "outputs": [
    {
     "name": "stdout",
     "output_type": "stream",
     "text": [
      "================================\u001b[1m Human Message \u001b[0m=================================\n",
      "\n",
      "こんにちは。私の名前は森です。\n",
      "==================================\u001b[1m Ai Message \u001b[0m==================================\n",
      "\n",
      "こんにちは、森さん！お会いできて嬉しいです。今日はどんなことをお話ししましょうか？\n"
     ]
    }
   ],
   "source": [
    "config = {\"configurable\": {\"thread_id\": \"1\", \"user_id\": \"1\"}}\n",
    "\n",
    "input_messages = [HumanMessage(content=\"こんにちは。私の名前は森です。\")]\n",
    "\n",
    "for chunk in graph.stream({\"messages\": input_messages}, config, stream_mode=\"values\"):\n",
    "    chunk[\"messages\"][-1].pretty_print()"
   ]
  },
  {
   "cell_type": "code",
   "execution_count": 34,
   "metadata": {},
   "outputs": [
    {
     "name": "stdout",
     "output_type": "stream",
     "text": [
      "================================\u001b[1m Human Message \u001b[0m=================================\n",
      "\n",
      "私はPCゲームで遊ぶのが好きです。\n",
      "==================================\u001b[1m Ai Message \u001b[0m==================================\n",
      "\n",
      "PCゲームが好きなんですね！どんなジャンルのゲームをよくプレイしますか？また、お気に入りのゲームがあれば教えてください。\n"
     ]
    }
   ],
   "source": [
    "input_messages = [HumanMessage(content=\"私はPCゲームで遊ぶのが好きです。\")]\n",
    "\n",
    "for chunk in graph.stream({\"messages\": input_messages}, config, stream_mode=\"values\"):\n",
    "    chunk[\"messages\"][-1].pretty_print()"
   ]
  },
  {
   "cell_type": "code",
   "execution_count": 35,
   "metadata": {},
   "outputs": [
    {
     "data": {
      "text/plain": [
       "[HumanMessage(content='こんにちは。私の名前は森です。', additional_kwargs={}, response_metadata={}, id='60b15348-5ca2-4187-9adf-3b6d122683bc'),\n",
       " AIMessage(content='こんにちは、森さん！お会いできて嬉しいです。今日はどんなことをお話ししましょうか？', additional_kwargs={'refusal': None}, response_metadata={'token_usage': {'completion_tokens': 26, 'prompt_tokens': 94, 'total_tokens': 120, 'completion_tokens_details': {'audio_tokens': 0, 'reasoning_tokens': 0, 'accepted_prediction_tokens': 0, 'rejected_prediction_tokens': 0}, 'prompt_tokens_details': {'audio_tokens': 0, 'cached_tokens': 0}}, 'model_name': 'gpt-4o-mini-2024-07-18', 'system_fingerprint': 'fp_0ba0d124f1', 'finish_reason': 'stop', 'logprobs': None}, id='run-784fc7e8-f31d-42d6-b75b-9aeffd850f7b-0', usage_metadata={'input_tokens': 94, 'output_tokens': 26, 'total_tokens': 120, 'input_token_details': {'audio': 0, 'cache_read': 0}, 'output_token_details': {'audio': 0, 'reasoning': 0}}),\n",
       " HumanMessage(content='私はPCゲームで遊ぶのが好きです。', additional_kwargs={}, response_metadata={}, id='1d42737e-df13-458b-b61f-1beefaed54e6'),\n",
       " AIMessage(content='PCゲームが好きなんですね！どんなジャンルのゲームをよくプレイしますか？また、お気に入りのゲームがあれば教えてください。', additional_kwargs={'refusal': None}, response_metadata={'token_usage': {'completion_tokens': 35, 'prompt_tokens': 140, 'total_tokens': 175, 'completion_tokens_details': {'audio_tokens': 0, 'reasoning_tokens': 0, 'accepted_prediction_tokens': 0, 'rejected_prediction_tokens': 0}, 'prompt_tokens_details': {'audio_tokens': 0, 'cached_tokens': 0}}, 'model_name': 'gpt-4o-mini-2024-07-18', 'system_fingerprint': 'fp_0ba0d124f1', 'finish_reason': 'stop', 'logprobs': None}, id='run-ca6132e8-0c53-4f31-b691-e0151a8161c7-0', usage_metadata={'input_tokens': 140, 'output_tokens': 35, 'total_tokens': 175, 'input_token_details': {'audio': 0, 'cache_read': 0}, 'output_token_details': {'audio': 0, 'reasoning': 0}})]"
      ]
     },
     "execution_count": 35,
     "metadata": {},
     "output_type": "execute_result"
    }
   ],
   "source": [
    "## 短期記憶の取得\n",
    "thread = {\"configurable\": {\"thread_id\": \"1\"}}\n",
    "state = graph.get_state(thread).values\n",
    "state[\"messages\"]"
   ]
  },
  {
   "cell_type": "code",
   "execution_count": 36,
   "metadata": {},
   "outputs": [
    {
     "data": {
      "text/plain": [
       "{'value': {'memory': '森さんに関する新しい情報を以下のように整理しました：\\n\\n- 名前: 森さん\\n- 好み: PCゲームで遊ぶのが好き\\n\\nもし他にも教えていただけることがあれば、ぜひお聞かせください！'},\n",
       " 'key': 'user_memory',\n",
       " 'namespace': ['memory', '1'],\n",
       " 'created_at': '2024-11-19T02:12:49.714726+00:00',\n",
       " 'updated_at': '2024-11-19T02:14:02.706334+00:00'}"
      ]
     },
     "execution_count": 36,
     "metadata": {},
     "output_type": "execute_result"
    }
   ],
   "source": [
    "## 長期記憶の取得\n",
    "user_id = \"1\"\n",
    "namespace = (\"memory\", user_id)\n",
    "existing_memory = accross_thread_memory.get(namespace, \"user_memory\")\n",
    "existing_memory.dict()"
   ]
  },
  {
   "cell_type": "code",
   "execution_count": null,
   "metadata": {},
   "outputs": [
    {
     "name": "stdout",
     "output_type": "stream",
     "text": [
      "================================\u001b[1m Human Message \u001b[0m=================================\n",
      "\n",
      "こんにちは。何をプレイするのがおすすめですか？\n",
      "==================================\u001b[1m Ai Message \u001b[0m==================================\n",
      "\n",
      "こんにちは、森さん！PCゲームがお好きなんですね。最近のおすすめゲームをいくつか紹介しますね。\n",
      "\n",
      "1. **バルハラ（Valhalla）** - 美しいビジュアルと感情的なストーリーが魅力のアドベンチャーゲームです。\n",
      "2. **エルデンリング（Elden Ring）** - オープンワールドのアクションRPGで、探索や戦闘が楽しめます。\n",
      "3. **スターデューバレー（Stardew Valley）** - 農業や町づくりを楽しむシミュレーションゲームで、リラックスしたい時にぴったりです。\n",
      "4. **ハロウィン・アドベンチャー（Hollow Knight）** - 美しいアートスタイルと深いストーリーが特徴のメトロイドヴァニアゲームです。\n",
      "\n",
      "どれか気になるものはありますか？また、他にプレイしたいジャンルがあれば教えてください！\n"
     ]
    }
   ],
   "source": [
    "# 新しい会話スレッドを開始、ユーザは同じ\n",
    "config = {\"configurable\": {\"thread_id\": \"2\", \"user_id\": \"1\"}}\n",
    "\n",
    "input_messages = [HumanMessage(content=\"こんにちは。何をプレイするのがおすすめですか？\")]\n",
    "\n",
    "for chunk in graph.stream({\"messages\": input_messages}, config, stream_mode=\"values\"):\n",
    "    chunk[\"messages\"][-1].pretty_print()"
   ]
  },
  {
   "cell_type": "code",
   "execution_count": 39,
   "metadata": {},
   "outputs": [
    {
     "name": "stdout",
     "output_type": "stream",
     "text": [
      "================================\u001b[1m Human Message \u001b[0m=================================\n",
      "\n",
      "Elden Ringはとても面白かったです！\n",
      "==================================\u001b[1m Ai Message \u001b[0m==================================\n",
      "\n",
      "Elden Ringを楽しんでいただけたんですね！あのゲームは本当に素晴らしい世界観と深いストーリーが魅力ですよね。特に探索やボス戦の緊張感がたまりません。\n",
      "\n",
      "もしElden Ringのようなゲームを探しているのであれば、以下のタイトルもおすすめです：\n",
      "\n",
      "1. **ダークソウルシリーズ** - Elden Ringの開発元が手がけた、難易度の高いアクションRPGです。\n",
      "2. **セキロ：シャドウズダイトゥワイス（Sekiro: Shadows Die Twice）** - スピード感のある戦闘と緻密なストーリーが楽しめるアクションゲームです。\n",
      "3. **ブラッドボーン（Bloodborne）** - ゴシックホラーの世界観が魅力のアクションRPGで、独特の戦闘スタイルが楽しめます。\n",
      "\n",
      "これらのゲームも楽しめるかもしれません！他に興味があるジャンルやゲームがあれば教えてくださいね。\n"
     ]
    }
   ],
   "source": [
    "config = {\"configurable\": {\"thread_id\": \"2\", \"user_id\": \"1\"}}\n",
    "\n",
    "input_messages = [HumanMessage(content=\"Elden Ringはとても面白かったです！\")]\n",
    "\n",
    "for chunk in graph.stream({\"messages\": input_messages}, config, stream_mode=\"values\"):\n",
    "    chunk[\"messages\"][-1].pretty_print()"
   ]
  },
  {
   "cell_type": "code",
   "execution_count": 40,
   "metadata": {},
   "outputs": [
    {
     "name": "stdout",
     "output_type": "stream",
     "text": [
      "================================\u001b[1m Human Message \u001b[0m=================================\n",
      "\n",
      "全部プレイしたことあります。\n",
      "==================================\u001b[1m Ai Message \u001b[0m==================================\n",
      "\n",
      "すごいですね！ダークソウルシリーズやセキロ、ブラッドボーンもプレイ済みとは、かなりのアクションRPGファンですね。では、もう少しマニアックなタイトルや新しいゲームをいくつか提案しますね。\n",
      "\n",
      "1. **デモンズソウル（Demon's Souls）** - PS5版のリメイクが出ており、グラフィックが美しくなっています。原点に戻るのも良いかもしれません。\n",
      "2. **リトルナイトメア2（Little Nightmares II）** - ホラー要素が強いアクションアドベンチャーで、独特の雰囲気が楽しめます。\n",
      "3. **アーマードコアVI（Armored Core VI: Fires of Rubicon）** - フロムソフトウェアの新作で、メカを操作するアクションゲームです。\n",
      "4. **ウィッチャー3：ワイルドハント（The Witcher 3: Wild Hunt）** - 深いストーリーと広大なオープンワールドが魅力のRPGです。\n",
      "\n",
      "これらの中で気になるものはありますか？また、他にプレイしたいゲームのジャンルやテーマがあれば教えてください！\n"
     ]
    }
   ],
   "source": [
    "config = {\"configurable\": {\"thread_id\": \"2\", \"user_id\": \"1\"}}\n",
    "\n",
    "input_messages = [HumanMessage(content=\"全部プレイしたことあります。\")]\n",
    "\n",
    "for chunk in graph.stream({\"messages\": input_messages}, config, stream_mode=\"values\"):\n",
    "    chunk[\"messages\"][-1].pretty_print()"
   ]
  },
  {
   "cell_type": "code",
   "execution_count": 41,
   "metadata": {},
   "outputs": [
    {
     "data": {
      "text/plain": [
       "{'value': {'memory': '現在のユーザー情報を更新しました：\\n\\n- 名前: 森さん\\n- 好み: PCゲームで遊ぶのが好き\\n- 最近の興味: ゲームのおすすめを探している\\n- 最近プレイしたゲーム: Elden Ringがとても面白かった\\n- プレイ済みのゲーム: Elden Ring、ダークソウルシリーズ、セキロ：シャドウズダイトゥワイス、ブラッドボーン\\n\\nもし他にも教えていただけることがあれば、ぜひお聞かせください！'},\n",
       " 'key': 'user_memory',\n",
       " 'namespace': ['memory', '1'],\n",
       " 'created_at': '2024-11-19T02:12:49.714726+00:00',\n",
       " 'updated_at': '2024-11-19T02:21:31.966248+00:00'}"
      ]
     },
     "execution_count": 41,
     "metadata": {},
     "output_type": "execute_result"
    }
   ],
   "source": [
    "# 長期記憶が更新されているかチェック\n",
    "user_id = \"1\"\n",
    "namespace = (\"memory\", user_id)\n",
    "existing_memory = accross_thread_memory.get(namespace, \"user_memory\")\n",
    "existing_memory.dict()"
   ]
  },
  {
   "cell_type": "code",
   "execution_count": 43,
   "metadata": {},
   "outputs": [
    {
     "name": "stdout",
     "output_type": "stream",
     "text": [
      "現在のユーザー情報を更新しました：\n",
      "\n",
      "- 名前: 森さん\n",
      "- 好み: PCゲームで遊ぶのが好き\n",
      "- 最近の興味: ゲームのおすすめを探している\n",
      "- 最近プレイしたゲーム: Elden Ringがとても面白かった\n",
      "- プレイ済みのゲーム: Elden Ring、ダークソウルシリーズ、セキロ：シャドウズダイトゥワイス、ブラッドボーン\n",
      "\n",
      "もし他にも教えていただけることがあれば、ぜひお聞かせください！\n"
     ]
    }
   ],
   "source": [
    "print(existing_memory.dict()[\"value\"][\"memory\"])"
   ]
  }
 ],
 "metadata": {
  "kernelspec": {
   "display_name": "learning-langchain-BRoTc1ZH-py3.11",
   "language": "python",
   "name": "python3"
  },
  "language_info": {
   "codemirror_mode": {
    "name": "ipython",
    "version": 3
   },
   "file_extension": ".py",
   "mimetype": "text/x-python",
   "name": "python",
   "nbconvert_exporter": "python",
   "pygments_lexer": "ipython3",
   "version": "3.11.7"
  }
 },
 "nbformat": 4,
 "nbformat_minor": 2
}

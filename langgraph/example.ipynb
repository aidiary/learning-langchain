{
 "cells": [
  {
   "cell_type": "markdown",
   "metadata": {},
   "source": [
    "# LangGraph Example\n",
    "\n",
    "https://langchain-ai.github.io/langgraph/#example"
   ]
  },
  {
   "cell_type": "code",
   "execution_count": 42,
   "metadata": {},
   "outputs": [],
   "source": [
    "from typing import Annotated, Literal, TypedDict\n",
    "\n",
    "from langchain_core.messages import HumanMessage, AIMessage\n",
    "from langchain_anthropic import ChatAnthropic\n",
    "from langchain_core.tools import tool\n",
    "from langgraph.checkpoint.memory import MemorySaver\n",
    "from langgraph.graph import END, START, StateGraph, MessagesState\n",
    "from langgraph.prebuilt import ToolNode"
   ]
  },
  {
   "cell_type": "code",
   "execution_count": 62,
   "metadata": {},
   "outputs": [
    {
     "data": {
      "text/plain": [
       "tools(tags=None, recurse=True, func_accepts_config=True, func_accepts={'writer': False, 'store': True}, tools_by_name={'search': StructuredTool(name='search', description='クエリを使ってWebを検索します', args_schema=<class 'langchain_core.utils.pydantic.search'>, func=<function search at 0x7f5799ea8b80>)}, tool_to_state_args={'search': {}}, tool_to_store_arg={'search': None}, handle_tool_errors=True)"
      ]
     },
     "execution_count": 62,
     "metadata": {},
     "output_type": "execute_result"
    }
   ],
   "source": [
    "@tool\n",
    "def search(query: str):\n",
    "    \"\"\"クエリを使ってWebを検索します\"\"\"\n",
    "    if \"東京\" in query.lower():\n",
    "        return \"20度で雨が降っています。\"\n",
    "    return \"25度で晴れています。\"\n",
    "\n",
    "tools = [search]\n",
    "tool_node = ToolNode(tools)\n",
    "tool_node"
   ]
  },
  {
   "cell_type": "code",
   "execution_count": 63,
   "metadata": {},
   "outputs": [],
   "source": [
    "model = ChatAnthropic(model=\"claude-3-haiku-20240307\", temperature=0).bind_tools(tools)"
   ]
  },
  {
   "cell_type": "code",
   "execution_count": 64,
   "metadata": {},
   "outputs": [],
   "source": [
    "def should_continue(state: MessagesState) -> Literal[\"tools\", END]:\n",
    "    messages = state[\"messages\"]\n",
    "    last_message = messages[-1]\n",
    "\n",
    "    if last_message.tool_calls:\n",
    "        return \"tools\"\n",
    "\n",
    "    return END"
   ]
  },
  {
   "cell_type": "code",
   "execution_count": 65,
   "metadata": {},
   "outputs": [
    {
     "data": {
      "text/plain": [
       "'__end__'"
      ]
     },
     "execution_count": 65,
     "metadata": {},
     "output_type": "execute_result"
    }
   ],
   "source": [
    "# Test\n",
    "should_continue({\"messages\": [AIMessage(\"こんにちは\")]})"
   ]
  },
  {
   "cell_type": "code",
   "execution_count": 66,
   "metadata": {},
   "outputs": [],
   "source": [
    "def call_model(state: MessagesState):\n",
    "    messages = state[\"messages\"]\n",
    "    response = model.invoke(messages)\n",
    "    return {\"messages\": [response]}"
   ]
  },
  {
   "cell_type": "code",
   "execution_count": null,
   "metadata": {},
   "outputs": [
    {
     "data": {
      "text/plain": [
       "{'messages': [AIMessage(content='こんにちは。どのようなお手伝いができますでしょうか?', additional_kwargs={}, response_metadata={'id': 'msg_01FG9ioxFFADB93EE6264YeC', 'model': 'claude-3-haiku-20240307', 'stop_reason': 'end_turn', 'stop_sequence': None, 'usage': {'input_tokens': 378, 'output_tokens': 26}}, id='run-6b28fcdd-3aa0-4f1d-aa49-17480f5bff00-0', usage_metadata={'input_tokens': 378, 'output_tokens': 26, 'total_tokens': 404, 'input_token_details': {}})]}"
      ]
     },
     "execution_count": 34,
     "metadata": {},
     "output_type": "execute_result"
    }
   ],
   "source": [
    "# Test\n",
    "call_model({\"messages\": [HumanMessage(content=\"こんにちは\")]})"
   ]
  },
  {
   "cell_type": "code",
   "execution_count": 67,
   "metadata": {},
   "outputs": [],
   "source": [
    "workflow = StateGraph(MessagesState)\n",
    "\n",
    "workflow.add_node(\"agent\", call_model)\n",
    "workflow.add_node(\"tools\", tool_node)\n",
    "\n",
    "workflow.add_edge(START, \"agent\")\n",
    "workflow.add_conditional_edges(\"agent\", should_continue)\n",
    "workflow.add_edge(\"tools\", \"agent\")\n",
    "\n",
    "checkpointer = MemorySaver()\n",
    "app = workflow.compile(checkpointer=checkpointer)"
   ]
  },
  {
   "cell_type": "code",
   "execution_count": 68,
   "metadata": {},
   "outputs": [
    {
     "data": {
      "text/plain": [
       "'こんにちは。どのようなお手伝いができますでしょうか?'"
      ]
     },
     "execution_count": 68,
     "metadata": {},
     "output_type": "execute_result"
    }
   ],
   "source": [
    "final_state = app.invoke(\n",
    "    {\"messages\": [HumanMessage(content=\"こんにちは\")]},\n",
    "    config={\"configurable\": {\"thread_id\": 42}}\n",
    ")\n",
    "final_state[\"messages\"][-1].content"
   ]
  },
  {
   "cell_type": "code",
   "execution_count": 69,
   "metadata": {},
   "outputs": [
    {
     "data": {
      "text/plain": [
       "{'messages': [HumanMessage(content='こんにちは', additional_kwargs={}, response_metadata={}, id='ea96068b-041b-43ec-9282-32ac894e6df4'),\n",
       "  AIMessage(content='こんにちは。どのようなお手伝いができますでしょうか?', additional_kwargs={}, response_metadata={'id': 'msg_01WcBzPCWKZw5pCMwdqfwrUN', 'model': 'claude-3-haiku-20240307', 'stop_reason': 'end_turn', 'stop_sequence': None, 'usage': {'input_tokens': 378, 'output_tokens': 26}}, id='run-3ac1d3c4-4221-425d-836d-0c00893ec16c-0', usage_metadata={'input_tokens': 378, 'output_tokens': 26, 'total_tokens': 404, 'input_token_details': {}})]}"
      ]
     },
     "execution_count": 69,
     "metadata": {},
     "output_type": "execute_result"
    }
   ],
   "source": [
    "final_state"
   ]
  },
  {
   "cell_type": "code",
   "execution_count": 70,
   "metadata": {},
   "outputs": [
    {
     "data": {
      "text/plain": [
       "'東京の天気は現在、気温が20度前後で雨が降っているようです。傘があると良いでしょう。外出の際は雨対策をお忘れなく。'"
      ]
     },
     "execution_count": 70,
     "metadata": {},
     "output_type": "execute_result"
    }
   ],
   "source": [
    "final_state = app.invoke(\n",
    "    {\"messages\": [HumanMessage(content=\"東京の天気を教えて\")]},\n",
    "    config={\"configurable\": {\"thread_id\": 42}}\n",
    ")\n",
    "final_state[\"messages\"][-1].content"
   ]
  },
  {
   "cell_type": "code",
   "execution_count": 71,
   "metadata": {},
   "outputs": [
    {
     "data": {
      "text/plain": [
       "{'messages': [HumanMessage(content='こんにちは', additional_kwargs={}, response_metadata={}, id='ea96068b-041b-43ec-9282-32ac894e6df4'),\n",
       "  AIMessage(content='こんにちは。どのようなお手伝いができますでしょうか?', additional_kwargs={}, response_metadata={'id': 'msg_01WcBzPCWKZw5pCMwdqfwrUN', 'model': 'claude-3-haiku-20240307', 'stop_reason': 'end_turn', 'stop_sequence': None, 'usage': {'input_tokens': 378, 'output_tokens': 26}}, id='run-3ac1d3c4-4221-425d-836d-0c00893ec16c-0', usage_metadata={'input_tokens': 378, 'output_tokens': 26, 'total_tokens': 404, 'input_token_details': {}}),\n",
       "  HumanMessage(content='東京の天気を教えて', additional_kwargs={}, response_metadata={}, id='aaca72b8-b9ab-4fa4-b5c0-df254fef9f80'),\n",
       "  AIMessage(content=[{'id': 'toolu_017rAeakjfu1p8SwpxzaAUyo', 'input': {'query': '東京の天気'}, 'name': 'search', 'type': 'tool_use'}], additional_kwargs={}, response_metadata={'id': 'msg_017pyN4zaTaF5rqfdKWGJhz5', 'model': 'claude-3-haiku-20240307', 'stop_reason': 'tool_use', 'stop_sequence': None, 'usage': {'input_tokens': 417, 'output_tokens': 55}}, id='run-248f0617-3baa-4977-934e-8a99593b384b-0', tool_calls=[{'name': 'search', 'args': {'query': '東京の天気'}, 'id': 'toolu_017rAeakjfu1p8SwpxzaAUyo', 'type': 'tool_call'}], usage_metadata={'input_tokens': 417, 'output_tokens': 55, 'total_tokens': 472, 'input_token_details': {}}),\n",
       "  ToolMessage(content='20度で雨が降っています。', name='search', id='0b0c5df0-d11c-42ce-8a7a-1cc40d0c9987', tool_call_id='toolu_017rAeakjfu1p8SwpxzaAUyo'),\n",
       "  AIMessage(content='東京の天気は現在、気温が20度前後で雨が降っているようです。傘があると良いでしょう。外出の際は雨対策をお忘れなく。', additional_kwargs={}, response_metadata={'id': 'msg_01J1osYKqDp5VdRdBcrS7rFf', 'model': 'claude-3-haiku-20240307', 'stop_reason': 'end_turn', 'stop_sequence': None, 'usage': {'input_tokens': 494, 'output_tokens': 58}}, id='run-0afb0748-328c-4ec1-8301-69f94d26f4a8-0', usage_metadata={'input_tokens': 494, 'output_tokens': 58, 'total_tokens': 552, 'input_token_details': {}})]}"
      ]
     },
     "execution_count": 71,
     "metadata": {},
     "output_type": "execute_result"
    }
   ],
   "source": [
    "final_state"
   ]
  },
  {
   "cell_type": "code",
   "execution_count": 74,
   "metadata": {},
   "outputs": [
    {
     "data": {
      "text/plain": [
       "'北海道の天気は現在、気温が25度前後で晴れ間が広がっているようです。外出するのに良い天気のようですね。日差しも強いので、日焼け対策をするのがよいでしょう。'"
      ]
     },
     "execution_count": 74,
     "metadata": {},
     "output_type": "execute_result"
    }
   ],
   "source": [
    "final_state = app.invoke(\n",
    "    {\"messages\": [HumanMessage(content=\"北海道の天気を教えて\")]},\n",
    "    config={\"configurable\": {\"thread_id\": 42}}\n",
    ")\n",
    "final_state[\"messages\"][-1].content"
   ]
  },
  {
   "cell_type": "code",
   "execution_count": 75,
   "metadata": {},
   "outputs": [
    {
     "data": {
      "text/plain": [
       "{'messages': [HumanMessage(content='こんにちは', additional_kwargs={}, response_metadata={}, id='ea96068b-041b-43ec-9282-32ac894e6df4'),\n",
       "  AIMessage(content='こんにちは。どのようなお手伝いができますでしょうか?', additional_kwargs={}, response_metadata={'id': 'msg_01WcBzPCWKZw5pCMwdqfwrUN', 'model': 'claude-3-haiku-20240307', 'stop_reason': 'end_turn', 'stop_sequence': None, 'usage': {'input_tokens': 378, 'output_tokens': 26}}, id='run-3ac1d3c4-4221-425d-836d-0c00893ec16c-0', usage_metadata={'input_tokens': 378, 'output_tokens': 26, 'total_tokens': 404, 'input_token_details': {}}),\n",
       "  HumanMessage(content='東京の天気を教えて', additional_kwargs={}, response_metadata={}, id='aaca72b8-b9ab-4fa4-b5c0-df254fef9f80'),\n",
       "  AIMessage(content=[{'id': 'toolu_017rAeakjfu1p8SwpxzaAUyo', 'input': {'query': '東京の天気'}, 'name': 'search', 'type': 'tool_use'}], additional_kwargs={}, response_metadata={'id': 'msg_017pyN4zaTaF5rqfdKWGJhz5', 'model': 'claude-3-haiku-20240307', 'stop_reason': 'tool_use', 'stop_sequence': None, 'usage': {'input_tokens': 417, 'output_tokens': 55}}, id='run-248f0617-3baa-4977-934e-8a99593b384b-0', tool_calls=[{'name': 'search', 'args': {'query': '東京の天気'}, 'id': 'toolu_017rAeakjfu1p8SwpxzaAUyo', 'type': 'tool_call'}], usage_metadata={'input_tokens': 417, 'output_tokens': 55, 'total_tokens': 472, 'input_token_details': {}}),\n",
       "  ToolMessage(content='20度で雨が降っています。', name='search', id='0b0c5df0-d11c-42ce-8a7a-1cc40d0c9987', tool_call_id='toolu_017rAeakjfu1p8SwpxzaAUyo'),\n",
       "  AIMessage(content='東京の天気は現在、気温が20度前後で雨が降っているようです。傘があると良いでしょう。外出の際は雨対策をお忘れなく。', additional_kwargs={}, response_metadata={'id': 'msg_01J1osYKqDp5VdRdBcrS7rFf', 'model': 'claude-3-haiku-20240307', 'stop_reason': 'end_turn', 'stop_sequence': None, 'usage': {'input_tokens': 494, 'output_tokens': 58}}, id='run-0afb0748-328c-4ec1-8301-69f94d26f4a8-0', usage_metadata={'input_tokens': 494, 'output_tokens': 58, 'total_tokens': 552, 'input_token_details': {}}),\n",
       "  HumanMessage(content='北海道の天気を教えて', additional_kwargs={}, response_metadata={}, id='ab01d6cc-a199-4031-b8e3-7d571546a3ed'),\n",
       "  AIMessage(content=[{'id': 'toolu_01DczqTChnprnaKXVnWxGwQj', 'input': {'query': '北海道の天気'}, 'name': 'search', 'type': 'tool_use'}], additional_kwargs={}, response_metadata={'id': 'msg_01ChbEnNw5ZpV4ePD4aNZd19', 'model': 'claude-3-haiku-20240307', 'stop_reason': 'tool_use', 'stop_sequence': None, 'usage': {'input_tokens': 566, 'output_tokens': 58}}, id='run-3eca68f4-5ad7-42ae-9e93-2bc0f4945708-0', tool_calls=[{'name': 'search', 'args': {'query': '北海道の天気'}, 'id': 'toolu_01DczqTChnprnaKXVnWxGwQj', 'type': 'tool_call'}], usage_metadata={'input_tokens': 566, 'output_tokens': 58, 'total_tokens': 624, 'input_token_details': {}}),\n",
       "  ToolMessage(content='25度で晴れています。', name='search', id='9f8d03d7-d6ca-4561-ae7c-90d6d6fb6263', tool_call_id='toolu_01DczqTChnprnaKXVnWxGwQj'),\n",
       "  AIMessage(content='北海道の天気は現在、気温が25度前後で晴れ間が広がっているようです。外出するのに良い天気のようですね。日差しも強いので、日焼け対策をするのがよいでしょう。', additional_kwargs={}, response_metadata={'id': 'msg_01W81LfAcP1UwRpjsVmRv2Z9', 'model': 'claude-3-haiku-20240307', 'stop_reason': 'end_turn', 'stop_sequence': None, 'usage': {'input_tokens': 642, 'output_tokens': 74}}, id='run-2e3a1bbe-1d38-402d-8519-bb4184220835-0', usage_metadata={'input_tokens': 642, 'output_tokens': 74, 'total_tokens': 716, 'input_token_details': {}})]}"
      ]
     },
     "execution_count": 75,
     "metadata": {},
     "output_type": "execute_result"
    }
   ],
   "source": [
    "final_state"
   ]
  },
  {
   "cell_type": "code",
   "execution_count": 76,
   "metadata": {},
   "outputs": [
    {
     "data": {
      "text/plain": [
       "'東京の現在の天気は雨が降っており、気温は20度前後のようです。雨が降っているため、傘があると良いでしょう。外出の際は雨対策をしっかりと行うことをおすすめします。'"
      ]
     },
     "execution_count": 76,
     "metadata": {},
     "output_type": "execute_result"
    }
   ],
   "source": [
    "final_state = app.invoke(\n",
    "    {\"messages\": [HumanMessage(content=\"東京の天気を教えて\")]},\n",
    "    config={\"configurable\": {\"thread_id\": 10}}\n",
    ")\n",
    "final_state[\"messages\"][-1].content"
   ]
  },
  {
   "cell_type": "code",
   "execution_count": 77,
   "metadata": {},
   "outputs": [
    {
     "data": {
      "text/plain": [
       "{'messages': [HumanMessage(content='東京の天気を教えて', additional_kwargs={}, response_metadata={}, id='04149953-126b-45f6-a3ef-00d3ddf8bdac'),\n",
       "  AIMessage(content=[{'id': 'toolu_01Y3MMBAny346bhEmNsASFnj', 'input': {'query': '東京の天気'}, 'name': 'search', 'type': 'tool_use'}], additional_kwargs={}, response_metadata={'id': 'msg_016TQQJpLDiwRkEoUNRW1b3B', 'model': 'claude-3-haiku-20240307', 'stop_reason': 'tool_use', 'stop_sequence': None, 'usage': {'input_tokens': 383, 'output_tokens': 55}}, id='run-8d3e1590-2549-409a-8b60-4c224f168ce9-0', tool_calls=[{'name': 'search', 'args': {'query': '東京の天気'}, 'id': 'toolu_01Y3MMBAny346bhEmNsASFnj', 'type': 'tool_call'}], usage_metadata={'input_tokens': 383, 'output_tokens': 55, 'total_tokens': 438, 'input_token_details': {}}),\n",
       "  ToolMessage(content='20度で雨が降っています。', name='search', id='2ad04070-85f1-4e8c-87e8-4723c0116ac5', tool_call_id='toolu_01Y3MMBAny346bhEmNsASFnj'),\n",
       "  AIMessage(content='東京の現在の天気は雨が降っており、気温は20度前後のようです。雨が降っているため、傘があると良いでしょう。外出の際は雨対策をしっかりと行うことをおすすめします。', additional_kwargs={}, response_metadata={'id': 'msg_01GSVamnEeBgwe46CxsotmyN', 'model': 'claude-3-haiku-20240307', 'stop_reason': 'end_turn', 'stop_sequence': None, 'usage': {'input_tokens': 460, 'output_tokens': 75}}, id='run-a3bc8891-70fc-4741-8944-50fb231dd762-0', usage_metadata={'input_tokens': 460, 'output_tokens': 75, 'total_tokens': 535, 'input_token_details': {}})]}"
      ]
     },
     "execution_count": 77,
     "metadata": {},
     "output_type": "execute_result"
    }
   ],
   "source": [
    "final_state"
   ]
  }
 ],
 "metadata": {
  "kernelspec": {
   "display_name": "learning-langchain-BRoTc1ZH-py3.11",
   "language": "python",
   "name": "python3"
  },
  "language_info": {
   "codemirror_mode": {
    "name": "ipython",
    "version": 3
   },
   "file_extension": ".py",
   "mimetype": "text/x-python",
   "name": "python",
   "nbconvert_exporter": "python",
   "pygments_lexer": "ipython3",
   "version": "3.11.7"
  }
 },
 "nbformat": 4,
 "nbformat_minor": 2
}

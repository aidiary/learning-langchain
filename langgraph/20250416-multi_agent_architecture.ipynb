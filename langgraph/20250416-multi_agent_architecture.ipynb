{
 "cells": [
  {
   "cell_type": "code",
   "execution_count": 1,
   "id": "64129bb3",
   "metadata": {},
   "outputs": [
    {
     "data": {
      "text/plain": [
       "True"
      ]
     },
     "execution_count": 1,
     "metadata": {},
     "output_type": "execute_result"
    }
   ],
   "source": [
    "from dotenv import load_dotenv, find_dotenv\n",
    "\n",
    "load_dotenv(find_dotenv())"
   ]
  },
  {
   "cell_type": "markdown",
   "id": "e21660db",
   "metadata": {},
   "source": [
    "## Network\n"
   ]
  },
  {
   "cell_type": "code",
   "execution_count": 12,
   "id": "fc26e0ac",
   "metadata": {},
   "outputs": [],
   "source": [
    "from typing import Literal\n",
    "from langchain_openai import ChatOpenAI\n",
    "from langgraph.types import Command\n",
    "from langgraph.graph import StateGraph, MessagesState, START, END"
   ]
  },
  {
   "cell_type": "code",
   "execution_count": 3,
   "id": "02a7e9a0",
   "metadata": {},
   "outputs": [],
   "source": [
    "from pydantic import BaseModel, Field\n",
    "\n",
    "\n",
    "class ResponseFormatter(BaseModel):\n",
    "    next_agent: str = Field(\n",
    "        description=\"The next agent to call. agent_1 or agent_2 or agent_3 or __end__\",\n",
    "    )\n",
    "    content: str = Field(description=\"The content to send to the next agent.\")"
   ]
  },
  {
   "cell_type": "code",
   "execution_count": null,
   "id": "3e14322a",
   "metadata": {},
   "outputs": [
    {
     "data": {
      "text/plain": [
       "ResponseFormatter(next_agent='agent_1', content='Hello! How can I assist you today?')"
      ]
     },
     "execution_count": 4,
     "metadata": {},
     "output_type": "execute_result"
    },
    {
     "name": "stderr",
     "output_type": "stream",
     "text": [
      "Failed to send compressed multipart ingest: langsmith.utils.LangSmithError: Failed to POST https://api.smith.langchain.com/runs/multipart in LangSmith API. HTTPError('400 Client Error: Bad Request for url: https://api.smith.langchain.com/runs/multipart', '{\"error\":\"Bad request: invalid \\'dotted_order\\': dotted_order f1ebb21e-cbf6-4add-9838-f28440eca9d9 has timestamp 2025-04-16 11:13:11.268642 +0000 UTC earlier than parent timestamp 2025-04-16 11:13:12.927574 +0000 UTC for run_id:f1ebb21e-cbf6-4add-9838-f28440eca9d9 trace_id:93aa8a25-910f-489a-a6f1-e719ab164b9d dotted_order:20250416T111310871291Z93aa8a25-910f-489a-a6f1-e719ab164b9d.20250416T111312927138Z6a3b7a92-e1d8-4f25-8f15-6d1af04901f5.20250416T111312927574Zcd210166-31b6-43c7-826d-4fd96534b4e7.20250416T111311268642Zf1ebb21e-cbf6-4add-9838-f28440eca9d9 parent_run_id:cd210166-31b6-43c7-826d-4fd96534b4e7\"}\\n')\n"
     ]
    }
   ],
   "source": [
    "model = ChatOpenAI(model=\"gpt-4o-mini\").with_structured_output(ResponseFormatter)\n",
    "model.invoke(\"hi!\")"
   ]
  },
  {
   "cell_type": "code",
   "execution_count": 5,
   "id": "81923e3b",
   "metadata": {},
   "outputs": [],
   "source": [
    "def agent_1(state: MessagesState) -> Command[Literal[\"agent_2\", \"agent_3\", END]]:\n",
    "    # you can pass relevant parts of the state to the LLM (e.g., state[\"messages\"])\n",
    "    # to determine which agent to call next. a common pattern is to call the model\n",
    "    # with a structured output (e.g. force it to return an output with a \"next_agent\" field)\n",
    "    response = model.invoke(state[\"messages\"])\n",
    "\n",
    "    # route to one of the agents or exit based on the LLM's decision\n",
    "    # if the LLM returns \"__end__\", the graph will finish execution\n",
    "    return Command(\n",
    "        goto=response.next_agent,\n",
    "        update={\"messages\": [response.content]},\n",
    "    )"
   ]
  },
  {
   "cell_type": "code",
   "execution_count": 6,
   "id": "d1346f1b",
   "metadata": {},
   "outputs": [],
   "source": [
    "def agent_2(state: MessagesState) -> Command[Literal[\"agent_1\", \"agent_3\", END]]:\n",
    "    response = model.invoke(state[\"messages\"])\n",
    "\n",
    "    return Command(\n",
    "        goto=response.next_agent,\n",
    "        update={\"messages\": [response.content]},\n",
    "    )"
   ]
  },
  {
   "cell_type": "code",
   "execution_count": 7,
   "id": "847fe8b6",
   "metadata": {},
   "outputs": [],
   "source": [
    "def agent_3(state: MessagesState) -> Command[Literal[\"agent_1\", \"agent_2\", END]]:\n",
    "    response = model.invoke(state[\"messages\"])\n",
    "\n",
    "    return Command(\n",
    "        goto=response.next_agent,\n",
    "        update={\"messages\": [response.content]},\n",
    "    )"
   ]
  },
  {
   "cell_type": "code",
   "execution_count": 8,
   "id": "59036f42",
   "metadata": {},
   "outputs": [],
   "source": [
    "builder = StateGraph(MessagesState)\n",
    "builder.add_node(agent_1)\n",
    "builder.add_node(agent_2)\n",
    "builder.add_node(agent_3)\n",
    "\n",
    "builder.add_edge(START, \"agent_1\")\n",
    "network = builder.compile()"
   ]
  },
  {
   "cell_type": "code",
   "execution_count": 9,
   "id": "5e9800a3",
   "metadata": {},
   "outputs": [
    {
     "data": {
      "image/png": "[encoded data removed]",
      "text/plain": [
       "<langgraph.graph.state.CompiledStateGraph object at 0x7fd978114c80>"
      ]
     },
     "execution_count": 9,
     "metadata": {},
     "output_type": "execute_result"
    }
   ],
   "source": [
    "network"
   ]
  },
  {
   "cell_type": "code",
   "execution_count": 11,
   "id": "af1cfa2b",
   "metadata": {},
   "outputs": [
    {
     "name": "stdout",
     "output_type": "stream",
     "text": [
      "{'agent_1': {'messages': ['エージェント3を呼び出します。']}}\n",
      "{'agent_3': {'messages': ['エージェント3を呼び出しました。']}}\n",
      "{'agent_2': {'messages': ['エージェント3の応答を受けて、次はエージェント2を呼び出します。']}}\n",
      "{'agent_2': {'messages': ['エージェント2を呼び出します。']}}\n",
      "{'agent_2': {'messages': ['エージェント2の応答を受けて、次はエージェント1を呼び出します。']}}\n",
      "{'agent_1': {'messages': ['エージェント1を呼び出します。']}}\n",
      "{'agent_1': {'messages': ['エージェント1を呼び出しました。']}}\n"
     ]
    }
   ],
   "source": [
    "for chunk in network.stream(\n",
    "    {\n",
    "        \"messages\": [\n",
    "            \"以下の順番に、エージェントを呼び出してください。エージェント3、エージェント2、エージェント1。最後に終了します\"\n",
    "        ]\n",
    "    },\n",
    "    stream_mode=\"updates\",\n",
    "):\n",
    "    print(chunk)"
   ]
  },
  {
   "cell_type": "markdown",
   "id": "e489bc69",
   "metadata": {},
   "source": [
    "## Supervisor\n"
   ]
  },
  {
   "cell_type": "code",
   "execution_count": 13,
   "id": "036a8d72",
   "metadata": {},
   "outputs": [],
   "source": [
    "from typing import Literal\n",
    "from langchain_openai import ChatOpenAI\n",
    "from langgraph.types import Command\n",
    "from langgraph.graph import StateGraph, MessagesState, START, END"
   ]
  },
  {
   "cell_type": "code",
   "execution_count": null,
   "id": "e9ef8550",
   "metadata": {},
   "outputs": [
    {
     "data": {
      "text/plain": [
       "ResponseFormatter(next_agent='agent_1', content='Hello! How can I assist you today?')"
      ]
     },
     "execution_count": 30,
     "metadata": {},
     "output_type": "execute_result"
    }
   ],
   "source": [
    "from pydantic import BaseModel, Field\n",
    "\n",
    "\n",
    "class ResponseFormatter(BaseModel):\n",
    "    next_agent: str = Field(\n",
    "        description=\"The next agent to call. agent_1 or agent_2 or __end__\",\n",
    "    )\n",
    "    content: str = Field(description=\"The content to send to the next agent.\")\n",
    "\n",
    "\n",
    "model = ChatOpenAI(model=\"gpt-4o-mini\").with_structured_output(ResponseFormatter)"
   ]
  },
  {
   "cell_type": "code",
   "execution_count": 31,
   "id": "42183521",
   "metadata": {},
   "outputs": [],
   "source": [
    "def supervisor(state: MessagesState) -> Command[Literal[\"agent_1\", \"agent_2\", END]]:\n",
    "    # you can pass relevant parts of the state to the LLM (e.g., state[\"messages\"])\n",
    "    # to determine which agent to call next. a common pattern is to call the model\n",
    "    # with a structured output (e.g. force it to return an output with a \"next_agent\" field)\n",
    "    response = model.invoke(state[\"messages\"])\n",
    "\n",
    "    # route to one of the agents or exit based on the supervisor's decision\n",
    "    # if the supervisor returns \"__end__\", the graph will finish execution\n",
    "    return Command(goto=response.next_agent)"
   ]
  },
  {
   "cell_type": "code",
   "execution_count": 32,
   "id": "214d16ec",
   "metadata": {},
   "outputs": [],
   "source": [
    "def agent_1(state: MessagesState) -> Command[Literal[\"supervisor\"]]:\n",
    "    # you can pass relevant parts of the state to the LLM (e.g., state[\"messages\"])\n",
    "    # and add any additional logic (different models, custom prompts, structured output, etc.)\n",
    "    response = \"agent_1です。こんにちは！\"\n",
    "    return Command(\n",
    "        goto=\"supervisor\",\n",
    "        update={\"messages\": [response]},\n",
    "    )"
   ]
  },
  {
   "cell_type": "code",
   "execution_count": 33,
   "id": "992a20c4",
   "metadata": {},
   "outputs": [],
   "source": [
    "def agent_2(state: MessagesState) -> Command[Literal[\"supervisor\"]]:\n",
    "    response = \"agent_2です。こんにちは！\"\n",
    "    return Command(\n",
    "        goto=\"supervisor\",\n",
    "        update={\"messages\": [response]},\n",
    "    )"
   ]
  },
  {
   "cell_type": "code",
   "execution_count": 34,
   "id": "3c10e708",
   "metadata": {},
   "outputs": [
    {
     "data": {
      "image/png": "[encoded data removed]",
      "text/plain": [
       "<langgraph.graph.state.CompiledStateGraph object at 0x7fd9780ebb90>"
      ]
     },
     "execution_count": 34,
     "metadata": {},
     "output_type": "execute_result"
    }
   ],
   "source": [
    "builder = StateGraph(MessagesState)\n",
    "builder.add_node(supervisor)\n",
    "builder.add_node(agent_1)\n",
    "builder.add_node(agent_2)\n",
    "\n",
    "builder.add_edge(START, \"supervisor\")\n",
    "\n",
    "supervisor = builder.compile()\n",
    "supervisor"
   ]
  },
  {
   "cell_type": "code",
   "execution_count": 38,
   "id": "2732f70b",
   "metadata": {},
   "outputs": [
    {
     "name": "stdout",
     "output_type": "stream",
     "text": [
      "{'supervisor': None}\n",
      "{'agent_2': {'messages': ['agent_2です。こんにちは！']}}\n",
      "{'supervisor': None}\n",
      "{'agent_1': {'messages': ['agent_1です。こんにちは！']}}\n",
      "{'supervisor': None}\n",
      "{'agent_2': {'messages': ['agent_2です。こんにちは！']}}\n",
      "{'supervisor': None}\n"
     ]
    }
   ],
   "source": [
    "for chunk in supervisor.stream(\n",
    "    {\n",
    "        \"messages\": [\n",
    "            \"エージェント2、エージェント1、エージェント2の順番に呼び出して終了してください\"\n",
    "        ]\n",
    "    },\n",
    "    stream_mode=\"updates\",\n",
    "):\n",
    "    print(chunk)"
   ]
  },
  {
   "cell_type": "markdown",
   "id": "2c960c10",
   "metadata": {},
   "source": [
    "## Supervisor (tool-calling)\n"
   ]
  },
  {
   "cell_type": "code",
   "execution_count": 39,
   "id": "9c5ae190",
   "metadata": {},
   "outputs": [],
   "source": [
    "from typing import Annotated\n",
    "from langchain_openai import ChatOpenAI\n",
    "from langgraph.prebuilt import InjectedState, create_react_agent"
   ]
  },
  {
   "cell_type": "code",
   "execution_count": 40,
   "id": "bcb9e608",
   "metadata": {},
   "outputs": [],
   "source": [
    "model = ChatOpenAI(model=\"gpt-4o-mini\")"
   ]
  },
  {
   "cell_type": "code",
   "execution_count": 44,
   "id": "ffd5bcc1",
   "metadata": {},
   "outputs": [],
   "source": [
    "def agent_1(state: Annotated[dict, InjectedState]):\n",
    "    \"agent_1の処理を実行します\"\n",
    "    return {\"messages\": [\"agent_1です。こんにちは！\"]}\n",
    "\n",
    "\n",
    "def agent_2(state: Annotated[dict, InjectedState]):\n",
    "    \"agent_2の処理を実行します\"\n",
    "    return {\"messages\": [\"agent_2です。こんにちは！\"]}"
   ]
  },
  {
   "cell_type": "code",
   "execution_count": 45,
   "id": "b0c87181",
   "metadata": {},
   "outputs": [
    {
     "data": {
      "image/png": "[encoded data removed]",
      "text/plain": [
       "<langgraph.graph.state.CompiledStateGraph object at 0x7fd97a66cd40>"
      ]
     },
     "execution_count": 45,
     "metadata": {},
     "output_type": "execute_result"
    }
   ],
   "source": [
    "tools = [agent_1, agent_2]\n",
    "supervisor = create_react_agent(model, tools)\n",
    "supervisor"
   ]
  },
  {
   "cell_type": "code",
   "execution_count": null,
   "id": "a4db957d",
   "metadata": {},
   "outputs": [
    {
     "name": "stdout",
     "output_type": "stream",
     "text": [
      "{'agent': {'messages': [AIMessage(content='', additional_kwargs={'tool_calls': [{'id': 'call_5PHv5pHzFZerfINSgMISLggL', 'function': {'arguments': '{}', 'name': 'agent_1'}, 'type': 'function'}, {'id': 'call_VvMOyMoZY2LCdRMuyEOh9De2', 'function': {'arguments': '{}', 'name': 'agent_2'}, 'type': 'function'}], 'refusal': None}, response_metadata={'token_usage': {'completion_tokens': 42, 'prompt_tokens': 88, 'total_tokens': 130, 'completion_tokens_details': {'accepted_prediction_tokens': 0, 'audio_tokens': 0, 'reasoning_tokens': 0, 'rejected_prediction_tokens': 0}, 'prompt_tokens_details': {'audio_tokens': 0, 'cached_tokens': 0}}, 'model_name': 'gpt-4o-mini-2024-07-18', 'system_fingerprint': 'fp_44added55e', 'finish_reason': 'tool_calls', 'logprobs': None}, id='run-06798746-6fc5-44ff-9600-6a5831692400-0', tool_calls=[{'name': 'agent_1', 'args': {}, 'id': 'call_5PHv5pHzFZerfINSgMISLggL', 'type': 'tool_call'}, {'name': 'agent_2', 'args': {}, 'id': 'call_VvMOyMoZY2LCdRMuyEOh9De2', 'type': 'tool_call'}], usage_metadata={'input_tokens': 88, 'output_tokens': 42, 'total_tokens': 130, 'input_token_details': {'audio': 0, 'cache_read': 0}, 'output_token_details': {'audio': 0, 'reasoning': 0}})]}}\n",
      "----------------------------------------------------------------------------------------------------\n",
      "{'tools': {'messages': [ToolMessage(content='{\"messages\": [\"agent_1です。こんにちは！\"]}', name='agent_1', id='17a535c8-5861-4edf-9435-df0342b258ec', tool_call_id='call_5PHv5pHzFZerfINSgMISLggL'), ToolMessage(content='{\"messages\": [\"agent_2です。こんにちは！\"]}', name='agent_2', id='f307210a-9012-4097-90ee-fe5d9b8dd073', tool_call_id='call_VvMOyMoZY2LCdRMuyEOh9De2')]}}\n",
      "----------------------------------------------------------------------------------------------------\n",
      "{'agent': {'messages': [AIMessage(content='エージェント1が実行されました。「こんにちは！」  \\n次に、エージェント2が実行されました。「こんにちは！」  \\n\\n両方のエージェントが正常に終了しました。', additional_kwargs={'refusal': None}, response_metadata={'token_usage': {'completion_tokens': 47, 'prompt_tokens': 210, 'total_tokens': 257, 'completion_tokens_details': {'accepted_prediction_tokens': 0, 'audio_tokens': 0, 'reasoning_tokens': 0, 'rejected_prediction_tokens': 0}, 'prompt_tokens_details': {'audio_tokens': 0, 'cached_tokens': 0}}, 'model_name': 'gpt-4o-mini-2024-07-18', 'system_fingerprint': 'fp_44added55e', 'finish_reason': 'stop', 'logprobs': None}, id='run-7771974b-d83f-478a-a283-a7c2f649b682-0', usage_metadata={'input_tokens': 210, 'output_tokens': 47, 'total_tokens': 257, 'input_token_details': {'audio': 0, 'cache_read': 0}, 'output_token_details': {'audio': 0, 'reasoning': 0}})]}}\n",
      "----------------------------------------------------------------------------------------------------\n"
     ]
    }
   ],
   "source": [
    "for chunk in supervisor.stream(\n",
    "    {\"messages\": [\"エージェント2、エージェント1を順番に呼び出して終了してください\"]},\n",
    "    stream_mode=\"updates\",\n",
    "):\n",
    "    print(chunk)\n",
    "    print(\"-\" * 100)"
   ]
  },
  {
   "cell_type": "code",
   "execution_count": null,
   "id": "47617eae",
   "metadata": {},
   "outputs": [],
   "source": []
  }
 ],
 "metadata": {
  "kernelspec": {
   "display_name": ".venv",
   "language": "python",
   "name": "python3"
  },
  "language_info": {
   "codemirror_mode": {
    "name": "ipython",
    "version": 3
   },
   "file_extension": ".py",
   "mimetype": "text/x-python",
   "name": "python",
   "nbconvert_exporter": "python",
   "pygments_lexer": "ipython3",
   "version": "3.12.9"
  }
 },
 "nbformat": 4,
 "nbformat_minor": 5
}

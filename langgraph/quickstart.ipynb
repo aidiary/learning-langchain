{
 "cells": [
  {
   "cell_type": "markdown",
   "metadata": {},
   "source": [
    "# LangGraph Quick Start\n",
    "\n",
    "https://langchain-ai.github.io/langgraph/tutorials/introduction/"
   ]
  },
  {
   "cell_type": "markdown",
   "metadata": {},
   "source": [
    "## Build a Basic Chatbot"
   ]
  },
  {
   "cell_type": "code",
   "execution_count": 2,
   "metadata": {},
   "outputs": [],
   "source": [
    "from typing import Annotated\n",
    "\n",
    "from typing_extensions import TypedDict\n",
    "\n",
    "from langgraph.graph import StateGraph, START, END\n",
    "from langgraph.graph.message import add_messages"
   ]
  },
  {
   "cell_type": "code",
   "execution_count": 8,
   "metadata": {},
   "outputs": [],
   "source": [
    "class State(TypedDict):\n",
    "    messages: Annotated[list, add_messages]"
   ]
  },
  {
   "cell_type": "code",
   "execution_count": 10,
   "metadata": {},
   "outputs": [
    {
     "data": {
      "text/plain": [
       "<langgraph.graph.state.StateGraph at 0x7fc97dcdbb50>"
      ]
     },
     "execution_count": 10,
     "metadata": {},
     "output_type": "execute_result"
    }
   ],
   "source": [
    "from langchain_anthropic import ChatAnthropic\n",
    "\n",
    "llm = ChatAnthropic(model=\"claude-3-haiku-20240307\", temperature=0)\n",
    "\n",
    "def chatbot(state: State):\n",
    "    # messagesにはadd_messagesのReducerがついているため上書きではなくリストに追加される\n",
    "    return {\"messages\": [llm.invoke(state[\"messages\"])]}\n",
    "\n",
    "graph_builder = StateGraph(State)\n",
    "graph_builder.add_node(\"chatbot\", chatbot)"
   ]
  },
  {
   "cell_type": "code",
   "execution_count": 12,
   "metadata": {},
   "outputs": [],
   "source": [
    "graph_builder.add_edge(START, \"chatbot\")\n",
    "graph_builder.add_edge(\"chatbot\", END)\n",
    "\n",
    "graph = graph_builder.compile()"
   ]
  },
  {
   "cell_type": "code",
   "execution_count": 14,
   "metadata": {},
   "outputs": [
    {
     "data": {
      "image/jpeg": "[encoded data removed]",
      "text/plain": [
       "<IPython.core.display.Image object>"
      ]
     },
     "metadata": {},
     "output_type": "display_data"
    }
   ],
   "source": [
    "from IPython.display import Image, display\n",
    "\n",
    "display(Image(graph.get_graph().draw_mermaid_png()))"
   ]
  },
  {
   "cell_type": "code",
   "execution_count": 24,
   "metadata": {},
   "outputs": [
    {
     "name": "stdout",
     "output_type": "stream",
     "text": [
      "Assistant: こんにちは。どうぞよろしくお願いいたします。何かお手伝いできることはありますか?\n"
     ]
    }
   ],
   "source": [
    "for event in graph.stream({\"messages\": [(\"user\", \"こんにちは\")]}):\n",
    "    for value in event.values():\n",
    "        print(\"Assistant:\", value[\"messages\"][-1].content)"
   ]
  },
  {
   "cell_type": "markdown",
   "metadata": {},
   "source": [
    "## Enhancing the Chatbot with Tools"
   ]
  },
  {
   "cell_type": "code",
   "execution_count": 36,
   "metadata": {},
   "outputs": [
    {
     "data": {
      "text/plain": [
       "[{'url': 'https://ai-market.jp/technology/ai-agent/',\n",
       "  'content': 'AIエージェントとは、 複数のAIモデルやデバイスを組み合わせることで、単一のモデルでは困難だった高度で複雑なタスクを自律的に実行 できるシステムのことを指します。. 企業がAIエージェントを活用することで、業務の自動化による大幅なコスト削減や'},\n",
       " {'url': 'https://note.com/aibootcamp/n/n8b324b14ea85',\n",
       "  'content': '1. AIエージェントとは？. AIエージェントは、人工知能（AI）を利用して特定のタスクを自動的に実行するプログラムやシステムです。. 日常生活で私たちが触れる多くのAI技術は、実際にはこのAIエージェントとして機能しています。. 例えば、スマートフォン'},\n",
       " {'url': 'https://www.sbbit.jp/article/cont1/137047',\n",
       "  'content': 'AIエージェントとは、複数のAIモデルを組み合わせ、単一のモデルでは困難な高度なタスクを自動で実行できるシステムのことである。. 企業の'},\n",
       " {'url': 'https://aws.amazon.com/jp/what-is/ai-agents/',\n",
       "  'content': 'AI エージェントとは? 人工知能 (AI) エージェントは、環境と対話し、データを収集し、そのデータを使用して自己決定タスクを実行して、事前に決められた目標を達成するためのソフトウェアプログラムです。. 目標は人間が設定しますが、その目標を達成'},\n",
       " {'url': 'https://atmarkit.itmedia.co.jp/ait/articles/2411/06/news021.html',\n",
       "  'content': '連載目次. 用語解説 AI（人工知能）分野におけるAIエージェント（AI Agent）とは、特定の目標を達成するのに必要なタスクを自律的に作成し、計画的に各タスクを実行するAIシステム（またはソフトウェアプログラム）である。人間がゴールとなる目標だけを設定すれば、AIエージェントは基本的'}]"
      ]
     },
     "execution_count": 36,
     "metadata": {},
     "output_type": "execute_result"
    }
   ],
   "source": [
    "from langchain_community.tools.tavily_search import TavilySearchResults\n",
    "\n",
    "tool = TavilySearchResults(max_results=5)\n",
    "\n",
    "tools = [tool]\n",
    "tool.invoke(\"AIエージェントとは？\")"
   ]
  },
  {
   "cell_type": "code",
   "execution_count": 51,
   "metadata": {},
   "outputs": [
    {
     "data": {
      "text/plain": [
       "<langgraph.graph.state.StateGraph at 0x7fc94f091950>"
      ]
     },
     "execution_count": 51,
     "metadata": {},
     "output_type": "execute_result"
    }
   ],
   "source": [
    "llm = ChatAnthropic(model=\"claude-3-haiku-20240307\", temperature=0)\n",
    "llm_with_tools = llm.bind_tools(tools)\n",
    "\n",
    "def chatbot(state: State):\n",
    "    return {\"messages\": [llm_with_tools.invoke(state[\"messages\"])]}\n",
    "\n",
    "graph_builder = StateGraph(State)\n",
    "graph_builder.add_node(\"chatbot\", chatbot)"
   ]
  },
  {
   "cell_type": "code",
   "execution_count": 52,
   "metadata": {},
   "outputs": [],
   "source": [
    "import json\n",
    "from langchain_core.messages import ToolMessage\n",
    "\n",
    "class BasicToolNode:\n",
    "    \"\"\"A node that runs the tools requested in the last AIMessage.\"\"\"\n",
    "\n",
    "    def __init__(self, tools: list) -> None:\n",
    "        self.tools_by_name = {tool.name: tool for tool in tools}\n",
    "\n",
    "    def __call__(self, inputs: dict):\n",
    "        if messages := inputs.get(\"messages\", []):\n",
    "            message = messages[-1]\n",
    "        else:\n",
    "            raise ValueError(\"No message found in input\")\n",
    "        outputs = []\n",
    "        for tool_call in message.tool_calls:\n",
    "            tool_result = self.tools_by_name[tool_call[\"name\"]].invoke(\n",
    "                tool_call[\"args\"]\n",
    "            )\n",
    "            # Toolの実行結果を追加する\n",
    "            outputs.append(\n",
    "                ToolMessage(\n",
    "                    content=json.dumps(tool_result),\n",
    "                    name=tool_call[\"name\"],\n",
    "                    tool_call_id=tool_call[\"id\"],\n",
    "                )\n",
    "            )\n",
    "        return {\"messages\": outputs}"
   ]
  },
  {
   "cell_type": "code",
   "execution_count": 53,
   "metadata": {},
   "outputs": [
    {
     "data": {
      "text/plain": [
       "<langgraph.graph.state.StateGraph at 0x7fc94f091950>"
      ]
     },
     "execution_count": 53,
     "metadata": {},
     "output_type": "execute_result"
    }
   ],
   "source": [
    "tool_node = BasicToolNode(tools=[tool])\n",
    "graph_builder.add_node(\"tools\", tool_node)"
   ]
  },
  {
   "cell_type": "code",
   "execution_count": 55,
   "metadata": {},
   "outputs": [],
   "source": [
    "def route_tools(state: State,):\n",
    "    \"\"\"\n",
    "    Use in the conditional_edge to route to the ToolNode if the last message\n",
    "    has tool calls. Otherwise, route to the end.\n",
    "    \"\"\"\n",
    "    if isinstance(state, list):\n",
    "        ai_message = state[-1]\n",
    "    elif messages := state.get(\"messages\", []):\n",
    "        ai_message = messages[-1]\n",
    "    else:\n",
    "        raise ValueError(f\"No messages found in input state to tool_edge: {state}\")\n",
    "    if hasattr(ai_message, \"tool_calls\") and len(ai_message.tool_calls) > 0:\n",
    "        return \"tools\"\n",
    "    return END"
   ]
  },
  {
   "cell_type": "code",
   "execution_count": null,
   "metadata": {},
   "outputs": [
    {
     "data": {
      "text/plain": [
       "<langgraph.graph.state.StateGraph at 0x7fc94f091950>"
      ]
     },
     "execution_count": 56,
     "metadata": {},
     "output_type": "execute_result"
    }
   ],
   "source": [
    "graph_builder.add_conditional_edges(\n",
    "    \"chatbot\",\n",
    "    route_tools,\n",
    "    {\"tools\": \"tools\", END: END}\n",
    ")"
   ]
  },
  {
   "cell_type": "code",
   "execution_count": 57,
   "metadata": {},
   "outputs": [],
   "source": [
    "graph_builder.add_edge(\"tools\", \"chatbot\")\n",
    "graph_builder.add_edge(START, \"chatbot\")\n",
    "graph = graph_builder.compile()"
   ]
  },
  {
   "cell_type": "code",
   "execution_count": 58,
   "metadata": {},
   "outputs": [
    {
     "data": {
      "image/jpeg": "[encoded data removed]",
      "text/plain": [
       "<IPython.core.display.Image object>"
      ]
     },
     "metadata": {},
     "output_type": "display_data"
    }
   ],
   "source": [
    "from IPython.display import Image, display\n",
    "\n",
    "display(Image(graph.get_graph().draw_mermaid_png()))"
   ]
  },
  {
   "cell_type": "code",
   "execution_count": 59,
   "metadata": {},
   "outputs": [
    {
     "data": {
      "text/plain": [
       "{'messages': [HumanMessage(content='こんにちは', additional_kwargs={}, response_metadata={}, id='ad5df9f1-732e-4342-ac57-6f608d7f89c2'),\n",
       "  AIMessage(content=[{'id': 'toolu_011gu3xv68Y271CogrimxfEv', 'input': {'query': 'こんにちは'}, 'name': 'tavily_search_results_json', 'type': 'tool_use'}], additional_kwargs={}, response_metadata={'id': 'msg_01X1BqfM8KmFzp1K8oEp6VdR', 'model': 'claude-3-haiku-20240307', 'stop_reason': 'tool_use', 'stop_sequence': None, 'usage': {'input_tokens': 372, 'output_tokens': 62}}, id='run-119cefb3-9f38-4dba-8289-5051ecc4035e-0', tool_calls=[{'name': 'tavily_search_results_json', 'args': {'query': 'こんにちは'}, 'id': 'toolu_011gu3xv68Y271CogrimxfEv', 'type': 'tool_call'}], usage_metadata={'input_tokens': 372, 'output_tokens': 62, 'total_tokens': 434, 'input_token_details': {}}),\n",
       "  ToolMessage(content='[{\"url\": \"https://en.wiktionary.org/wiki/\\\\u3053\\\\u3093\\\\u306b\\\\u3061\\\\u306f\", \"content\": \"For pronunciation and definitions of \\\\u3053\\\\u3093\\\\u306b\\\\u3061\\\\u306f - see the following entry. \\\\u3010\\\\u4eca\\\\u65e5\\\\u306f\\\\u3011. [interjection] good day, good afternoon: a Japanese greeting used in the daytime. (This term, \\\\u3053\\\\u3093\\\\u306b\\\\u3061\\\\u306f (konnichiha), is the hiragana spelling of the above term.) Categories: Japanese interjections. Japanese lemmas. Japanese hiragana.\"}, {\"url\": \"https://www.collinsdictionary.com/dictionary/japanese-english/\\\\u3053\\\\u3093\\\\u306b\\\\u3061\\\\u306f\", \"content\": \"English Translation of \\\\\"\\\\u3053\\\\u3093\\\\u306b\\\\u3061\\\\u306f\\\\\" | The official Collins Japanese-English Dictionary online. Over 100,000 English translations of Japanese words and phrases.\"}, {\"url\": \"https://www.weblio.jp/content/\\\\u3053\\\\u3093\\\\u306b\\\\u3061\\\\u306f\", \"content\": \"\\\\u300c\\\\u3053\\\\u3093\\\\u306b\\\\u3061\\\\u306f\\\\u300d\\\\u306e\\\\u610f\\\\u5473\\\\u306f \\\\u8aad\\\\u307f\\\\u65b9\\\\uff1a\\\\u3053\\\\u3093\\\\u306b\\\\u3061\\\\u306f \\\\u300a\\\\u300c\\\\u4eca\\\\u65e5\\\\u306f\\\\u3088\\\\u3044\\\\u304a\\\\u5929\\\\u6c17\\\\u3067\\\\u3059\\\\u300d\\\\u306a\\\\u3069\\\\u306e\\\\u5f8c\\\\u308d\\\\u306e\\\\u90e8\\\\u5206\\\\u304c\\\\u7565\\\\u3055\\\\u308c\\\\u305f\\\\u3082\\\\u306e\\\\u300b\\\\u663c\\\\u9593\\\\u3001\\\\u4eba\\\\u306b\\\\u4f1a\\\\u3063\\\\u305f\\\\u308a\\\\u3001\\\\u4ed6\\\\u5bb6\\\\u3092\\\\u8a2a\\\\u554f\\\\u3057\\\\u305f\\\\u969b\\\\u306a\\\\u3069\\\\u306b\\\\u3044\\\\u3046\\\\u3042\\\\u3044\\\\u3055\\\\u3064\\\\u306e\\\\u8a9e\\\\u306e\\\\u3053\\\\u3068\\\\u3002Weblio\\\\u56fd\\\\u8a9e\\\\u8f9e\\\\u5178\\\\u3067\\\\u306f\\\\u300c\\\\u3053\\\\u3093\\\\u306b\\\\u3061\\\\u306f\\\\u300d\\\\u306e\\\\u610f\\\\u5473\\\\u3084\\\\u4f7f\\\\u3044\\\\u65b9\\\\u3001\\\\u7528\\\\u4f8b\\\\u3001\\\\u985e\\\\u4f3c\\\\u8868\\\\u73fe\\\\u306a\\\\u3069\\\\u3092\\\\u89e3\\\\u8aac\\\\u3057\\\\u3066\\\\u3044\\\\u307e\\\\u3059\\\\u3002\"}, {\"url\": \"https://dkgengo.com/japanese/learn-japanese/meaning-and-use-of-konnichiwa/\", \"content\": \"Learn how to pronounce, use, and understand \\\\\"Konnichiwa (\\\\u3053\\\\u3093\\\\u306b\\\\u3061\\\\u306f)\\\\\", a common and polite Japanese greeting. Discover the cultural significance and etiquette behind this phrase and how to apply it in different situations.\"}, {\"url\": \"https://www.alexrockinjapanese.com/the-real-meaning-of-konnichiwa-its-not-just-hello/\", \"content\": \"The Real Meaning of \\\\u201cKonnichiwa\\\\u201d in Japanese\\\\nThe Japanese greeting \\\\u201cKonnichiwa\\\\u201d or \\\\u201cKonnichi wa\\\\u201d is usually written in Hiragana as \\\\u3053\\\\u3093\\\\u306b\\\\u3061\\\\u306f and means \\\\u201cHello\\\\u201c, \\\\u201cGood day\\\\u201c, or \\\\u201cGood afternoon\\\\u201c. Does Konnichiwa Mean \\\\u201cHello\\\\u201d or \\\\u201cGood Afternoon\\\\u201d?\\\\n\\\\u201cKonnichiwa\\\\u201d (\\\\u3053\\\\u3093\\\\u306b\\\\u3061\\\\u306f) can mean both \\\\u201chello\\\\u201d and \\\\u201cgood afternoon\\\\u201d and it can also be translated as \\\\u201cgood day\\\\u201c. When and How to Use \\\\u201cKonnichiwa\\\\u201d\\\\n\\\\u201cKonnichiwa\\\\u201d (\\\\u3053\\\\u3093\\\\u306b\\\\u3061\\\\u306f) is a formal greeting that is typically used during the day from 10:00 or 11:00 am until sunset which is around 5:00 or 6:00 pm depending on the season. In the morning you can use \\\\u201cOhayo\\\\u201d (\\\\u304a\\\\u306f\\\\u3088\\\\u3046) or the politer \\\\u201cOhayo gozaimasu\\\\u201d (\\\\u304a\\\\u306f\\\\u3088\\\\u3046\\\\u3054\\\\u3056\\\\u3044\\\\u307e\\\\u3059) as an alternative, while in the evening you can use \\\\u201cKonbanwa\\\\u201d (\\\\u3053\\\\u3093\\\\u3070\\\\u3093\\\\u306f).\\\\n The Real Meaning of \\\\u201cKonnichiwa\\\\u201d (It\\\\u2019s Not Just \\\\u201cHello\\\\u201d)\\\\nI am sure you have heard the word \\\\u201cKonnichiwa\\\\u201d (\\\\u3053\\\\u3093\\\\u306b\\\\u3061\\\\u306f, \\\\u4eca\\\\u65e5\\\\u306f) plenty of times even outside of Japan.\"}]', name='tavily_search_results_json', id='6725b64d-ebff-4089-b858-6e8e909b2d08', tool_call_id='toolu_011gu3xv68Y271CogrimxfEv'),\n",
       "  AIMessage(content='「こんにちは」は日本語の挨拶で、「今日は」という意味です。午前10時頃から夕方5、6時頃まで使われる一般的な挨拶です。朝は「おはよう」、夕方は「こんばんは」と使い分けます。「こんにちは」は丁寧な表現で、人に会ったり訪問したりする際に使います。', additional_kwargs={}, response_metadata={'id': 'msg_01NecP219JCRreWRdEqP4kjm', 'model': 'claude-3-haiku-20240307', 'stop_reason': 'end_turn', 'stop_sequence': None, 'usage': {'input_tokens': 1997, 'output_tokens': 125}}, id='run-594a898f-9a21-43e2-9856-c795d45a1f2d-0', usage_metadata={'input_tokens': 1997, 'output_tokens': 125, 'total_tokens': 2122, 'input_token_details': {}})]}"
      ]
     },
     "execution_count": 59,
     "metadata": {},
     "output_type": "execute_result"
    }
   ],
   "source": [
    "graph.invoke({\"messages\": [(\"user\", \"こんにちは\")]})"
   ]
  },
  {
   "cell_type": "code",
   "execution_count": 60,
   "metadata": {},
   "outputs": [
    {
     "data": {
      "text/plain": [
       "{'messages': [HumanMessage(content='私の名前は森です。', additional_kwargs={}, response_metadata={}, id='fa190127-2f8e-4e7d-b893-770e7f633c9b'),\n",
       "  AIMessage(content='分かりました。森さんですね。私はあなたの名前を記憶しました。これからよろしくお願いします。', additional_kwargs={}, response_metadata={'id': 'msg_01BTaykYdAnLpSexQueFTi6s', 'model': 'claude-3-haiku-20240307', 'stop_reason': 'end_turn', 'stop_sequence': None, 'usage': {'input_tokens': 376, 'output_tokens': 41}}, id='run-b107a6a1-bd82-46e7-b576-271a889569d7-0', usage_metadata={'input_tokens': 376, 'output_tokens': 41, 'total_tokens': 417, 'input_token_details': {}})]}"
      ]
     },
     "execution_count": 60,
     "metadata": {},
     "output_type": "execute_result"
    }
   ],
   "source": [
    "graph.invoke({\"messages\": [(\"user\", \"私の名前は森です。\")]})"
   ]
  },
  {
   "cell_type": "code",
   "execution_count": 61,
   "metadata": {},
   "outputs": [
    {
     "data": {
      "text/plain": [
       "{'messages': [HumanMessage(content='LangGraphについて小学生にもわかるように教えて', additional_kwargs={}, response_metadata={}, id='f13ff285-5fc6-4ffd-9dbc-791484fe0562'),\n",
       "  AIMessage(content=[{'id': 'toolu_01NaCNTPtiyRmGtgpjvY772Q', 'input': {'query': 'LangGraph 小学生 わかりやすい説明'}, 'name': 'tavily_search_results_json', 'type': 'tool_use'}], additional_kwargs={}, response_metadata={'id': 'msg_01H39huLTDz4gbmQjBhSzryr', 'model': 'claude-3-haiku-20240307', 'stop_reason': 'tool_use', 'stop_sequence': None, 'usage': {'input_tokens': 384, 'output_tokens': 73}}, id='run-75351065-f02f-433b-827f-37e97c3323b7-0', tool_calls=[{'name': 'tavily_search_results_json', 'args': {'query': 'LangGraph 小学生 わかりやすい説明'}, 'id': 'toolu_01NaCNTPtiyRmGtgpjvY772Q', 'type': 'tool_call'}], usage_metadata={'input_tokens': 384, 'output_tokens': 73, 'total_tokens': 457, 'input_token_details': {}}),\n",
       "  ToolMessage(content='[{\"url\": \"https://note.com/life_chatgpt/n/nabf4f5d96c6e\", \"content\": \"Mar 2, 2024 \\\\u00b7 LangGraph\\\\u306f\\\\u3001LangChain\\\\u306b\\\\u3088\\\\u3063\\\\u3066\\\\u63d0\\\\u4f9b\\\\u3055\\\\u308c\\\\u308b\\\\u3001AI\\\\u30a8\\\\u30fc\\\\u30b8\\\\u30a7\\\\u30f3\\\\u30c8\\\\u306e\\\\u69cb\\\\u7bc9\\\\u3092\\\\u7c21\\\\u5358\\\\u306b\\\\u3059\\\\u308b\\\\u305f\\\\u3081\\\\u306e\\\\u30e9\\\\u30a4\\\\u30d6\\\\u30e9\\\\u30ea\\\\u3067\\\\u3059\\\\u3002\\\\u8907\\\\u96d1\\\\u306aAI\\\\u30e2\\\\u30c7\\\\u30eb\\\\u3068\\\\u9023\\\\u643a\\\\u3057\\\\u3084\\\\u3059\\\\u3044\\\\u8a2d\\\\u8a08\\\\u304c\\\\u7279\\\\u5fb4\\\\u3067\\\\u3001\\\\u958b\\\\u767a\\\\u8005\"}, {\"url\": \"https://iret.media/125553\", \"content\": \"2 days ago \\\\u00b7 LangGraph \\\\u306e\\\\u4f8b\\\\u3068\\\\u3057\\\\u3066\\\\u306f\\\\u304b\\\\u306a\\\\u308a\\\\u521d\\\\u6b69\\\\u7684\\\\u306a\\\\u5185\\\\u5bb9\\\\u3067\\\\u306f\\\\u3042\\\\u308a\\\\u307e\\\\u3059\\\\u304c\\\\u3001\\\\u5c0f\\\\u3055\\\\u306a\\\\u69cb\\\\u9020\\\\u3092\\\\u7d44\\\\u307f\\\\u5408\\\\u308f\\\\u305b\\\\u3066\\\\u3044\\\\u304f\\\\u3053\\\\u3068\\\\u3067\\\\u8907\\\\u96d1\\\\u306a\\\\u51e6\\\\u7406\\\\u3092\\\\u884c\\\\u3046\\\\u72b6\\\\u614b\\\\u30b0\\\\u30e9\\\\u30d5\\\\u3092\\\\u69cb\\\\u6210\\\\u3057\\\\u3066\\\\u3044\\\\u304f\\\\u3053\\\\u3068\\\\u304c\\\\u3067\\\\u304d\"}, {\"url\": \"https://xtech.nikkei.com/atcl/nxt/keyword/18/00002/102100266/?P=2\", \"content\": \"4 days ago \\\\u00b7 LangChain\\\\u306e\\\\u95a2\\\\u9023\\\\u30e9\\\\u30a4\\\\u30d6\\\\u30e9\\\\u30ea\\\\u30fc\\\\u3067\\\\u3001AI\\\\u30a8\\\\u30fc\\\\u30b8\\\\u30a7\\\\u30f3\\\\u30c8\\\\u958b\\\\u767a\\\\u5411\\\\u3051\\\\u306b\\\\u7279\\\\u5316\\\\u3057\\\\u3066\\\\u3044\\\\u308b\\\\u306e\\\\u304c\\\\u300cLangGraph\\\\u300d\\\\u3060\\\\u3002LangGraph\\\\u3067\\\\u306f\\\\u3001AI\\\\u30a8\\\\u30fc\\\\u30b8\\\\u30a7\\\\u30f3\\\\u30c8\\\\u306e\\\\u51e6\\\\u7406\\\\u30d5\\\\u30ed\\\\u30fc\\\\u3092\\\\u30ce\\\\u30fc\\\\u30c9\\\\u3068\"}, {\"url\": \"https://xexeq.jp/blogs/media/topics3013\", \"content\": \"\\\\u30b8\\\\u30a7\\\\u30cd\\\\u30e9\\\\u30c6\\\\u30a3\\\\u30d6\\\\u30a8\\\\u30fc\\\\u30b8\\\\u30a7\\\\u30f3\\\\u30c4\\\\u304cLangChain\\\\u516c\\\\u5f0f\\\\u30a8\\\\u30ad\\\\u30b9\\\\u30d1\\\\u30fc\\\\u30c8\\\\u306b\\\\u3001\\\\u65e5\\\\u672c\\\\u4f01\\\\u696d\\\\u521d\\\\u306e\\\\u8a8d\\\\u5b9a\\\\u3067AI\\\\u30a8\\\\u30fc\\\\u30b8\\\\u30a7\\\\u30f3\\\\u30c8\\\\u958b\\\\u767a\\\\u3092\\\\u52a0\\\\u901f \\\\u2013 / XEXEQ(\\\\u30bc\\\\u30bc\\\\u30c3\\\\u30af) \\\\u30b3\\\\u30f3\\\\u30c6\\\\u30f3\\\\u30c4\\\\u306b\\\\u9032\\\\u3080 \\\\u30a2\\\\u30fc\\\\u30ab\\\\u30a4\\\\u30d6 \\\\u30bb\\\\u30df\\\\u30ca\\\\u30fc \\\\u30e9\\\\u30f3\\\\u30ad\\\\u30f3\\\\u30b0 \\\\u30e9\\\\u30f3\\\\u30ad\\\\u30f3\\\\u30b0 \\\\u30a2\\\\u30af\\\\u30bb\\\\u30b9\\\\u30e9\\\\u30f3\\\\u30ad\\\\u30f3\\\\u30b0 \\\\u30cb\\\\u30e5\\\\u30fc\\\\u30b9\\\\u306e\\\\u30a2\\\\u30af\\\\u30bb\\\\u30b9\\\\u30e9\\\\u30f3\\\\u30ad\\\\u30f3\\\\u30b0 \\\\u30b3\\\\u30e9\\\\u30e0\\\\u306e\\\\u30e9\\\\u30f3\\\\u30ad\\\\u30f3\\\\u30b0 \\\\u5c02\\\\u9580\\\\u7528\\\\u8a9e\\\\u306e\\\\u30a2\\\\u30af\\\\u30bb\\\\u30b9\\\\u30e9\\\\u30f3\\\\u30ad\\\\u30f3\\\\u30b0 AI\\\\u30c4\\\\u30fc\\\\u30eb\\\\u306e\\\\u30e9\\\\u30f3\\\\u30ad\\\\u30f3\\\\u30b0 IT\\\\u7528\\\\u8a9e\\\\u96c6 AI\\\\u30c4\\\\u30fc\\\\u30eb GA4 Looker Studio \\\\u304a\\\\u554f\\\\u3044\\\\u5408\\\\u308f\\\\u305b \\\\u30ed\\\\u30b0\\\\u30a4\\\\u30f3 \\\\u30a2\\\\u30fc\\\\u30ab\\\\u30a4\\\\u30d6 \\\\u30bb\\\\u30df\\\\u30ca\\\\u30fc \\\\u30e9\\\\u30f3\\\\u30ad\\\\u30f3\\\\u30b0 \\\\u30a2\\\\u30af\\\\u30bb\\\\u30b9\\\\u30e9\\\\u30f3\\\\u30ad\\\\u30f3\\\\u30b0 \\\\u30cb\\\\u30e5\\\\u30fc\\\\u30b9\\\\u306e\\\\u30a2\\\\u30af\\\\u30bb\\\\u30b9\\\\u30e9\\\\u30f3\\\\u30ad\\\\u30f3\\\\u30b0 \\\\u30b3\\\\u30e9\\\\u30e0\\\\u306e\\\\u30e9\\\\u30f3\\\\u30ad\\\\u30f3\\\\u30b0 \\\\u5c02\\\\u9580\\\\u7528\\\\u8a9e\\\\u306e\\\\u30a2\\\\u30af\\\\u30bb\\\\u30b9\\\\u30e9\\\\u30f3\\\\u30ad\\\\u30f3\\\\u30b0 AI\\\\u30c4\\\\u30fc\\\\u30eb\\\\u306e\\\\u30e9\\\\u30f3\\\\u30ad\\\\u30f3\\\\u30b0 IT\\\\u7528\\\\u8a9e\\\\u96c6 AI\\\\u30c4\\\\u30fc\\\\u30eb GA4 Looker Studio \\\\u304a\\\\u554f\\\\u3044\\\\u5408\\\\u308f\\\\u305b \\\\u691c\\\\u7d22 \\\\u30ed\\\\u30b0\\\\u30a4\\\\u30f3 \\\\u30ab\\\\u30fc\\\\u30c8 \\\\u30ab\\\\u30fc\\\\u30c8\\\\u306b\\\\u30a2\\\\u30a4\\\\u30c6\\\\u30e0\\\\u304c\\\\u8ffd\\\\u52a0\\\\u3055\\\\u308c\\\\u307e\\\\u3057\\\\u305f \\\\u30ab\\\\u30fc\\\\u30c8\\\\u3092\\\\u898b\\\\u308b \\\\u3054\\\\u8cfc\\\\u5165\\\\u624b\\\\u7d9a\\\\u304d\\\\u3078 \\\\u8cb7\\\\u3044\\\\u7269\\\\u3092\\\\u7d9a\\\\u3051\\\\u308b AI \\\\u30a8\\\\u30fc\\\\u30a2\\\\u30a4 \\\\u516c\\\\u958b\\\\uff1a2024-08-10 \\\\u30b8\\\\u30a7\\\\u30cd\\\\u30e9\\\\u30c6\\\\u30a3\\\\u30d6\\\\u30a8\\\\u30fc\\\\u30b8\\\\u30a7\\\\u30f3\\\\u30c4\\\\u304cLangChain\\\\u516c\\\\u5f0f\\\\u30a8\\\\u30ad\\\\u30b9\\\\u30d1\\\\u30fc\\\\u30c8\\\\u306b\\\\u3001\\\\u65e5\\\\u672c\\\\u4f01\\\\u696d\\\\u521d\\\\u306e\\\\u8a8d\\\\u5b9a\\\\u3067AI\\\\u30a8\\\\u30fc\\\\u30b8\\\\u30a7\\\\u30f3\\\\u30c8\\\\u958b\\\\u767a\\\\u3092\\\\u52a0\\\\u901f text: XEXEQ\\\\u7de8\\\\u96c6\\\\u90e8 PR TIMES \\\\u3088\\\\u308a \\\\u30b9\\\\u30dd\\\\u30f3\\\\u30b5\\\\u30fc\\\\u30ea\\\\u30f3\\\\u30af \\\\u95a2\\\\u9023\\\\u3059\\\\u308b\\\\u30bf\\\\u30b0 AI \\\\u30d7\\\\u30ed\\\\u30b0\\\\u30e9\\\\u30df\\\\u30f3\\\\u30b0 \\\\u30bd\\\\u30d5\\\\u30c8\\\\u30a6\\\\u30a7\\\\u30a2 DX \\\\u30a2\\\\u30d7\\\\u30ea\\\\u30b1\\\\u30fc\\\\u30b7\\\\u30e7\\\\u30f3 \\\\u30b7\\\\u30b9\\\\u30c6\\\\u30e0 \\\\u30c7\\\\u30fc\\\\u30bf \\\\u30d7\\\\u30ed\\\\u30b0\\\\u30e9\\\\u30e0 \\\\u30dd\\\\u30fc\\\\u30c8 \\\\u958b\\\\u767a \\\\u901a\\\\u4fe1 \\\\u30a8\\\\u30b3\\\\u30b7\\\\u30b9\\\\u30c6\\\\u30e0 \\\\u30aa\\\\u30fc\\\\u30d7\\\\u30f3\\\\u30bd\\\\u30fc\\\\u30b9 \\\\u30aa\\\\u30f3\\\\u30e9\\\\u30a4\\\\u30f3 \\\\u30ad\\\\u30fc\\\\u30ef\\\\u30fc\\\\u30c9 \\\\u30b5\\\\u30fc\\\\u30d3\\\\u30b9 \\\\u30c7\\\\u30d0\\\\u30c3\\\\u30b0 Framework \\\\u6559\\\\u80b2 \\\\u8a00\\\\u8a9e \\\\u52b9\\\\u7387 \\\\u7523\\\\u696d \\\\u76ee\\\\u6b21 \\\\u8a18\\\\u4e8b\\\\u306e\\\\u8981\\\\u7d04 \\\\u682a\\\\u5f0f\\\\u4f1a\\\\u793e\\\\u30b8\\\\u30a7\\\\u30cd\\\\u30e9\\\\u30c6\\\\u30a3\\\\u30d6\\\\u30a8\\\\u30fc\\\\u30b8\\\\u30a7\\\\u30f3\\\\u30c4\\\\u306eLangChain\\\\u516c\\\\u5f0f\\\\u30a8\\\\u30ad\\\\u30b9\\\\u30d1\\\\u30fc\\\\u30c8\\\\u8a8d\\\\u5b9a LangChain\\\\u516c\\\\u5f0f\\\\u30a8\\\\u30ad\\\\u30b9\\\\u30d1\\\\u30fc\\\\u30c8\\\\u8a8d\\\\u5b9a\\\\u306e\\\\u6982\\\\u8981 LangChain\\\\u306b\\\\u3064\\\\u3044\\\\u3066 LangChain\\\\u516c\\\\u5f0f\\\\u30a8\\\\u30ad\\\\u30b9\\\\u30d1\\\\u30fc\\\\u30c8\\\\u8a8d\\\\u5b9a\\\\u306b\\\\u95a2\\\\u3059\\\\u308b\\\\u8003\\\\u5bdf \\\\u53c2\\\\u8003\\\\u30b5\\\\u30a4\\\\u30c8 \\\\u8a18\\\\u4e8b\\\\u306e\\\\u8981\\\\u7d04 \\\\u30b8\\\\u30a7\\\\u30cd\\\\u30e9\\\\u30c6\\\\u30a3\\\\u30d6\\\\u30a8\\\\u30fc\\\\u30b8\\\\u30a7\\\\u30f3\\\\u30c4\\\\u304cLangChain\\\\u516c\\\\u5f0f\\\\u30a8\\\\u30ad\\\\u30b9\\\\u30d1\\\\u30fc\\\\u30c8\\\\u306b\\\\u8a8d\\\\u5b9a LangChain\\\\u30a8\\\\u30b3\\\\u30b7\\\\u30b9\\\\u30c6\\\\u30e0\\\\u306e\\\\u4e3b\\\\u8981\\\\u30b3\\\\u30f3\\\\u30dd\\\\u30fc\\\\u30cd\\\\u30f3\\\\u30c8\\\\u3092\\\\u89e3\\\\u8aac AI\\\\u30a8\\\\u30fc\\\\u30b8\\\\u30a7\\\\u30f3\\\\u30c8\\\\u958b\\\\u767a\\\\u306e\\\\u30ea\\\\u30fc\\\\u30c7\\\\u30a3\\\\u30f3\\\\u30b0\\\\u30ab\\\\u30f3\\\\u30d1\\\\u30cb\\\\u30fc\\\\u3068\\\\u3057\\\\u3066\\\\u306e\\\\u5730\\\\u4f4d\\\\u3092\\\\u78ba\\\\u7acb \\\\u30b9\\\\u30dd\\\\u30f3\\\\u30b5\\\\u30fc\\\\u30ea\\\\u30f3\\\\u30af \\\\u682a\\\\u5f0f\\\\u4f1a\\\\u793e\\\\u30b8\\\\u30a7\\\\u30cd\\\\u30e9\\\\u30c6\\\\u30a3\\\\u30d6\\\\u30a8\\\\u30fc\\\\u30b8\\\\u30a7\\\\u30f3\\\\u30c4\\\\u306eLangChain\\\\u516c\\\\u5f0f\\\\u30a8\\\\u30ad\\\\u30b9\\\\u30d1\\\\u30fc\\\\u30c8\\\\u8a8d\\\\u5b9a \\\\u682a\\\\u5f0f\\\\u4f1a\\\\u793e\\\\u30b8\\\\u30a7\\\\u30cd\\\\u30e9\\\\u30c6\\\\u30a3\\\\u30d6\\\\u30a8\\\\u30fc\\\\u30b8\\\\u30a7\\\\u30f3\\\\u30c4\\\\u306f\\\\u30012024\\\\u5e748\\\\u67083\\\\u65e5\\\\u306bLangChain\\\\u793e\\\\u304b\\\\u3089\\\\u65e5\\\\u672c\\\\u4f01\\\\u696d\\\\u3068\\\\u3057\\\\u3066\\\\u521d\\\\u3081\\\\u3066LangChain\\\\u516c\\\\u5f0f\\\\u30a8\\\\u30ad\\\\u30b9\\\\u30d1\\\\u30fc\\\\u30c8\\\\u306b\\\\u8a8d\\\\u5b9a\\\\u3055\\\\u308c\\\\u305f\\\\u3002LangChain\\\\u306f\\\\u5927\\\\u898f\\\\u6a21\\\\u8a00\\\\u8a9e\\\\u30e2\\\\u30c7\\\\u30eb\\\\uff08LLM\\\\uff09\\\\u3092\\\\u6d3b\\\\u7528\\\\u3057\\\\u305f\\\\u30a2\\\\u30d7\\\\u30ea\\\\u30b1\\\\u30fc\\\\u30b7\\\\u30e7\\\\u30f3\\\\u958b\\\\u767a\\\\u306e\\\\u305f\\\\u3081\\\\u306e\\\\u30aa\\\\u30fc\\\\u30d7\\\\u30f3\\\\u30bd\\\\u30fc\\\\u30b9\\\\u30d5\\\\u30ec\\\\u30fc\\\\u30e0\\\\u30ef\\\\u30fc\\\\u30af\\\\u3067\\\\u3042\\\\u308a\\\\u3001\\\\u3053\\\\u306e\\\\u8a8d\\\\u5b9a\\\\u306f\\\\u540c\\\\u793e\\\\u306eLLM\\\\u30a2\\\\u30d7\\\\u30ea\\\\u30b1\\\\u30fc\\\\u30b7\\\\u30e7\\\\u30f3\\\\u958b\\\\u767a\\\\u306b\\\\u304a\\\\u3051\\\\u308b\\\\u6df1\\\\u3044\\\\u77e5\\\\u898b\\\\u3068\\\\u5b9f\\\\u8df5\\\\u7d4c\\\\u9a13\\\\u304c\\\\u8a55\\\\u4fa1\\\\u3055\\\\u308c\\\\u305f\\\\u3053\\\\u3068\\\\u3092\\\\u793a\\\\u3057\\\\u3066\\\\u3044\\\\u308b\\\\u3002[1] LangChain\\\\u3092\\\\u4e2d\\\\u5fc3\\\\u3068\\\\u3057\\\\u305f\\\\u30a8\\\\u30b3\\\\u30b7\\\\u30b9\\\\u30c6\\\\u30e0\\\\u306f\\\\u3001LLM\\\\u30a2\\\\u30d7\\\\u30ea\\\\u30b1\\\\u30fc\\\\u30b7\\\\u30e7\\\\u30f3\\\\u958b\\\\u767a\\\\u3092\\\\u5f37\\\\u5316\\\\u3059\\\\u308b\\\\u8907\\\\u6570\\\\u306e\\\\u30c4\\\\u30fc\\\\u30eb\\\\u3067\\\\u69cb\\\\u6210\\\\u3055\\\\u308c\\\\u3066\\\\u3044\\\\u308b\\\\u3002\\\\u4e3b\\\\u8981\\\\u306a\\\\u30b3\\\\u30f3\\\\u30dd\\\\u30fc\\\\u30cd\\\\u30f3\\\\u30c8\\\\u306b\\\\u306f\\\\u3001LLM\\\\u63d0\\\\u4f9b\\\\u30d7\\\\u30ed\\\\u30d0\\\\u30a4\\\\u30c0\\\\u3068\\\\u306e\\\\u901a\\\\u4fe1\\\\u3084\\\\u5916\\\\u90e8\\\\u30c7\\\\u30fc\\\\u30bf\\\\u30bd\\\\u30fc\\\\u30b9\\\\u306e\\\\u7d71\\\\u5408\\\\u6a5f\\\\u80fd\\\\u3092\\\\u63d0\\\\u4f9b\\\\u3059\\\\u308bLangChain\\\\u3001\\\\u30a2\\\\u30d7\\\\u30ea\\\\u30b1\\\\u30fc\\\\u30b7\\\\u30e7\\\\u30f3\\\\u306e\\\\u30c7\\\\u30d0\\\\u30c3\\\\u30b0\\\\u3084\\\\u30e2\\\\u30cb\\\\u30bf\\\\u30ea\\\\u30f3\\\\u30b0\\\\u3092\\\\u884c\\\\u3046LangSmith\\\\u3001\\\\u8907\\\\u96d1\\\\u306a\\\\u30ef\\\\u30fc\\\\u30af\\\\u30d5\\\\u30ed\\\\u30fc\\\\u3092\\\\u69cb\\\\u7bc9\\\\u3059\\\\u308bLangGraph\\\\u304c\\\\u3042\\\\u308b\\\\u3002 \\\\u682a\\\\u5f0f\\\\u4f1a\\\\u793e\\\\u30b8\\\\u30a7\\\\u30cd\\\\u30e9\\\\u30c6\\\\u30a3\\\\u30d6\\\\u30a8\\\\u30fc\\\\u30b8\\\\u30a7\\\\u30f3\\\\u30c4\\\\u306f\\\\u3001\\\\u3053\\\\u306e\\\\u8a8d\\\\u5b9a\\\\u3092\\\\u6a5f\\\\u306bLangChain\\\\u3068\\\\u305d\\\\u306e\\\\u30a8\\\\u30b3\\\\u30b7\\\\u30b9\\\\u30c6\\\\u30e0\\\\u306b\\\\u95a2\\\\u3059\\\\u308b\\\\u77e5\\\\u898b\\\\u3092\\\\u5e83\\\\u3081\\\\u308b\\\\u6d3b\\\\u52d5\\\\u3092\\\\u5f37\\\\u5316\\\\u3059\\\\u308b\\\\u65b9\\\\u91dd\\\\u3060\\\\u3002\\\\u5177\\\\u4f53\\\\u7684\\\\u306b\\\\u306f\\\\u3001LangChain\\\\u3092\\\\u6d3b\\\\u7528\\\\u3057\\\\u305fLLM\\\\u30a2\\\\u30d7\\\\u30ea\\\\u30b1\\\\u30fc\\\\u30b7\\\\u30e7\\\\u30f3\\\\u306e\\\\u958b\\\\u767a\\\\u652f\\\\u63f4\\\\u30b5\\\\u30fc\\\\u30d3\\\\u30b9\\\\u3084\\\\u3001\\\\u958b\\\\u767a\\\\u306e\\\\u6559\\\\u80b2\\\\u30d7\\\\u30ed\\\\u30b0\\\\u30e9\\\\u30e0\\\\u306e\\\\u63d0\\\\u4f9b\\\\u3092\\\\u62e1\\\\u5927\\\\u3057\\\\u3066\\\\u3044\\\\u304f\\\\u3002\\\\u3053\\\\u308c\\\\u3089\\\\u306e\\\\u30b5\\\\u30fc\\\\u30d3\\\\u30b9\\\\u3092\\\\u901a\\\\u3058\\\\u3066\\\\u3001\\\\u65e5\\\\u672c\\\\u306b\\\\u304a\\\\u3051\\\\u308bAI\\\\u6280\\\\u8853\\\\u306e\\\\u666e\\\\u53ca\\\\u3068\\\\u767a\\\\u5c55\\\\u306b\\\\u8ca2\\\\u732e\\\\u3059\\\\u308b\\\\u3053\\\\u3068\\\\u3092\\\\u76ee\\\\u6307\\\\u3057\\\\u3066\\\\u3044\\\\u308b\\\\u3002 LangChain\\\\u516c\\\\u5f0f\\\\u30a8\\\\u30ad\\\\u30b9\\\\u30d1\\\\u30fc\\\\u30c8\\\\u8a8d\\\\u5b9a\\\\u306e\\\\u6982\\\\u8981 |  | \\\\u8a73\\\\u7d30 | | \\\\u8a8d\\\\u5b9a\\\\u65e5 | 2024\\\\u5e748\\\\u67083\\\\u65e5 | | \\\\u8a8d\\\\u5b9a\\\\u6a5f\\\\u95a2 | LangChain\\\\u793e\\\\uff08\\\\u7c73\\\\u56fd\\\\uff09 | | \\\\u516c\\\\u5f0f\\\\u63b2\\\\u8f09URL | https://www.langchain.com/experts | | \\\\u8a8d\\\\u5b9a\\\\u306e\\\\u610f\\\\u7fa9 | LangChain\\\\u30a8\\\\u30b3\\\\u30b7\\\\u30b9\\\\u30c6\\\\u30e0\\\\u306b\\\\u95a2\\\\u3059\\\\u308b\\\\u6df1\\\\u3044\\\\u77e5\\\\u8b58\\\\u3068\\\\u5b9f\\\\u8df5\\\\u7d4c\\\\u9a13\\\\u306e\\\\u8a55\\\\u4fa1 |\"}, {\"url\": \"https://qiita.com/minorun365/items/6ca84b62230519d1d0ef\", \"content\": \"AWS\\\\u3067\\\\u751f\\\\u6210AI\\\\u30a8\\\\u30fc\\\\u30b8\\\\u30a7\\\\u30f3\\\\u30c8\\\\u3092\\\\u64cd\\\\u308b\\\\uff01 \\\\u8a71\\\\u984c\\\\u306eLangGraph\\\\u306bBedrock\\\\u3067\\\\u5165\\\\u9580\\\\u3057\\\\u3088\\\\u3046 #langchain - Qiita from langchain_core.messages import HumanMessage from langchain_core.tools import tool from langgraph.graph import END, StateGraph, MessagesState @tool tools = [search] def should_continue(state: MessagesState) -> Literal[\\\\\"tools\\\\\", END]: if last_message.tool_calls: return \\\\\"tools\\\\\" workflow.add_node(\\\\\"agent\\\\\", call_model) workflow.add_node(\\\\\"tools\\\\\", tool_node) workflow.add_edge(\\\\\"tools\\\\\", \\\\\"agent\\\\\") result = final_state[\\\\\"messages\\\\\"][-1].content from langchain_core.messages import HumanMessage from langchain_core.tools import tool from langgraph.graph import END, StateGraph, MessagesState @tool tools = [search] def should_continue(state: MessagesState) -> Literal[\\\\\"tools\\\\\", END]: if last_message.tool_calls: return \\\\\"tools\\\\\" workflow.add_node(\\\\\"agent\\\\\", call_model) workflow.add_node(\\\\\"tools\\\\\", tool_node) workflow.add_edge(\\\\\"tools\\\\\", \\\\\"agent\\\\\") result = final_state[\\\\\"messages\\\\\"][-1].content | tools |         | end |  Register as a new user and use Qiita more conveniently @Qiita @Qiita\"}]', name='tavily_search_results_json', id='8d762942-d1c7-4cf5-ab0e-be092f0b2777', tool_call_id='toolu_01NaCNTPtiyRmGtgpjvY772Q'),\n",
       "  AIMessage(content='LangGraphは、LangChainというAI開発のためのオープンソースフレームワークの一部です。LangGraphは、AI開発者が複雑なAIモデルを簡単に構築できるようにするためのツールです。\\n\\nLangGraphの特徴は以下のようなものです:\\n\\n- 小さな構造を組み合わせて複雑な処理を行うことができる\\n- AIモデルと外部データソースを簡単に連携できる\\n- AIモデルの開発やデバッグが容易\\n\\nLangGraphを使うと、AIアプリケーションの開発がとても簡単になります。小さな部品を組み合わせていくだけで、複雑なAIシステムを構築できるのが特徴です。\\n\\n例えば、ユーザーからの質問に答えるチャットボットを作る場合、LangGraphを使うと、質問を受け取る部分、AIモデルで回答を生成する部分、回答をユーザーに返す部分など、それぞれの機能を小さな部品として組み立てていくことができます。\\n\\nこのように、LangGraphを使うと、AIアプリケーションの開発がとても簡単になります。小学生でも、LangGraphの仕組みを理解して、自分でAIアプリを作ることができるでしょう。', additional_kwargs={}, response_metadata={'id': 'msg_01VCyNEQxXyEHuHBX98W6mKM', 'model': 'claude-3-haiku-20240307', 'stop_reason': 'end_turn', 'stop_sequence': None, 'usage': {'input_tokens': 7124, 'output_tokens': 389}}, id='run-be70391f-20ae-4424-aa8a-686a68f3a601-0', usage_metadata={'input_tokens': 7124, 'output_tokens': 389, 'total_tokens': 7513, 'input_token_details': {}})]}"
      ]
     },
     "execution_count": 61,
     "metadata": {},
     "output_type": "execute_result"
    }
   ],
   "source": [
    "graph.invoke({\"messages\": [(\"user\", \"LangGraphについて小学生にもわかるように教えて\")]})"
   ]
  },
  {
   "cell_type": "code",
   "execution_count": 64,
   "metadata": {},
   "outputs": [],
   "source": [
    "from langgraph.prebuilt import ToolNode, tools_condition\n",
    "\n",
    "graph_builder = StateGraph(State)\n",
    "\n",
    "graph_builder.add_node(\"chatbot\", chatbot)\n",
    "\n",
    "tool_node = ToolNode(tools=[tool])\n",
    "graph_builder.add_node(\"tools\", tool_node)\n",
    "\n",
    "graph_builder.add_conditional_edges(\n",
    "    \"chatbot\",\n",
    "    tools_condition,\n",
    ")\n",
    "\n",
    "graph_builder.add_edge(\"tools\", \"chatbot\")\n",
    "graph_builder.set_entry_point(\"chatbot\")\n",
    "graph = graph_builder.compile()"
   ]
  },
  {
   "cell_type": "code",
   "execution_count": 65,
   "metadata": {},
   "outputs": [
    {
     "data": {
      "image/jpeg": "[encoded data removed]",
      "text/plain": [
       "<IPython.core.display.Image object>"
      ]
     },
     "metadata": {},
     "output_type": "display_data"
    }
   ],
   "source": [
    "display(Image(graph.get_graph().draw_mermaid_png()))"
   ]
  },
  {
   "cell_type": "markdown",
   "metadata": {},
   "source": [
    "## Adding Memory to the Chatbot"
   ]
  },
  {
   "cell_type": "code",
   "execution_count": 66,
   "metadata": {},
   "outputs": [],
   "source": [
    "from langgraph.checkpoint.memory import MemorySaver\n",
    "\n",
    "memory = MemorySaver()"
   ]
  },
  {
   "cell_type": "code",
   "execution_count": 80,
   "metadata": {},
   "outputs": [],
   "source": [
    "from tabnanny import check\n",
    "from typing import Annotated\n",
    "\n",
    "from langchain_anthropic import ChatAnthropic\n",
    "from langchain_community.tools.tavily_search import TavilySearchResults\n",
    "from langchain_core.messages import BaseMessage\n",
    "from typing_extensions import TypedDict\n",
    "\n",
    "from langgraph.graph import StateGraph, START, END\n",
    "from langgraph.graph.message import add_messages\n",
    "from langgraph.prebuilt import ToolNode, tools_condition\n",
    "\n",
    "\n",
    "class State(TypedDict):\n",
    "    messages: Annotated[list, add_messages]\n",
    "\n",
    "\n",
    "graph_builder = StateGraph(State)\n",
    "\n",
    "\n",
    "tool = TavilySearchResults(max_results=2)\n",
    "tools = [tool]\n",
    "llm = ChatAnthropic(model=\"claude-3-5-sonnet-20240620\")\n",
    "llm_with_tools = llm.bind_tools(tools)\n",
    "\n",
    "\n",
    "def chatbot(state: State):\n",
    "    return {\"messages\": [llm_with_tools.invoke(state[\"messages\"])]}\n",
    "\n",
    "\n",
    "graph_builder.add_node(\"chatbot\", chatbot)\n",
    "\n",
    "tool_node = ToolNode(tools=[tool])\n",
    "graph_builder.add_node(\"tools\", tool_node)\n",
    "\n",
    "graph_builder.add_conditional_edges(\n",
    "    \"chatbot\",\n",
    "    tools_condition,\n",
    ")\n",
    "# Any time a tool is called, we return to the chatbot to decide the next step\n",
    "graph_builder.add_edge(\"tools\", \"chatbot\")\n",
    "graph_builder.add_edge(START, \"chatbot\")\n",
    "\n",
    "graph = graph_builder.compile(checkpointer=memory)"
   ]
  },
  {
   "cell_type": "code",
   "execution_count": 81,
   "metadata": {},
   "outputs": [
    {
     "name": "stdout",
     "output_type": "stream",
     "text": [
      "================================\u001b[1m Human Message \u001b[0m=================================\n",
      "\n",
      "こんにちは。私の名前は森です。\n",
      "==================================\u001b[1m Ai Message \u001b[0m==================================\n",
      "\n",
      "こんにちは、森さん。はじめまして。私はAIアシスタントです。何かお手伝いできることはありますか？日本語でのコミュニケーションも問題ありませんので、お気軽にお話しください。\n"
     ]
    }
   ],
   "source": [
    "config = {\"configurable\": {\"thread_id\": \"2\"}}\n",
    "\n",
    "events = graph.stream(\n",
    "    {\"messages\": [(\"user\", \"こんにちは。私の名前は森です。\")]},\n",
    "    config,\n",
    "    stream_mode=\"values\"\n",
    ")\n",
    "\n",
    "for event in events:\n",
    "    event[\"messages\"][-1].pretty_print()"
   ]
  },
  {
   "cell_type": "code",
   "execution_count": 82,
   "metadata": {},
   "outputs": [
    {
     "name": "stdout",
     "output_type": "stream",
     "text": [
      "================================\u001b[1m Human Message \u001b[0m=================================\n",
      "\n",
      "私の名前がわかりますか？\n",
      "==================================\u001b[1m Ai Message \u001b[0m==================================\n",
      "\n",
      "はい、森さん。あなたの名前を覚えています。\n",
      "\n",
      "先ほどのあなたの自己紹介で、「私の名前は森です」とおっしゃっていましたので、あなたのお名前が「森」さんであることを理解しています。\n",
      "\n",
      "お名前を覚えていることをお示しできて嬉しいです。森さん、他に何かお聞きになりたいことや、お手伝いできることはありますか？\n"
     ]
    }
   ],
   "source": [
    "events = graph.stream(\n",
    "    {\"messages\": [(\"user\", \"私の名前がわかりますか？\")]},\n",
    "    config,\n",
    "    stream_mode=\"values\"\n",
    ")\n",
    "\n",
    "for event in events:\n",
    "    event[\"messages\"][-1].pretty_print()"
   ]
  },
  {
   "cell_type": "code",
   "execution_count": 84,
   "metadata": {},
   "outputs": [
    {
     "name": "stdout",
     "output_type": "stream",
     "text": [
      "================================\u001b[1m Human Message \u001b[0m=================================\n",
      "\n",
      "私の名前がわかりますか？\n",
      "==================================\u001b[1m Ai Message \u001b[0m==================================\n",
      "\n",
      "申し訳ありませんが、私にはあなたの名前を知る方法がありません。私は人工知能のアシスタントで、個人情報を保持したり、過去の会話を記憶したりする機能はありません。各会話は独立しており、新しく始まるたびにリセットされます。\n",
      "\n",
      "お名前をお聞きしてもよろしいでしょうか？そうすれば、この会話の中でお名前をお呼びすることができます。\n"
     ]
    }
   ],
   "source": [
    "config = {\"configurable\": {\"thread_id\": \"3\"}}\n",
    "\n",
    "events = graph.stream(\n",
    "    {\"messages\": [(\"user\", \"私の名前がわかりますか？\")]},\n",
    "    config,\n",
    "    stream_mode=\"values\"\n",
    ")\n",
    "\n",
    "for event in events:\n",
    "    event[\"messages\"][-1].pretty_print()"
   ]
  },
  {
   "cell_type": "code",
   "execution_count": 87,
   "metadata": {},
   "outputs": [
    {
     "name": "stdout",
     "output_type": "stream",
     "text": [
      "StateSnapshot(values={'messages': [HumanMessage(content='こんにちは。私の名前は森です。', additional_kwargs={}, response_metadata={}, id='0ce220d2-b474-4726-bd98-e62fbd5e622f'), AIMessage(content='こんにちは、森さん。はじめまして。私はAIアシスタントです。何かお手伝いできることはありますか？日本語でのコミュニケーションも問題ありませんので、お気軽にお話しください。', additional_kwargs={}, response_metadata={'id': 'msg_014QqUH1zAzSLAPJAFamTGFL', 'model': 'claude-3-5-sonnet-20240620', 'stop_reason': 'end_turn', 'stop_sequence': None, 'usage': {'input_tokens': 411, 'output_tokens': 75}}, id='run-c3da6b69-3584-4001-9125-94c17f4e9dd5-0', usage_metadata={'input_tokens': 411, 'output_tokens': 75, 'total_tokens': 486, 'input_token_details': {}}), HumanMessage(content='私の名前がわかりますか？', additional_kwargs={}, response_metadata={}, id='9bcad099-3f44-45cf-8559-c69351a3caa8'), AIMessage(content='はい、森さん。あなたの名前を覚えています。\\n\\n先ほどのあなたの自己紹介で、「私の名前は森です」とおっしゃっていましたので、あなたのお名前が「森」さんであることを理解しています。\\n\\nお名前を覚えていることをお示しできて嬉しいです。森さん、他に何かお聞きになりたいことや、お手伝いできることはありますか？', additional_kwargs={}, response_metadata={'id': 'msg_018EvaVm2dByfCa6295tcwtV', 'model': 'claude-3-5-sonnet-20240620', 'stop_reason': 'end_turn', 'stop_sequence': None, 'usage': {'input_tokens': 501, 'output_tokens': 135}}, id='run-c398cc5d-bffa-4907-95df-60e1bd70cc99-0', usage_metadata={'input_tokens': 501, 'output_tokens': 135, 'total_tokens': 636, 'input_token_details': {}})]}, next=(), config={'configurable': {'thread_id': '2', 'checkpoint_ns': '', 'checkpoint_id': '1efa0ab4-c16f-66a3-8004-689d7ec4fbd8'}}, metadata={'source': 'loop', 'writes': {'chatbot': {'messages': [AIMessage(content='はい、森さん。あなたの名前を覚えています。\\n\\n先ほどのあなたの自己紹介で、「私の名前は森です」とおっしゃっていましたので、あなたのお名前が「森」さんであることを理解しています。\\n\\nお名前を覚えていることをお示しできて嬉しいです。森さん、他に何かお聞きになりたいことや、お手伝いできることはありますか？', additional_kwargs={}, response_metadata={'id': 'msg_018EvaVm2dByfCa6295tcwtV', 'model': 'claude-3-5-sonnet-20240620', 'stop_reason': 'end_turn', 'stop_sequence': None, 'usage': {'input_tokens': 501, 'output_tokens': 135}}, id='run-c398cc5d-bffa-4907-95df-60e1bd70cc99-0', usage_metadata={'input_tokens': 501, 'output_tokens': 135, 'total_tokens': 636, 'input_token_details': {}})]}}, 'step': 4, 'parents': {}}, created_at='2024-11-12T04:05:04.819972+00:00', parent_config={'configurable': {'thread_id': '2', 'checkpoint_ns': '', 'checkpoint_id': '1efa0ab4-9b39-68bd-8003-b200c493346e'}}, tasks=())\n"
     ]
    }
   ],
   "source": [
    "config = {\"configurable\": {\"thread_id\": \"2\"}}\n",
    "snapshot = graph.get_state(config)\n",
    "print(snapshot)"
   ]
  },
  {
   "cell_type": "code",
   "execution_count": 89,
   "metadata": {},
   "outputs": [
    {
     "data": {
      "text/plain": [
       "()"
      ]
     },
     "execution_count": 89,
     "metadata": {},
     "output_type": "execute_result"
    }
   ],
   "source": [
    "snapshot.next"
   ]
  },
  {
   "cell_type": "markdown",
   "metadata": {},
   "source": [
    "## Human-in-the-loop"
   ]
  },
  {
   "cell_type": "code",
   "execution_count": 102,
   "metadata": {},
   "outputs": [
    {
     "data": {
      "text/plain": [
       "<langgraph.graph.state.StateGraph at 0x7fc94c5d1a50>"
      ]
     },
     "execution_count": 102,
     "metadata": {},
     "output_type": "execute_result"
    }
   ],
   "source": [
    "from typing import Annotated\n",
    "\n",
    "from langchain_anthropic import ChatAnthropic\n",
    "from langchain_community.tools.tavily_search import TavilySearchResults\n",
    "from typing_extensions import TypedDict\n",
    "\n",
    "from langgraph.checkpoint.memory import MemorySaver\n",
    "from langgraph.graph import StateGraph, START\n",
    "from langgraph.graph.message import add_messages\n",
    "from langgraph.prebuilt import ToolNode, tools_condition\n",
    "\n",
    "memory = MemorySaver()\n",
    "\n",
    "\n",
    "class State(TypedDict):\n",
    "    messages: Annotated[list, add_messages]\n",
    "\n",
    "\n",
    "graph_builder = StateGraph(State)\n",
    "\n",
    "\n",
    "tool = TavilySearchResults(max_results=2)\n",
    "tools = [tool]\n",
    "llm = ChatAnthropic(model=\"claude-3-5-sonnet-20240620\")\n",
    "llm_with_tools = llm.bind_tools(tools)\n",
    "\n",
    "\n",
    "def chatbot(state: State):\n",
    "    return {\"messages\": [llm_with_tools.invoke(state[\"messages\"])]}\n",
    "\n",
    "\n",
    "graph_builder.add_node(\"chatbot\", chatbot)\n",
    "\n",
    "tool_node = ToolNode(tools=[tool])\n",
    "graph_builder.add_node(\"tools\", tool_node)\n",
    "\n",
    "graph_builder.add_conditional_edges(\n",
    "    \"chatbot\",\n",
    "    tools_condition,\n",
    ")\n",
    "graph_builder.add_edge(\"tools\", \"chatbot\")\n",
    "graph_builder.add_edge(START, \"chatbot\")"
   ]
  },
  {
   "cell_type": "code",
   "execution_count": 103,
   "metadata": {},
   "outputs": [],
   "source": [
    "graph = graph_builder.compile(\n",
    "    checkpointer=memory,\n",
    "    interrupt_before=[\"tools\"]\n",
    ")"
   ]
  },
  {
   "cell_type": "code",
   "execution_count": 104,
   "metadata": {},
   "outputs": [
    {
     "name": "stdout",
     "output_type": "stream",
     "text": [
      "================================\u001b[1m Human Message \u001b[0m=================================\n",
      "\n",
      "私はAIエージェントの開発方法を勉強しています。私のためにAIエージェント開発の最新トレンドについて調査をお願いできますか？\n",
      "==================================\u001b[1m Ai Message \u001b[0m==================================\n",
      "\n",
      "[{'text': 'はい、もちろんAIエージェント開発の最新トレンドについて調査いたします。AIエージェント開発は急速に進化している分野ですので、最新の情報を得るために検索エンジンを使用して調査を行います。', 'type': 'text'}, {'id': 'toolu_015WbzraHVRNz86ywcTfGc1p', 'input': {'query': 'AIエージェント開発 最新トレンド 2023'}, 'name': 'tavily_search_results_json', 'type': 'tool_use'}]\n",
      "Tool Calls:\n",
      "  tavily_search_results_json (toolu_015WbzraHVRNz86ywcTfGc1p)\n",
      " Call ID: toolu_015WbzraHVRNz86ywcTfGc1p\n",
      "  Args:\n",
      "    query: AIエージェント開発 最新トレンド 2023\n"
     ]
    }
   ],
   "source": [
    "user_input = \"私はAIエージェントの開発方法を勉強しています。私のためにAIエージェント開発の最新トレンドについて調査をお願いできますか？\"\n",
    "config = {\"configurable\": {\"thread_id\": \"1\"}}\n",
    "\n",
    "events = graph.stream(\n",
    "    {\"messages\": [(\"user\", user_input)]},\n",
    "    config,\n",
    "    stream_mode=\"values\"\n",
    ")\n",
    "\n",
    "for event in events:\n",
    "    event[\"messages\"][-1].pretty_print()"
   ]
  },
  {
   "cell_type": "code",
   "execution_count": 105,
   "metadata": {},
   "outputs": [
    {
     "data": {
      "text/plain": [
       "('tools',)"
      ]
     },
     "execution_count": 105,
     "metadata": {},
     "output_type": "execute_result"
    }
   ],
   "source": [
    "snapshot = graph.get_state(config)\n",
    "snapshot.next"
   ]
  },
  {
   "cell_type": "code",
   "execution_count": 106,
   "metadata": {},
   "outputs": [
    {
     "data": {
      "text/plain": [
       "[{'name': 'tavily_search_results_json',\n",
       "  'args': {'query': 'AIエージェント開発 最新トレンド 2023'},\n",
       "  'id': 'toolu_015WbzraHVRNz86ywcTfGc1p',\n",
       "  'type': 'tool_call'}]"
      ]
     },
     "execution_count": 106,
     "metadata": {},
     "output_type": "execute_result"
    }
   ],
   "source": [
    "existing_message = snapshot.values[\"messages\"][-1]\n",
    "existing_message.tool_calls"
   ]
  },
  {
   "cell_type": "code",
   "execution_count": 107,
   "metadata": {},
   "outputs": [
    {
     "name": "stdout",
     "output_type": "stream",
     "text": [
      "==================================\u001b[1m Ai Message \u001b[0m==================================\n",
      "\n",
      "[{'text': 'はい、もちろんAIエージェント開発の最新トレンドについて調査いたします。AIエージェント開発は急速に進化している分野ですので、最新の情報を得るために検索エンジンを使用して調査を行います。', 'type': 'text'}, {'id': 'toolu_015WbzraHVRNz86ywcTfGc1p', 'input': {'query': 'AIエージェント開発 最新トレンド 2023'}, 'name': 'tavily_search_results_json', 'type': 'tool_use'}]\n",
      "Tool Calls:\n",
      "  tavily_search_results_json (toolu_015WbzraHVRNz86ywcTfGc1p)\n",
      " Call ID: toolu_015WbzraHVRNz86ywcTfGc1p\n",
      "  Args:\n",
      "    query: AIエージェント開発 最新トレンド 2023\n",
      "=================================\u001b[1m Tool Message \u001b[0m=================================\n",
      "Name: tavily_search_results_json\n",
      "\n",
      "[{\"url\": \"https://www.gartner.co.jp/ja/articles/what-s-new-in-artificial-intelligence-from-the-2023-gartner-hype-cycle\", \"content\": \"Sep 23, 2023 · 人工知能 (AI) のハイプ・サイクル：2023年」では、人工知能(AI)について、ビジネスに役立つ革新的なテクノロジをどのように特定しているのかをご紹介\"}, {\"url\": \"https://www.nikkei.com/article/DGXZQOUC065PP0W4A101C2000000/\", \"content\": \"13 hours ago · 生成AI技術の進化を追い風に、対話を実現する基盤技術であるAIエージェントの開発が進む。2024年5月に米グーグルと米オープンAIが映像や音声を即座に理解\"}]\n",
      "==================================\u001b[1m Ai Message \u001b[0m==================================\n",
      "\n",
      "AIエージェント開発の最新トレンドについて調査した結果、以下のような興味深い情報が得られました：\n",
      "\n",
      "1. 生成AI技術の急速な進化：\n",
      "   生成AI技術の進歩が、AIエージェント開発の大きな推進力となっています。特に、対話を実現する基盤技術としてのAIエージェントの開発が進んでいます。\n",
      "\n",
      "2. マルチモーダルAIの台頭：\n",
      "   2024年5月には、GoogleとOpenAIが映像や音声を即座に理解できるAIシステムを発表する予定です。これは、テキストだけでなく、様々な形式の入力を理解し処理できるAIエージェントの開発が進んでいることを示しています。\n",
      "\n",
      "3. ビジネスへの応用：\n",
      "   GartnerのAIハイプサイクル2023年版によると、AIテクノロジーのビジネス応用が注目されています。企業がAIエージェントを活用して革新的なソリューションを開発する傾向が強まっています。\n",
      "\n",
      "4. 対話型AIの進化：\n",
      "   自然言語処理と対話システムの進歩により、より自然で効果的なユーザーとAIエージェントのインタラクションが可能になっています。\n",
      "\n",
      "5. エッジAIとクラウドAIの融合：\n",
      "   AIエージェントがエッジデバイス（スマートフォンやIoTデバイスなど）で動作しつつ、必要に応じてクラウドの高性能計算リソースを利用するハイブリッドアプローチが注目されています。\n",
      "\n",
      "6. 倫理的AIと透明性：\n",
      "   AIエージェントの開発において、倫理的な配慮と意思決定プロセスの透明性が重要視されています。説明可能なAI（XAI）の研究も進んでいます。\n",
      "\n",
      "7. 特化型AIエージェント：\n",
      "   特定の産業や業務に特化したAIエージェントの開発が進んでおり、医療、金融、カスタマーサービスなどの分野で専門的なAIアシスタントの需要が高まっています。\n",
      "\n",
      "これらのトレンドは、AIエージェント開発の分野が急速に進化し、より高度で多様な応用が可能になっていることを示しています。AIエージェントの開発を学ぶ上で、これらの最新動向を理解し、実践的なスキルを身につけることが重要です。特に、生成AIやマルチモーダルAIの技術、そしてビジネス応用の観点から、AIエージェントの可能性を探求することをお勧めします。\n"
     ]
    }
   ],
   "source": [
    "events = graph.stream(None, config, stream_mode=\"values\")\n",
    "for event in events:\n",
    "    if \"messages\" in event:\n",
    "        event[\"messages\"][-1].pretty_print()"
   ]
  },
  {
   "cell_type": "code",
   "execution_count": 110,
   "metadata": {},
   "outputs": [],
   "source": [
    "from typing import Annotated\n",
    "\n",
    "from langchain_anthropic import ChatAnthropic\n",
    "from langchain_community.tools.tavily_search import TavilySearchResults\n",
    "from typing_extensions import TypedDict\n",
    "\n",
    "from langgraph.checkpoint.memory import MemorySaver\n",
    "from langgraph.graph import StateGraph, START\n",
    "from langgraph.graph.message import add_messages\n",
    "from langgraph.prebuilt import ToolNode, tools_condition\n",
    "\n",
    "\n",
    "class State(TypedDict):\n",
    "    messages: Annotated[list, add_messages]\n",
    "\n",
    "\n",
    "graph_builder = StateGraph(State)\n",
    "\n",
    "\n",
    "tool = TavilySearchResults(max_results=2)\n",
    "tools = [tool]\n",
    "llm = ChatAnthropic(model=\"claude-3-5-sonnet-20240620\")\n",
    "llm_with_tools = llm.bind_tools(tools)\n",
    "\n",
    "\n",
    "def chatbot(state: State):\n",
    "    return {\"messages\": [llm_with_tools.invoke(state[\"messages\"])]}\n",
    "\n",
    "\n",
    "graph_builder.add_node(\"chatbot\", chatbot)\n",
    "\n",
    "tool_node = ToolNode(tools=[tool])\n",
    "graph_builder.add_node(\"tools\", tool_node)\n",
    "\n",
    "graph_builder.add_conditional_edges(\n",
    "    \"chatbot\",\n",
    "    tools_condition,\n",
    ")\n",
    "graph_builder.add_edge(\"tools\", \"chatbot\")\n",
    "graph_builder.add_edge(START, \"chatbot\")\n",
    "memory = MemorySaver()\n",
    "graph = graph_builder.compile(\n",
    "    checkpointer=memory,\n",
    "    interrupt_before=[\"tools\"],\n",
    ")\n",
    "\n",
    "user_input = \"LangGraphについて学習中です。これについて調べていただけますか\"\n",
    "config = {\"configurable\": {\"thread_id\": \"1\"}}\n",
    "\n",
    "events = graph.stream({\"messages\": [(\"user\", user_input)]}, config)\n",
    "for event in events:\n",
    "    if \"messages\" in event:\n",
    "        event[\"messages\"][-1].pretty_print()"
   ]
  },
  {
   "cell_type": "code",
   "execution_count": 111,
   "metadata": {},
   "outputs": [
    {
     "name": "stdout",
     "output_type": "stream",
     "text": [
      "==================================\u001b[1m Ai Message \u001b[0m==================================\n",
      "\n",
      "[{'text': 'もちろん、LangGraphについて調査いたします。最新の情報を得るために、Tavily検索エンジンを使用して調べてみましょう。', 'type': 'text'}, {'id': 'toolu_017G7X6jmTf575PppsDDXfve', 'input': {'query': 'LangGraph 説明 機能 使い方'}, 'name': 'tavily_search_results_json', 'type': 'tool_use'}]\n",
      "Tool Calls:\n",
      "  tavily_search_results_json (toolu_017G7X6jmTf575PppsDDXfve)\n",
      " Call ID: toolu_017G7X6jmTf575PppsDDXfve\n",
      "  Args:\n",
      "    query: LangGraph 説明 機能 使い方\n"
     ]
    }
   ],
   "source": [
    "snapshot = graph.get_state(config)\n",
    "existing_message = snapshot.values[\"messages\"][-1]\n",
    "existing_message.pretty_print()"
   ]
  },
  {
   "cell_type": "code",
   "execution_count": 112,
   "metadata": {},
   "outputs": [
    {
     "name": "stdout",
     "output_type": "stream",
     "text": [
      "==================================\u001b[1m Ai Message \u001b[0m==================================\n",
      "\n",
      "LangGraphは、LLM（大規模言語モデル）を使用して、状態を保持できる（stateful）マルチアクターアプリケーションを構築するためのライブラリです。\n"
     ]
    }
   ],
   "source": [
    "from langchain_core.messages import AIMessage, ToolMessage\n",
    "\n",
    "answer = (\n",
    "    \"LangGraphは、LLM（大規模言語モデル）を使用して、状態を保持できる（stateful）マルチアクターアプリケーションを構築するためのライブラリです。\"\n",
    ")\n",
    "\n",
    "new_messages = [\n",
    "    ToolMessage(content=answer, tool_call_id=existing_message.tool_calls[0][\"id\"]),\n",
    "    AIMessage(content=answer)\n",
    "]\n",
    "\n",
    "new_messages[-1].pretty_print()"
   ]
  },
  {
   "cell_type": "code",
   "execution_count": 113,
   "metadata": {},
   "outputs": [
    {
     "data": {
      "text/plain": [
       "{'configurable': {'thread_id': '1',\n",
       "  'checkpoint_ns': '',\n",
       "  'checkpoint_id': '1efa0ae0-94e5-6132-8002-181d2afbc553'}}"
      ]
     },
     "execution_count": 113,
     "metadata": {},
     "output_type": "execute_result"
    }
   ],
   "source": [
    "graph.update_state(\n",
    "    config,\n",
    "    {\"messages\": new_messages}\n",
    ")"
   ]
  },
  {
   "cell_type": "code",
   "execution_count": 114,
   "metadata": {},
   "outputs": [
    {
     "data": {
      "text/plain": [
       "()"
      ]
     },
     "execution_count": 114,
     "metadata": {},
     "output_type": "execute_result"
    }
   ],
   "source": [
    "graph.get_state(config).next"
   ]
  },
  {
   "cell_type": "code",
   "execution_count": 115,
   "metadata": {},
   "outputs": [
    {
     "data": {
      "text/plain": [
       "[HumanMessage(content='LangGraphについて学習中です。これについて調べていただけますか', additional_kwargs={}, response_metadata={}, id='15dd2b64-cd75-4ed9-baf0-5fd543c24583'),\n",
       " AIMessage(content=[{'text': 'もちろん、LangGraphについて調査いたします。最新の情報を得るために、Tavily検索エンジンを使用して調べてみましょう。', 'type': 'text'}, {'id': 'toolu_017G7X6jmTf575PppsDDXfve', 'input': {'query': 'LangGraph 説明 機能 使い方'}, 'name': 'tavily_search_results_json', 'type': 'tool_use'}], additional_kwargs={}, response_metadata={'id': 'msg_01Axcttp3dq8wTGWoJvr9vyv', 'model': 'claude-3-5-sonnet-20240620', 'stop_reason': 'tool_use', 'stop_sequence': None, 'usage': {'input_tokens': 417, 'output_tokens': 118}}, id='run-dbfd737e-436c-405d-bf35-6fc95d7ece58-0', tool_calls=[{'name': 'tavily_search_results_json', 'args': {'query': 'LangGraph 説明 機能 使い方'}, 'id': 'toolu_017G7X6jmTf575PppsDDXfve', 'type': 'tool_call'}], usage_metadata={'input_tokens': 417, 'output_tokens': 118, 'total_tokens': 535, 'input_token_details': {}}),\n",
       " ToolMessage(content='LangGraphは、LLM（大規模言語モデル）を使用して、状態を保持できる（stateful）マルチアクターアプリケーションを構築するためのライブラリです。', id='8cfd4390-01f5-43b6-8aca-f8dff43f6ed7', tool_call_id='toolu_017G7X6jmTf575PppsDDXfve'),\n",
       " AIMessage(content='LangGraphは、LLM（大規模言語モデル）を使用して、状態を保持できる（stateful）マルチアクターアプリケーションを構築するためのライブラリです。', additional_kwargs={}, response_metadata={}, id='3c854d07-1e60-40bc-8b42-ee8577186fe5')]"
      ]
     },
     "execution_count": 115,
     "metadata": {},
     "output_type": "execute_result"
    }
   ],
   "source": [
    "graph.get_state(config).values[\"messages\"]"
   ]
  },
  {
   "cell_type": "markdown",
   "metadata": {},
   "source": [
    "## Customizing State"
   ]
  },
  {
   "cell_type": "code",
   "execution_count": 117,
   "metadata": {},
   "outputs": [],
   "source": [
    "from typing import Annotated\n",
    "\n",
    "from langchain_anthropic import ChatAnthropic\n",
    "from langchain_community.tools.tavily_search import TavilySearchResults\n",
    "from typing_extensions import TypedDict\n",
    "\n",
    "from langgraph.checkpoint.memory import MemorySaver\n",
    "from langgraph.graph import StateGraph, START\n",
    "from langgraph.graph.message import add_messages\n",
    "from langgraph.prebuilt import ToolNode, tools_condition\n",
    "\n",
    "\n",
    "class State(TypedDict):\n",
    "    messages: Annotated[list, add_messages]\n",
    "    ask_human: bool"
   ]
  },
  {
   "cell_type": "code",
   "execution_count": null,
   "metadata": {},
   "outputs": [],
   "source": [
    "from pydantic import BaseModel\n",
    "\n",
    "# ユーザにリクエストするためのツール\n",
    "class RequestAssistance(BaseModel):\n",
    "    \"\"\"会話をエキスパートにエスカレーションしてください。\n",
    "    これは、あなたが直接支援できない場合や、ユーザーがあなたの権限を超えるサポートを必要とする場合に使用します。\n",
    "    この機能を使用する際は、エキスパートが適切なガイダンスを提供できるよう、ユーザーの「要望」を正確に伝えてください。\"\"\"\n",
    "    request: str"
   ]
  },
  {
   "cell_type": "code",
   "execution_count": 120,
   "metadata": {},
   "outputs": [],
   "source": [
    "tool = TavilySearchResults(max_results=2)\n",
    "tools = [tool]\n",
    "llm = ChatAnthropic(model=\"claude-3-5-sonnet-20240620\")\n",
    "llm_with_tools = llm.bind_tools(tools + [RequestAssistance])"
   ]
  },
  {
   "cell_type": "code",
   "execution_count": 122,
   "metadata": {},
   "outputs": [
    {
     "name": "stdout",
     "output_type": "stream",
     "text": [
      "bound=ChatAnthropic(model='claude-3-5-sonnet-20240620', anthropic_api_url='https://api.anthropic.com', anthropic_api_key=SecretStr('**********'), model_kwargs={}) kwargs={'tools': [{'name': 'tavily_search_results_json', 'description': 'A search engine optimized for comprehensive, accurate, and trusted results. Useful for when you need to answer questions about current events. Input should be a search query.', 'input_schema': {'properties': {'query': {'description': 'search query to look up', 'type': 'string'}}, 'required': ['query'], 'type': 'object'}}, {'name': 'RequestAssistance', 'description': '会話をエキスパートにエスカレーションしてください。\\nこれは、あなたが直接支援できない場合や、ユーザーがあなたの権限を超えるサポートを必要とする場合に使用します。\\nこの機能を使用する際は、エキスパートが適切なガイダンスを提供できるよう、ユーザーの「要望」を正確に伝えてください。', 'input_schema': {'properties': {'request': {'type': 'string'}}, 'required': ['request'], 'type': 'object'}}]} config={} config_factories=[]\n"
     ]
    }
   ],
   "source": [
    "print(llm_with_tools)"
   ]
  },
  {
   "cell_type": "code",
   "execution_count": 123,
   "metadata": {},
   "outputs": [],
   "source": [
    "def chatbot(state: State):\n",
    "    response = llm_with_tools.invoke(state[\"messages\"])\n",
    "    ask_human = False\n",
    "    if response.tool_calls and response.tool_calls[0][\"name\"] == RequestAssistance.__name__:\n",
    "        ask_human = True\n",
    "    return {\"messages\": [response], \"ask_human\": ask_human}"
   ]
  },
  {
   "cell_type": "code",
   "execution_count": 124,
   "metadata": {},
   "outputs": [
    {
     "data": {
      "text/plain": [
       "<langgraph.graph.state.StateGraph at 0x7fc94c496090>"
      ]
     },
     "execution_count": 124,
     "metadata": {},
     "output_type": "execute_result"
    }
   ],
   "source": [
    "graph_builder = StateGraph(State)\n",
    "\n",
    "graph_builder.add_node(\"chatbot\", chatbot)\n",
    "graph_builder.add_node(\"tools\", ToolNode(tools=[tool]))"
   ]
  },
  {
   "cell_type": "code",
   "execution_count": 125,
   "metadata": {},
   "outputs": [
    {
     "data": {
      "text/plain": [
       "<langgraph.graph.state.StateGraph at 0x7fc94c496090>"
      ]
     },
     "execution_count": 125,
     "metadata": {},
     "output_type": "execute_result"
    }
   ],
   "source": [
    "from langchain_core.messages import AIMessage, ToolMessage\n",
    "\n",
    "def create_response(response: str, ai_message: AIMessage):\n",
    "    return ToolMessage(\n",
    "        content=response,\n",
    "        tool_call_id=ai_message.tool_calls[0][\"id\"]\n",
    "    )\n",
    "\n",
    "def human_node(state: State):\n",
    "    new_messages = []\n",
    "    if not isinstance(state[\"messages\"][-1], ToolMessage):\n",
    "        new_messages.append(\n",
    "            create_response(\"人間からの返信はありません。\", state[\"messages\"][-1])\n",
    "        )\n",
    "    return {\n",
    "        \"messages\": new_messages,\n",
    "        \"ask_human\": False\n",
    "    }\n",
    "\n",
    "graph_builder.add_node(\"human\", human_node)"
   ]
  },
  {
   "cell_type": "code",
   "execution_count": 126,
   "metadata": {},
   "outputs": [],
   "source": [
    "def select_next_node(state: State):\n",
    "    if state[\"ask_human\"]:\n",
    "        return \"human\"\n",
    "    return tools_condition(state)"
   ]
  },
  {
   "cell_type": "code",
   "execution_count": 127,
   "metadata": {},
   "outputs": [
    {
     "data": {
      "text/plain": [
       "<langgraph.graph.state.StateGraph at 0x7fc94c496090>"
      ]
     },
     "execution_count": 127,
     "metadata": {},
     "output_type": "execute_result"
    }
   ],
   "source": [
    "graph_builder.add_conditional_edges(\n",
    "    \"chatbot\",\n",
    "    select_next_node,\n",
    "    {\"human\": \"human\", \"tools\": \"tools\", END: END}\n",
    ")"
   ]
  },
  {
   "cell_type": "code",
   "execution_count": 128,
   "metadata": {},
   "outputs": [
    {
     "data": {
      "text/plain": [
       "<langgraph.graph.state.StateGraph at 0x7fc94c496090>"
      ]
     },
     "execution_count": 128,
     "metadata": {},
     "output_type": "execute_result"
    }
   ],
   "source": [
    "graph_builder.add_edge(START, \"chatbot\")\n",
    "graph_builder.add_edge(\"tools\", \"chatbot\")\n",
    "graph_builder.add_edge(\"human\", \"chatbot\")"
   ]
  },
  {
   "cell_type": "code",
   "execution_count": 129,
   "metadata": {},
   "outputs": [],
   "source": [
    "memory = MemorySaver()\n",
    "graph = graph_builder.compile(\n",
    "    checkpointer=memory,\n",
    "    interrupt_before=[\"human\"],\n",
    ")"
   ]
  },
  {
   "cell_type": "code",
   "execution_count": 130,
   "metadata": {},
   "outputs": [
    {
     "data": {
      "image/jpeg": "[encoded data removed]",
      "text/plain": [
       "<IPython.core.display.Image object>"
      ]
     },
     "metadata": {},
     "output_type": "display_data"
    }
   ],
   "source": [
    "display(Image(graph.get_graph().draw_mermaid_png()))"
   ]
  },
  {
   "cell_type": "code",
   "execution_count": 131,
   "metadata": {},
   "outputs": [
    {
     "name": "stdout",
     "output_type": "stream",
     "text": [
      "================================\u001b[1m Human Message \u001b[0m=================================\n",
      "\n",
      "このAIエージェントを作るために専門家のガイドが必要です。アドバイスを依頼できますか？\n",
      "==================================\u001b[1m Ai Message \u001b[0m==================================\n",
      "\n",
      "[{'text': 'はい、AIエージェントを作るための専門家のアドバイスを得るために、エスカレーションを行うことができます。専門家により適切なガイダンスを提供していただくため、エスカレーションリクエストを作成いたします。', 'type': 'text'}, {'id': 'toolu_01WJ5NKkNTfPXsuB9CRuXaot', 'input': {'request': 'AIエージェントの開発に関する専門家のアドバイスが必要です。特に以下の点について guidance を求めています：\\n1. AIエージェントの設計と構築における重要なステップ\\n2. 効果的な自然言語処理と理解のための最新の技術やアプローチ\\n3. AIエージェントの倫理的な配慮と責任ある開発についてのベストプラクティス\\n4. スケーラビリティとパフォーマンスの最適化のためのヒント\\n5. AIエージェントのテストと評価の効果的な方法\\n\\nユーザーはAIエージェント開発の初期段階にあり、包括的なアドバイスを求めています。専門家の方には、上記の点を中心に、AIエージェント開発における重要な洞察や推奨事項を提供していただけますと幸いです。'}, 'name': 'RequestAssistance', 'type': 'tool_use'}]\n",
      "Tool Calls:\n",
      "  RequestAssistance (toolu_01WJ5NKkNTfPXsuB9CRuXaot)\n",
      " Call ID: toolu_01WJ5NKkNTfPXsuB9CRuXaot\n",
      "  Args:\n",
      "    request: AIエージェントの開発に関する専門家のアドバイスが必要です。特に以下の点について guidance を求めています：\n",
      "1. AIエージェントの設計と構築における重要なステップ\n",
      "2. 効果的な自然言語処理と理解のための最新の技術やアプローチ\n",
      "3. AIエージェントの倫理的な配慮と責任ある開発についてのベストプラクティス\n",
      "4. スケーラビリティとパフォーマンスの最適化のためのヒント\n",
      "5. AIエージェントのテストと評価の効果的な方法\n",
      "\n",
      "ユーザーはAIエージェント開発の初期段階にあり、包括的なアドバイスを求めています。専門家の方には、上記の点を中心に、AIエージェント開発における重要な洞察や推奨事項を提供していただけますと幸いです。\n"
     ]
    }
   ],
   "source": [
    "user_input = \"このAIエージェントを作るために専門家のガイドが必要です。アドバイスを依頼できますか？\"\n",
    "config = {\"configurable\": {\"thread_id\": \"1\"}}\n",
    "\n",
    "events = graph.stream(\n",
    "    {\"messages\": [(\"user\", user_input)]},\n",
    "    config,\n",
    "    stream_mode=\"values\"\n",
    ")\n",
    "\n",
    "for event in events:\n",
    "    event[\"messages\"][-1].pretty_print()"
   ]
  },
  {
   "cell_type": "code",
   "execution_count": 132,
   "metadata": {},
   "outputs": [
    {
     "data": {
      "text/plain": [
       "('human',)"
      ]
     },
     "execution_count": 132,
     "metadata": {},
     "output_type": "execute_result"
    }
   ],
   "source": [
    "snapshot = graph.get_state(config)\n",
    "snapshot.next"
   ]
  },
  {
   "cell_type": "code",
   "execution_count": 133,
   "metadata": {},
   "outputs": [
    {
     "data": {
      "text/plain": [
       "{'configurable': {'thread_id': '1',\n",
       "  'checkpoint_ns': '',\n",
       "  'checkpoint_id': '1efa0b0c-4779-6f52-8002-112182f23cf3'}}"
      ]
     },
     "execution_count": 133,
     "metadata": {},
     "output_type": "execute_result"
    }
   ],
   "source": [
    "ai_message = snapshot.values[\"messages\"][-1]\n",
    "human_response = \"私たち専門家がお手伝いさせていただきます！ エージェントを構築するためにLangGraphをご検討されることをお勧めします。LangGraphは、単純な自律型エージェントと比べて、はるかに信頼性が高く拡張性に優れています。\"\n",
    "tool_message = create_response(human_response, ai_message)\n",
    "graph.update_state(config, {\"messages\": [tool_message]})"
   ]
  },
  {
   "cell_type": "code",
   "execution_count": 135,
   "metadata": {},
   "outputs": [
    {
     "data": {
      "text/plain": [
       "[HumanMessage(content='このAIエージェントを作るために専門家のガイドが必要です。アドバイスを依頼できますか？', additional_kwargs={}, response_metadata={}, id='13dbad09-9d86-4429-b735-848990a898f1'),\n",
       " AIMessage(content=[{'text': 'はい、AIエージェントを作るための専門家のアドバイスを得るために、エスカレーションを行うことができます。専門家により適切なガイダンスを提供していただくため、エスカレーションリクエストを作成いたします。', 'type': 'text'}, {'id': 'toolu_01WJ5NKkNTfPXsuB9CRuXaot', 'input': {'request': 'AIエージェントの開発に関する専門家のアドバイスが必要です。特に以下の点について guidance を求めています：\\n1. AIエージェントの設計と構築における重要なステップ\\n2. 効果的な自然言語処理と理解のための最新の技術やアプローチ\\n3. AIエージェントの倫理的な配慮と責任ある開発についてのベストプラクティス\\n4. スケーラビリティとパフォーマンスの最適化のためのヒント\\n5. AIエージェントのテストと評価の効果的な方法\\n\\nユーザーはAIエージェント開発の初期段階にあり、包括的なアドバイスを求めています。専門家の方には、上記の点を中心に、AIエージェント開発における重要な洞察や推奨事項を提供していただけますと幸いです。'}, 'name': 'RequestAssistance', 'type': 'tool_use'}], additional_kwargs={}, response_metadata={'id': 'msg_019LAQwQ5zrXygvPucJ2rwDX', 'model': 'claude-3-5-sonnet-20240620', 'stop_reason': 'tool_use', 'stop_sequence': None, 'usage': {'input_tokens': 1073, 'output_tokens': 389}}, id='run-d7e91e45-7ac6-4f6c-9404-851dd78f1346-0', tool_calls=[{'name': 'RequestAssistance', 'args': {'request': 'AIエージェントの開発に関する専門家のアドバイスが必要です。特に以下の点について guidance を求めています：\\n1. AIエージェントの設計と構築における重要なステップ\\n2. 効果的な自然言語処理と理解のための最新の技術やアプローチ\\n3. AIエージェントの倫理的な配慮と責任ある開発についてのベストプラクティス\\n4. スケーラビリティとパフォーマンスの最適化のためのヒント\\n5. AIエージェントのテストと評価の効果的な方法\\n\\nユーザーはAIエージェント開発の初期段階にあり、包括的なアドバイスを求めています。専門家の方には、上記の点を中心に、AIエージェント開発における重要な洞察や推奨事項を提供していただけますと幸いです。'}, 'id': 'toolu_01WJ5NKkNTfPXsuB9CRuXaot', 'type': 'tool_call'}], usage_metadata={'input_tokens': 1073, 'output_tokens': 389, 'total_tokens': 1462, 'input_token_details': {}}),\n",
       " ToolMessage(content='私たち専門家がお手伝いさせていただきます！ エージェントを構築するためにLangGraphをご検討されることをお勧めします。LangGraphは、単純な自律型エージェントと比べて、はるかに信頼性が高く拡張性に優れています。', id='e39cbb69-5995-4ef2-a5ef-b31f72dde814', tool_call_id='toolu_01WJ5NKkNTfPXsuB9CRuXaot')]"
      ]
     },
     "execution_count": 135,
     "metadata": {},
     "output_type": "execute_result"
    }
   ],
   "source": [
    "graph.get_state(config).values[\"messages\"]"
   ]
  },
  {
   "cell_type": "code",
   "execution_count": 136,
   "metadata": {},
   "outputs": [
    {
     "name": "stdout",
     "output_type": "stream",
     "text": [
      "=================================\u001b[1m Tool Message \u001b[0m=================================\n",
      "\n",
      "私たち専門家がお手伝いさせていただきます！ エージェントを構築するためにLangGraphをご検討されることをお勧めします。LangGraphは、単純な自律型エージェントと比べて、はるかに信頼性が高く拡張性に優れています。\n",
      "=================================\u001b[1m Tool Message \u001b[0m=================================\n",
      "\n",
      "私たち専門家がお手伝いさせていただきます！ エージェントを構築するためにLangGraphをご検討されることをお勧めします。LangGraphは、単純な自律型エージェントと比べて、はるかに信頼性が高く拡張性に優れています。\n",
      "==================================\u001b[1m Ai Message \u001b[0m==================================\n",
      "\n",
      "専門家の方からアドバイスをいただきました。AIエージェントの開発に関して、LangGraphの使用を推奨しているようです。では、この専門家の助言を元に、さらに詳しくAIエージェント開発についてお話しさせていただきます。\n",
      "\n",
      "1. AIエージェントの設計と構築：\n",
      "   - LangGraphを使用することで、より信頼性が高く拡張性に優れたAIエージェントを構築できます。\n",
      "   - 設計段階では、エージェントの目的と機能を明確に定義し、それに基づいてLangGraphの構造を計画します。\n",
      "   - 段階的な開発アプローチを採用し、基本機能から始めて徐々に複雑な機能を追加していくことをお勧めします。\n",
      "\n",
      "2. 効果的な自然言語処理と理解：\n",
      "   - LangGraphは最新の自然言語処理技術を活用しているため、高度な言語理解と生成が可能です。\n",
      "   - 特定のドメインや用途に合わせて、適切な言語モデルを選択し、ファインチューニングすることで、より精度の高い結果が得られます。\n",
      "\n",
      "3. 倫理的配慮と責任ある開発：\n",
      "   - AIの倫理ガイドラインを開発プロセスに組み込み、公平性、透明性、プライバシー保護を確保します。\n",
      "   - LangGraphを使用する際も、出力の偏りや不適切な内容を検出し、修正するメカニズムを実装することが重要です。\n",
      "\n",
      "4. スケーラビリティとパフォーマンスの最適化：\n",
      "   - LangGraphは拡張性に優れているため、ユーザー数や処理量が増加しても効率的に対応できます。\n",
      "   - パフォーマンスを最適化するために、キャッシング、並列処理、効率的なデータ構造の使用などの技術を適用します。\n",
      "\n",
      "5. テストと評価：\n",
      "   - 単体テスト、統合テスト、エンドツーエンドテストなど、包括的なテスト戦略を実装します。\n",
      "   - ユーザーフィードバックを積極的に収集し、継続的な改善プロセスを確立します。\n",
      "   - A/Bテストを実施して、異なるアプローチや設定の効果を比較評価します。\n",
      "\n",
      "LangGraphを使用することで、単純な自律型エージェントよりも高度で信頼性の高いAIエージェントを開発できます。ただし、具体的な実装方法や詳細については、LangGraphの公式ドキュメントを参照し、必要に応じて専門家のさらなるアドバイスを求めることをお勧めします。\n",
      "\n",
      "AIエージェント開発に関して、さらに具体的な質問や懸念がございましたら、お聞かせください。専門家のアドバイスを踏まえて、より詳細な情報やガイダンスを提供させていただきます。\n"
     ]
    }
   ],
   "source": [
    "events = graph.stream(None, config, stream_mode=\"values\")\n",
    "for event in events:\n",
    "    event[\"messages\"][-1].pretty_print()"
   ]
  }
 ],
 "metadata": {
  "kernelspec": {
   "display_name": "learning-langchain-BRoTc1ZH-py3.11",
   "language": "python",
   "name": "python3"
  },
  "language_info": {
   "codemirror_mode": {
    "name": "ipython",
    "version": 3
   },
   "file_extension": ".py",
   "mimetype": "text/x-python",
   "name": "python",
   "nbconvert_exporter": "python",
   "pygments_lexer": "ipython3",
   "version": "3.11.7"
  }
 },
 "nbformat": 4,
 "nbformat_minor": 2
}

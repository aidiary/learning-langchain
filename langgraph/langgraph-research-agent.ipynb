{
 "cells": [
  {
   "cell_type": "markdown",
   "metadata": {},
   "source": [
    "# LangGraph and Research Agents\n",
    "\n",
    "https://www.pinecone.io/learn/langgraph-research-agent/"
   ]
  },
  {
   "cell_type": "code",
   "execution_count": 21,
   "metadata": {},
   "outputs": [],
   "source": [
    "from typing import TypedDict, Annotated\n",
    "from langchain_core.agents import AgentAction\n",
    "from langchain_core.messages import BaseMessage\n",
    "import operator\n",
    "\n",
    "\n",
    "class AgentState(TypedDict):\n",
    "   input: str\n",
    "   chat_history: list[BaseMessage]\n",
    "   intermediate_steps: Annotated[list[tuple[AgentAction, str]], operator.add]"
   ]
  },
  {
   "cell_type": "markdown",
   "metadata": {},
   "source": [
    "## ArXiv論文取得ツール"
   ]
  },
  {
   "cell_type": "code",
   "execution_count": 22,
   "metadata": {},
   "outputs": [
    {
     "name": "stdout",
     "output_type": "stream",
     "text": [
      "<?xml version=\"1.0\" encoding=\"UTF-8\"?>\n",
      "<!DOCTYPE html PUBLIC \"-//W3C//DTD XHTML 1.0 Transitional//EN\" \"http://www.w3.org/TR/xhtml1/DTD/xhtml1-transitional.dtd\">\n",
      "<html xmlns=\"http://www.w3.org/1999/xhtml\" lang=\"en\">\n",
      "<head>\n",
      "<title>[2401.04088] Mixtral of Experts</title>\n",
      "<link rel=\"shortcut icon\" href=\"/favicon.ico\" type=\"image/x-icon\" />\n",
      "<link rel=\"stylesheet\" type=\"text/css\" media=\"screen\" href=\"/css/arXiv-export.css\" />\n",
      "<link rel=\"stylesheet\" type=\"text/css\" media=\"screen\" href=\"/bibex/bibex.css?20181009\">\n",
      "<link rel=\"stylesheet\" type=\"text/css\" media=\"screen\" href=\"https://static.arxiv.org/static/browse/0.3.8/css/browse_search.css\" />\n",
      "<meta name=\"citation_title\" content=\"Mixtral of Experts\" />\n",
      "<meta name=\"citation_author\" content=\"Jiang, Albert Q.\" />\n",
      "<meta name=\"citation_author\" content=\"Sablayrolles, Alexandre\" />\n",
      "<meta name=\"citation_author\" content=\"Roux, Antoine\" />\n",
      "<meta name=\"citation_author\" content=\"Mensch, Arthur\" />\n",
      "<meta name=\"citation_author\" content=\"Savary, Blanche\" />\n",
      "<meta name=\"citation_author\" content=\"Bamford, Chris\" />\n",
      "<meta name=\"citation_author\" content=\"Chaplot, Devendra Singh\" />\n",
      "<meta name=\"citation_author\" content=\"Casas, Diego de las\" />\n",
      "<meta name=\"citation_author\" content=\"Hanna, Emma Bou\" />\n",
      "<meta name=\"citation_author\" content=\"Bressand, Florian\" />\n",
      "<meta name=\"citation_author\" content=\"Lengyel, Gianna\" />\n",
      "<meta name=\"citation_author\" content=\"Bour, Guillaume\" />\n",
      "<meta name=\"citation_author\" content=\"Lample, Guillaume\" />\n",
      "<meta name=\"citation_author\" content=\"Lavaud, L&#xe9;lio Renard\" />\n",
      "<meta name=\"citation_author\" content=\"Saulnier, Lucile\" />\n",
      "<meta name=\"citation_author\" content=\"Lachaux, Marie-Anne\" />\n",
      "<meta name=\"citation_author\" content=\"Stock, Pierre\" />\n",
      "<meta name=\"citation_author\" content=\"Subramanian, Sandeep\" />\n",
      "<meta name=\"citation_author\" content=\"Yang, Sophia\" />\n",
      "<meta name=\"citation_author\" content=\"Antoniak, Szymon\" />\n",
      "<meta name=\"citation_author\" content=\"Scao, Teven Le\" />\n",
      "<meta name=\"citation_author\" content=\"Gervet, Th&#xe9;ophile\" />\n",
      "<meta name=\"citation_author\" content=\"Lavril, Thibaut\" />\n",
      "<meta name=\"citation_author\" content=\"Wang, Thomas\" />\n",
      "<meta name=\"citation_author\" content=\"Lacroix, Timoth&#xe9;e\" />\n",
      "<meta name=\"citation_author\" content=\"Sayed, William El\" />\n",
      "<meta name=\"citation_date\" content=\"2024/01/08\" />\n",
      "<meta name=\"citation_online_date\" content=\"2024/01/08\" />\n",
      "<meta name=\"citation_pdf_url\" content=\"http://arxiv.org/pdf/2401.04088\" />\n",
      "<meta name=\"citation_arxiv_id\" content=\"2401.04088\" />\n",
      "<script src=\"/js/mathjaxToggle.min.js\" type=\"text/javascript\"></script>\n",
      "\n",
      "\n",
      "</head>\n",
      "<body class=\"with-cu-identity\">\n",
      "\n",
      "<div id=\"cu-identity\">\n",
      "<div id=\"cu-logo\">\n",
      "<a href=\"https://www.cornell.edu/\"><img src=\"//static.arxiv.org/icons/cu/cornell-reduced-white-SMALL.svg\" alt=\"Cornell University\" width=\"200\" border=\"0\" /></a>\n",
      "</div>\n",
      "<div id=\"support-ack\">\n",
      "<a href=\"https://confluence.cornell.edu/x/ALlRF\">We gratefully acknowledge support from<br /> the Simons Foundation and member institutions.</a>\n",
      "</div>\n",
      "</div>\n",
      "<div id=\"header\">\n",
      "<h1 class=\"header-breadcrumbs\"><a href=\"/\"><img src=\"//static.arxiv.org/images/arxiv-logo-one-color-white.svg\" aria-label=\"logo\" alt=\"arxiv logo\" width=\"85\" style=\"width:85px;margin-right:8px;\"></a> <span>&gt;</span> <a href=\"/list/cs/recent\">cs</a> <span>&gt;</span> arXiv:2401.04088</h1>\n",
      "<div id=\"search\">\n",
      "<form id=\"search-arxiv\" method=\"post\" action=\"/search_classic\">\n",
      "\n",
      "<div class=\"wrapper-search-arxiv\">\n",
      "<input class=\"keyword-field\" type=\"text\" name=\"query\" placeholder=\"Search or Article ID\"/>\n",
      "\n",
      "<div class=\"filter-field\">\n",
      " <select name=\"searchtype\">\n",
      "<option value=\"all\" selected=\"selected\">All papers</option>\n",
      "<option value=\"ti\">Titles</option>\n",
      "<option value=\"au\">Authors</option>\n",
      "<option value=\"abs\">Abstracts</option>\n",
      "<option value=\"ft\">Full text</option>\n",
      "</select>\n",
      "</div>\n",
      "<input class=\"btn-search-arxiv\" value=\"\" type=\"submit\">\n",
      "<div class=\"links\">(<a href=\"https://info.arxiv.org/help\">Help</a> | <a href=\"/find\">Advanced search</a>)</div>\n",
      "</div>\n",
      "</form>\n",
      "</div>\n",
      "</div>\n",
      "<div id=\"content\">\n",
      "\n",
      "<!--\n",
      "<rdf:RDF xmlns:rdf=\"http://www.w3.org/1999/02/22-rdf-syntax-ns#\"\n",
      "         xmlns:dc=\"http://purl.org/dc/elements/1.1/\"\n",
      "         xmlns:trackback=\"http://madskills.com/public/xml/rss/module/trackback/\">\n",
      "    <rdf:Description\n",
      "        rdf:about=\"http://arxiv.org/abs/2401.04088\"\n",
      "        dc:identifier=\"http://arxiv.org/abs/2401.04088\"\n",
      "        dc:title=\"Mixtral of Experts\"\n",
      "        trackback:ping=\"http://arxiv.org/trackback/2401.04088\" />\n",
      "    </rdf:RDF>\n",
      "-->\n",
      "\n",
      "<div id=\"abs\">\n",
      "<div class=\"extra-services\">\n",
      "\n",
      "<div class=\"full-text\">\n",
      "<span class=\"descriptor\">Full-text links:</span>\n",
      "<h2>Download:</h2>\n",
      "<ul>\n",
      "<li><a href=\"/pdf/2401.04088\" accesskey=\"f\">PDF</a></li>\n",
      "<li><a href=\"/format/2401.04088\">Other formats</a></li>\n",
      "</ul>\n",
      "<div class=\"abs-license\"><a href=\"http://creativecommons.org/licenses/by/4.0/\" title=\"Rights to this article\"><img src=\"/icons/licenses/by-4.0.png\"/></a></div>\n",
      "</div><!--end full-text-->\n",
      "\n",
      "<div class=\"browse\">\n",
      "<h3>Current browse context:</h3>\n",
      "<div class=\"current\">cs.LG</div>\n",
      "<div class=\"prevnext\"><span class=\"arrow\"><a href=\"http://arxiv.org/prevnext?site=export.arxiv.org&amp;id=2401.04088&amp;context=cs.LG&amp;function=prev\" accesskey=\"p\" title=\"previous in cs.LG (accesskey p)\">&lt;&nbsp;prev</a></span>&nbsp;|&nbsp;<span class=\"arrow\"><a href=\"http://arxiv.org/prevnext?site=export.arxiv.org&amp;id=2401.04088&amp;context=cs.LG&amp;function=next\" accesskey=\"n\" title=\"next in cs.LG (accesskey n)\">next&nbsp;&gt;</a></span>\n",
      "<br /></div>\n",
      "<div class=\"list\"><a href=\"/list/cs.LG/new\">new</a>&nbsp;| <a href=\"/list/cs.LG/recent\">recent</a>&nbsp;| <a href=\"/list/cs.LG/2401\">2401</a></div><h3>Change to browse by:</h3><div class=\"switch\">\n",
      "<a href=\"/abs/2401.04088?context=cs\">cs</a><br />\n",
      "<span class=\"subclass\"><a href=\"/abs/2401.04088?context=cs.CL\">cs.CL</a></span>\n",
      "</div>\n",
      "\n",
      "</div>\n",
      "<div class=\"extra-ref-cite\">\n",
      "<h3>References &amp; Citations</h3><ul><li><a href=\"http://adsabs.harvard.edu/cgi-bin/bib_query?arXiv:2401.04088\">NASA ADS</a></li>\n",
      "</ul>\n",
      "\n",
      "</div>\n",
      "<div class=\"dblp\">\n",
      "<h3><a href=\"http://www.informatik.uni-trier.de/~ley/db/\">DBLP</a> - CS Bibliography</h3><div class=\"list\">\n",
      "<a href=\"http://www.informatik.uni-trier.de/~ley/db/journals/corr/corr2401.html#abs-2401-04088\">listing</a> | <a href=\"http://dblp.uni-trier.de/rec/bibtex/journals/corr/abs-2401-04088\">bibtex</a>\n",
      "</div>\n",
      "\n",
      "</div>\n",
      "<div class=\"bookmarks\">\n",
      "<div class=\"what-is-this\">\n",
      "<h3>Bookmark</h3> (<a href=\"https://info.arxiv.org/help/social_bookmarking\">what is this?</a>)\n",
      "</div>\n",
      "<a href=\"http://arxiv.org/ct?url=http%3A%2F%2Fwww.citeulike.org%2Fposturl%3Furl%3Dhttp%3A%2F%2Farxiv.org%2Fabs%2F2401.04088%26title%3DMixtral%2520of%2520Experts%26authors%3D&amp;v=354d162e\" title=\"Bookmark on CiteULike\"><img src=\"//static.arxiv.org/icons/social/citeulike.png\" alt=\"CiteULike logo\" /></a>\n",
      "<a href=\"http://arxiv.org/ct?url=http%3A%2F%2Fwww.bibsonomy.org%2FBibtexHandler%3FrequTask%3Dupload%26url%3Dhttp%3A%2F%2Farxiv.org%2Fabs%2F2401.04088%26description%3DMixtral%2520of%2520Experts&amp;v=bef47afc\" title=\"Bookmark on BibSonomy\"><img src=\"//static.arxiv.org/icons/social/bibsonomy.png\" alt=\"BibSonomy logo\" /></a>\n",
      "<a href=\"http://arxiv.org/ct?url=https%3A%2F%2Fwww.mendeley.com%2Fimport%2F%3Furl%3Dhttp%3A%2F%2Farxiv.org%2Fabs%2F2401.04088&amp;v=be336fd9\" title=\"Bookmark on Mendeley\"><img src=\"//static.arxiv.org/icons/social/mendeley.png\" alt=\"Mendeley logo\" /></a>\n",
      "<a href=\"http://arxiv.org/ct?url=https%3A%2F%2Fdel.icio.us%2Fpost%3Furl%3Dhttp%3A%2F%2Farxiv.org%2Fabs%2F2401.04088%26description%3DMixtral%2520of%2520Experts&amp;v=827de2f6\" title=\"Bookmark on del.icio.us\"><img src=\"//static.arxiv.org/icons/social/delicious.png\" alt=\"del.icio.us logo\" /></a>\n",
      "<a href=\"http://arxiv.org/ct?url=https%3A%2F%2Fdigg.com%2Fsubmit%3Furl%3Dhttp%3A%2F%2Farxiv.org%2Fabs%2F2401.04088%26title%3DMixtral%2520of%2520Experts&amp;v=8d5c0d57\" title=\"Bookmark on Digg\"><img src=\"//static.arxiv.org/icons/social/digg.png\" alt=\"Digg logo\" /></a>\n",
      "<a href=\"http://arxiv.org/ct?url=https%3A%2F%2Freddit.com%2Fsubmit%3Furl%3Dhttp%3A%2F%2Farxiv.org%2Fabs%2F2401.04088%26title%3DMixtral%2520of%2520Experts&amp;v=14eafc8c\" title=\"Bookmark on Reddit\"><img src=\"//static.arxiv.org/icons/social/reddit.png\" alt=\"Reddit logo\" /></a>\n",
      "\n",
      "</div>\n",
      "</div><!--end extra-services-->\n",
      "\n",
      "<div class=\"leftcolumn\">\n",
      "<div class=\"subheader\">\n",
      "<h1>Computer Science > Machine Learning</h1>\n",
      "</div>\n",
      "<h1 class=\"title mathjax\"><span class=\"descriptor\">Title:</span>\n",
      "Mixtral of Experts</h1>\n",
      "<div class=\"authors\"><span class=\"descriptor\">Authors:</span>\n",
      "<a href=\"/find/cs/1/au:+Jiang_A/0/1/0/all/0/1\">Albert Q. Jiang</a>, \n",
      "<a href=\"/find/cs/1/au:+Sablayrolles_A/0/1/0/all/0/1\">Alexandre Sablayrolles</a>, \n",
      "<a href=\"/find/cs/1/au:+Roux_A/0/1/0/all/0/1\">Antoine Roux</a>, \n",
      "<a href=\"/find/cs/1/au:+Mensch_A/0/1/0/all/0/1\">Arthur Mensch</a>, \n",
      "<a href=\"/find/cs/1/au:+Savary_B/0/1/0/all/0/1\">Blanche Savary</a>, \n",
      "<a href=\"/find/cs/1/au:+Bamford_C/0/1/0/all/0/1\">Chris Bamford</a>, \n",
      "<a href=\"/find/cs/1/au:+Chaplot_D/0/1/0/all/0/1\">Devendra Singh Chaplot</a>, \n",
      "<a href=\"/find/cs/1/au:+Casas_D/0/1/0/all/0/1\">Diego de las Casas</a>, \n",
      "<a href=\"/find/cs/1/au:+Hanna_E/0/1/0/all/0/1\">Emma Bou Hanna</a>, \n",
      "<a href=\"/find/cs/1/au:+Bressand_F/0/1/0/all/0/1\">Florian Bressand</a>, \n",
      "<a href=\"/find/cs/1/au:+Lengyel_G/0/1/0/all/0/1\">Gianna Lengyel</a>, \n",
      "<a href=\"/find/cs/1/au:+Bour_G/0/1/0/all/0/1\">Guillaume Bour</a>, \n",
      "<a href=\"/find/cs/1/au:+Lample_G/0/1/0/all/0/1\">Guillaume Lample</a>, \n",
      "<a href=\"/find/cs/1/au:+Lavaud_L/0/1/0/all/0/1\">L&#xe9;lio Renard Lavaud</a>, \n",
      "<a href=\"/find/cs/1/au:+Saulnier_L/0/1/0/all/0/1\">Lucile Saulnier</a>, \n",
      "<a href=\"/find/cs/1/au:+Lachaux_M/0/1/0/all/0/1\">Marie-Anne Lachaux</a>, \n",
      "<a href=\"/find/cs/1/au:+Stock_P/0/1/0/all/0/1\">Pierre Stock</a>, \n",
      "<a href=\"/find/cs/1/au:+Subramanian_S/0/1/0/all/0/1\">Sandeep Subramanian</a>, \n",
      "<a href=\"/find/cs/1/au:+Yang_S/0/1/0/all/0/1\">Sophia Yang</a>, \n",
      "<a href=\"/find/cs/1/au:+Antoniak_S/0/1/0/all/0/1\">Szymon Antoniak</a>, \n",
      "<a href=\"/find/cs/1/au:+Scao_T/0/1/0/all/0/1\">Teven Le Scao</a>, \n",
      "<a href=\"/find/cs/1/au:+Gervet_T/0/1/0/all/0/1\">Th&#xe9;ophile Gervet</a>, \n",
      "<a href=\"/find/cs/1/au:+Lavril_T/0/1/0/all/0/1\">Thibaut Lavril</a>, \n",
      "<a href=\"/find/cs/1/au:+Wang_T/0/1/0/all/0/1\">Thomas Wang</a>, \n",
      "<a href=\"/find/cs/1/au:+Lacroix_T/0/1/0/all/0/1\">Timoth&#xe9;e Lacroix</a>, \n",
      "<a href=\"/find/cs/1/au:+Sayed_W/0/1/0/all/0/1\">William El Sayed</a></div>\n",
      "<div class=\"dateline\">(Submitted on 8 Jan 2024)</div>\n",
      "<blockquote class=\"abstract mathjax\">\n",
      "<span class=\"descriptor\">Abstract:</span> We introduce Mixtral 8x7B, a Sparse Mixture of Experts (SMoE) language model.\n",
      "Mixtral has the same architecture as Mistral 7B, with the difference that each\n",
      "layer is composed of 8 feedforward blocks (i.e. experts). For every token, at\n",
      "each layer, a router network selects two experts to process the current state\n",
      "and combine their outputs. Even though each token only sees two experts, the\n",
      "selected experts can be different at each timestep. As a result, each token has\n",
      "access to 47B parameters, but only uses 13B active parameters during inference.\n",
      "Mixtral was trained with a context size of 32k tokens and it outperforms or\n",
      "matches Llama 2 70B and GPT-3.5 across all evaluated benchmarks. In particular,\n",
      "Mixtral vastly outperforms Llama 2 70B on mathematics, code generation, and\n",
      "multilingual benchmarks. We also provide a model fine-tuned to follow\n",
      "instructions, Mixtral 8x7B - Instruct, that surpasses GPT-3.5 Turbo,\n",
      "Claude-2.1, Gemini Pro, and Llama 2 70B - chat model on human benchmarks. Both\n",
      "the base and instruct models are released under the Apache 2.0 license.\n",
      "</blockquote>\n",
      "<!--CONTEXT-->\n",
      "<div class=\"metatable\">\n",
      "<table summary=\"Additional metadata\">\n",
      "<tr>\n",
      "<td class=\"tablecell label\">Comments:\n",
      "</td>\n",
      "<td class=\"tablecell comments mathjax\">See more details at <a href=\"https://mistral.ai/news/mixtral-of-experts/\">this https URL</a></td>\n",
      "</tr>\n",
      "<tr>\n",
      "<td class=\"tablecell label\">Subjects:\n",
      "</td>\n",
      "<td class=\"tablecell subjects\"><span class=\"primary-subject\">Machine Learning (cs.LG)</span>; Computation and Language (cs.CL)</td>\n",
      "</tr>\n",
      "<tr>\n",
      "<td class=\"tablecell label\">\n",
      "Cite&nbsp;as:\n",
      "</td>\n",
      "<td class=\"tablecell arxivid\"><a href=\"/abs/2401.04088\">arXiv:2401.04088</a> [cs.LG]</td>\n",
      "</tr>\n",
      "<tr>\n",
      "<td class=\"tablecell label\">&nbsp;</td>\n",
      "<td class=\"tablecell arxividv\">(or <span class=\"arxivid\"><a href=\"/abs/2401.04088v1\">arXiv:2401.04088v1</a> [cs.LG]</span> for this version)</td>\n",
      "</tr>\n",
      "</table>\n",
      "</div>\n",
      "<div class=\"submission-history\">\n",
      "<h2>Submission history</h2>\n",
      "From: Devendra Singh Chaplot [<a href=\"https://arxiv.org/show-email/d382fa4f/2401.04088\">view email</a>]\n",
      "<br />\n",
      "<b>[v1]</b> Mon, 8 Jan 2024 18:47:34 GMT  (2811kb,D)<br />\n",
      "</div>\n",
      "<div class=\"endorsers\"><a href=\"http://arxiv.org/auth/show-endorsers/2401.04088\">Which authors of this paper are endorsers?</a> | <a id=\"mathjax_toggle\" href=\"javascript:setMathjaxCookie()\">Disable MathJax</a> (<a href=\"/help/mathjax\">What is MathJax?</a>) </div><script type=\"text/javascript\" language=\"javascript\">mathjaxToggle();</script>\n",
      "<script src=\"/bibex/bibex.js?20181009\" type=\"text/javascript\" defer></script>\n",
      "</div><!--end leftcolumn-->\n",
      "</div><!--end abs-->\n",
      "<p>Link back to: <a href=\"http://arXiv.org/\">arXiv</a>, <a href=\"http://arxiv.org/form\">form interface</a>, <a href=\"/help/contact\">contact</a>.</p>\n",
      "</div>\n",
      "</div>\n",
      " <footer style=\"clear: both;\">\n",
      "      <div class=\"columns is-desktop\" role=\"navigation\" aria-label=\"Secondary\" style=\"margin: -0.75em -0.75em 0.75em -0.75em\">\n",
      "        <!-- Macro-Column 1 -->\n",
      "        <div class=\"column\" style=\"padding: 0;\">\n",
      "          <div class=\"columns\">\n",
      "            <div class=\"column\">\n",
      "              <ul style=\"list-style: none; line-height: 2;\">\n",
      "                <li><a href=\"https://arxiv.org/about\">About</a></li>\n",
      "                <li><a href=\"https://arxiv.org/help\">Help</a></li>\n",
      "              </ul>\n",
      "            </div>\n",
      "            <div class=\"column\">\n",
      "              <ul style=\"list-style: none; line-height: 2;\">\n",
      "                <li>\n",
      "                  <svg xmlns=\"http://www.w3.org/2000/svg\" viewBox=\"0 0 512 512\" class=\"icon filter-black\" role=\"presentation\"><title>contact arXiv</title><desc>Click here to contact arXiv</desc><path d=\"M502.3 190.8c3.9-3.1 9.7-.2 9.7 4.7V400c0 26.5-21.5 48-48 48H48c-26.5 0-48-21.5-48-48V195.6c0-5 5.7-7.8 9.7-4.7 22.4 17.4 52.1 39.5 154.1 113.6 21.1 15.4 56.7 47.8 92.2 47.6 35.7.3 72-32.8 92.3-47.6 102-74.1 131.6-96.3 154-113.7zM256 320c23.2.4 56.6-29.2 73.4-41.4 132.7-96.3 142.8-104.7 173.4-128.7 5.8-4.5 9.2-11.5 9.2-18.9v-19c0-26.5-21.5-48-48-48H48C21.5 64 0 85.5 0 112v19c0 7.4 3.4 14.3 9.2 18.9 30.6 23.9 40.7 32.4 173.4 128.7 16.8 12.2 50.2 41.8 73.4 41.4z\"/></svg>\n",
      "                  <a href=\"https://arxiv.org/help/contact\"> Contact</a>\n",
      "                </li>\n",
      "                <li>\n",
      "                  <svg xmlns=\"http://www.w3.org/2000/svg\" viewBox=\"0 0 512 512\" class=\"icon filter-black\" role=\"presentation\"><title>subscribe to arXiv mailings</title><desc>Click here to subscribe</desc><path d=\"M476 3.2L12.5 270.6c-18.1 10.4-15.8 35.6 2.2 43.2L121 358.4l287.3-253.2c5.5-4.9 13.3 2.6 8.6 8.3L176 407v80.5c0 23.6 28.5 32.9 42.5 15.8L282 426l124.6 52.2c14.2 6 30.4-2.9 33-18.2l72-432C515 7.8 493.3-6.8 476 3.2z\"/></svg>\n",
      "                  <a href=\"https://arxiv.org/help/subscribe\"> Subscribe</a>\n",
      "                </li>\n",
      "              </ul>\n",
      "            </div>\n",
      "          </div>\n",
      "        </div>\n",
      "        <!-- End Macro-Column 1 -->\n",
      "        <!-- Macro-Column 2 -->\n",
      "        <div class=\"column\" style=\"padding: 0;\">\n",
      "          <div class=\"columns\">\n",
      "            <div class=\"column\">\n",
      "              <ul style=\"list-style: none; line-height: 2;\">\n",
      "                <li><a href=\"https://arxiv.org/help/license\">Copyright</a></li>\n",
      "                <li><a href=\"https://arxiv.org/help/policies/privacy_policy\">Privacy Policy</a></li>\n",
      "              </ul>\n",
      "            </div>\n",
      "            <div class=\"column sorry-app-links\">\n",
      "              <ul style=\"list-style: none; line-height: 2;\">\n",
      "                <li><a href=\"https://arxiv.org/help/web_accessibility\">Web Accessibility Assistance</a></li>\n",
      "                <li>\n",
      "                  <p class=\"help\">\n",
      "                    <a class=\"a11y-main-link\" href=\"https://status.arxiv.org\" target=\"_blank\">arXiv Operational Status <svg xmlns=\"http://www.w3.org/2000/svg\" viewBox=\"0 0 256 512\" class=\"icon filter-dark_grey\" role=\"presentation\"><path d=\"M224.3 273l-136 136c-9.4 9.4-24.6 9.4-33.9 0l-22.6-22.6c-9.4-9.4-9.4-24.6 0-33.9l96.4-96.4-96.4-96.4c-9.4-9.4-9.4-24.6 0-33.9L54.3 103c9.4-9.4 24.6-9.4 33.9 0l136 136c9.5 9.4 9.5 24.6.1 34z\"/></svg></a><br>\n",
      "                    Get status notifications via\n",
      "                    <a class=\"is-link\" href=\"https://subscribe.sorryapp.com/24846f03/email/new\" target=\"_blank\"><svg xmlns=\"http://www.w3.org/2000/svg\" viewBox=\"0 0 512 512\" class=\"icon filter-black\" role=\"presentation\"><path d=\"M502.3 190.8c3.9-3.1 9.7-.2 9.7 4.7V400c0 26.5-21.5 48-48 48H48c-26.5 0-48-21.5-48-48V195.6c0-5 5.7-7.8 9.7-4.7 22.4 17.4 52.1 39.5 154.1 113.6 21.1 15.4 56.7 47.8 92.2 47.6 35.7.3 72-32.8 92.3-47.6 102-74.1 131.6-96.3 154-113.7zM256 320c23.2.4 56.6-29.2 73.4-41.4 132.7-96.3 142.8-104.7 173.4-128.7 5.8-4.5 9.2-11.5 9.2-18.9v-19c0-26.5-21.5-48-48-48H48C21.5 64 0 85.5 0 112v19c0 7.4 3.4 14.3 9.2 18.9 30.6 23.9 40.7 32.4 173.4 128.7 16.8 12.2 50.2 41.8 73.4 41.4z\"/></svg>email</a>\n",
      "                    or <a class=\"is-link\" href=\"https://subscribe.sorryapp.com/24846f03/slack/new\" target=\"_blank\"><svg xmlns=\"http://www.w3.org/2000/svg\" viewBox=\"0 0 448 512\" class=\"icon filter-black\" role=\"presentation\"><path d=\"M94.12 315.1c0 25.9-21.16 47.06-47.06 47.06S0 341 0 315.1c0-25.9 21.16-47.06 47.06-47.06h47.06v47.06zm23.72 0c0-25.9 21.16-47.06 47.06-47.06s47.06 21.16 47.06 47.06v117.84c0 25.9-21.16 47.06-47.06 47.06s-47.06-21.16-47.06-47.06V315.1zm47.06-188.98c-25.9 0-47.06-21.16-47.06-47.06S139 32 164.9 32s47.06 21.16 47.06 47.06v47.06H164.9zm0 23.72c25.9 0 47.06 21.16 47.06 47.06s-21.16 47.06-47.06 47.06H47.06C21.16 243.96 0 222.8 0 196.9s21.16-47.06 47.06-47.06H164.9zm188.98 47.06c0-25.9 21.16-47.06 47.06-47.06 25.9 0 47.06 21.16 47.06 47.06s-21.16 47.06-47.06 47.06h-47.06V196.9zm-23.72 0c0 25.9-21.16 47.06-47.06 47.06-25.9 0-47.06-21.16-47.06-47.06V79.06c0-25.9 21.16-47.06 47.06-47.06 25.9 0 47.06 21.16 47.06 47.06V196.9zM283.1 385.88c25.9 0 47.06 21.16 47.06 47.06 0 25.9-21.16 47.06-47.06 47.06-25.9 0-47.06-21.16-47.06-47.06v-47.06h47.06zm0-23.72c-25.9 0-47.06-21.16-47.06-47.06 0-25.9 21.16-47.06 47.06-47.06h117.84c25.9 0 47.06 21.16 47.06 47.06 0 25.9-21.16 47.06-47.06 47.06H283.1z\"/></svg>slack</a>\n",
      "                  </p>\n",
      "                </li>\n",
      "              </ul>\n",
      "            </div>\n",
      "          </div>\n",
      "        </div> <!-- end MetaColumn 2 -->\n",
      "        <!-- End Macro-Column 2 -->\n",
      "      </div>\n",
      "    </footer>\n",
      "</body>\n",
      "</html>\n",
      "\n"
     ]
    }
   ],
   "source": [
    "import requests\n",
    "\n",
    "# we will test with the mixtral paper\n",
    "arxiv_id = \"2401.04088\"\n",
    "\n",
    "res = requests.get(\n",
    "    f\"https://export.arxiv.org/abs/{arxiv_id}\"\n",
    ")\n",
    "print(res.text)"
   ]
  },
  {
   "cell_type": "code",
   "execution_count": 23,
   "metadata": {},
   "outputs": [
    {
     "name": "stdout",
     "output_type": "stream",
     "text": [
      "We introduce Mixtral 8x7B, a Sparse Mixture of Experts (SMoE) language model.\n",
      "Mixtral has the same architecture as Mistral 7B, with the difference that each\n",
      "layer is composed of 8 feedforward blocks (i.e. experts). For every token, at\n",
      "each layer, a router network selects two experts to process the current state\n",
      "and combine their outputs. Even though each token only sees two experts, the\n",
      "selected experts can be different at each timestep. As a result, each token has\n",
      "access to 47B parameters, but only uses 13B active parameters during inference.\n",
      "Mixtral was trained with a context size of 32k tokens and it outperforms or\n",
      "matches Llama 2 70B and GPT-3.5 across all evaluated benchmarks. In particular,\n",
      "Mixtral vastly outperforms Llama 2 70B on mathematics, code generation, and\n",
      "multilingual benchmarks. We also provide a model fine-tuned to follow\n",
      "instructions, Mixtral 8x7B - Instruct, that surpasses GPT-3.5 Turbo,\n",
      "Claude-2.1, Gemini Pro, and Llama 2 70B - chat model on human benchmarks. Both\n",
      "the base and instruct models are released under the Apache 2.0 license.\n"
     ]
    }
   ],
   "source": [
    "import re\n",
    "\n",
    "# our regex\n",
    "abstract_pattern = re.compile(\n",
    "    r'<blockquote class=\"abstract mathjax\">\\s*<span class=\"descriptor\">Abstract:</span>\\s*(.*?)\\s*</blockquote>',\n",
    "    re.DOTALL\n",
    ")\n",
    "\n",
    "# we search\n",
    "re_match = abstract_pattern.search(res.text)\n",
    "\n",
    "# and now let's see what we got\n",
    "print(re_match.group(1))"
   ]
  },
  {
   "cell_type": "code",
   "execution_count": 24,
   "metadata": {},
   "outputs": [],
   "source": [
    "import re\n",
    "from langchain_core.tools import tool\n",
    "\n",
    "abstract_pattern = re.compile(\n",
    "    r'<blockquote class=\"abstract mathjax\">\\s*<span class=\"descriptor\">Abstract:</span>\\s*(.*?)\\s*</blockquote>',\n",
    "    re.DOTALL\n",
    ")\n",
    "\n",
    "@tool(\"fetch_arxiv\")\n",
    "def fetch_arxiv(arxiv_id: str):\n",
    "   \"\"\"Gets the abstract from an ArXiv paper given the arxiv ID. Useful for\n",
    "   finding high-level context about a specific paper.\"\"\"\n",
    "   # get paper page in html\n",
    "   res = requests.get(\n",
    "       f\"https://export.arxiv.org/abs/{arxiv_id}\"\n",
    "   )\n",
    "   # search html for abstract\n",
    "   re_match = abstract_pattern.search(res.text)\n",
    "   # return abstract text\n",
    "   return re_match.group(1)"
   ]
  },
  {
   "cell_type": "code",
   "execution_count": 6,
   "metadata": {},
   "outputs": [
    {
     "name": "stdout",
     "output_type": "stream",
     "text": [
      "We introduce Mixtral 8x7B, a Sparse Mixture of Experts (SMoE) language model.\n",
      "Mixtral has the same architecture as Mistral 7B, with the difference that each\n",
      "layer is composed of 8 feedforward blocks (i.e. experts). For every token, at\n",
      "each layer, a router network selects two experts to process the current state\n",
      "and combine their outputs. Even though each token only sees two experts, the\n",
      "selected experts can be different at each timestep. As a result, each token has\n",
      "access to 47B parameters, but only uses 13B active parameters during inference.\n",
      "Mixtral was trained with a context size of 32k tokens and it outperforms or\n",
      "matches Llama 2 70B and GPT-3.5 across all evaluated benchmarks. In particular,\n",
      "Mixtral vastly outperforms Llama 2 70B on mathematics, code generation, and\n",
      "multilingual benchmarks. We also provide a model fine-tuned to follow\n",
      "instructions, Mixtral 8x7B - Instruct, that surpasses GPT-3.5 Turbo,\n",
      "Claude-2.1, Gemini Pro, and Llama 2 70B - chat model on human benchmarks. Both\n",
      "the base and instruct models are released under the Apache 2.0 license.\n"
     ]
    }
   ],
   "source": [
    "print(fetch_arxiv.invoke({\"arxiv_id\": \"2401.04088\"}))"
   ]
  },
  {
   "cell_type": "code",
   "execution_count": 7,
   "metadata": {},
   "outputs": [
    {
     "name": "stdout",
     "output_type": "stream",
     "text": [
      "Large multimodal models (LMMs) extend large language models (LLMs) with\n",
      "multi-sensory skills, such as visual understanding, to achieve stronger generic\n",
      "intelligence. In this paper, we analyze the latest model, GPT-4V(ision), to\n",
      "deepen the understanding of LMMs. The analysis focuses on the intriguing tasks\n",
      "that GPT-4V can perform, containing test samples to probe the quality and\n",
      "genericity of GPT-4V's capabilities, its supported inputs and working modes,\n",
      "and the effective ways to prompt the model. In our approach to exploring\n",
      "GPT-4V, we curate and organize a collection of carefully designed qualitative\n",
      "samples spanning a variety of domains and tasks. Observations from these\n",
      "samples demonstrate that GPT-4V's unprecedented ability in processing\n",
      "arbitrarily interleaved multimodal inputs and the genericity of its\n",
      "capabilities together make GPT-4V a powerful multimodal generalist system.\n",
      "Furthermore, GPT-4V's unique capability of understanding visual markers drawn\n",
      "on input images can give rise to new human-computer interaction methods such as\n",
      "visual referring prompting. We conclude the report with in-depth discussions on\n",
      "the emerging application scenarios and the future research directions for\n",
      "GPT-4V-based systems. We hope that this preliminary exploration will inspire\n",
      "future research on the next-generation multimodal task formulation, new ways to\n",
      "exploit and enhance LMMs to solve real-world problems, and gaining better\n",
      "understanding of multimodal foundation models. Finally, we acknowledge that the\n",
      "model under our study is solely the product of OpenAI's innovative work, and\n",
      "they should be fully credited for its development. Please see the GPT-4V\n",
      "contributions paper for the authorship and credit attribution:\n",
      "<a href=\"https://cdn.openai.com/contributions/gpt-4v.pdf\">this https URL</a>\n"
     ]
    }
   ],
   "source": [
    "print(fetch_arxiv.invoke({\"arxiv_id\": \"2309.17421\"}))"
   ]
  },
  {
   "cell_type": "markdown",
   "metadata": {},
   "source": [
    "## Web検索ツール"
   ]
  },
  {
   "cell_type": "code",
   "execution_count": 25,
   "metadata": {},
   "outputs": [
    {
     "data": {
      "text/plain": [
       "[{'position': 1,\n",
       "  'title': 'AI エージェントとは何ですか? - 人工知能のエージェントの説明',\n",
       "  'link': 'https://aws.amazon.com/jp/what-is/ai-agents/',\n",
       "  'redirect_link': 'https://www.google.com/url?sa=t&source=web&rct=j&opi=89978449&url=https://aws.amazon.com/jp/what-is/ai-agents/&ved=2ahUKEwiP2rLakNiJAxUo78kDHZ2eIIYQFnoECCIQAQ',\n",
       "  'displayed_link': 'https://aws.amazon.com › ... › AI',\n",
       "  'favicon': 'https://serpapi.com/searches/6733fd40360f4e85ecc5a176/images/452eaf1f7a1be6b40556c8a3e96ea2bf6e8b38dccce155bdf8c11910bd26558e.webp',\n",
       "  'snippet': 'AI エージェントは、人間の介入なしに特定のタスクを実行する自律型インテリジェントシステムです。組織は AI エージェントを使用して特定の目標を達成し、より効率的な ...',\n",
       "  'snippet_highlighted_words': ['AI エージェント', 'AI エージェント'],\n",
       "  'sitelinks': {'inline': [{'title': 'AI エージェントの使用にはどのよ...',\n",
       "     'link': 'https://aws.amazon.com/jp/what-is/ai-agents/#seo-faq-pairs#what-are-the-benefits-of-using-ai-agents'},\n",
       "    {'title': 'AI エージェントの仕組みを教えて...',\n",
       "     'link': 'https://aws.amazon.com/jp/what-is/ai-agents/#seo-faq-pairs#how-does-an-ai-agent-work'}]},\n",
       "  'source': 'Amazon Web Services'},\n",
       " {'position': 2,\n",
       "  'title': 'AIエージェントで「業務プロセス」自動化、Salesforceや ...',\n",
       "  'link': 'https://xtech.nikkei.com/atcl/nxt/column/18/00001/09954/',\n",
       "  'redirect_link': 'https://www.google.com/url?sa=t&source=web&rct=j&opi=89978449&url=https://xtech.nikkei.com/atcl/nxt/column/18/00001/09954/&ved=2ahUKEwiP2rLakNiJAxUo78kDHZ2eIIYQFnoECCcQAQ',\n",
       "  'displayed_link': 'https://xtech.nikkei.com › column',\n",
       "  'favicon': 'https://serpapi.com/searches/6733fd40360f4e85ecc5a176/images/452eaf1f7a1be6b40556c8a3e96ea2bfc5e4b4f4afb86fc5043c05b44ac4b49a.webp',\n",
       "  'date': '2 days ago',\n",
       "  'snippet': '独SAPや米Oracle（オラクル）も2024年9月から10月にかけて、ERP（統合基幹業務システム）などのSaaSに、AIエージェント機能を順次組み込んで提供すると表明。',\n",
       "  'snippet_highlighted_words': ['AIエージェント'],\n",
       "  'source': '日経クロステック'},\n",
       " {'position': 3,\n",
       "  'title': 'AIエージェントとは？自律型で生成AIとは何が違う？特徴 ...',\n",
       "  'link': 'https://ai-market.jp/technology/ai-agent/',\n",
       "  'redirect_link': 'https://www.google.com/url?sa=t&source=web&rct=j&opi=89978449&url=https://ai-market.jp/technology/ai-agent/&ved=2ahUKEwiP2rLakNiJAxUo78kDHZ2eIIYQFnoECCYQAQ',\n",
       "  'displayed_link': 'https://ai-market.jp › AI技術',\n",
       "  'favicon': 'https://serpapi.com/searches/6733fd40360f4e85ecc5a176/images/452eaf1f7a1be6b40556c8a3e96ea2bfca3ca32f9de556c66e34cf64a2216be4.webp',\n",
       "  'snippet': 'AIエージェントとは、複数のAIモデルやデバイスを組み合わせることで、単一のモデルでは困難だった高度で複雑なタスクを自律的に実行できるシステムのことを指します。企業 ...',\n",
       "  'snippet_highlighted_words': ['AIエージェント'],\n",
       "  'sitelinks': {'inline': [{'title': '自律的に実行するAIエージェント...',\n",
       "     'link': 'https://ai-market.jp/technology/ai-agent/#AI'},\n",
       "    {'title': 'AIエージェントの3つの特徴',\n",
       "     'link': 'https://ai-market.jp/technology/ai-agent/#AI3'},\n",
       "    {'title': 'AIエージェントの種類',\n",
       "     'link': 'https://ai-market.jp/technology/ai-agent/#AI-3'}]},\n",
       "  'source': 'ai-market.jp'},\n",
       " {'position': 4,\n",
       "  'title': 'AIエージェントとは何か？',\n",
       "  'link': 'https://botpress.com/ja/blog/what-is-an-ai-agent',\n",
       "  'redirect_link': 'https://www.google.com/url?sa=t&source=web&rct=j&opi=89978449&url=https://botpress.com/ja/blog/what-is-an-ai-agent&ved=2ahUKEwiP2rLakNiJAxUo78kDHZ2eIIYQFnoECDIQAQ',\n",
       "  'displayed_link': 'https://botpress.com › blog › what...',\n",
       "  'favicon': 'https://serpapi.com/searches/6733fd40360f4e85ecc5a176/images/452eaf1f7a1be6b40556c8a3e96ea2bfec1a73f932d29da148650555f9136ef3.webp',\n",
       "  'date': 'May 31, 2024',\n",
       "  'snippet': 'AIエージェントは、ユーザーの代わりにタスクを実行するソフトウェアである。プロセスを自動化し、意思決定を行い、インテリジェントに環境と相互作用 ...',\n",
       "  'snippet_highlighted_words': ['AIエージェント'],\n",
       "  'source': 'Botpress'},\n",
       " {'position': 5,\n",
       "  'title': 'AIエージェント： AIを駆使したインテリジェントなサポートに ...',\n",
       "  'link': 'https://www.zendesk.co.jp/blog/ai-agents/',\n",
       "  'redirect_link': 'https://www.google.com/url?sa=t&source=web&rct=j&opi=89978449&url=https://www.zendesk.co.jp/blog/ai-agents/&ved=2ahUKEwiP2rLakNiJAxUo78kDHZ2eIIYQFnoECC8QAQ',\n",
       "  'displayed_link': 'https://www.zendesk.co.jp › blog',\n",
       "  'favicon': 'https://serpapi.com/searches/6733fd40360f4e85ecc5a176/images/452eaf1f7a1be6b40556c8a3e96ea2bf1484617a933b52c839e979b98ecffff2.webp',\n",
       "  'snippet': 'AIエージェントとは、AIを搭載したボットであり、単純な問い合わせから複雑な問題まで、さまざまな顧客からのリクエストに自律的に対応し、解決できます。',\n",
       "  'snippet_highlighted_words': ['AIエージェント'],\n",
       "  'source': 'zendesk.co.jp'},\n",
       " {'position': 6,\n",
       "  'title': 'AIエージェントとは',\n",
       "  'link': 'https://www.ibm.com/jp-ja/think/topics/ai-agents',\n",
       "  'redirect_link': 'https://www.google.com/url?sa=t&source=web&rct=j&opi=89978449&url=https://www.ibm.com/jp-ja/think/topics/ai-agents&ved=2ahUKEwiP2rLakNiJAxUo78kDHZ2eIIYQFnoECDAQAQ',\n",
       "  'displayed_link': 'https://www.ibm.com › ai-agents',\n",
       "  'favicon': 'https://serpapi.com/searches/6733fd40360f4e85ecc5a176/images/452eaf1f7a1be6b40556c8a3e96ea2bfeaddae3a7b886fa78ee4d6eb551f161b.webp',\n",
       "  'snippet': 'AIエージェントは、人的資源を必要とする複雑なタスクを自動化できるAIツールです。目標を安価に、迅速に、大規模に達成できます。これらの進歩により、人間のエージェント ...',\n",
       "  'snippet_highlighted_words': ['AIエージェント'],\n",
       "  'source': 'IBM'},\n",
       " {'position': 7,\n",
       "  'title': 'AI エージェント',\n",
       "  'link': 'https://www.servicenow.com/jp/products/ai-agents.html',\n",
       "  'redirect_link': 'https://www.google.com/url?sa=t&source=web&rct=j&opi=89978449&url=https://www.servicenow.com/jp/products/ai-agents.html&ved=2ahUKEwiP2rLakNiJAxUo78kDHZ2eIIYQFnoECDoQAQ',\n",
       "  'displayed_link': 'https://www.servicenow.com › ai-...',\n",
       "  'favicon': 'https://serpapi.com/searches/6733fd40360f4e85ecc5a176/images/452eaf1f7a1be6b40556c8a3e96ea2bf96d7a661c5e4e5773f3bf1dda6f00cf9.webp',\n",
       "  'snippet': 'AI エージェントでビジネス全体のワークフロー、統合、データをオーケストレーションさせることで、チームの生産性を向上できます。 IT およびカスタマーサービス向け ...',\n",
       "  'snippet_highlighted_words': ['AI エージェント'],\n",
       "  'source': 'ServiceNow'},\n",
       " {'position': 8,\n",
       "  'title': 'OpenAIの「Swarm」でAIエージェントを開発してみた',\n",
       "  'link': 'https://zenn.dev/dalab/articles/1d4f649c8005a0',\n",
       "  'redirect_link': 'https://www.google.com/url?sa=t&source=web&rct=j&opi=89978449&url=https://zenn.dev/dalab/articles/1d4f649c8005a0&ved=2ahUKEwiP2rLakNiJAxUo78kDHZ2eIIYQFnoECDEQAQ',\n",
       "  'displayed_link': 'https://zenn.dev › dalab › articles',\n",
       "  'favicon': 'https://serpapi.com/searches/6733fd40360f4e85ecc5a176/images/452eaf1f7a1be6b40556c8a3e96ea2bfa582fa21ce1d57fde1b58a4d6f96a77b.webp',\n",
       "  'date': 'Oct 21, 2024',\n",
       "  'snippet': 'このエージェントは、技術スタックやスキルに基づいて、特定の社員情報を検索するためのエージェントです。このエージェントを活用することで、特定の ...',\n",
       "  'snippet_highlighted_words': ['エージェント', 'エージェント', 'エージェント'],\n",
       "  'sitelinks': {'inline': [{'title': 'クラスと関数',\n",
       "     'link': 'https://zenn.dev/dalab/articles/1d4f649c8005a0#%E3%82%AF%E3%83%A9%E3%82%B9%E3%81%A8%E9%96%A2%E6%95%B0'},\n",
       "    {'title': 'サンプルプログラム',\n",
       "     'link': 'https://zenn.dev/dalab/articles/1d4f649c8005a0#%E3%82%B5%E3%83%B3%E3%83%97%E3%83%AB%E3%83%97%E3%83%AD%E3%82%B0%E3%83%A9%E3%83%A0'},\n",
       "    {'title': 'コンセプト',\n",
       "     'link': 'https://zenn.dev/dalab/articles/1d4f649c8005a0#%E3%82%B3%E3%83%B3%E3%82%BB%E3%83%97%E3%83%88'},\n",
       "    {'title': '全体像',\n",
       "     'link': 'https://zenn.dev/dalab/articles/1d4f649c8005a0#%E5%85%A8%E4%BD%93%E5%83%8F'}]},\n",
       "  'source': 'Zenn'}]"
      ]
     },
     "execution_count": 25,
     "metadata": {},
     "output_type": "execute_result"
    }
   ],
   "source": [
    "import os\n",
    "from serpapi import GoogleSearch\n",
    "from getpass import getpass\n",
    "\n",
    "serpapi_params = {\n",
    "    \"engine\": \"google\",\n",
    "    \"api_key\": os.getenv(\"SERP_API_KEY\")\n",
    "}\n",
    "\n",
    "search = GoogleSearch({\n",
    "    **serpapi_params,\n",
    "    \"q\": \"AIエージェント\"\n",
    "})\n",
    "\n",
    "results = search.get_dict()[\"organic_results\"]\n",
    "results"
   ]
  },
  {
   "cell_type": "code",
   "execution_count": 9,
   "metadata": {},
   "outputs": [
    {
     "name": "stdout",
     "output_type": "stream",
     "text": [
      "AI エージェントとは何ですか? - 人工知能のエージェントの説明\n",
      "AI エージェントは、人間の介入なしに特定のタスクを実行する自律型インテリジェントシステムです。組織は AI エージェントを使用して特定の目標を達成し、より効率的な ...\n",
      "https://aws.amazon.com/jp/what-is/ai-agents/\n",
      "---\n",
      "AIエージェントで「業務プロセス」自動化、Salesforceや ...\n",
      "独SAPや米Oracle（オラクル）も2024年9月から10月にかけて、ERP（統合基幹業務システム）などのSaaSに、AIエージェント機能を順次組み込んで提供すると表明。\n",
      "https://xtech.nikkei.com/atcl/nxt/column/18/00001/09954/\n",
      "---\n",
      "AIエージェントとは？自律型で生成AIとは何が違う？特徴 ...\n",
      "AIエージェントとは、複数のAIモデルやデバイスを組み合わせることで、単一のモデルでは困難だった高度で複雑なタスクを自律的に実行できるシステムのことを指します。企業 ...\n",
      "https://ai-market.jp/technology/ai-agent/\n",
      "---\n",
      "AIエージェントとは何か？\n",
      "AIエージェントは、ユーザーの代わりにタスクを実行するソフトウェアである。プロセスを自動化し、意思決定を行い、インテリジェントに環境と相互作用 ...\n",
      "https://botpress.com/ja/blog/what-is-an-ai-agent\n",
      "---\n",
      "AIエージェント： AIを駆使したインテリジェントなサポートに ...\n",
      "AIエージェントとは、AIを搭載したボットであり、単純な問い合わせから複雑な問題まで、さまざまな顧客からのリクエストに自律的に対応し、解決できます。\n",
      "https://www.zendesk.co.jp/blog/ai-agents/\n",
      "---\n",
      "AIエージェントとは\n",
      "AIエージェントは、人的資源を必要とする複雑なタスクを自動化できるAIツールです。目標を安価に、迅速に、大規模に達成できます。これらの進歩により、人間のエージェント ...\n",
      "https://www.ibm.com/jp-ja/think/topics/ai-agents\n",
      "---\n",
      "AI エージェント\n",
      "AI エージェントでビジネス全体のワークフロー、統合、データをオーケストレーションさせることで、チームの生産性を向上できます。 IT およびカスタマーサービス向け ...\n",
      "https://www.servicenow.com/jp/products/ai-agents.html\n",
      "---\n",
      "OpenAIの「Swarm」でAIエージェントを開発してみた\n",
      "このエージェントは、技術スタックやスキルに基づいて、特定の社員情報を検索するためのエージェントです。このエージェントを活用することで、特定の ...\n",
      "https://zenn.dev/dalab/articles/1d4f649c8005a0\n"
     ]
    }
   ],
   "source": [
    "contexts = \"\\n---\\n\".join(\n",
    "    [\"\\n\".join([x[\"title\"], x[\"snippet\"], x[\"link\"]]) for x in results]\n",
    ")\n",
    "print(contexts)"
   ]
  },
  {
   "cell_type": "code",
   "execution_count": 26,
   "metadata": {},
   "outputs": [],
   "source": [
    "@tool(\"web_search\")\n",
    "def web_search(query: str):\n",
    "   \"\"\"Finds general knowledge information using Google search. Can also be used\n",
    "   to augment more 'general' knowledge to a previous specialist query.\"\"\"\n",
    "   search = GoogleSearch({\n",
    "       **serpapi_params,\n",
    "       \"q\": query,\n",
    "       \"num\": 5\n",
    "   })\n",
    "   results = search.get_dict()[\"organic_results\"]\n",
    "   contexts = \"\\n---\\n\".join(\n",
    "       [\"\\n\".join([x[\"title\"], x[\"snippet\"], x[\"link\"]]) for x in results]\n",
    "   )\n",
    "   return contexts"
   ]
  },
  {
   "cell_type": "code",
   "execution_count": 11,
   "metadata": {},
   "outputs": [
    {
     "name": "stdout",
     "output_type": "stream",
     "text": [
      "機械学習 | 用語解説 | 野村総合研究所(NRI)\n",
      "機械学習とは、データを分析する方法の1つで、データから、「機械」（コンピューター）が自動で「学習」し、データの背景にあるルールやパターンを発見する方法。\n",
      "https://www.nri.com/jp/knowledge/glossary/lst/ka/machine_learning\n",
      "---\n",
      "機械学習とは？機械学習の仕組みとディープラーニングとの ...\n",
      "機械学習では、コンピューターに膨大な量のデータを読み込ませ、様々なアルゴリズムに基づいて分析をさせる仕組みです。 コンピューターに ...\n",
      "https://www.nttdata-gsl.co.jp/related/column/what-is-machine-learning.html\n",
      "---\n",
      "機械学習\n",
      "機械学習（きかいがくしゅう、英: machine learning）とは、経験からの学習により自動で改善するコンピューターアルゴリズムもしくはその研究領域で、人工知能の一種で ...\n",
      "https://ja.wikipedia.org/wiki/%E6%A9%9F%E6%A2%B0%E5%AD%A6%E7%BF%92\n",
      "---\n",
      "機械学習とは？仕組み、手法、学び方から利用例まで\n",
      "機械学習は、人間や動物が経験を通して自然に学習することをコンピューターにさせようとするデータ解析テクニックです。機械学習アルゴリズムは所定の方程式をモデルとして ...\n",
      "https://jp.mathworks.com/discovery/machine-learning.html\n",
      "---\n",
      "機械学習とは？なぜ注目されるのか、手法・活用事例 ... - NEC\n",
      "機械学習とは、コンピュータ（機械）が多様なデータから対応パターンとルールを自動で学習する技術です。 これらのパターンやルールをもとに、データの分類や予測などを実 ...\n",
      "https://jpn.nec.com/solution/dotdata/tips/machine-learning/index.html\n"
     ]
    }
   ],
   "source": [
    "print(web_search.invoke({\"query\": \"機械学習とは？\"}))"
   ]
  },
  {
   "cell_type": "markdown",
   "metadata": {},
   "source": [
    "## RAGツール"
   ]
  },
  {
   "cell_type": "markdown",
   "metadata": {},
   "source": [
    "### データセットの準備"
   ]
  },
  {
   "cell_type": "code",
   "execution_count": 1,
   "metadata": {},
   "outputs": [
    {
     "data": {
      "text/plain": [
       "Dataset({\n",
       "    features: ['id', 'title', 'content', 'prechunk_id', 'postchunk_id', 'arxiv_id', 'references'],\n",
       "    num_rows: 209760\n",
       "})"
      ]
     },
     "execution_count": 1,
     "metadata": {},
     "output_type": "execute_result"
    }
   ],
   "source": [
    "from datasets import load_dataset\n",
    "\n",
    "dataset = load_dataset(\"jamescalam/ai-arxiv2-semantic-chunks\", split=\"train\")\n",
    "dataset"
   ]
  },
  {
   "cell_type": "code",
   "execution_count": 2,
   "metadata": {},
   "outputs": [
    {
     "data": {
      "text/plain": [
       "{'id': '2401.04088#0',\n",
       " 'title': 'Mixtral of Experts',\n",
       " 'content': '4 2 0 2 n a J 8 ] G L . s c [ 1 v 8 8 0 4 0 . 1 0 4 2 : v i X r a # Mixtral of Experts Albert Q. Jiang, Alexandre Sablayrolles, Antoine Roux, Arthur Mensch, Blanche Savary, Chris Bamford, Devendra Singh Chaplot, Diego de las Casas, Emma Bou Hanna, Florian Bressand, Gianna Lengyel, Guillaume Bour, Guillaume Lample, LÃ©lio Renard Lavaud, Lucile Saulnier, Marie-Anne Lachaux, Pierre Stock, Sandeep Subramanian, Sophia Yang, Szymon Antoniak, Teven Le Scao, ThÃ©ophile Gervet, Thibaut Lavril, Thomas Wang, TimothÃ©e Lacroix, William El Sayed Abstract We introduce Mixtral 8x7B, a Sparse Mixture of Experts (SMoE) language model. Mixtral has the same architecture as Mistral 7B, with the difference that each layer is composed of 8 feedforward blocks (i.e. experts). For every token, at each layer, a router network selects two experts to process the current state and combine their outputs. Even though each token only sees two experts, the selected experts can be different at each timestep. As a result, each token has access to 47B parameters, but only uses 13B active parameters during inference. Mixtral was trained with a context size of 32k tokens and it outperforms or matches Llama 2 70B and GPT-3.5 across all evaluated benchmarks. In particular, Mixtral vastly outperforms Llama 2 70B on mathematics, code generation, and multilingual benchmarks. We also provide a model fine- tuned to follow instructions, Mixtral 8x7B â Instruct, that surpasses GPT-3.5 Turbo, Claude-2.1, Gemini Pro, and Llama 2 70B â chat model on human bench- marks. Both the base and instruct models are released under the Apache 2.0 license.',\n",
       " 'prechunk_id': '',\n",
       " 'postchunk_id': '2401.04088#1',\n",
       " 'arxiv_id': '2401.04088',\n",
       " 'references': ['1905.07830']}"
      ]
     },
     "execution_count": 2,
     "metadata": {},
     "output_type": "execute_result"
    }
   ],
   "source": [
    "dataset[0]"
   ]
  },
  {
   "cell_type": "code",
   "execution_count": 3,
   "metadata": {},
   "outputs": [],
   "source": [
    "from semantic_router.encoders import OpenAIEncoder\n",
    "\n",
    "encoder = OpenAIEncoder(name=\"text-embedding-3-small\")"
   ]
  },
  {
   "cell_type": "code",
   "execution_count": 4,
   "metadata": {},
   "outputs": [
    {
     "name": "stdout",
     "output_type": "stream",
     "text": [
      "1\n",
      "1536\n"
     ]
    }
   ],
   "source": [
    "# TEST\n",
    "embeddings = encoder([\"テストだよ\"])\n",
    "print(len(embeddings))\n",
    "print(len(embeddings[0]))"
   ]
  },
  {
   "cell_type": "code",
   "execution_count": null,
   "metadata": {},
   "outputs": [],
   "source": [
    "import os\n",
    "from pinecone import Pinecone\n",
    "\n",
    "api_key = os.getenv(\"PINECONE_API_KEY\")\n",
    "\n",
    "# PineconeはプロジェクトごとにAPIキーがあるので事前にプロジェクトを作成しておく\n",
    "pc = Pinecone(api_key=api_key)"
   ]
  },
  {
   "cell_type": "code",
   "execution_count": 9,
   "metadata": {},
   "outputs": [],
   "source": [
    "from pinecone import ServerlessSpec\n",
    "\n",
    "spec = ServerlessSpec(\n",
    "    cloud=\"aws\",\n",
    "    region=\"us-east-1\",\n",
    ")"
   ]
  },
  {
   "cell_type": "code",
   "execution_count": 10,
   "metadata": {},
   "outputs": [
    {
     "data": {
      "text/plain": [
       "{'dimension': 1536,\n",
       " 'index_fullness': 0.0,\n",
       " 'namespaces': {},\n",
       " 'total_vector_count': 0}"
      ]
     },
     "execution_count": 10,
     "metadata": {},
     "output_type": "execute_result"
    }
   ],
   "source": [
    "# 新しいインデックスを作成\n",
    "import time\n",
    "\n",
    "index_name = \"gpt-4o-research-agent\"\n",
    "\n",
    "# check if index already exists (it shouldn't if this is first time)\n",
    "if index_name not in pc.list_indexes().names():\n",
    "    # if does not exist, create index\n",
    "    pc.create_index(\n",
    "        index_name,\n",
    "        dimension=1536,  # dimensionality of embed 3\n",
    "        metric='dotproduct',\n",
    "        spec=spec\n",
    "    )\n",
    "    # wait for index to be initialized\n",
    "    while not pc.describe_index(index_name).status['ready']:\n",
    "        time.sleep(1)\n",
    "\n",
    "# connect to index\n",
    "index = pc.Index(index_name)\n",
    "time.sleep(1)\n",
    "# view index stats\n",
    "index.describe_index_stats()"
   ]
  },
  {
   "cell_type": "code",
   "execution_count": 11,
   "metadata": {},
   "outputs": [
    {
     "data": {
      "text/plain": [
       "10000"
      ]
     },
     "execution_count": 11,
     "metadata": {},
     "output_type": "execute_result"
    }
   ],
   "source": [
    "# インデックスを作成\n",
    "from tqdm.auto import tqdm\n",
    "\n",
    "# easier to work with dataset as pandas dataframe\n",
    "data = dataset.to_pandas().iloc[:10000]\n",
    "len(data)"
   ]
  },
  {
   "cell_type": "code",
   "execution_count": 12,
   "metadata": {},
   "outputs": [
    {
     "data": {
      "application/vnd.jupyter.widget-view+json": {
       "model_id": "1a17dbc63c6b4f76bf1f68a840f23a67",
       "version_major": 2,
       "version_minor": 0
      },
      "text/plain": [
       "  0%|          | 0/79 [00:00<?, ?it/s]"
      ]
     },
     "metadata": {},
     "output_type": "display_data"
    }
   ],
   "source": [
    "batch_size = 128\n",
    "\n",
    "for i in tqdm(range(0, len(data), batch_size)):\n",
    "    i_end = min(len(data), i+batch_size)\n",
    "    batch = data[i:i_end].to_dict(orient=\"records\")\n",
    "    # get batch of data\n",
    "    metadata = [{\n",
    "        \"title\": r[\"title\"],\n",
    "        \"content\": r[\"content\"],\n",
    "        \"arxiv_id\": r[\"arxiv_id\"],\n",
    "        \"references\": r[\"references\"].tolist()\n",
    "    } for r in batch]\n",
    "    # generate unique ids for each chunk\n",
    "    ids = [r[\"id\"] for r in batch]\n",
    "    # get text content to embed\n",
    "    content = [r[\"content\"] for r in batch]\n",
    "    # embed text\n",
    "    embeds = encoder(content)\n",
    "    # add to Pinecone\n",
    "    index.upsert(vectors=zip(ids, embeds, metadata))"
   ]
  },
  {
   "cell_type": "markdown",
   "metadata": {},
   "source": [
    "## RAGツール"
   ]
  },
  {
   "cell_type": "code",
   "execution_count": 13,
   "metadata": {},
   "outputs": [],
   "source": [
    "from langchain_core.tools import tool\n",
    "\n",
    "def format_rag_contexts(matches: list):\n",
    "    contexts = []\n",
    "    for x in matches:\n",
    "        text = (\n",
    "            f\"Title: {x['metadata']['title']}\\n\"\n",
    "            f\"Content: {x['metadata']['content']}\\n\"\n",
    "            f\"ArXiv ID: {x['metadata']['arxiv_id']}\\n\"\n",
    "            f\"Related Papers: {x['metadata']['references']}\\n\"\n",
    "        )\n",
    "        contexts.append(text)\n",
    "    context_str = \"\\n---\\n\".join(contexts)\n",
    "    return context_str\n",
    "\n",
    "@tool(\"rag_search_filter\")\n",
    "def rag_search_filter(query: str, arxiv_id: str):\n",
    "    \"\"\"Finds information from our ArXiv database using a natural language query\n",
    "    and a specific ArXiv ID. Allows us to learn more details about a specific paper.\"\"\"\n",
    "    xq = encoder([query])\n",
    "    xc = index.query(vector=xq, top_k=6, include_metadata=True, filter={\"arxiv_id\": arxiv_id})\n",
    "    context_str = format_rag_contexts(xc[\"matches\"])\n",
    "    return context_str\n",
    "\n",
    "@tool(\"rag_search\")\n",
    "def rag_search(query: str):\n",
    "    \"\"\"Finds specialist information on AI using a natural language query.\"\"\"\n",
    "    xq = encoder([query])\n",
    "    xc = index.query(vector=xq, top_k=2, include_metadata=True)\n",
    "    context_str = format_rag_contexts(xc[\"matches\"])\n",
    "    return context_str"
   ]
  },
  {
   "cell_type": "code",
   "execution_count": 15,
   "metadata": {},
   "outputs": [
    {
     "name": "stdout",
     "output_type": "stream",
     "text": [
      "Title: AutoGen: Enabling Next-Gen LLM Applications via Multi-Agent Conversation\n",
      "Content: 4 AutoGen features the following design patterns to facilitate conversation programming: 1. Unified interfaces and auto-reply mechanisms for automated agent chat. Agents in AutoGen have unified conversation interfaces for performing the corresponding conversation- centric computation, including a send/receive function for sending/receiving messages and a generate reply function for taking actions and generating a response based on the received message. AutoGen also introduces and by default adopts an agent auto-reply mechanism to realize conversation-driven control: Once an agent receives a message from another agent, it au- tomatically invokes generate reply and sends the reply back to the sender unless a termination condition is satisfied. AutoGen provides built-in reply functions based on LLM inference, code or function execution, or human input. One can also register custom reply functions to customize the behavior pattern of an agent, e.g., chatting with another agent before replying to the sender agent. Under this mechanism, once the reply functions are registered, and the conversation is initialized, the conversation flow is naturally induced, and thus the agent conversation proceeds naturally without any extra control plane, i.e., a special module that controls the conversation flow. For example, with the developer code in the blue-shaded area (marked â Developer Codeâ ) of Figure 2, one can readily trigger the conversation among the agents, and the conversation would proceed automatically, as shown in the dialog box in the grey shaded area (marked â Pro- gram Executionâ ) of Figure 2. The auto-reply mechanism provides a decentralized, modular, and unified way to define the workflow. 2. Control by fusion of programming and natural language. AutoGen allows the usage of programming and natural language in various control flow management patterns: 1) Natural- language control via LLMs. In AutoGen, one can control the conversation flow by prompting the LLM-backed agents with natural language. For instance, the default system message of the built-in AssistantAgent in AutoGen uses natural language to instruct the agent to fix errors and generate code again if the previous result indicates there are errors. It also guides the agent to confine the LLM output to certain structures, making it easier for other tool-backed agents to consume. For example, instructing the agent to reply with â TERMINATEâ when all tasks are completed to terminate the program.\n",
      "ArXiv ID: 2308.08155\n",
      "Related Papers: ['2103.03874']\n",
      "\n",
      "---\n",
      "Title: AutoGen: Enabling Next-Gen LLM Applications via Multi-Agent Conversation\n",
      "Content: pattern, agent topology remains unchanged regardless of different inputs. AutoGen allows flexible conversation patterns, including both static and dynamic patterns that can be customized based on different application needs. execution-capable: whether the system can execute LLM- generated code; human involvement: whether (and how) the system allows human participation during the execution process of the system. AutoGen allows flexible human involvement in multi- agent conversation with the option for humans to skip providing inputs. Aspect Infrastructure Conversation pattern Execution-capable Human involvement AutoGen Multi-agent Debate â flexible â chat/skip â static â â CAMEL BabyAGI MetaGPT â static â â â static â â â static â â 15 # B Expanded Discussion The applications in Section 3 show how AutoGen not only enables new applications but also helps renovate existing ones. For example, in A1 (scenario 3), A5, and A6, AutoGen enabled the cre- ation of multi-agent conversations that follow a dynamic pattern instead of a fixed back-and-forth. And in both A5 and A6, humans can participate in the activities together with multiple other AI agents in a conversational manner. Similarly, A1-A4 show how popular applications can be reno- vated quickly with AutoGen. Despite the complexity of these applications (most of them involve more than two agents or dynamic multi-turn agent cooperation), our AutoGen-based implementa- tion remains simple, demonstrating promising opportunities to build creative applications and a large space for innovation. In reflecting on why these benefits can be achieved in these applications with AutoGen, we believe there are a few reasons:\n",
      "ArXiv ID: 2308.08155\n",
      "Related Papers: ['2103.03874']\n",
      "\n"
     ]
    }
   ],
   "source": [
    "print(rag_search.invoke({\"query\": \"AutoGenとは？\"}))"
   ]
  },
  {
   "cell_type": "code",
   "execution_count": 16,
   "metadata": {},
   "outputs": [
    {
     "name": "stdout",
     "output_type": "stream",
     "text": [
      "Title: AutoGen: Enabling Next-Gen LLM Applications via Multi-Agent Conversation\n",
      "Content: 4 AutoGen features the following design patterns to facilitate conversation programming: 1. Unified interfaces and auto-reply mechanisms for automated agent chat. Agents in AutoGen have unified conversation interfaces for performing the corresponding conversation- centric computation, including a send/receive function for sending/receiving messages and a generate reply function for taking actions and generating a response based on the received message. AutoGen also introduces and by default adopts an agent auto-reply mechanism to realize conversation-driven control: Once an agent receives a message from another agent, it au- tomatically invokes generate reply and sends the reply back to the sender unless a termination condition is satisfied. AutoGen provides built-in reply functions based on LLM inference, code or function execution, or human input. One can also register custom reply functions to customize the behavior pattern of an agent, e.g., chatting with another agent before replying to the sender agent. Under this mechanism, once the reply functions are registered, and the conversation is initialized, the conversation flow is naturally induced, and thus the agent conversation proceeds naturally without any extra control plane, i.e., a special module that controls the conversation flow. For example, with the developer code in the blue-shaded area (marked â Developer Codeâ ) of Figure 2, one can readily trigger the conversation among the agents, and the conversation would proceed automatically, as shown in the dialog box in the grey shaded area (marked â Pro- gram Executionâ ) of Figure 2. The auto-reply mechanism provides a decentralized, modular, and unified way to define the workflow. 2. Control by fusion of programming and natural language. AutoGen allows the usage of programming and natural language in various control flow management patterns: 1) Natural- language control via LLMs. In AutoGen, one can control the conversation flow by prompting the LLM-backed agents with natural language. For instance, the default system message of the built-in AssistantAgent in AutoGen uses natural language to instruct the agent to fix errors and generate code again if the previous result indicates there are errors. It also guides the agent to confine the LLM output to certain structures, making it easier for other tool-backed agents to consume. For example, instructing the agent to reply with â TERMINATEâ when all tasks are completed to terminate the program.\n",
      "ArXiv ID: 2308.08155\n",
      "Related Papers: ['2103.03874']\n",
      "\n",
      "---\n",
      "Title: AutoGen: Enabling Next-Gen LLM Applications via Multi-Agent Conversation\n",
      "Content: pattern, agent topology remains unchanged regardless of different inputs. AutoGen allows flexible conversation patterns, including both static and dynamic patterns that can be customized based on different application needs. execution-capable: whether the system can execute LLM- generated code; human involvement: whether (and how) the system allows human participation during the execution process of the system. AutoGen allows flexible human involvement in multi- agent conversation with the option for humans to skip providing inputs. Aspect Infrastructure Conversation pattern Execution-capable Human involvement AutoGen Multi-agent Debate â flexible â chat/skip â static â â CAMEL BabyAGI MetaGPT â static â â â static â â â static â â 15 # B Expanded Discussion The applications in Section 3 show how AutoGen not only enables new applications but also helps renovate existing ones. For example, in A1 (scenario 3), A5, and A6, AutoGen enabled the cre- ation of multi-agent conversations that follow a dynamic pattern instead of a fixed back-and-forth. And in both A5 and A6, humans can participate in the activities together with multiple other AI agents in a conversational manner. Similarly, A1-A4 show how popular applications can be reno- vated quickly with AutoGen. Despite the complexity of these applications (most of them involve more than two agents or dynamic multi-turn agent cooperation), our AutoGen-based implementa- tion remains simple, demonstrating promising opportunities to build creative applications and a large space for innovation. In reflecting on why these benefits can be achieved in these applications with AutoGen, we believe there are a few reasons:\n",
      "ArXiv ID: 2308.08155\n",
      "Related Papers: ['2103.03874']\n",
      "\n",
      "---\n",
      "Title: AutoGen: Enabling Next-Gen LLM Applications via Multi-Agent Conversation\n",
      "Content: â ¢ Ease of use: The built-in agents can be used out-of-the-box, delivering strong performance even without any customization. (A1, A3) â ¢ Modularity: The division of tasks into separate agents promotes modularity in the system. Each agent can be developed, tested, and maintained independently, simplifying the overall develop- ment process and facilitating code management. (A3, A4, A5, and A6) â ¢ Programmability: AutoGen allows users to extend/customize existing agents to develop systems satisfying their specific needs with ease. (A1-A6). For example, with AutoGen, the core workflow code in A4 is reduced from over 430 lines to 100 lines, for a 4x saving. Allowing human involvement: AutoGen provides a native mechanism to achieve human partici- pation and/or human oversight. With AutoGen, humans can seamlessly and optionally cooperate with AIs to solve problems or generally participate in the activity. AutoGen also facilitates inter- active user instructions to ensure the process stays on the desired path. (A1, A2, A5, and A6) â ¢ Collaborative/adversarial agent interactions: Like many collaborative agent systems (Dong et al., 2023), agents in AutoGen can share information and knowledge, to complement each otherâ s abilities and collectively arrive at better solutions. (A1, A2, A3, and A4). Analogously, in certain scenarios, some agents are required to work in an adversarial way. Relevant information is shared among different conversations in a controlled manner, preventing distraction or hallucination. (A4, A6). AutoGen supports both patterns, enabling effective utilization and augmentation of LLMs. # B.1 General Guidelines for Using AutoGen Below we give some recommendations for using agents in AutoGen to accomplish a task. 1. Consider using built-in agents first. For example, AssistantAgent is pre-configured to be backed by GPT-4, with a carefully designed system message for generic problem-solving via code. The UserProxyAgent is configured to solicit human inputs and perform tool execution. Many problems can be solved by simply combining these two agents.\n",
      "ArXiv ID: 2308.08155\n",
      "Related Papers: ['2103.03874']\n",
      "\n",
      "---\n",
      "Title: AutoGen: Enabling Next-Gen LLM Applications via Multi-Agent Conversation\n",
      "Content: AutoGen also offers enhanced LLM inference features such as result caching, error handling, message templating, etc., via an enhanced LLM inference layer. 2) Humans. Human involvement is desired or even essential in many LLM applications. AutoGen lets a human participate in agent conversation via human- backed agents, which could solicit human inputs at certain rounds of a conversation depending on the agent configuration. The default user proxy agent allows configurable human involvement levels and patterns, e.g., frequency and conditions for requesting human input including the option for humans to skip providing input. 3) Tools. Tool-backed agents have the capability to execute tools via code execution or function execution. For example, the default user proxy agent in AutoGen is able to execute code suggested by LLMs, or make LLM-suggested function calls. Agent customization and cooperation. Based on application-specific needs, each agent can be configured to have a mix of basic back-end types to display complex behavior in multi-agent con- versations. AutoGen allows easy creation of agents with specialized capabilities and roles by reusing or extending the built-in agents. The yellow-shaded area of Figure 2 provides a sketch of the built-in agents in AutoGen. The ConversableAgent class is the highest-level agent abstraction and, by default, can use LLMs, humans, and tools. The AssistantAgent and UserProxyAgent are two pre-configured ConversableAgent subclasses, each representing a common usage mode, i.e., act- ing as an AI assistant (backed by LLMs) and acting as a human proxy to solicit human input or execute code/function calls (backed by humans and/or tools). In the example on the right-hand side of Figure 1, an LLM-backed assistant agent and a tool- and human-backed user proxy agent are deployed together to tackle a task. Here, the assistant agent generates a solution with the help of LLMs and passes the solution to the user proxy agent. Then, the user proxy agent solicits human inputs or executes the assistantâ s code and passes the results as feedback back to the assistant. 4Appendix C presents an example of such novel prompting techniques which empowers the default LLM- backed assistant agent in AutoGen to converse with other agents in multi-step problem solving. 3 ConversableAgent Unified Conversation Interfaces: + send + receive + generate_reply Agent Customization: human_input_mode = â NEVERâ\n",
      "ArXiv ID: 2308.08155\n",
      "Related Papers: ['2103.03874']\n",
      "\n",
      "---\n",
      "Title: AutoGen: Enabling Next-Gen LLM Applications via Multi-Agent Conversation\n",
      "Content: Takeaways: For this application, AutoGen stood out as a more user-friendly option, offering mod- ularity and programmability: It streamlined the process with autonomous conversations between the assistant and executor, and provided readily available solutions for agent-environment interactions. The built-in AssistantAgent was directly reusable and exhibited strong performance without cus- tomization. Moreover, the decoupling of the execution and assistant agent ensures that modifications to one component do not adversely impact the other. This convenience simplifies maintenance and future updates.\n",
      "ArXiv ID: 2308.08155\n",
      "Related Papers: ['2103.03874']\n",
      "\n",
      "---\n",
      "Title: AutoGen: Enabling Next-Gen LLM Applications via Multi-Agent Conversation\n",
      "Content: Both steps can be achieved via a fusion of natural and pro- gramming languages to build applications with a wide range of conversation patterns and agent behaviors. AutoGen provides ready-to-use implementations and also allows easy extension and experimentation for both steps. (Section 2.2) 3We refer to Appendix A for a detailed discussion. 2 AutoGen also provides a collection of multi-agent applications created using conversable agents and conversation programming. These applications demonstrate how AutoGen can easily support applications of various complexities and LLMs of various capabilities. Moreover, we perform both evaluation on benchmarks and a pilot study of new applications. The results show that AutoGen can help achieve outstanding performance on many tasks, and enable innovative ways of using LLMs, while reducing development effort. (Section 3 and Appendix D) # 2 The AutoGen Framework To reduce the effort required for developers to create complex LLM applications across various do- mains, a core design principle of AutoGen is to streamline and consolidate multi-agent workflows using multi-agent conversations. This approach also aims to maximize the reusability of imple- mented agents. This section introduces the two key concepts of AutoGen: conversable agents and conversation programming. # 2.1 Conversable Agents In AutoGen, a conversable agent is an entity with a specific role that can pass messages to send and receive information to and from other conversable agents, e.g., to start or continue a conversation. It maintains its internal context based on sent and received messages and can be configured to possess a set of capabilities, e.g., enabled by LLMs, tools, or human input, etc. The agents can act according to programmed behavior patterns described next. Agent capabilities powered by LLMs, humans, and tools. Since an agentâ s capabilities directly influence how it processes and responds to messages, AutoGen allows flexibility to endow its agents with various capabilities. AutoGen supports many common composable capabilities for agents, including 1) LLMs. LLM-backed agents exploit many capabilities of advanced LLMs such as role playing, implicit state inference and progress making conditioned on conversation history, providing feedback, adapting from feedback, and coding. These capabilities can be combined in different ways via novel prompting techniques4 to increase an agentâ s skill and autonomy.\n",
      "ArXiv ID: 2308.08155\n",
      "Related Papers: ['2103.03874']\n",
      "\n"
     ]
    }
   ],
   "source": [
    "print(rag_search_filter.invoke({\"query\": \"AutoGenとは？\", \"arxiv_id\": \"2308.08155\"}))"
   ]
  },
  {
   "cell_type": "markdown",
   "metadata": {},
   "source": [
    "## Final Answerツール"
   ]
  },
  {
   "cell_type": "code",
   "execution_count": 47,
   "metadata": {},
   "outputs": [],
   "source": [
    "@tool(\"final_answer\")\n",
    "def final_answer(\n",
    "   introduction: str,\n",
    "   research_steps: str,\n",
    "   main_body: str,\n",
    "   conclusion: str,\n",
    "   sources: str\n",
    "):\n",
    "   \"\"\" ユーザーへの自然言語の回答として、研究報告書の形式で返します。\n",
    "   この報告書にはいくつかのセクションがあります。\n",
    "   \n",
    "   それらは以下の通りです：\n",
    "    - introduction（はじめに）：ユーザーの質問と研究しているトピックを紹介する短い段落です。\n",
    "    - research_steps（研究のステップ）：報告書を作成するために取られたステップをいくつかの箇条書きで説明します。\n",
    "    - main_body（本体）：ユーザーの質問に対する高品質で簡潔な情報の大部分がここに含まれます。3～4段落の長さです。\n",
    "    - conclusion（結論）：発見された内容に関する簡潔で洗練された見解を提供する短い1段落の結論です。\n",
    "    - sources（参照元）：研究過程で参照したすべての情報に関する詳細な情報源を箇条書きで提供します。 \n",
    "    \n",
    "    内容は日本語に翻訳して出力してください。\"\"\"\n",
    "   if type(research_steps) is list:\n",
    "       research_steps = \"\\n\".join([f\"- {r}\" for r in research_steps])\n",
    "   if type(sources) is list:\n",
    "       sources = \"\\n\".join([f\"- {s}\" for s in sources])\n",
    "   return \"\""
   ]
  },
  {
   "cell_type": "markdown",
   "metadata": {},
   "source": [
    "## 意思決定者を定義する"
   ]
  },
  {
   "cell_type": "code",
   "execution_count": 19,
   "metadata": {},
   "outputs": [],
   "source": [
    "from langchain_core.prompts import ChatPromptTemplate, MessagesPlaceholder\n",
    "\n",
    "\n",
    "system_prompt = \"\"\"あなたはオラクル、偉大なAIの意思決定者です。\n",
    "ユーザーのクエリに対して、提供されたツールのリストに基づいて何をするかを決定しなければなりません。\n",
    "\n",
    "\n",
    "もし特定のクエリでツールが（スクラッチパッドで）使用されているのを見た場合、\n",
    "そのクエリに対して同じツールを再度使用しないでください。\n",
    "また、どのツールも2回以上使用しないでください（つまり、ツールがスクラッチパッドに2回現れた場合、\n",
    "それを再度使用しないでください）。\n",
    "\n",
    "\n",
    "ユーザーに答えを提供する前に、さまざまなソースから情報を集めることを目指してください。\n",
    "ユーザーの質問に答えるための十分な情報（スクラッチパッドに保存されたもの）を集めたら、\n",
    "final_answerツールを使用してください。\"\"\"\n",
    "\n",
    "\n",
    "\n",
    "prompt = ChatPromptTemplate.from_messages([\n",
    "   (\"system\", system_prompt),\n",
    "   MessagesPlaceholder(variable_name=\"chat_history\"),\n",
    "   (\"user\", \"{input}\"),\n",
    "   (\"assistant\", \"scratchpad: {scratchpad}\"),\n",
    "])"
   ]
  },
  {
   "cell_type": "code",
   "execution_count": 48,
   "metadata": {},
   "outputs": [],
   "source": [
    "from langchain_core.messages import ToolCall, ToolMessage\n",
    "from langchain_openai import ChatOpenAI\n",
    "\n",
    "\n",
    "llm = ChatOpenAI(\n",
    "   model=\"gpt-4o\",\n",
    "   openai_api_key=os.environ[\"OPENAI_API_KEY\"],\n",
    "   temperature=0\n",
    ")\n",
    "\n",
    "\n",
    "tools=[\n",
    "   rag_search_filter,\n",
    "   rag_search,\n",
    "   fetch_arxiv,\n",
    "   web_search,\n",
    "   final_answer\n",
    "]\n",
    "\n",
    "\n",
    "# define a function to transform intermediate_steps from list\n",
    "# of AgentAction to scratchpad string\n",
    "def create_scratchpad(intermediate_steps: list[AgentAction]):\n",
    "   research_steps = []\n",
    "   for i, action in enumerate(intermediate_steps):\n",
    "       if action.log != \"TBD\":\n",
    "           # this was the ToolExecution\n",
    "           research_steps.append(\n",
    "               f\"Tool: {action.tool}, input: {action.tool_input}\\n\"\n",
    "               f\"Output: {action.log}\"\n",
    "           )\n",
    "   return \"\\n---\\n\".join(research_steps)\n",
    "\n",
    "\n",
    "oracle = (\n",
    "   {\n",
    "       \"input\": lambda x: x[\"input\"],\n",
    "       \"chat_history\": lambda x: x[\"chat_history\"],\n",
    "       \"scratchpad\": lambda x: create_scratchpad(\n",
    "           intermediate_steps=x[\"intermediate_steps\"]\n",
    "       ),\n",
    "   }\n",
    "   | prompt\n",
    "   | llm.bind_tools(tools, tool_choice=\"any\")\n",
    ")"
   ]
  },
  {
   "cell_type": "code",
   "execution_count": 49,
   "metadata": {},
   "outputs": [
    {
     "name": "stdout",
     "output_type": "stream",
     "text": [
      "content='' additional_kwargs={'tool_calls': [{'id': 'call_YfgQ3n19XEqafCpKmr56bGc8', 'function': {'arguments': '{\"query\":\"犬についての面白い事実\"}', 'name': 'web_search'}, 'type': 'function'}], 'refusal': None} response_metadata={'token_usage': {'completion_tokens': 21, 'prompt_tokens': 696, 'total_tokens': 717, 'completion_tokens_details': {'accepted_prediction_tokens': 0, 'audio_tokens': 0, 'reasoning_tokens': 0, 'rejected_prediction_tokens': 0}, 'prompt_tokens_details': {'audio_tokens': 0, 'cached_tokens': 0}}, 'model_name': 'gpt-4o-2024-08-06', 'system_fingerprint': 'fp_159d8341cc', 'finish_reason': 'tool_calls', 'logprobs': None} id='run-489dc1bb-85b5-405e-a55f-88dfb8211bd4-0' tool_calls=[{'name': 'web_search', 'args': {'query': '犬についての面白い事実'}, 'id': 'call_YfgQ3n19XEqafCpKmr56bGc8', 'type': 'tool_call'}] usage_metadata={'input_tokens': 696, 'output_tokens': 21, 'total_tokens': 717, 'input_token_details': {'audio': 0, 'cache_read': 0}, 'output_token_details': {'audio': 0, 'reasoning': 0}}\n"
     ]
    }
   ],
   "source": [
    "inputs = {\n",
    "    \"input\": \"犬についての面白い事実を教えて\",\n",
    "    \"chat_history\": [],\n",
    "    \"intermediate_steps\": []\n",
    "}\n",
    "\n",
    "out = oracle.invoke(inputs)\n",
    "print(out)"
   ]
  },
  {
   "cell_type": "code",
   "execution_count": 50,
   "metadata": {},
   "outputs": [
    {
     "data": {
      "text/plain": [
       "[{'name': 'web_search',\n",
       "  'args': {'query': '犬についての面白い事実'},\n",
       "  'id': 'call_YfgQ3n19XEqafCpKmr56bGc8',\n",
       "  'type': 'tool_call'}]"
      ]
     },
     "execution_count": 50,
     "metadata": {},
     "output_type": "execute_result"
    }
   ],
   "source": [
    "out.tool_calls"
   ]
  },
  {
   "cell_type": "markdown",
   "metadata": {},
   "source": [
    "## グラフコンポーネントを作成"
   ]
  },
  {
   "cell_type": "code",
   "execution_count": 51,
   "metadata": {},
   "outputs": [],
   "source": [
    "from typing import TypedDict\n",
    "\n",
    "\n",
    "def run_oracle(state: TypedDict):\n",
    "   print(\"run_oracle\")\n",
    "   print(f\"intermediate_steps: {state['intermediate_steps']}\")\n",
    "   out = oracle.invoke(state)\n",
    "   tool_name = out.tool_calls[0][\"name\"]\n",
    "   tool_args = out.tool_calls[0][\"args\"]\n",
    "   action_out = AgentAction(\n",
    "       tool=tool_name,\n",
    "       tool_input=tool_args,\n",
    "       log=\"TBD\"\n",
    "   )\n",
    "   return {\n",
    "       \"intermediate_steps\": [action_out]\n",
    "   }\n",
    "\n",
    "\n",
    "def router(state: TypedDict):\n",
    "   # return the tool name to use\n",
    "   if isinstance(state[\"intermediate_steps\"], list):\n",
    "       return state[\"intermediate_steps\"][-1].tool\n",
    "   else:\n",
    "       # if we output bad format go to final answer\n",
    "       print(\"Router invalid format\")\n",
    "       return \"final_answer\""
   ]
  },
  {
   "cell_type": "code",
   "execution_count": 52,
   "metadata": {},
   "outputs": [],
   "source": [
    "tool_str_to_func = {\n",
    "   \"rag_search_filter\": rag_search_filter,\n",
    "   \"rag_search\": rag_search,\n",
    "   \"fetch_arxiv\": fetch_arxiv,\n",
    "   \"web_search\": web_search,\n",
    "   \"final_answer\": final_answer\n",
    "}\n",
    "\n",
    "\n",
    "def run_tool(state: TypedDict):\n",
    "   # use this as helper function so we repeat less code\n",
    "   tool_name = state[\"intermediate_steps\"][-1].tool\n",
    "   tool_args = state[\"intermediate_steps\"][-1].tool_input\n",
    "   print(f\"{tool_name}.invoke(input={tool_args})\")\n",
    "   # run tool\n",
    "   out = tool_str_to_func[tool_name].invoke(input=tool_args)\n",
    "   action_out = AgentAction(\n",
    "       tool=tool_name,\n",
    "       tool_input=tool_args,\n",
    "       log=str(out)\n",
    "   )\n",
    "   return {\"intermediate_steps\": [action_out]}"
   ]
  },
  {
   "cell_type": "code",
   "execution_count": 53,
   "metadata": {},
   "outputs": [],
   "source": [
    "from langgraph.graph import StateGraph, END\n",
    "\n",
    "# initialize the graph with our AgentState\n",
    "graph = StateGraph(AgentState)\n",
    "\n",
    "# add nodes\n",
    "graph.add_node(\"oracle\", run_oracle)\n",
    "graph.add_node(\"rag_search_filter\", run_tool)\n",
    "graph.add_node(\"rag_search\", run_tool)\n",
    "graph.add_node(\"fetch_arxiv\", run_tool)\n",
    "graph.add_node(\"web_search\", run_tool)\n",
    "graph.add_node(\"final_answer\", run_tool)\n",
    "\n",
    "# specify the entry node\n",
    "graph.set_entry_point(\"oracle\")\n",
    "\n",
    "# add the conditional edges which use the router\n",
    "graph.add_conditional_edges(\n",
    "   source=\"oracle\",  # where in graph to start\n",
    "   path=router,  # function to determine which node is called\n",
    ")\n",
    "\n",
    "# create edges from each tool back to the oracle\n",
    "for tool_obj in tools:\n",
    "   if tool_obj.name != \"final_answer\":\n",
    "       graph.add_edge(tool_obj.name, \"oracle\")\n",
    "\n",
    "# if anything goes to final answer, it must then move to END\n",
    "graph.add_edge(\"final_answer\", END)\n",
    "\n",
    "# finally, we compile our graph\n",
    "runnable = graph.compile()"
   ]
  },
  {
   "cell_type": "code",
   "execution_count": 54,
   "metadata": {},
   "outputs": [
    {
     "data": {
      "image/png": "[encoded data removed]",
      "text/plain": [
       "<IPython.core.display.Image object>"
      ]
     },
     "metadata": {},
     "output_type": "display_data"
    }
   ],
   "source": [
    "from IPython.display import display, Image\n",
    "\n",
    "display(Image(runnable.get_graph().draw_mermaid_png()))"
   ]
  },
  {
   "cell_type": "markdown",
   "metadata": {},
   "source": [
    "## レポートを作成"
   ]
  },
  {
   "cell_type": "code",
   "execution_count": 55,
   "metadata": {},
   "outputs": [
    {
     "name": "stdout",
     "output_type": "stream",
     "text": [
      "run_oracle\n",
      "intermediate_steps: []\n",
      "web_search.invoke(input={'query': '犬 面白い事実'})\n",
      "run_oracle\n",
      "intermediate_steps: [AgentAction(tool='web_search', tool_input={'query': '犬 面白い事実'}, log='TBD'), AgentAction(tool='web_search', tool_input={'query': '犬 面白い事実'}, log='犬に関する面白い10の事実: 私たちの毛むくじゃらの友達を ...\\n犬に関する面白い事実トップ10 · 1. 犬は驚異的な嗅覚を持っている · 2. サルーキは最古の犬種です · 3. 最も長生きした犬は31歳まで生きました · 4. 犬は地球の磁場を使っ ...\\nhttps://www.petradar.org/ja/articles/10-fun-dog-facts-understanding-our-furry-friends\\n---\\n犬の雑学！知らなかったうんちく10連発\\n1. 犬の血液型は全部で8種類 · 2. 犬があくびをする理由は「眠い」以外にもある · 3. 犬に鼻くそはできない · 4. 犬の鼻には温度を感知する機能がある.\\nhttps://wanchan.jp/living/detail/2010\\n---\\n思わずクスッ！これって愛犬だけ！？わんちゃんの面白行動 ...\\n1 わんちゃんは感情表現が豊かな生きもの · 2 わんちゃんの面白行動に迫る！ · 3 【画像あり】面白い表情や情けない表情のわんちゃんを一挙ご紹介！ · 4 わん ...\\nhttps://inunavi.plan-b.co.jp/funny_episode/\\n---\\n犬好きなら知っておこう！犬に関する雑学や豆知識\\n犬の嗅覚は、一般的に人間の6～10倍程度だと考えられています。 しかし、においの種類によっては約1億倍ともいわれていることをご存じでしょうか。 人間の ...\\nhttps://pet-info.event.rakuten.net/articles/15302129540\\n---\\n身近な存在、でも知らないことがたくさん！犬のおもしろ雑学まとめ\\n犬の血液型は全部で8種類！ 犬がうんちをするときにクルクル回る理由は？ ... 犬の平均寿命は13〜15歳！ギネス記録は？\\nhttps://onlineshop.sunshinecity.jp/blog/post-1369/')]\n",
      "final_answer.invoke(input={'introduction': '犬は人間の最良の友とされ、多くの家庭で愛されているペットです。彼らについての面白い事実を探求することで、犬のユニークな特性や行動についてより深く理解することができます。', 'research_steps': '- ウェブ検索を使用して、犬に関する面白い事実を調査しました。', 'main_body': '犬は驚異的な嗅覚を持っており、特定のにおいを人間の1億倍も敏感に感じ取ることができます。これは、彼らが捜索救助や麻薬探知などの分野で活躍する理由の一つです。また、サルーキという犬種は最古の犬種とされ、古代エジプト時代から存在していたと考えられています。さらに、犬の血液型は8種類あり、人間よりも多様です。犬がうんちをする際にクルクル回るのは、地球の磁場を感じ取っているためとも言われています。', 'conclusion': '犬はその驚異的な嗅覚や古代からの歴史、ユニークな行動など、多くの面白い特性を持っています。これらの事実は、犬が単なるペット以上の存在であり、私たちの生活に深く関わっていることを示しています。', 'sources': '- https://www.petradar.org/ja/articles/10-fun-dog-facts-understanding-our-furry-friends\\n- https://wanchan.jp/living/detail/2010\\n- https://pet-info.event.rakuten.net/articles/15302129540'})\n"
     ]
    }
   ],
   "source": [
    "out = runnable.invoke({\n",
    "    \"input\": \"犬についての面白い事実を教えて\",\n",
    "    \"chat_history\": [],\n",
    "})"
   ]
  },
  {
   "cell_type": "code",
   "execution_count": 56,
   "metadata": {},
   "outputs": [
    {
     "data": {
      "text/plain": [
       "{'input': '犬についての面白い事実を教えて',\n",
       " 'chat_history': [],\n",
       " 'intermediate_steps': [AgentAction(tool='web_search', tool_input={'query': '犬 面白い事実'}, log='TBD'),\n",
       "  AgentAction(tool='web_search', tool_input={'query': '犬 面白い事実'}, log='犬に関する面白い10の事実: 私たちの毛むくじゃらの友達を ...\\n犬に関する面白い事実トップ10 · 1. 犬は驚異的な嗅覚を持っている · 2. サルーキは最古の犬種です · 3. 最も長生きした犬は31歳まで生きました · 4. 犬は地球の磁場を使っ ...\\nhttps://www.petradar.org/ja/articles/10-fun-dog-facts-understanding-our-furry-friends\\n---\\n犬の雑学！知らなかったうんちく10連発\\n1. 犬の血液型は全部で8種類 · 2. 犬があくびをする理由は「眠い」以外にもある · 3. 犬に鼻くそはできない · 4. 犬の鼻には温度を感知する機能がある.\\nhttps://wanchan.jp/living/detail/2010\\n---\\n思わずクスッ！これって愛犬だけ！？わんちゃんの面白行動 ...\\n1 わんちゃんは感情表現が豊かな生きもの · 2 わんちゃんの面白行動に迫る！ · 3 【画像あり】面白い表情や情けない表情のわんちゃんを一挙ご紹介！ · 4 わん ...\\nhttps://inunavi.plan-b.co.jp/funny_episode/\\n---\\n犬好きなら知っておこう！犬に関する雑学や豆知識\\n犬の嗅覚は、一般的に人間の6～10倍程度だと考えられています。 しかし、においの種類によっては約1億倍ともいわれていることをご存じでしょうか。 人間の ...\\nhttps://pet-info.event.rakuten.net/articles/15302129540\\n---\\n身近な存在、でも知らないことがたくさん！犬のおもしろ雑学まとめ\\n犬の血液型は全部で8種類！ 犬がうんちをするときにクルクル回る理由は？ ... 犬の平均寿命は13〜15歳！ギネス記録は？\\nhttps://onlineshop.sunshinecity.jp/blog/post-1369/'),\n",
       "  AgentAction(tool='final_answer', tool_input={'introduction': '犬は人間の最良の友とされ、多くの家庭で愛されているペットです。彼らについての面白い事実を探求することで、犬のユニークな特性や行動についてより深く理解することができます。', 'research_steps': '- ウェブ検索を使用して、犬に関する面白い事実を調査しました。', 'main_body': '犬は驚異的な嗅覚を持っており、特定のにおいを人間の1億倍も敏感に感じ取ることができます。これは、彼らが捜索救助や麻薬探知などの分野で活躍する理由の一つです。また、サルーキという犬種は最古の犬種とされ、古代エジプト時代から存在していたと考えられています。さらに、犬の血液型は8種類あり、人間よりも多様です。犬がうんちをする際にクルクル回るのは、地球の磁場を感じ取っているためとも言われています。', 'conclusion': '犬はその驚異的な嗅覚や古代からの歴史、ユニークな行動など、多くの面白い特性を持っています。これらの事実は、犬が単なるペット以上の存在であり、私たちの生活に深く関わっていることを示しています。', 'sources': '- https://www.petradar.org/ja/articles/10-fun-dog-facts-understanding-our-furry-friends\\n- https://wanchan.jp/living/detail/2010\\n- https://pet-info.event.rakuten.net/articles/15302129540'}, log='TBD'),\n",
       "  AgentAction(tool='final_answer', tool_input={'introduction': '犬は人間の最良の友とされ、多くの家庭で愛されているペットです。彼らについての面白い事実を探求することで、犬のユニークな特性や行動についてより深く理解することができます。', 'research_steps': '- ウェブ検索を使用して、犬に関する面白い事実を調査しました。', 'main_body': '犬は驚異的な嗅覚を持っており、特定のにおいを人間の1億倍も敏感に感じ取ることができます。これは、彼らが捜索救助や麻薬探知などの分野で活躍する理由の一つです。また、サルーキという犬種は最古の犬種とされ、古代エジプト時代から存在していたと考えられています。さらに、犬の血液型は8種類あり、人間よりも多様です。犬がうんちをする際にクルクル回るのは、地球の磁場を感じ取っているためとも言われています。', 'conclusion': '犬はその驚異的な嗅覚や古代からの歴史、ユニークな行動など、多くの面白い特性を持っています。これらの事実は、犬が単なるペット以上の存在であり、私たちの生活に深く関わっていることを示しています。', 'sources': '- https://www.petradar.org/ja/articles/10-fun-dog-facts-understanding-our-furry-friends\\n- https://wanchan.jp/living/detail/2010\\n- https://pet-info.event.rakuten.net/articles/15302129540'}, log='')]}"
      ]
     },
     "execution_count": 56,
     "metadata": {},
     "output_type": "execute_result"
    }
   ],
   "source": [
    "out"
   ]
  },
  {
   "cell_type": "code",
   "execution_count": 57,
   "metadata": {},
   "outputs": [],
   "source": [
    "def build_report(output: dict):\n",
    "    research_steps = output[\"research_steps\"]\n",
    "    if type(research_steps) is list:\n",
    "        research_steps = \"\\n\".join([f\"- {r}\" for r in research_steps])\n",
    "    sources = output[\"sources\"]\n",
    "    if type(sources) is list:\n",
    "        sources = \"\\n\".join([f\"- {s}\" for s in sources])\n",
    "    return f\"\"\"\n",
    "INTRODUCTION\n",
    "------------\n",
    "{output[\"introduction\"]}\n",
    "\n",
    "RESEARCH STEPS\n",
    "--------------\n",
    "{research_steps}\n",
    "\n",
    "REPORT\n",
    "------\n",
    "{output[\"main_body\"]}\n",
    "\n",
    "CONCLUSION\n",
    "----------\n",
    "{output[\"conclusion\"]}\n",
    "\n",
    "SOURCES\n",
    "-------\n",
    "{sources}\n",
    "\"\"\""
   ]
  },
  {
   "cell_type": "code",
   "execution_count": 58,
   "metadata": {},
   "outputs": [
    {
     "name": "stdout",
     "output_type": "stream",
     "text": [
      "\n",
      "INTRODUCTION\n",
      "------------\n",
      "犬は人間の最良の友とされ、多くの家庭で愛されているペットです。彼らについての面白い事実を探求することで、犬のユニークな特性や行動についてより深く理解することができます。\n",
      "\n",
      "RESEARCH STEPS\n",
      "--------------\n",
      "- ウェブ検索を使用して、犬に関する面白い事実を調査しました。\n",
      "\n",
      "REPORT\n",
      "------\n",
      "犬は驚異的な嗅覚を持っており、特定のにおいを人間の1億倍も敏感に感じ取ることができます。これは、彼らが捜索救助や麻薬探知などの分野で活躍する理由の一つです。また、サルーキという犬種は最古の犬種とされ、古代エジプト時代から存在していたと考えられています。さらに、犬の血液型は8種類あり、人間よりも多様です。犬がうんちをする際にクルクル回るのは、地球の磁場を感じ取っているためとも言われています。\n",
      "\n",
      "CONCLUSION\n",
      "----------\n",
      "犬はその驚異的な嗅覚や古代からの歴史、ユニークな行動など、多くの面白い特性を持っています。これらの事実は、犬が単なるペット以上の存在であり、私たちの生活に深く関わっていることを示しています。\n",
      "\n",
      "SOURCES\n",
      "-------\n",
      "- https://www.petradar.org/ja/articles/10-fun-dog-facts-understanding-our-furry-friends\n",
      "- https://wanchan.jp/living/detail/2010\n",
      "- https://pet-info.event.rakuten.net/articles/15302129540\n",
      "\n"
     ]
    }
   ],
   "source": [
    "print(build_report(\n",
    "    output=out[\"intermediate_steps\"][-1].tool_input\n",
    "))"
   ]
  },
  {
   "cell_type": "code",
   "execution_count": 59,
   "metadata": {},
   "outputs": [
    {
     "name": "stdout",
     "output_type": "stream",
     "text": [
      "run_oracle\n",
      "intermediate_steps: []\n",
      "rag_search.invoke(input={'query': '人工知能の概要'})\n",
      "run_oracle\n",
      "intermediate_steps: [AgentAction(tool='rag_search', tool_input={'query': '人工知能の概要'}, log='TBD'), AgentAction(tool='rag_search', tool_input={'query': '人工知能の概要'}, log=\"Title: Cognitive Architectures for Language Agents\\nContent: Computational rationality: A converging paradigm for intelligence in brains, minds, and machines. Science, 349(6245):273â 278, 2015. T. L. Griffiths. Understanding human intelligence through human limitations. Trends in Cognitive Sciences, 24(11):873â 883, 2020. J. Gu, Y. Wang, K. Cho, and V. O. Li. Search engine guided neural machine translation. In Proceedings of the AAAI Conference on Artificial Intelligence, volume 32, 2018. L. Guan, K. Valmeekam, S. Sreedharan, and S. Kambhampati.\\nArXiv ID: 2309.02427\\nRelated Papers: ['2305.14909']\\n\\n---\\nTitle: The Good, The Bad, and Why: Unveiling Emotions in Generative AI\\nContent: 43, 2006. [6] Suzanne G Benson and Stephen P Dundis. Understanding and motivating health care employees: integrating maslowâ s hierarchy of needs, training and technology. Journal of nursing management, 11(5):315â 320, 2003. [7] SÂ´ebastien Bubeck, Varun Chandrasekaran, Ronen Eldan, Johannes Gehrke, Eric Horvitz, Ece Kamar, Peter Lee, Yin Tat Lee, Yuanzhi Li, Scott Lundberg, et al. Sparks of artificial general intelligence: Early experiments with gpt-4. arXiv preprint arXiv:2303.12712, 2023.\\nArXiv ID: 2312.11111\\nRelated Papers: ['2210.09261']\\n\")]\n",
      "web_search.invoke(input={'query': '人工知能の概要'})\n",
      "run_oracle\n",
      "intermediate_steps: [AgentAction(tool='rag_search', tool_input={'query': '人工知能の概要'}, log='TBD'), AgentAction(tool='rag_search', tool_input={'query': '人工知能の概要'}, log=\"Title: Cognitive Architectures for Language Agents\\nContent: Computational rationality: A converging paradigm for intelligence in brains, minds, and machines. Science, 349(6245):273â 278, 2015. T. L. Griffiths. Understanding human intelligence through human limitations. Trends in Cognitive Sciences, 24(11):873â 883, 2020. J. Gu, Y. Wang, K. Cho, and V. O. Li. Search engine guided neural machine translation. In Proceedings of the AAAI Conference on Artificial Intelligence, volume 32, 2018. L. Guan, K. Valmeekam, S. Sreedharan, and S. Kambhampati.\\nArXiv ID: 2309.02427\\nRelated Papers: ['2305.14909']\\n\\n---\\nTitle: The Good, The Bad, and Why: Unveiling Emotions in Generative AI\\nContent: 43, 2006. [6] Suzanne G Benson and Stephen P Dundis. Understanding and motivating health care employees: integrating maslowâ s hierarchy of needs, training and technology. Journal of nursing management, 11(5):315â 320, 2003. [7] SÂ´ebastien Bubeck, Varun Chandrasekaran, Ronen Eldan, Johannes Gehrke, Eric Horvitz, Ece Kamar, Peter Lee, Yin Tat Lee, Yuanzhi Li, Scott Lundberg, et al. Sparks of artificial general intelligence: Early experiments with gpt-4. arXiv preprint arXiv:2303.12712, 2023.\\nArXiv ID: 2312.11111\\nRelated Papers: ['2210.09261']\\n\"), AgentAction(tool='web_search', tool_input={'query': '人工知能の概要'}, log='TBD'), AgentAction(tool='web_search', tool_input={'query': '人工知能の概要'}, log='AI・人工知能とは？定義・歴史・種類・仕組みから事例まで徹底 ...\\n専門家によるAIの定義\\u200b 一般的なAIの認識としては「人間の知能をコンピューターを用いて人工的に再現したもの」といえますが、一般社団法人 人工知能学会 ...\\nhttps://aismiley.co.jp/ai_news/what-is-ai/\\n---\\n人工知能（AI）とは\\nAIは、データによる反復的な学習と発見を自動的に行います。 AIは、手作業のタスクを自動化するのではなく、頻繁かつ大量のタスクをコンピュータ化して実行します。そして ...\\nhttps://www.sas.com/ja_jp/insights/analytics/what-is-artificial-intelligence.html\\n---\\nAI（人工知能）とは AIの種類と仕組み、メリット\\nAI（人工知能）とは、コンピューターサイエンスの一分野で、音声認識、意志決定、視覚など、人間の知能に関連するタスクをコンピューターシステムが学習して実行すること ...\\nhttps://www.talend.com/jp/resources/what-is-artificial-intelligence/\\n---\\n人工知能（AI）とは | NTTデータ\\nAIは、一般的には「人が実現するさまざまな知覚や知性を人工的に再現するもの」という意味合いで理解されています。 しかし実際には、AIに対して一意に決まった定義が ...\\nhttps://www.nttdata.com/jp/ja/services/data-and-intelligence/001/\\n---\\nAI（人工知能）とは？意味やビジネスの例も交えわかりやすく解説\\nAIは一般的に、人間の言葉の理解や認識、推論などの知的行動をコンピュータに行わせる技術を指します。人工知能の概念は1950年頃から存在していましたが、 ...\\nhttps://www.nec-solutioninnovators.co.jp/sp/contents/column/20230526_ai.html')]\n",
      "final_answer.invoke(input={'introduction': '人工知能（AI）は、コンピュータが人間の知能を模倣し、学習、推論、認識などの知的行動を行う技術です。', 'research_steps': '- AIの概要について専門的な情報を取得するために、rag_searchを使用しました。\\n- AIの一般的な情報を補完するために、web_searchを使用しました。', 'main_body': '人工知能（AI）は、コンピュータサイエンスの一分野であり、人間の知能に関連するタスクをコンピュータシステムが学習して実行することを目的としています。AIは、データによる反復的な学習と発見を自動的に行い、頻繁かつ大量のタスクをコンピュータ化して実行します。AIの技術は、音声認識、意志決定、視覚などの分野で活用されており、これにより手作業のタスクを自動化するのではなく、より効率的にタスクを処理することが可能です。AIの概念は1950年頃から存在しており、現在では多くのビジネスや日常生活においてその技術が利用されています。', 'conclusion': 'AIは、コンピュータが人間の知能を模倣することで、さまざまな分野での効率化と自動化を実現しています。今後もAI技術の進化により、さらに多くの分野での応用が期待されます。', 'sources': '- Cognitive Architectures for Language Agents, ArXiv ID: 2309.02427\\n- The Good, The Bad, and Why: Unveiling Emotions in Generative AI, ArXiv ID: 2312.11111\\n- AI・人工知能とは？定義・歴史・種類・仕組みから事例まで徹底, https://aismiley.co.jp/ai_news/what-is-ai/\\n- 人工知能（AI）とは, https://www.sas.com/ja_jp/insights/analytics/what-is-artificial-intelligence.html\\n- AI（人工知能）とは AIの種類と仕組み、メリット, https://www.talend.com/jp/resources/what-is-artificial-intelligence/\\n- 人工知能（AI）とは | NTTデータ, https://www.nttdata.com/jp/ja/services/data-and-intelligence/001/\\n- AI（人工知能）とは？意味やビジネスの例も交えわかりやすく解説, https://www.nec-solutioninnovators.co.jp/sp/contents/column/20230526_ai.html'})\n",
      "\n",
      "INTRODUCTION\n",
      "------------\n",
      "人工知能（AI）は、コンピュータが人間の知能を模倣し、学習、推論、認識などの知的行動を行う技術です。\n",
      "\n",
      "RESEARCH STEPS\n",
      "--------------\n",
      "- AIの概要について専門的な情報を取得するために、rag_searchを使用しました。\n",
      "- AIの一般的な情報を補完するために、web_searchを使用しました。\n",
      "\n",
      "REPORT\n",
      "------\n",
      "人工知能（AI）は、コンピュータサイエンスの一分野であり、人間の知能に関連するタスクをコンピュータシステムが学習して実行することを目的としています。AIは、データによる反復的な学習と発見を自動的に行い、頻繁かつ大量のタスクをコンピュータ化して実行します。AIの技術は、音声認識、意志決定、視覚などの分野で活用されており、これにより手作業のタスクを自動化するのではなく、より効率的にタスクを処理することが可能です。AIの概念は1950年頃から存在しており、現在では多くのビジネスや日常生活においてその技術が利用されています。\n",
      "\n",
      "CONCLUSION\n",
      "----------\n",
      "AIは、コンピュータが人間の知能を模倣することで、さまざまな分野での効率化と自動化を実現しています。今後もAI技術の進化により、さらに多くの分野での応用が期待されます。\n",
      "\n",
      "SOURCES\n",
      "-------\n",
      "- Cognitive Architectures for Language Agents, ArXiv ID: 2309.02427\n",
      "- The Good, The Bad, and Why: Unveiling Emotions in Generative AI, ArXiv ID: 2312.11111\n",
      "- AI・人工知能とは？定義・歴史・種類・仕組みから事例まで徹底, https://aismiley.co.jp/ai_news/what-is-ai/\n",
      "- 人工知能（AI）とは, https://www.sas.com/ja_jp/insights/analytics/what-is-artificial-intelligence.html\n",
      "- AI（人工知能）とは AIの種類と仕組み、メリット, https://www.talend.com/jp/resources/what-is-artificial-intelligence/\n",
      "- 人工知能（AI）とは | NTTデータ, https://www.nttdata.com/jp/ja/services/data-and-intelligence/001/\n",
      "- AI（人工知能）とは？意味やビジネスの例も交えわかりやすく解説, https://www.nec-solutioninnovators.co.jp/sp/contents/column/20230526_ai.html\n",
      "\n"
     ]
    }
   ],
   "source": [
    "out = runnable.invoke({\n",
    "    \"input\": \"人工知能について教えて\",\n",
    "    \"chat_history\": [],\n",
    "})\n",
    "\n",
    "print(build_report(\n",
    "    output=out[\"intermediate_steps\"][-1].tool_input\n",
    "))"
   ]
  },
  {
   "cell_type": "code",
   "execution_count": 60,
   "metadata": {},
   "outputs": [
    {
     "name": "stdout",
     "output_type": "stream",
     "text": [
      "run_oracle\n",
      "intermediate_steps: []\n",
      "rag_search.invoke(input={'query': 'AutoGen technology'})\n",
      "run_oracle\n",
      "intermediate_steps: [AgentAction(tool='rag_search', tool_input={'query': 'AutoGen technology'}, log='TBD'), AgentAction(tool='rag_search', tool_input={'query': 'AutoGen technology'}, log=\"Title: AutoGen: Enabling Next-Gen LLM Applications via Multi-Agent Conversation\\nContent: â ¢ Ease of use: The built-in agents can be used out-of-the-box, delivering strong performance even without any customization. (A1, A3) â ¢ Modularity: The division of tasks into separate agents promotes modularity in the system. Each agent can be developed, tested, and maintained independently, simplifying the overall develop- ment process and facilitating code management. (A3, A4, A5, and A6) â ¢ Programmability: AutoGen allows users to extend/customize existing agents to develop systems satisfying their specific needs with ease. (A1-A6). For example, with AutoGen, the core workflow code in A4 is reduced from over 430 lines to 100 lines, for a 4x saving. Allowing human involvement: AutoGen provides a native mechanism to achieve human partici- pation and/or human oversight. With AutoGen, humans can seamlessly and optionally cooperate with AIs to solve problems or generally participate in the activity. AutoGen also facilitates inter- active user instructions to ensure the process stays on the desired path. (A1, A2, A5, and A6) â ¢ Collaborative/adversarial agent interactions: Like many collaborative agent systems (Dong et al., 2023), agents in AutoGen can share information and knowledge, to complement each otherâ s abilities and collectively arrive at better solutions. (A1, A2, A3, and A4). Analogously, in certain scenarios, some agents are required to work in an adversarial way. Relevant information is shared among different conversations in a controlled manner, preventing distraction or hallucination. (A4, A6). AutoGen supports both patterns, enabling effective utilization and augmentation of LLMs. # B.1 General Guidelines for Using AutoGen Below we give some recommendations for using agents in AutoGen to accomplish a task. 1. Consider using built-in agents first. For example, AssistantAgent is pre-configured to be backed by GPT-4, with a carefully designed system message for generic problem-solving via code. The UserProxyAgent is configured to solicit human inputs and perform tool execution. Many problems can be solved by simply combining these two agents.\\nArXiv ID: 2308.08155\\nRelated Papers: ['2103.03874']\\n\\n---\\nTitle: AutoGen: Enabling Next-Gen LLM Applications via Multi-Agent Conversation\\nContent: pattern, agent topology remains unchanged regardless of different inputs. AutoGen allows flexible conversation patterns, including both static and dynamic patterns that can be customized based on different application needs. execution-capable: whether the system can execute LLM- generated code; human involvement: whether (and how) the system allows human participation during the execution process of the system. AutoGen allows flexible human involvement in multi- agent conversation with the option for humans to skip providing inputs. Aspect Infrastructure Conversation pattern Execution-capable Human involvement AutoGen Multi-agent Debate â flexible â chat/skip â static â â CAMEL BabyAGI MetaGPT â static â â â static â â â static â â 15 # B Expanded Discussion The applications in Section 3 show how AutoGen not only enables new applications but also helps renovate existing ones. For example, in A1 (scenario 3), A5, and A6, AutoGen enabled the cre- ation of multi-agent conversations that follow a dynamic pattern instead of a fixed back-and-forth. And in both A5 and A6, humans can participate in the activities together with multiple other AI agents in a conversational manner. Similarly, A1-A4 show how popular applications can be reno- vated quickly with AutoGen. Despite the complexity of these applications (most of them involve more than two agents or dynamic multi-turn agent cooperation), our AutoGen-based implementa- tion remains simple, demonstrating promising opportunities to build creative applications and a large space for innovation. In reflecting on why these benefits can be achieved in these applications with AutoGen, we believe there are a few reasons:\\nArXiv ID: 2308.08155\\nRelated Papers: ['2103.03874']\\n\")]\n",
      "fetch_arxiv.invoke(input={'arxiv_id': '2308.08155'})\n",
      "run_oracle\n",
      "intermediate_steps: [AgentAction(tool='rag_search', tool_input={'query': 'AutoGen technology'}, log='TBD'), AgentAction(tool='rag_search', tool_input={'query': 'AutoGen technology'}, log=\"Title: AutoGen: Enabling Next-Gen LLM Applications via Multi-Agent Conversation\\nContent: â ¢ Ease of use: The built-in agents can be used out-of-the-box, delivering strong performance even without any customization. (A1, A3) â ¢ Modularity: The division of tasks into separate agents promotes modularity in the system. Each agent can be developed, tested, and maintained independently, simplifying the overall develop- ment process and facilitating code management. (A3, A4, A5, and A6) â ¢ Programmability: AutoGen allows users to extend/customize existing agents to develop systems satisfying their specific needs with ease. (A1-A6). For example, with AutoGen, the core workflow code in A4 is reduced from over 430 lines to 100 lines, for a 4x saving. Allowing human involvement: AutoGen provides a native mechanism to achieve human partici- pation and/or human oversight. With AutoGen, humans can seamlessly and optionally cooperate with AIs to solve problems or generally participate in the activity. AutoGen also facilitates inter- active user instructions to ensure the process stays on the desired path. (A1, A2, A5, and A6) â ¢ Collaborative/adversarial agent interactions: Like many collaborative agent systems (Dong et al., 2023), agents in AutoGen can share information and knowledge, to complement each otherâ s abilities and collectively arrive at better solutions. (A1, A2, A3, and A4). Analogously, in certain scenarios, some agents are required to work in an adversarial way. Relevant information is shared among different conversations in a controlled manner, preventing distraction or hallucination. (A4, A6). AutoGen supports both patterns, enabling effective utilization and augmentation of LLMs. # B.1 General Guidelines for Using AutoGen Below we give some recommendations for using agents in AutoGen to accomplish a task. 1. Consider using built-in agents first. For example, AssistantAgent is pre-configured to be backed by GPT-4, with a carefully designed system message for generic problem-solving via code. The UserProxyAgent is configured to solicit human inputs and perform tool execution. Many problems can be solved by simply combining these two agents.\\nArXiv ID: 2308.08155\\nRelated Papers: ['2103.03874']\\n\\n---\\nTitle: AutoGen: Enabling Next-Gen LLM Applications via Multi-Agent Conversation\\nContent: pattern, agent topology remains unchanged regardless of different inputs. AutoGen allows flexible conversation patterns, including both static and dynamic patterns that can be customized based on different application needs. execution-capable: whether the system can execute LLM- generated code; human involvement: whether (and how) the system allows human participation during the execution process of the system. AutoGen allows flexible human involvement in multi- agent conversation with the option for humans to skip providing inputs. Aspect Infrastructure Conversation pattern Execution-capable Human involvement AutoGen Multi-agent Debate â flexible â chat/skip â static â â CAMEL BabyAGI MetaGPT â static â â â static â â â static â â 15 # B Expanded Discussion The applications in Section 3 show how AutoGen not only enables new applications but also helps renovate existing ones. For example, in A1 (scenario 3), A5, and A6, AutoGen enabled the cre- ation of multi-agent conversations that follow a dynamic pattern instead of a fixed back-and-forth. And in both A5 and A6, humans can participate in the activities together with multiple other AI agents in a conversational manner. Similarly, A1-A4 show how popular applications can be reno- vated quickly with AutoGen. Despite the complexity of these applications (most of them involve more than two agents or dynamic multi-turn agent cooperation), our AutoGen-based implementa- tion remains simple, demonstrating promising opportunities to build creative applications and a large space for innovation. In reflecting on why these benefits can be achieved in these applications with AutoGen, we believe there are a few reasons:\\nArXiv ID: 2308.08155\\nRelated Papers: ['2103.03874']\\n\"), AgentAction(tool='fetch_arxiv', tool_input={'arxiv_id': '2308.08155'}, log='TBD'), AgentAction(tool='fetch_arxiv', tool_input={'arxiv_id': '2308.08155'}, log='AutoGen is an open-source framework that allows developers to build LLM\\napplications via multiple agents that can converse with each other to\\naccomplish tasks. AutoGen agents are customizable, conversable, and can operate\\nin various modes that employ combinations of LLMs, human inputs, and tools.\\nUsing AutoGen, developers can also flexibly define agent interaction behaviors.\\nBoth natural language and computer code can be used to program flexible\\nconversation patterns for different applications. AutoGen serves as a generic\\ninfrastructure to build diverse applications of various complexities and LLM\\ncapacities. Empirical studies demonstrate the effectiveness of the framework in\\nmany example applications, with domains ranging from mathematics, coding,\\nquestion answering, operations research, online decision-making, entertainment,\\netc.')]\n",
      "final_answer.invoke(input={'introduction': 'AutoGenは、次世代の大規模言語モデル（LLM）アプリケーションを可能にするためのオープンソースのフレームワークです。この技術は、複数のエージェントが会話を通じてタスクを達成することを可能にします。', 'research_steps': '1. AutoGenに関する専門的な情報を取得するために、rag_searchツールを使用しました。\\n2. ArXiv ID 2308.08155の論文から詳細な情報を得るために、fetch_arxivツールを使用しました。', 'main_body': 'AutoGenは、開発者が複数のエージェントを使用してLLMアプリケーションを構築するためのオープンソースフレームワークです。このフレームワークは、エージェントが会話を通じてタスクを達成することを可能にし、エージェントはカスタマイズ可能で、様々なモードで動作します。これには、LLM、人的入力、ツールの組み合わせが含まれます。AutoGenを使用することで、開発者はエージェントの相互作用の行動を柔軟に定義することができます。自然言語とコンピュータコードの両方を使用して、異なるアプリケーションのための柔軟な会話パターンをプログラムすることが可能です。AutoGenは、数学、コーディング、質問応答、オペレーションズリサーチ、オンライン意思決定、エンターテインメントなど、さまざまなドメインでの効果を実証しています。', 'conclusion': 'AutoGenは、複数のエージェントが協力してタスクを達成するための強力なフレームワークであり、開発者にとって非常に柔軟でカスタマイズ可能なツールです。この技術は、LLMの能力を活用し、さまざまなアプリケーションの開発を促進する可能性を秘めています。', 'sources': '- ArXiv ID 2308.08155の論文\\n- AutoGenに関する専門的な情報を提供するrag_searchツールの結果'})\n",
      "\n",
      "INTRODUCTION\n",
      "------------\n",
      "AutoGenは、次世代の大規模言語モデル（LLM）アプリケーションを可能にするためのオープンソースのフレームワークです。この技術は、複数のエージェントが会話を通じてタスクを達成することを可能にします。\n",
      "\n",
      "RESEARCH STEPS\n",
      "--------------\n",
      "1. AutoGenに関する専門的な情報を取得するために、rag_searchツールを使用しました。\n",
      "2. ArXiv ID 2308.08155の論文から詳細な情報を得るために、fetch_arxivツールを使用しました。\n",
      "\n",
      "REPORT\n",
      "------\n",
      "AutoGenは、開発者が複数のエージェントを使用してLLMアプリケーションを構築するためのオープンソースフレームワークです。このフレームワークは、エージェントが会話を通じてタスクを達成することを可能にし、エージェントはカスタマイズ可能で、様々なモードで動作します。これには、LLM、人的入力、ツールの組み合わせが含まれます。AutoGenを使用することで、開発者はエージェントの相互作用の行動を柔軟に定義することができます。自然言語とコンピュータコードの両方を使用して、異なるアプリケーションのための柔軟な会話パターンをプログラムすることが可能です。AutoGenは、数学、コーディング、質問応答、オペレーションズリサーチ、オンライン意思決定、エンターテインメントなど、さまざまなドメインでの効果を実証しています。\n",
      "\n",
      "CONCLUSION\n",
      "----------\n",
      "AutoGenは、複数のエージェントが協力してタスクを達成するための強力なフレームワークであり、開発者にとって非常に柔軟でカスタマイズ可能なツールです。この技術は、LLMの能力を活用し、さまざまなアプリケーションの開発を促進する可能性を秘めています。\n",
      "\n",
      "SOURCES\n",
      "-------\n",
      "- ArXiv ID 2308.08155の論文\n",
      "- AutoGenに関する専門的な情報を提供するrag_searchツールの結果\n",
      "\n"
     ]
    }
   ],
   "source": [
    "out = runnable.invoke({\n",
    "    \"input\": \"AutoGenとはどのような技術ですか？\",\n",
    "    \"chat_history\": [],\n",
    "})\n",
    "\n",
    "print(build_report(\n",
    "    output=out[\"intermediate_steps\"][-1].tool_input\n",
    "))"
   ]
  }
 ],
 "metadata": {
  "kernelspec": {
   "display_name": "langgraph-research-agent-Q0xAAllM-py3.11",
   "language": "python",
   "name": "python3"
  },
  "language_info": {
   "codemirror_mode": {
    "name": "ipython",
    "version": 3
   },
   "file_extension": ".py",
   "mimetype": "text/x-python",
   "name": "python",
   "nbconvert_exporter": "python",
   "pygments_lexer": "ipython3",
   "version": "3.11.7"
  }
 },
 "nbformat": 4,
 "nbformat_minor": 2
}

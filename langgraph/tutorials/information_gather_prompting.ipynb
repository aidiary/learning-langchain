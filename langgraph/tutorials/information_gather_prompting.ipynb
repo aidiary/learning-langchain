{
 "cells": [
  {
   "cell_type": "markdown",
   "metadata": {},
   "source": [
    "# Prompt Generation from User Requirements¶\n",
    "\n",
    "https://langchain-ai.github.io/langgraph/tutorials/chatbots/information-gather-prompting/"
   ]
  },
  {
   "cell_type": "code",
   "execution_count": 1,
   "metadata": {},
   "outputs": [],
   "source": [
    "from typing import List\n",
    "\n",
    "from langchain_core.messages import SystemMessage\n",
    "from langchain_openai import ChatOpenAI\n",
    "\n",
    "from pydantic import BaseModel"
   ]
  },
  {
   "cell_type": "code",
   "execution_count": 2,
   "metadata": {},
   "outputs": [],
   "source": [
    "template = \"\"\"あなたの仕事は、ユーザーがどのようなプロンプトテンプレートを作成したいかについて情報を得ることです。\n",
    "\n",
    "ユーザーから以下の情報を取得してください。\n",
    "\n",
    "- プロンプトの目的\n",
    "- プロンプトテンプレートに渡される変数\n",
    "- 出力に関する禁止事項\n",
    "- 出力が必ず従うべき要件\n",
    "\n",
    "もしこれらの情報が不明瞭な場合は、ユーザーに明確化を求めてください！むやみに推測しようとしないでください。\n",
    "\n",
    "全ての情報が判明したら、関連するツールを呼び出してください\n",
    "\"\"\""
   ]
  },
  {
   "cell_type": "code",
   "execution_count": 3,
   "metadata": {},
   "outputs": [],
   "source": [
    "def get_messages_info(messages):\n",
    "    return [SystemMessage(content=template)] + messages"
   ]
  },
  {
   "cell_type": "code",
   "execution_count": 4,
   "metadata": {},
   "outputs": [],
   "source": [
    "class PromptInstructions(BaseModel):\n",
    "    objective: str\n",
    "    variables: List[str]\n",
    "    constraints: List[str]\n",
    "    requirements: List[str]"
   ]
  },
  {
   "cell_type": "code",
   "execution_count": null,
   "metadata": {},
   "outputs": [],
   "source": [
    "llm = ChatOpenAI(temperature=0)\n",
    "\n",
    "# JSONを出力するためにTool Callingを使っている？\n",
    "llm_with_tool = llm.bind_tools([PromptInstructions])"
   ]
  },
  {
   "cell_type": "code",
   "execution_count": null,
   "metadata": {},
   "outputs": [],
   "source": [
    "def info_chain(state):\n",
    "    messages = get_messages_info(state[\"messages\"])\n",
    "    response = llm_with_tool.invoke(messages)\n",
    "    return {\"messages\": [response]}"
   ]
  },
  {
   "cell_type": "code",
   "execution_count": 10,
   "metadata": {},
   "outputs": [],
   "source": [
    "from langchain_core.messages import AIMessage, HumanMessage, ToolMessage\n",
    "\n",
    "prompt_system = \"\"\"以下の要件に基づいて、適切なプロンプトテンプレートを書いてください：\n",
    "\n",
    "{reqs}\"\"\"\n",
    "\n",
    "def get_prompt_messages(messages: list):\n",
    "    tool_call = None\n",
    "    other_msgs = []\n",
    "    for m in messages:\n",
    "        if isinstance(m, AIMessage) and m.tool_calls:\n",
    "            tool_call = m.tool_calls[0][\"args\"]\n",
    "        elif isinstance(m, ToolMessage):\n",
    "            continue\n",
    "        elif tool_call is not None:\n",
    "            other_msgs.append(m)\n",
    "    return [SystemMessage(content=prompt_system.format(reqs=tool_call))] + other_msgs\n",
    "\n",
    "def prompt_gen_chain(state):\n",
    "    messages = get_prompt_messages(state[\"messages\"])\n",
    "    response = llm.invoke(messages)\n",
    "    return {\"messages\": [response]}"
   ]
  },
  {
   "cell_type": "code",
   "execution_count": null,
   "metadata": {},
   "outputs": [],
   "source": [
    "from langgraph.graph import END\n",
    "\n",
    "\n",
    "def get_state(state):\n",
    "    messages = state[\"messages\"]\n",
    "    if isinstance(messages[-1], AIMessage) and messages[-1].tool_calls:\n",
    "        return \"add_tool_message\"\n",
    "    elif not isinstance(messages[-1], HumanMessage):\n",
    "        return END\n",
    "    return \"info\""
   ]
  },
  {
   "cell_type": "code",
   "execution_count": 14,
   "metadata": {},
   "outputs": [],
   "source": [
    "def add_tool_message(state):\n",
    "    return {\n",
    "        \"messages\": [\n",
    "            ToolMessage(\n",
    "                content=\"PromptGenerated!\",\n",
    "                tool_call_id=state[\"messages\"][-1].tool_calls[0][\"id\"]\n",
    "            )\n",
    "        ]\n",
    "    }"
   ]
  },
  {
   "cell_type": "code",
   "execution_count": 12,
   "metadata": {},
   "outputs": [],
   "source": [
    "from langgraph.checkpoint.memory import MemorySaver\n",
    "from langgraph.graph import StateGraph, START\n",
    "from langgraph.graph.message import add_messages\n",
    "from typing import Annotated\n",
    "from typing_extensions import TypedDict\n",
    "\n",
    "class State(TypedDict):\n",
    "    messages: Annotated[list, add_messages]"
   ]
  },
  {
   "cell_type": "code",
   "execution_count": 29,
   "metadata": {},
   "outputs": [],
   "source": [
    "memory = MemorySaver()\n",
    "\n",
    "workflow = StateGraph(State)\n",
    "workflow.add_node(\"info\", info_chain)\n",
    "workflow.add_node(\"prompt\", prompt_gen_chain)\n",
    "workflow.add_node(\"add_tool_message\", add_tool_message)\n",
    "\n",
    "workflow.add_conditional_edges(\"info\", get_state)\n",
    "workflow.add_edge(\"add_tool_message\", \"prompt\")\n",
    "workflow.add_edge(\"prompt\", END)\n",
    "workflow.add_edge(START, \"info\")\n",
    "\n",
    "graph = workflow.compile(checkpointer=memory)"
   ]
  },
  {
   "cell_type": "code",
   "execution_count": 30,
   "metadata": {},
   "outputs": [
    {
     "data": {
      "image/jpeg": "[encoded data removed]",
      "text/plain": [
       "<IPython.core.display.Image object>"
      ]
     },
     "metadata": {},
     "output_type": "display_data"
    }
   ],
   "source": [
    "from IPython.display import display, Image\n",
    "\n",
    "display(Image(graph.get_graph().draw_mermaid_png()))"
   ]
  },
  {
   "cell_type": "code",
   "execution_count": 31,
   "metadata": {},
   "outputs": [
    {
     "data": {
      "text/plain": [
       "{'configurable': {'thread_id': '2295d16a-6426-4307-a434-bd4002c20d09'}}"
      ]
     },
     "execution_count": 31,
     "metadata": {},
     "output_type": "execute_result"
    }
   ],
   "source": [
    "import uuid\n",
    "\n",
    "config = {\"configurable\": {\"thread_id\": str(uuid.uuid4())}}\n",
    "config"
   ]
  },
  {
   "cell_type": "code",
   "execution_count": 32,
   "metadata": {},
   "outputs": [
    {
     "name": "stdout",
     "output_type": "stream",
     "text": [
      "================================\u001b[1m Human Message \u001b[0m=================================\n",
      "\n",
      "こんにちは！\n",
      "==================================\u001b[1m Ai Message \u001b[0m==================================\n",
      "\n",
      "こんにちは！どのようなお手伝いができますか？\n"
     ]
    }
   ],
   "source": [
    "user_input = \"こんにちは！\"\n",
    "for event in graph.stream({\"messages\": [HumanMessage(content=user_input)]}, config=config, stream_mode=\"values\"):\n",
    "    event[\"messages\"][-1].pretty_print()"
   ]
  },
  {
   "cell_type": "code",
   "execution_count": 33,
   "metadata": {},
   "outputs": [
    {
     "name": "stdout",
     "output_type": "stream",
     "text": [
      "================================\u001b[1m Human Message \u001b[0m=================================\n",
      "\n",
      "キャリアのアドバイスをするプロンプトを作りたい\n",
      "==================================\u001b[1m Ai Message \u001b[0m==================================\n",
      "\n",
      "了解しました！プロンプトテンプレートを作成するために、以下の情報を教えていただけますか？\n",
      "\n",
      "1. プロンプトの目的\n",
      "2. プロンプトテンプレートに渡される変数\n",
      "3. 出力に関する禁止事項\n",
      "4. 出力が必ず従うべき要件\n",
      "\n",
      "これらの情報を教えていただければ、適切なプロンプトテンプレートを作成することができます。\n"
     ]
    }
   ],
   "source": [
    "user_input = \"キャリアのアドバイスをするプロンプトを作りたい\"\n",
    "for event in graph.stream({\"messages\": [HumanMessage(content=user_input)]}, config=config, stream_mode=\"values\"):\n",
    "    event[\"messages\"][-1].pretty_print()"
   ]
  },
  {
   "cell_type": "code",
   "execution_count": 34,
   "metadata": {},
   "outputs": [
    {
     "name": "stdout",
     "output_type": "stream",
     "text": [
      "================================\u001b[1m Human Message \u001b[0m=================================\n",
      "\n",
      "1. キャリアアドバイス, 2. 年齢、職種, 3. なし, 4. なし\n",
      "==================================\u001b[1m Ai Message \u001b[0m==================================\n",
      "Tool Calls:\n",
      "  PromptInstructions (call_y0rqiGKIKL3gI7KAgzza0bsv)\n",
      " Call ID: call_y0rqiGKIKL3gI7KAgzza0bsv\n",
      "  Args:\n",
      "    objective: キャリアアドバイス\n",
      "    variables: ['年齢', '職種']\n",
      "    constraints: ['なし']\n",
      "    requirements: ['なし']\n",
      "=================================\u001b[1m Tool Message \u001b[0m=================================\n",
      "\n",
      "PromptGenerated!\n",
      "==================================\u001b[1m Ai Message \u001b[0m==================================\n",
      "\n",
      "---\n",
      "\n",
      "### キャリアアドバイス\n",
      "\n",
      "#### 年齢:\n",
      "1. あなたの年齢を教えてください。\n",
      "\n",
      "#### 職種:\n",
      "2. 現在の職種や業種について教えてください。\n",
      "\n",
      "---\n"
     ]
    }
   ],
   "source": [
    "user_input = \"1. キャリアアドバイス, 2. 年齢、職種, 3. なし, 4. なし\"\n",
    "for event in graph.stream({\"messages\": [HumanMessage(content=user_input)]}, config=config, stream_mode=\"values\"):\n",
    "    event[\"messages\"][-1].pretty_print()"
   ]
  }
 ],
 "metadata": {
  "kernelspec": {
   "display_name": "learning-langchain-BRoTc1ZH-py3.11",
   "language": "python",
   "name": "python3"
  },
  "language_info": {
   "codemirror_mode": {
    "name": "ipython",
    "version": 3
   },
   "file_extension": ".py",
   "mimetype": "text/x-python",
   "name": "python",
   "nbconvert_exporter": "python",
   "pygments_lexer": "ipython3",
   "version": "3.11.7"
  }
 },
 "nbformat": 4,
 "nbformat_minor": 2
}

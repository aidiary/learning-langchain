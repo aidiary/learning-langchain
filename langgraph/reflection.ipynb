{
 "cells": [
  {
   "cell_type": "markdown",
   "metadata": {},
   "source": [
    "# Reflection\n",
    "\n",
    "https://github.com/langchain-ai/langgraph/blob/main/docs/docs/tutorials/reflection/reflection.ipynb"
   ]
  },
  {
   "cell_type": "code",
   "execution_count": 122,
   "metadata": {},
   "outputs": [],
   "source": [
    "from langchain_core.messages import AIMessage, HumanMessage\n",
    "from langchain_core.prompts import ChatPromptTemplate, MessagesPlaceholder\n",
    "# from langchain_fireworks import ChatFireworks\n",
    "from langchain_openai import ChatOpenAI"
   ]
  },
  {
   "cell_type": "code",
   "execution_count": 123,
   "metadata": {},
   "outputs": [],
   "source": [
    "prompt = ChatPromptTemplate.from_messages(\n",
    "    [\n",
    "        (\"system\",\n",
    "         \"あなたは優れた5段落のエッセイを執筆することを任されたエッセイアシスタントです。\"\n",
    "         \"ユーザーのリクエストに基づいて、可能な限り最良のエッセイを生成してください。\"\n",
    "         \"ユーザーが批評を提供した場合、前回の試みを改訂したバージョンで返答してください。\"\n",
    "        ),\n",
    "        # 過去のメッセージが入る\n",
    "        MessagesPlaceholder(variable_name=\"messages\"),\n",
    "    ]\n",
    ")\n",
    "\n",
    "# llm = ChatFireworks(\n",
    "#     model=\"accounts/fireworks/models/mixtral-8x7b-instruct\",\n",
    "# )\n",
    "\n",
    "llm = ChatOpenAI(model=\"gpt-4o-mini\", max_tokens=8192)\n",
    "generate = prompt | llm"
   ]
  },
  {
   "cell_type": "code",
   "execution_count": 100,
   "metadata": {},
   "outputs": [
    {
     "name": "stdout",
     "output_type": "stream",
     "text": [
      "『星の王子さま』は、アントワーヌ・ド・サン＝テグジュペリによって書かれた不朽の名作であり、現代の子どもたちにとっても重要な作品です。この物語は、単なる子供向けのファンタジーではなく、人生の深い教訓を含んでいます。現代の社会においても、この物語から学ぶことは多く、特に以下の五つの点が注目されています。\n",
      "\n",
      "まず、純粋な心の大切さが挙げられます。『星の王子さま』は、子どもたちに大人になるにつれて失われがちな純粋さを大切にすることを教えます。現代社会では、情報過多や競争社会の中で、純粋な視点を持ち続けることは難しいかもしれません。しかし、この物語を通じて、子どもたちは物事をシンプルに考え、心の豊かさを大切にすることの重要性を学びます。\n",
      "\n",
      "次に、友情と愛の価値を理解することができます。王子と彼が出会う様々なキャラクターとの関係は、友情や愛がどれほど大切かを示しています。バラとの関係を通じて、真の愛とは何かを考えさせられます。現代の子どもたちにとって、SNSやオンラインゲームなどでの関係が増える中、真の友情や愛の本質をこの物語から学ぶことは貴重です。\n",
      "\n",
      "また、想像力と創造性の重要性を強調しています。王子が訪れる星々での冒険は、子どもたちに自分の想像力を育て、創造的に問題を解決する力を養うことを促します。現代では、テクノロジーの発達によって想像力が制限されがちですが、『星の王子さま』は、その想像力を解き放ち、自分の世界を築く手助けをしてくれます。\n",
      "\n",
      "さらに、自分自身を理解することの大切さを教えてくれます。物語の中で、王子は様々な星を訪れ、自分自身についても多くを学びます。この旅を通して、子どもたちは自己理解のプロセスに励まされ、自分自身の価値観や夢を見つける手助けとなるでしょう。\n",
      "\n",
      "最後に、人生の本質について考える機会を提供します。物語には哲学的なテーマが多く含まれており、読者に深く考えさせます。現代の子どもたちは、忙しい日常生活の中であまり時間を持たないかもしれませんが、『星の王子さま』は、立ち止まって人生の意味を考える貴重な時間を提供します。\n",
      "\n",
      "以上のように、『星の王子さま』は現代の子どもたちにとって非常に重要な作品です。この物語を通じて、彼らは純粋さ、友情、愛、想像力、自己理解、そして人生の本質について学ぶことができます。この作品は、時代を超えて普遍的な価値を持ち続け、子どもたちに深い影響を与え続けるでしょう。"
     ]
    }
   ],
   "source": [
    "essay = \"\"\n",
    "request = HumanMessage(\n",
    "    content=\"『星の王子さま』が現代の子どもたちにとって重要である理由についてのエッセイを書いてください。\"\n",
    ")\n",
    "for chunk in generate.stream({\"messages\": [request]}):\n",
    "    print(chunk.content, end=\"\")\n",
    "    essay += chunk.content"
   ]
  },
  {
   "cell_type": "code",
   "execution_count": 101,
   "metadata": {},
   "outputs": [],
   "source": [
    "reflection_prompt = ChatPromptTemplate.from_messages(\n",
    "    [\n",
    "        (\n",
    "            \"system\",\n",
    "            \"あなたはエッセイの提出物を採点している教師です。\"\n",
    "            \"ユーザーの提出物に対する批評と提案を生成してください。\"\n",
    "            \"長さ、深さ、スタイルなどに関する詳細な提案を提供してください。\"\n",
    "        ),\n",
    "        \n",
    "        MessagesPlaceholder(variable_name=\"messages\"),\n",
    "    ]\n",
    ")\n",
    "reflect = reflection_prompt | llm"
   ]
  },
  {
   "cell_type": "code",
   "execution_count": 102,
   "metadata": {},
   "outputs": [
    {
     "name": "stdout",
     "output_type": "stream",
     "text": [
      "このエッセイは、『星の王子さま』が現代の子どもたちにとって重要である理由をしっかりと捉えており、具体的なポイントを挙げている点で評価できます。しかし、より深く掘り下げることで、さらに説得力を増すことができるでしょう。以下にいくつかの改善提案を示します。\n",
      "\n",
      "1. **深さの向上**:\n",
      "   - 各ポイントに具体的な例を加えるとよいでしょう。例えば、「純粋な心の大切さ」について述べる際に、物語のどの部分がその純粋さを象徴しているのか具体的なシーンを引用すると、読者により明確な理解を促すことができます。\n",
      "\n",
      "2. **構造の強化**:\n",
      "   - 各段落のつながりをより自然にすることができます。たとえば、「友情と愛の価値」の段落から「想像力と創造性の重要性」への移行をスムーズにするために、これらのテーマがどのように関連しているのかを示す短いつなぎの文を加えると良いでしょう。\n",
      "\n",
      "3. **具体性の追加**:\n",
      "   - 現代の子どもたちが直面している具体的な問題や状況と、『星の王子さま』のテーマを関連付けることで、より具体的な説得力を持たせることができます。例えば、SNSの影響でどのように友情が変化しているのか、具体的な状況を描写することが考えられます。\n",
      "\n",
      "4. **スタイルの調整**:\n",
      "   - 一部の文章は少し抽象的です。例えば「人生の本質について考える機会」というテーマは、どのような場面でそれを考えさせられるのか、もう少し具体的に説明することで、読者がより共感しやすくなります。\n",
      "\n",
      "5. **長さの調整**:\n",
      "   - エッセイの長さは適切ですが、各ポイントのバランスを見直し、特に重要と感じるポイントにもう少しスペースを割くことで、議論がより深くなる可能性があります。\n",
      "\n",
      "全体として、このエッセイは『星の王子さま』の重要性をしっかりと伝えており、読者にその価値を理解させる力を持っています。提案を参考に、さらに具体的で詳細な分析を加えることで、より一層充実した内容に仕上げることができるでしょう。"
     ]
    }
   ],
   "source": [
    "reflection = \"\"\n",
    "# esseyはAIMessageだったがHumanMessageに変換\n",
    "for chunk in reflect.stream({\"messages\": [request, HumanMessage(content=essay)]}):\n",
    "    print(chunk.content, end=\"\")\n",
    "    reflection += chunk.content"
   ]
  },
  {
   "cell_type": "code",
   "execution_count": 103,
   "metadata": {},
   "outputs": [
    {
     "name": "stdout",
     "output_type": "stream",
     "text": [
      "『星の王子さま』は、アントワーヌ・ド・サン＝テグジュペリによって書かれた不朽の名作であり、現代の子どもたちにとって重要な作品です。この物語は、単なる子供向けのファンタジーではなく、人生の深い教訓を含んでいます。特に、純粋な心の大切さ、友情と愛の価値、想像力と創造性の重要性、自分自身を理解することの大切さ、そして人生の本質について考える機会を提供する点で、現代の子どもたちにとっても貴重な教訓を与えてくれます。\n",
      "\n",
      "まず、純粋な心の大切さについて考えてみましょう。物語の冒頭で、王子が描いた絵を大人たちが理解できず、ただの帽子だと思い込むシーンがあります。この場面は、子どもたちが持つ純粋な視点と、大人になるにつれて失われがちな想像力の重要性を象徴しています。現代社会では、情報過多や競争社会の中で、純粋な視点を持ち続けることは難しいかもしれません。この物語を通じて、子どもたちは物事をシンプルに考え、心の豊かさを大切にすることの重要性を学びます。\n",
      "\n",
      "次に、友情と愛の価値についてです。王子と彼が出会う様々なキャラクターとの関係は、友情や愛がどれほど大切かを示しています。特に、王子とバラの関係は、真の愛とは何かを考えさせられる重要な部分です。バラは、王子にとって特別な存在であり、その唯一無二の関係を通じて、子どもたちは真の友情や愛の本質を学びます。現代の子どもたちは、SNSやオンラインゲームなどでの関係が増える中、こうした深い人間関係の価値を再認識することが求められます。\n",
      "\n",
      "また、想像力と創造性の重要性も強調されています。王子が訪れる星々での冒険は、子どもたちに自分の想像力を育て、創造的に問題を解決する力を養うことを促します。王子が各星で出会う大人たちの奇妙な行動は、想像力を失った社会を批判する一方で、子どもたちには自分の世界を自由に想像し、創造することの楽しさを伝えています。現代では、テクノロジーの発達によって想像力が制限されがちですが、『星の王子さま』は、その想像力を解き放ち、自分の世界を築く手助けをしてくれます。\n",
      "\n",
      "さらに、自分自身を理解することの大切さを教えてくれます。物語の中で、王子は様々な星を訪れ、自分自身についても多くを学びます。例えば、キツネとの出会いは、王子に対して「大切なことは目に見えない」という深い教訓を与えます。この旅を通して、子どもたちは自己理解のプロセスに励まされ、自分自身の価値観や夢を見つける手助けとなるでしょう。現代の子どもたちにとって、自己理解は自己啓発の第一歩であり、この物語はその出発点を与えてくれます。\n",
      "\n",
      "最後に、『星の王子さま』は人生の本質について考える機会を提供します。物語には哲学的なテーマが多く含まれており、読者に深く考えさせます。たとえば、王子が地球で出会う飛行士とのやり取りは、人生の意味や目的についての問いを投げかけます。現代の子どもたちは、忙しい日常生活の中であまり時間を持たないかもしれませんが、『星の王子さま』は、立ち止まって人生の意味を考える貴重な時間を提供します。\n",
      "\n",
      "以上のように、『星の王子さま』は現代の子どもたちにとって非常に重要な作品です。この物語を通じて、彼らは純粋さ、友情、愛、想像力、自己理解、そして人生の本質について学ぶことができます。この作品は、時代を超えて普遍的な価値を持ち続け、子どもたちに深い影響を与え続けるでしょう。"
     ]
    }
   ],
   "source": [
    "# 役割をまたもとに戻す\n",
    "for chunk in generate.stream(\n",
    "    {\"messages\": [request, AIMessage(content=essay), HumanMessage(content=reflection)]}\n",
    "):\n",
    "    print(chunk.content, end=\"\")"
   ]
  },
  {
   "cell_type": "code",
   "execution_count": 154,
   "metadata": {},
   "outputs": [],
   "source": [
    "from typing import Annotated\n",
    "from langgraph.graph import END, StateGraph, START\n",
    "from langgraph.graph.message import add_messages\n",
    "from langgraph.checkpoint.memory import MemorySaver\n",
    "from typing_extensions import TypedDict"
   ]
  },
  {
   "cell_type": "code",
   "execution_count": 155,
   "metadata": {},
   "outputs": [],
   "source": [
    "class State(TypedDict):\n",
    "    messages: Annotated[list, add_messages]"
   ]
  },
  {
   "cell_type": "code",
   "execution_count": 156,
   "metadata": {},
   "outputs": [],
   "source": [
    "def generation_node(state: State) -> State:\n",
    "    return {\"messages\": [generate.invoke(state[\"messages\"])]}"
   ]
  },
  {
   "cell_type": "code",
   "execution_count": 157,
   "metadata": {},
   "outputs": [],
   "source": [
    "def reflection_node(state: State) -> State:\n",
    "    # print(\"*** BEFORE\")\n",
    "    # for msg in state[\"messages\"]:\n",
    "    #     print(msg.type, msg.content[:100])\n",
    "\n",
    "    # 入力のメッセージでは役割を入れ替える\n",
    "    # generationがhumanで、reflectionがaiとする\n",
    "    cls_map = {\"ai\": HumanMessage, \"human\": AIMessage}\n",
    "\n",
    "    # はじめてに入力されたユーザのリクエストはそのまま残す\n",
    "    translated = [state[\"messages\"][0]] + [\n",
    "        cls_map[msg.type](content=msg.content) for msg in state[\"messages\"][1:]\n",
    "    ]\n",
    "\n",
    "    # print(\"*** AFTER\")\n",
    "    # for msg in translated:\n",
    "    #     print(msg.type, msg.content[:100])\n",
    "\n",
    "    res = reflect.invoke(translated)\n",
    "\n",
    "    # 戻り値はAIであるが、ReflectionはHumanが行ったものとみなす\n",
    "    return {\"messages\": [HumanMessage(content=res.content)]}"
   ]
  },
  {
   "cell_type": "code",
   "execution_count": 158,
   "metadata": {},
   "outputs": [],
   "source": [
    "def should_continue(state: State):\n",
    "    if len(state[\"messages\"]) > 6:\n",
    "        return END\n",
    "    return \"reflect\""
   ]
  },
  {
   "cell_type": "code",
   "execution_count": 159,
   "metadata": {},
   "outputs": [],
   "source": [
    "builder = StateGraph(State)\n",
    "builder.add_node(\"generate\", generation_node)\n",
    "builder.add_node(\"reflect\", reflection_node)\n",
    "builder.add_edge(START, \"generate\")\n",
    "builder.add_conditional_edges(\"generate\", should_continue)\n",
    "builder.add_edge(\"reflect\", \"generate\")\n",
    "memory = MemorySaver()\n",
    "graph = builder.compile(checkpointer=memory)"
   ]
  },
  {
   "cell_type": "code",
   "execution_count": 160,
   "metadata": {},
   "outputs": [
    {
     "data": {
      "image/png": "[encoded data removed]",
      "text/plain": [
       "<IPython.core.display.Image object>"
      ]
     },
     "metadata": {},
     "output_type": "display_data"
    }
   ],
   "source": [
    "from IPython.display import display, Image\n",
    "\n",
    "display(Image(graph.get_graph().draw_mermaid_png()))"
   ]
  },
  {
   "cell_type": "code",
   "execution_count": 161,
   "metadata": {},
   "outputs": [],
   "source": [
    "config = {\"configurable\": {\"thread_id\": \"1\"}}"
   ]
  },
  {
   "cell_type": "code",
   "execution_count": 162,
   "metadata": {},
   "outputs": [
    {
     "name": "stdout",
     "output_type": "stream",
     "text": [
      "================================\u001b[1m Human Message \u001b[0m=================================\n",
      "\n",
      "『星の王子さま』が現代の子どもたちにとって重要である理由についてのエッセイを書いてください。\n",
      "==================================\u001b[1m Ai Message \u001b[0m==================================\n",
      "\n",
      "### 『星の王子さま』が現代の子どもたちにとって重要である理由\n",
      "\n",
      "フランスの作家アントワーヌ・ド・サン＝テグジュペリによって書かれた『星の王子さま』は、1943年の初版以来、世代を超えて多くの読者に愛され続けています。この物語は、一見シンプルなファンタジーのようでありながら、深い哲学的なメッセージを持っています。特に現代の子どもたちにとって、この作品は重要な教訓を提供しており、その理由は主に友情、想像力、そして大人の世界への批判にあります。\n",
      "\n",
      "まず、友情の重要性についてです。物語の中で、王子さまは様々な星を訪れ、そこで出会うキャラクターたちとの関係を通じて、友情の本質を学びます。現代の子どもたちは、デジタルコミュニケーションの影響で対面での人間関係が希薄になりがちですが、王子さまの冒険を通じて、真の友情とは何かを考えさせられます。友達との絆や思いやりの大切さを学ぶことは、社会性を育む上で非常に重要です。\n",
      "\n",
      "次に、想像力の価値についてです。王子さまは、彼の住む小さな星や様々な惑星を舞台に、幻想的な冒険を繰り広げます。この物語は、子どもたちに創造力を発揮することの楽しさを教えてくれます。現代社会は、効率や成果を重視する傾向があるため、子どもたちが自由に想像する時間を持つことが難しくなっています。しかし、王子さまの物語を通じて、想像力は人生を豊かにする重要な要素であることを再認識できるでしょう。\n",
      "\n",
      "さらに、この作品は大人の世界への批判としても機能しています。王子さまが出会う大人たちは、しばしば自己中心的で、物質的な価値観に囚われています。この描写は、現代社会における大人たちの生き方に対する鋭い批評となっています。子どもたちは、物語を通じて、大人になることの意味や、社会における価値観を問い直す機会を得ることができるのです。このような視点は、彼らが成長する過程で非常に重要です。\n",
      "\n",
      "最後に、『星の王子さま』は、ただの物語ではなく、子どもたちにとって人生の教訓を含んだ貴重な教材です。友情や想像力の重要性、大人たちへの批判的視点を通じて、子どもたちは自らの価値観を形成し、より良い人間関係を築くための基盤を学ぶことができます。この作品を読むことで、現代の子どもたちは、ただ楽しむだけでなく、人生における大切な教訓を得ることができるのです。『星の王子さま』は、今後も多くの世代にわたって読み継がれ、心に響くメッセージを届け続けることでしょう。\n",
      "================================\u001b[1m Human Message \u001b[0m=================================\n",
      "\n",
      "### エッセイの批評と提案\n",
      "\n",
      "あなたのエッセイは『星の王子さま』が現代の子どもたちにとって重要である理由を明確に説明しており、友情、想像力、大人の世界への批判という主要なテーマをうまく捉えています。以下に、いくつかの改善点と提案を挙げます。\n",
      "\n",
      "1. **長さと構造**:\n",
      "   - エッセイは適切な長さですが、各段落がやや長いため、読みやすさを向上させるために段落を分けることを検討してください。例えば、友情の重要性を述べた後に具体的なエピソードや例を追加することで、段落を分けることができます。\n",
      "\n",
      "2. **深さと具体例**:\n",
      "   - 各テーマについてもう少し深掘りすると、エッセイの説得力が増します。例えば、友情の重要性について、王子さまとバラの関係やキツネとの友情を具体的に説明すると、読み手が物語の中の具体的な状況を思い浮かべやすくなります。\n",
      "   - 現代の子どもたちに関連付けるために、具体的な現在の社会状況や事例を挙げると良いでしょう。例えば、デジタルコミュニケーションの具体例や、想像力を育む現代の教育プログラムについて触れると、現代的な文脈が強調されます。\n",
      "\n",
      "3. **スタイルと表現**:\n",
      "   - あなたの文体は分かりやすく、流れるように書かれていますが、時折もう少し活気のある言葉遣いを加えることで、読者の興味を引くことができます。例えば、感情を強調するための修辞技法（比喩、対比など）を利用すると、文章がより魅力的になります。\n",
      "   - また、エッセイの締めくくりにおいて、読者に対して問いかけや今後の展望について言及することで、より強い印象を残すことができます。\n",
      "\n",
      "4. **批評的視点**:\n",
      "   - 大人の世界への批判についてもう少し掘り下げて、王子さまが訪れる具体的な星や大人たちの振る舞いについて詳しく述べると、読者は物語の批判的視点をより理解しやすくなります。\n",
      "\n",
      "全体として、あなたのエッセイは『星の王子さま』の重要性を理解しやすく説明しており、特に子どもたちにとっての価値をうまく表現しています。これらの提案を取り入れることで、さらに深みのある、読者にとって印象的なエッセイになるでしょう。\n",
      "==================================\u001b[1m Ai Message \u001b[0m==================================\n",
      "\n",
      "### 『星の王子さま』が現代の子どもたちにとって重要である理由\n",
      "\n",
      "フランスの作家アントワーヌ・ド・サン＝テグジュペリによって書かれた『星の王子さま』は、1943年の初版以来、世代を超えて多くの読者に愛され続けています。この物語は、一見シンプルなファンタジーのようでありながら、深い哲学的なメッセージを持っています。特に現代の子どもたちにとって、この作品は重要な教訓を提供しており、その理由は主に友情、想像力、そして大人の世界への批判にあります。\n",
      "\n",
      "まず、友情の重要性についてです。物語の中で、王子さまは様々な星を訪れ、そこで出会うキャラクターたちとの関係を通じて、友情の本質を学びます。特に、王子さまとバラの関係は、愛情と責任を象徴しています。また、王子さまがキツネと交わす会話では、真の友情を築くためには時間をかけて相手を知る必要があることが示されています。現代の子どもたちは、デジタルコミュニケーションの影響で対面での人間関係が希薄になりがちですが、王子さまの冒険を通じて、真の友情とは何かを考えさせられます。友達との絆や思いやりの大切さを学ぶことは、社会性を育む上で非常に重要です。\n",
      "\n",
      "次に、想像力の価値についてです。王子さまは、彼の住む小さな星や様々な惑星を舞台に、幻想的な冒険を繰り広げます。この物語は、子どもたちに創造力を発揮することの楽しさを教えてくれます。特に、王子さまが描く夢のような世界は、子どもたちに自由な発想を促します。現代社会は、効率や成果を重視する傾向があるため、子どもたちが自由に想像する時間を持つことが難しくなっています。しかし、王子さまの物語を通じて、想像力は人生を豊かにする重要な要素であることを再認識できるでしょう。教育現場でも、創造力を育むプログラムが増えており、王子さまの教えはますます意義深いものとなっています。\n",
      "\n",
      "さらに、この作品は大人の世界への批判としても機能しています。王子さまが訪れる星々の住人たちは、しばしば自己中心的で、物質的な価値観に囚われています。たとえば、経営者の星では、数字や権力に執着する大人たちが描かれています。この描写は、現代社会における大人たちの生き方に対する鋭い批評となっています。子どもたちは、物語を通じて、大人になることの意味や、社会における価値観を問い直す機会を得ることができるのです。このような視点は、彼らが成長する過程で非常に重要です。\n",
      "\n",
      "最後に、『星の王子さま』は、ただの物語ではなく、子どもたちにとって人生の教訓を含んだ貴重な教材です。友情や想像力の重要性、大人たちへの批判的視点を通じて、子どもたちは自らの価値観を形成し、より良い人間関係を築くための基盤を学ぶことができます。物語の終わりには、王子さまが自分の星に帰る決断をすることで、成長を象徴しています。この作品を読むことで、現代の子どもたちは、ただ楽しむだけでなく、人生における大切な教訓を得ることができるのです。『星の王子さま』は、今後も多くの世代にわたって読み継がれ、心に響くメッセージを届け続けることでしょう。\n",
      "================================\u001b[1m Human Message \u001b[0m=================================\n",
      "\n",
      "### エッセイの批評と提案\n",
      "\n",
      "この改訂版エッセイは、前回のものよりも具体的なエピソードや現代の状況を取り入れており、非常に改善されています。以下のさらなる提案を参考にしてください。\n",
      "\n",
      "1. **構造と長さ**:\n",
      "   - 各段落のバランスが取れており、論理的な構造が整っています。ただし、エッセイの流れをさらにスムーズにするために、段落間のつなぎ言葉（例：さらに、次に、一方で）をもう少し多用すると良いでしょう。\n",
      "\n",
      "2. **具体例と深み**:\n",
      "   - 友情について、王子さまとバラ、キツネの関係を具体的に説明したのは非常に効果的です。これに加えて、現代の具体的な友情の例（例えば、デジタルコミュニケーションの中での友情の築き方など）を挙げると、より読者に親しみやすくなります。\n",
      "   - 想像力のセクションでは、教育現場での創造力を育む具体的なプログラムの例を挙げると、説得力が増します。\n",
      "\n",
      "3. **スタイルと表現**:\n",
      "   - あなたの文体は明確で読みやすいですが、もう少し感情を込めた表現を加えると、読者の興味を引くことができます。例えば、「王子さまの冒険は、子どもたちの心に火を灯す」など、情熱を感じさせる言葉を使うと良いでしょう。\n",
      "\n",
      "4. **批評的視点の強化**:\n",
      "   - 大人の世界への批判について、さらに掘り下げて、現代の具体的な問題（例えば、過度な競争社会やテクノロジー依存など）を取り入れると、読者が共感しやすくなります。また、物語中の他の星のエピソード（例：点灯夫や地理学者の星）も少し触れると、多角的な視点が得られます。\n",
      "\n",
      "5. **結びの強化**:\n",
      "   - エッセイの結びにおいて、読者に対する問いかけや、今後の展望についてもう少し具体的に言及すると、より強い印象を残すことができます。例えば、「この物語を読み終えたあなたは、どんな価値観を持ちますか？」といった問いかけを加えると良いでしょう。\n",
      "\n",
      "全体として、エッセイは非常に良くまとまっており、『星の王子さま』の現代的な重要性をうまく伝えています。提案を取り入れることで、さらに読みごたえのあるエッセイになるでしょう。素晴らしい改善ができていますので、引き続きこの調子で頑張ってください。\n",
      "==================================\u001b[1m Ai Message \u001b[0m==================================\n",
      "\n",
      "### 『星の王子さま』が現代の子どもたちにとって重要である理由\n",
      "\n",
      "フランスの作家アントワーヌ・ド・サン＝テグジュペリによって書かれた『星の王子さま』は、1943年の初版以来、世代を超えて多くの読者に愛され続けています。この物語は、一見シンプルなファンタジーのようでありながら、深い哲学的なメッセージを持っています。特に現代の子どもたちにとって、この作品は重要な教訓を提供しており、その理由は主に友情、想像力、そして大人の世界への批判にあります。\n",
      "\n",
      "まず、友情の重要性についてです。物語の中で、王子さまは様々な星を訪れ、そこで出会うキャラクターたちとの関係を通じて、友情の本質を学びます。特に、王子さまとバラの関係は、愛情と責任を象徴しています。また、王子さまがキツネと交わす会話では、真の友情を築くためには時間をかけて相手を知る必要があることが示されています。現代の子どもたちは、SNSやデジタルコミュニケーションの影響で対面での人間関係が希薄になりがちですが、王子さまの冒険を通じて、真の友情とは何かを考えるきっかけを得ることができるのです。友達との絆や思いやりの大切さを学ぶことは、社会性を育む上で非常に重要です。例えば、オンラインでの友情の築き方や、対面での交流を大切にすることの意味など、現代の子どもたちにとって考えるべきテーマが多く存在します。\n",
      "\n",
      "次に、想像力の価値についてです。王子さまは、彼の住む小さな星や様々な惑星を舞台に、幻想的な冒険を繰り広げます。この物語は、子どもたちに創造力を発揮することの楽しさを教えてくれます。王子さまの描く夢のような世界は、子どもたちに自由な発想を促します。現代社会は、効率や成果を重視する傾向が強く、子どもたちが自由に想像する時間を持つことが難しくなっています。しかし、王子さまの物語を通じて、想像力は人生を豊かにする重要な要素であることを再認識できるでしょう。教育現場では、アートや創作活動を通じて創造力を育むプログラムが増えており、王子さまの教えはますます意義深いものとなっています。\n",
      "\n",
      "さらに、この作品は大人の世界への批判としても機能しています。王子さまが訪れる星々の住人たちは、しばしば自己中心的で、物質的な価値観に囚われています。たとえば、経営者の星では、数字や権力に執着する大人たちが描かれています。この描写は、現代社会における大人たちの生き方に対する鋭い批評となっており、過度な競争社会やテクノロジー依存の問題を浮き彫りにしています。子どもたちは、物語を通じて、大人になることの意味や、社会における価値観を問い直す機会を得ることができるのです。また、点灯夫や地理学者の星も、異なる価値観や生き方を示しており、多角的な視点を提供します。\n",
      "\n",
      "最後に、『星の王子さま』は、ただの物語ではなく、子どもたちにとって人生の教訓を含んだ貴重な教材です。友情や想像力の重要性、大人たちへの批判的視点を通じて、子どもたちは自らの価値観を形成し、より良い人間関係を築くための基盤を学ぶことができます。物語の終わりには、王子さまが自分の星に帰る決断をすることで、成長を象徴しています。この作品を読み終えた読者は、どのような価値観を持ち、どのように人生を歩むべきかを考える余地を与えられるのです。『星の王子さま』は、今後も多くの世代にわたって読み継がれ、心に響くメッセージを届け続けることでしょう。\n",
      "================================\u001b[1m Human Message \u001b[0m=================================\n",
      "\n",
      "### エッセイの批評と提案\n",
      "\n",
      "この最新版のエッセイは非常に完成度が高く、明確で説得力のある議論を展開しています。具体的な例や現代の状況への関連付けがしっかりと行われており、多くの読者にとって共感しやすい内容になっています。以下にさらなる改善案をいくつか示します。\n",
      "\n",
      "1. **段落構成と流れ**:\n",
      "   - 段落ごとにテーマが明確に分かれているため、読みやすくなっています。各段落のはじめに短い要約文を加えることで、読者がテーマをすぐに把握できるようになるとさらに良いでしょう。\n",
      "\n",
      "2. **具体例と深堀り**:\n",
      "   - 各テーマの具体例がしっかりと挙げられており、説得力があります。もし可能であれば、現代の子どもたちが直面する具体的な事例やニュースを引用することで、さらに現実味を持たせることができます。\n",
      "\n",
      "3. **スタイルと表現**:\n",
      "   - あなたの文章はクリアで流れるように書かれています。感情を込めた表現をもう少し加えることで、読者が物語に引き込まれる感覚を強めることができるでしょう。たとえば、友情のセクションで「本当に心を通わせる瞬間」や「想像力が羽ばたく瞬間」といった表現を使うと印象深くなります。\n",
      "\n",
      "4. **批評的視点のさらなる強化**:\n",
      "   - 大人の世界への批判について、現代の具体的な社会問題（例：過労や環境問題）を織り交ぜると、より深い考察につながるかもしれません。また、物語の中で描かれる他のキャラクターの視点や行動も分析に加えると、多面的な理解が深まります。\n",
      "\n",
      "5. **結びの強化**:\n",
      "   - 結論部の問いかけは非常に効果的です。そこに、読者がどのように物語の教訓を日常生活に活かせるかについてのヒントや提案を追加すると、より一層読者の心に響くものとなるでしょう。\n",
      "\n",
      "全体として、あなたのエッセイは非常に良くまとまっており、『星の王子さま』が現代の子どもたちにとってなぜ重要であるかを明確に説明しています。提案を活かしてさらなる高みを目指し続けることで、ますます優れたエッセイが書けるでしょう。素晴らしい仕事をされていますので、この調子で頑張ってください！\n",
      "==================================\u001b[1m Ai Message \u001b[0m==================================\n",
      "\n",
      "### 『星の王子さま』が現代の子どもたちにとって重要である理由\n",
      "\n",
      "フランスの作家アントワーヌ・ド・サン＝テグジュペリによって書かれた『星の王子さま』は、1943年の初版以来、世代を超えて多くの読者に愛され続けています。この物語は、一見シンプルなファンタジーのようでありながら、深い哲学的なメッセージを持っています。特に現代の子どもたちにとって、この作品は重要な教訓を提供しており、その理由は主に友情、想像力、そして大人の世界への批判にあります。\n",
      "\n",
      "まず、友情の重要性について考えてみましょう。物語の中で、王子さまは様々な星を訪れ、そこで出会うキャラクターたちとの関係を通じて、友情の本質を学びます。特に、王子さまとバラの関係は、愛情と責任を象徴しています。また、王子さまがキツネと交わす会話では、真の友情を築くためには時間をかけて相手を知る必要があることが示されています。現代の子どもたちは、SNSやデジタルコミュニケーションの影響で対面での人間関係が希薄になりがちですが、王子さまの冒険を通じて、真の友情とは何かを考えるきっかけを得ることができるのです。友達との絆や思いやりの大切さを学ぶことは、社会性を育む上で非常に重要です。たとえば、最近の研究では、オンラインでの友情が子どもたちに与える影響が議論されていますが、王子さまの教えはその中でも特に心に残るものです。\n",
      "\n",
      "次に、想像力の価値についてです。王子さまは、彼の住む小さな星や様々な惑星を舞台に、幻想的な冒険を繰り広げます。この物語は、子どもたちに創造力を発揮することの楽しさを教えてくれます。王子さまの描く夢のような世界は、子どもたちに自由な発想を促します。現代社会は、効率や成果を重視する傾向が強く、子どもたちが自由に想像する時間を持つことが難しくなっています。しかし、王子さまの物語を通じて、想像力は人生を豊かにする重要な要素であることを再認識できるでしょう。教育現場では、アートや創作活動を通じて創造力を育むプログラムが増えており、王子さまの教えはますます意義深いものとなっています。\n",
      "\n",
      "さらに、この作品は大人の世界への批判としても機能しています。王子さまが訪れる星々の住人たちは、しばしば自己中心的で、物質的な価値観に囚われています。たとえば、経営者の星では、数字や権力に執着する大人たちが描かれています。この描写は、現代社会における大人たちの生き方に対する鋭い批評となっており、過度な競争社会やテクノロジー依存の問題を浮き彫りにしています。子どもたちは、物語を通じて、大人になることの意味や、社会における価値観を問い直す機会を得ることができるのです。また、点灯夫や地理学者の星も、異なる価値観や生き方を示しており、多角的な視点を提供します。これにより、子どもたちは大人たちの行動に対する批判的な目を養うことができ、より豊かな社会観を持つようになるでしょう。\n",
      "\n",
      "最後に、『星の王子さま』は、ただの物語ではなく、子どもたちにとって人生の教訓を含んだ貴重な教材です。友情や想像力の重要性、大人たちへの批判的視点を通じて、子どもたちは自らの価値観を形成し、より良い人間関係を築くための基盤を学ぶことができます。物語の終わりには、王子さまが自分の星に帰る決断をすることで、成長を象徴しています。この作品を読み終えた読者は、どのような価値観を持ち、どのように人生を歩むべきかを考える余地を与えられるのです。『星の王子さま』は、今後も多くの世代にわたって読み継がれ、心に響くメッセージを届け続けることでしょう。あなたもこの物語から何を学び、どのように日常生活に活かすか、ぜひ考えてみてください。\n"
     ]
    }
   ],
   "source": [
    "for event in graph.stream(\n",
    "    {\"messages\": [HumanMessage(\"『星の王子さま』が現代の子どもたちにとって重要である理由についてのエッセイを書いてください。\")]},\n",
    "    config,\n",
    "    stream_mode=\"values\"\n",
    "):\n",
    "    event[\"messages\"][-1].pretty_print()"
   ]
  }
 ],
 "metadata": {
  "kernelspec": {
   "display_name": "learning-langchain-BRoTc1ZH-py3.11",
   "language": "python",
   "name": "python3"
  },
  "language_info": {
   "codemirror_mode": {
    "name": "ipython",
    "version": 3
   },
   "file_extension": ".py",
   "mimetype": "text/x-python",
   "name": "python",
   "nbconvert_exporter": "python",
   "pygments_lexer": "ipython3",
   "version": "3.11.7"
  }
 },
 "nbformat": 4,
 "nbformat_minor": 2
}

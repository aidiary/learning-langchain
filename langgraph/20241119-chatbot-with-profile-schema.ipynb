{
 "cells": [
  {
   "cell_type": "markdown",
   "metadata": {},
   "source": [
    "# Chatbot with Profile Schema\n",
    "\n",
    "https://github.com/langchain-ai/langchain-academy/blob/main/module-5/memoryschema_profile.ipynb"
   ]
  },
  {
   "cell_type": "code",
   "execution_count": 1,
   "metadata": {},
   "outputs": [],
   "source": [
    "from typing import TypedDict, List\n",
    "\n",
    "class UserProfile(TypedDict):\n",
    "    \"\"\"ユーザプロフィールスキーマ\"\"\"\n",
    "    user_name: str\n",
    "    interests: List[str]"
   ]
  },
  {
   "cell_type": "code",
   "execution_count": 7,
   "metadata": {},
   "outputs": [
    {
     "data": {
      "text/plain": [
       "{'user_name': '森さん', 'interests': ['AI', 'PCゲーム', '読書']}"
      ]
     },
     "execution_count": 7,
     "metadata": {},
     "output_type": "execute_result"
    }
   ],
   "source": [
    "user_profile: UserProfile = {\n",
    "    \"user_name\": \"森さん\",\n",
    "    \"interests\": [\"AI\", \"PCゲーム\", \"読書\"]\n",
    "}\n",
    "user_profile"
   ]
  },
  {
   "cell_type": "code",
   "execution_count": 3,
   "metadata": {},
   "outputs": [],
   "source": [
    "import uuid\n",
    "from langgraph.store.memory import InMemoryStore\n",
    "\n",
    "in_memory_store = InMemoryStore()\n",
    "\n",
    "user_id = \"1\"\n",
    "namespace_for_memory = (user_id, \"memory\")\n",
    "\n",
    "key = \"user_profile\"\n",
    "value = user_profile\n",
    "in_memory_store.put(namespace_for_memory, key, value)"
   ]
  },
  {
   "cell_type": "code",
   "execution_count": null,
   "metadata": {},
   "outputs": [
    {
     "data": {
      "text/plain": [
       "{'value': {'user_name': '森さん', 'interests': ['AI', 'PCゲーム', '読書']},\n",
       " 'key': 'user_profile',\n",
       " 'namespace': ['1', 'memory'],\n",
       " 'created_at': '2024-11-19T02:37:18.123671+00:00',\n",
       " 'updated_at': '2024-11-19T02:37:18.123673+00:00'}"
      ]
     },
     "execution_count": 9,
     "metadata": {},
     "output_type": "execute_result"
    }
   ],
   "source": [
    "in_memory_store.search(namespace_for_memory)[0].dict()"
   ]
  },
  {
   "cell_type": "code",
   "execution_count": 10,
   "metadata": {},
   "outputs": [
    {
     "data": {
      "text/plain": [
       "{'user_name': '森さん', 'interests': ['AI', 'PCゲーム', '読書']}"
      ]
     },
     "execution_count": 10,
     "metadata": {},
     "output_type": "execute_result"
    }
   ],
   "source": [
    "profile = in_memory_store.get(namespace_for_memory, \"user_profile\")\n",
    "profile.value"
   ]
  },
  {
   "cell_type": "markdown",
   "metadata": {},
   "source": [
    "## プロファイルスキーマを用いたチャットボット"
   ]
  },
  {
   "cell_type": "code",
   "execution_count": 11,
   "metadata": {},
   "outputs": [],
   "source": [
    "from pydantic import BaseModel, Field\n",
    "\n",
    "from langchain_core.messages import HumanMessage\n",
    "from langchain_openai import ChatOpenAI"
   ]
  },
  {
   "cell_type": "code",
   "execution_count": 13,
   "metadata": {},
   "outputs": [
    {
     "data": {
      "text/plain": [
       "{'user_name': '森', 'interests': ['PCゲーム']}"
      ]
     },
     "execution_count": 13,
     "metadata": {},
     "output_type": "execute_result"
    }
   ],
   "source": [
    "model = ChatOpenAI(model=\"gpt-4o-mini\", temperature=0)\n",
    "model_with_structure = model.with_structured_output(UserProfile)\n",
    "\n",
    "structured_output = model_with_structure.invoke([HumanMessage(\"こんにちは。私の名前は森です。PCゲームが好きです。\")])\n",
    "structured_output"
   ]
  },
  {
   "cell_type": "code",
   "execution_count": 17,
   "metadata": {},
   "outputs": [],
   "source": [
    "\n",
    "from IPython.display import Image, display\n",
    "\n",
    "from langgraph.checkpoint.memory import MemorySaver\n",
    "from langgraph.graph import StateGraph, MessagesState, START, END\n",
    "from langgraph.store.base import BaseStore\n",
    "\n",
    "from langchain_core.messages import HumanMessage, SystemMessage, AIMessage\n",
    "from langchain_core.runnables.config import RunnableConfig"
   ]
  },
  {
   "cell_type": "code",
   "execution_count": 18,
   "metadata": {},
   "outputs": [],
   "source": [
    "MODEL_SYSTEM_MESSAGE = \"\"\"あなたは記憶を持つ役立つアシスタントであり、ユーザーに関する情報を提供します。\n",
    "このユーザーに関する記憶がある場合、それを使用して回答をパーソナライズしてください。\n",
    "以下は記憶です（空の場合もあります）: {memory}\"\"\"\n",
    "\n",
    "CREATE_MEMORY_INSTRUCTION = \"\"\"ユーザーのチャット履歴に基づいて、ユーザープロファイルの記憶を作成または更新してください。\n",
    "これを長期記憶として保存します。既存の記憶がある場合は、それを更新してください。\n",
    "以下は既存の記憶です（空の場合もあります）: {memory}\"\"\""
   ]
  },
  {
   "cell_type": "code",
   "execution_count": 25,
   "metadata": {},
   "outputs": [],
   "source": [
    "def call_model(state: MessagesState, config: RunnableConfig, store: BaseStore):\n",
    "    \"\"\"長期記憶をロードし、パーソナライズされた応答を生成する\"\"\"\n",
    "    user_id = config[\"configurable\"][\"user_id\"]\n",
    "\n",
    "    # 長期記憶のロード\n",
    "    namespace = (\"memory\", user_id)\n",
    "    existing_memory = store.get(namespace, \"user_memory\")\n",
    "\n",
    "    if existing_memory and existing_memory.value:\n",
    "        memory_dict = existing_memory.value\n",
    "        formatted_memory = (\n",
    "            f\"Name: {memory_dict.get('user_name', 'Unknown')}\\n\"\n",
    "            f\"Interests: {', '.join(memory_dict.get('interests', []))}\"\n",
    "        )\n",
    "    else:\n",
    "        formatted_memory = None\n",
    "\n",
    "    system_msg = MODEL_SYSTEM_MESSAGE.format(memory=formatted_memory)\n",
    "\n",
    "    response = model.invoke([SystemMessage(content=system_msg)] + state[\"messages\"])\n",
    "\n",
    "    return {\"messages\": response}\n",
    "\n",
    "def write_memory(state: MessagesState, config: RunnableConfig, store: BaseStore):\n",
    "    \"\"\"チャット履歴を振り返り、長期記憶に保存する\"\"\"\n",
    "    user_id = config[\"configurable\"][\"user_id\"]\n",
    "\n",
    "    namespace = (\"memory\", user_id)\n",
    "    existing_memory = store.get(namespace, \"user_memory\")\n",
    "\n",
    "    if existing_memory and existing_memory.value:\n",
    "        memory_dict = existing_memory.value\n",
    "        formatted_memory = (\n",
    "            f\"Name: {memory_dict.get('user_name', 'Unknown')}\\n\"\n",
    "            f\"Interests: {', '.join(memory_dict.get('interests', []))}\"\n",
    "        )\n",
    "    else:\n",
    "        formatted_memory = None\n",
    "    \n",
    "    system_msg = CREATE_MEMORY_INSTRUCTION.format(memory=formatted_memory)\n",
    "    new_memory = model_with_structure.invoke([SystemMessage(content=system_msg)] + state[\"messages\"])\n",
    "\n",
    "    key = \"user_memory\"\n",
    "\n",
    "    store.put(namespace, key, new_memory)"
   ]
  },
  {
   "cell_type": "code",
   "execution_count": 26,
   "metadata": {},
   "outputs": [
    {
     "data": {
      "image/png": "[encoded data removed]",
      "text/plain": [
       "<IPython.core.display.Image object>"
      ]
     },
     "metadata": {},
     "output_type": "display_data"
    }
   ],
   "source": [
    "from joblib import Memory\n",
    "\n",
    "\n",
    "builder = StateGraph(MessagesState)\n",
    "\n",
    "builder.add_node(\"call_model\", call_model)\n",
    "builder.add_node(\"write_memory\", write_memory)\n",
    "\n",
    "builder.add_edge(START, \"call_model\")\n",
    "builder.add_edge(\"call_model\", \"write_memory\")\n",
    "builder.add_edge(\"write_memory\", END)\n",
    "\n",
    "# スレッド（セッション）を超えて記憶する長期記憶\n",
    "across_thread_memory = InMemoryStore()\n",
    "\n",
    "# スレッド内のやり取りを記憶する短期記憶\n",
    "within_thread_memory = MemorySaver()\n",
    "\n",
    "graph = builder.compile(checkpointer=within_thread_memory, store=across_thread_memory)\n",
    "\n",
    "display(Image(graph.get_graph(xray=1).draw_mermaid_png()))"
   ]
  },
  {
   "cell_type": "code",
   "execution_count": 27,
   "metadata": {},
   "outputs": [
    {
     "name": "stdout",
     "output_type": "stream",
     "text": [
      "================================\u001b[1m Human Message \u001b[0m=================================\n",
      "\n",
      "やあ、私の名前は森です。PCゲームと読書が好きです。よろしくお願いします。\n",
      "==================================\u001b[1m Ai Message \u001b[0m==================================\n",
      "\n",
      "やあ、森さん！お会いできて嬉しいです。PCゲームと読書が好きなんですね。最近プレイしたゲームや読んだ本で特に印象に残ったものはありますか？\n"
     ]
    }
   ],
   "source": [
    "config = {\"configurable\": {\"thread_id\": \"1\", \"user_id\": \"1\"}}\n",
    "\n",
    "input_messages = [HumanMessage(content=\"やあ、私の名前は森です。PCゲームと読書が好きです。よろしくお願いします。\")]\n",
    "\n",
    "for chunk in graph.stream({\"messages\": input_messages}, config, stream_mode=\"values\"):\n",
    "    chunk[\"messages\"][-1].pretty_print()"
   ]
  },
  {
   "cell_type": "code",
   "execution_count": 29,
   "metadata": {},
   "outputs": [
    {
     "data": {
      "text/plain": [
       "{'user_name': '森', 'interests': ['PCゲーム', '読書']}"
      ]
     },
     "execution_count": 29,
     "metadata": {},
     "output_type": "execute_result"
    }
   ],
   "source": [
    "# 長期記憶を調べる\n",
    "user_id = \"1\"\n",
    "namespace = (\"memory\", user_id)\n",
    "existing_memory = across_thread_memory.get(namespace, \"user_memory\")\n",
    "existing_memory.value"
   ]
  },
  {
   "cell_type": "markdown",
   "metadata": {},
   "source": [
    "## より複雑なスキーマを扱う場合"
   ]
  },
  {
   "cell_type": "code",
   "execution_count": 30,
   "metadata": {},
   "outputs": [],
   "source": [
    "from typing import List, Optional\n",
    "\n",
    "class OutputFormat(BaseModel):\n",
    "    preference: str\n",
    "    sentence_preference_revealed: str\n",
    "\n",
    "class TelegramPreferences(BaseModel):\n",
    "    preferred_encoding: Optional[List[OutputFormat]] = None\n",
    "    favorite_telegram_operators: Optional[List[OutputFormat]] = None\n",
    "    preferred_telegram_paper: Optional[List[OutputFormat]] = None\n",
    "\n",
    "class MorseCode(BaseModel):\n",
    "    preferred_key_type: Optional[List[OutputFormat]] = None\n",
    "    favorite_morse_abbreviations: Optional[List[OutputFormat]] = None\n",
    "\n",
    "class Semaphore(BaseModel):\n",
    "    preferred_flag_color: Optional[List[OutputFormat]] = None\n",
    "    semaphore_skill_level: Optional[List[OutputFormat]] = None\n",
    "\n",
    "class TrustFallPreferences(BaseModel):\n",
    "    preferred_fall_height: Optional[List[OutputFormat]] = None\n",
    "    trust_level: Optional[List[OutputFormat]] = None\n",
    "    preferred_catching_technique: Optional[List[OutputFormat]] = None\n",
    "\n",
    "class CommunicationPreferences(BaseModel):\n",
    "    telegram: TelegramPreferences\n",
    "    morse_code: MorseCode\n",
    "    semaphore: Semaphore\n",
    "\n",
    "class UserPreferences(BaseModel):\n",
    "    communication_preferences: CommunicationPreferences\n",
    "    trust_fall_preferences: TrustFallPreferences\n",
    "\n",
    "class TelegramAndTrustFallPreferences(BaseModel):\n",
    "    pertinent_user_preferences: UserPreferences"
   ]
  },
  {
   "cell_type": "code",
   "execution_count": 31,
   "metadata": {},
   "outputs": [],
   "source": [
    "from pydantic import ValidationError\n",
    "\n",
    "model_with_structure = model.with_structured_output(TelegramAndTrustFallPreferences)"
   ]
  },
  {
   "cell_type": "code",
   "execution_count": 32,
   "metadata": {},
   "outputs": [],
   "source": [
    "conversation = \"\"\"オペレーター: 電報のご用件は何でしょうか？\n",
    "お客様: 私たちの「信頼落下」の訓練についてメッセージを送りたいのですが。\n",
    "オペレーター: かしこまりました。モールス信号で送りますか、それとも標準的な形式で？\n",
    "お客様: モールスでお願いします。直鍵を使うのが大好きなんです。\n",
    "オペレーター: 素晴らしいですね。メッセージの内容をどうぞ。\n",
    "お客様: 「もっと高い落下に挑戦する準備ができた。それと、キャッチにはダイヤモンド隊形がいい」と伝えてください。\n",
    "オペレーター: 了解しました。この大胆なメッセージには「デアデビル紙」を使いますか？\n",
    "お客様: 完璧です！最速の伝書鳩で送ってください。\n",
    "オペレーター: 1時間以内に到着するでしょう。\"\"\""
   ]
  },
  {
   "cell_type": "code",
   "execution_count": 35,
   "metadata": {},
   "outputs": [],
   "source": [
    "try:\n",
    "    response = model_with_structure.invoke(f\"\"\"以下の会話から好みを抽出してください:\n",
    "    <convo>\n",
    "    {conversation}\n",
    "    </convo>\"\"\")\n",
    "except ValidationError as e:\n",
    "    print(e)"
   ]
  },
  {
   "cell_type": "code",
   "execution_count": 37,
   "metadata": {},
   "outputs": [
    {
     "name": "stdout",
     "output_type": "stream",
     "text": [
      "pertinent_user_preferences=UserPreferences(communication_preferences=CommunicationPreferences(telegram=TelegramPreferences(preferred_encoding=[OutputFormat(preference='モールス信号', sentence_preference_revealed='モールスでお願いします。'), OutputFormat(preference='デアデビル紙', sentence_preference_revealed='この大胆なメッセージには「デアデビル紙」を使いますか？')], favorite_telegram_operators=[OutputFormat(preference='直鍵', sentence_preference_revealed='直鍵を使うのが大好きなんです。')], preferred_telegram_paper=None), morse_code=MorseCode(preferred_key_type=[OutputFormat(preference='直鍵', sentence_preference_revealed='直鍵を使うのが大好きなんです。')], favorite_morse_abbreviations=None), semaphore=Semaphore(preferred_flag_color=None, semaphore_skill_level=None)), trust_fall_preferences=TrustFallPreferences(preferred_fall_height=[OutputFormat(preference='高い', sentence_preference_revealed='もっと高い落下に挑戦する準備ができた。')], trust_level=None, preferred_catching_technique=[OutputFormat(preference='ダイヤモンド隊形', sentence_preference_revealed='キャッチにはダイヤモンド隊形がいい')]))\n"
     ]
    }
   ],
   "source": [
    "print(response)"
   ]
  },
  {
   "cell_type": "markdown",
   "metadata": {},
   "source": [
    "## プロファイルの作成と更新にtructcallを使う"
   ]
  },
  {
   "cell_type": "code",
   "execution_count": 38,
   "metadata": {},
   "outputs": [],
   "source": [
    "conversation = [HumanMessage(content=\"やあ、私は森です。\",),\n",
    "                AIMessage(content=\"はじめまして、森さん。\"),\n",
    "                HumanMessage(content=\"私は本当にPCゲームにはまっています。\")]"
   ]
  },
  {
   "cell_type": "code",
   "execution_count": 39,
   "metadata": {},
   "outputs": [],
   "source": [
    "from trustcall import create_extractor\n",
    "\n",
    "class UserProfile(BaseModel):\n",
    "    user_name: str = Field(description=\"ユーザ名\")\n",
    "    interests: List[str] = Field(description=\"ユーザの興味のリスト\")"
   ]
  },
  {
   "cell_type": "code",
   "execution_count": 41,
   "metadata": {},
   "outputs": [
    {
     "data": {
      "text/plain": [
       "RunnableLambda(coerce_inputs)\n",
       "| <langgraph.graph.state.CompiledStateGraph object at 0x7fa71d0ccad0>\n",
       "| RunnableLambda(filter_state)"
      ]
     },
     "execution_count": 41,
     "metadata": {},
     "output_type": "execute_result"
    }
   ],
   "source": [
    "model = ChatOpenAI(model=\"gpt-4o-mini\", temperature=0)\n",
    "\n",
    "trustcall_extractor = create_extractor(\n",
    "    model,\n",
    "    tools=[UserProfile],\n",
    "    tool_choice=\"UserProfile\"\n",
    ")\n",
    "trustcall_extractor"
   ]
  },
  {
   "cell_type": "code",
   "execution_count": 43,
   "metadata": {},
   "outputs": [
    {
     "data": {
      "text/plain": [
       "{'messages': [AIMessage(content='', additional_kwargs={'tool_calls': [{'id': 'call_hz6i2C2iez5egNA1bOUv1SR0', 'function': {'arguments': '{\"user_name\":\"森\",\"interests\":[\"PCゲーム\"]}', 'name': 'UserProfile'}, 'type': 'function'}], 'refusal': None}, response_metadata={'token_usage': {'completion_tokens': 13, 'prompt_tokens': 125, 'total_tokens': 138, 'completion_tokens_details': {'audio_tokens': 0, 'reasoning_tokens': 0, 'accepted_prediction_tokens': 0, 'rejected_prediction_tokens': 0}, 'prompt_tokens_details': {'audio_tokens': 0, 'cached_tokens': 0}}, 'model_name': 'gpt-4o-mini-2024-07-18', 'system_fingerprint': 'fp_9b78b61c52', 'finish_reason': 'stop', 'logprobs': None}, id='run-25480e07-bfea-4b6a-8b88-e882a2d8072f-0', tool_calls=[{'name': 'UserProfile', 'args': {'user_name': '森', 'interests': ['PCゲーム']}, 'id': 'call_hz6i2C2iez5egNA1bOUv1SR0', 'type': 'tool_call'}], usage_metadata={'input_tokens': 125, 'output_tokens': 13, 'total_tokens': 138, 'input_token_details': {'audio': 0, 'cache_read': 0}, 'output_token_details': {'audio': 0, 'reasoning': 0}})],\n",
       " 'responses': [UserProfile(user_name='森', interests=['PCゲーム'])],\n",
       " 'response_metadata': [{'id': 'call_hz6i2C2iez5egNA1bOUv1SR0'}],\n",
       " 'attempts': 1}"
      ]
     },
     "execution_count": 43,
     "metadata": {},
     "output_type": "execute_result"
    }
   ],
   "source": [
    "system_msg = \"以下の会話からユーザプロフィールを抽出してください。\"\n",
    "\n",
    "result = trustcall_extractor.invoke({\"messages\": [SystemMessage(content=system_msg)] + conversation})\n",
    "result"
   ]
  },
  {
   "cell_type": "code",
   "execution_count": 45,
   "metadata": {},
   "outputs": [
    {
     "data": {
      "text/plain": [
       "[AIMessage(content='', additional_kwargs={'tool_calls': [{'id': 'call_hz6i2C2iez5egNA1bOUv1SR0', 'function': {'arguments': '{\"user_name\":\"森\",\"interests\":[\"PCゲーム\"]}', 'name': 'UserProfile'}, 'type': 'function'}], 'refusal': None}, response_metadata={'token_usage': {'completion_tokens': 13, 'prompt_tokens': 125, 'total_tokens': 138, 'completion_tokens_details': {'audio_tokens': 0, 'reasoning_tokens': 0, 'accepted_prediction_tokens': 0, 'rejected_prediction_tokens': 0}, 'prompt_tokens_details': {'audio_tokens': 0, 'cached_tokens': 0}}, 'model_name': 'gpt-4o-mini-2024-07-18', 'system_fingerprint': 'fp_9b78b61c52', 'finish_reason': 'stop', 'logprobs': None}, id='run-25480e07-bfea-4b6a-8b88-e882a2d8072f-0', tool_calls=[{'name': 'UserProfile', 'args': {'user_name': '森', 'interests': ['PCゲーム']}, 'id': 'call_hz6i2C2iez5egNA1bOUv1SR0', 'type': 'tool_call'}], usage_metadata={'input_tokens': 125, 'output_tokens': 13, 'total_tokens': 138, 'input_token_details': {'audio': 0, 'cache_read': 0}, 'output_token_details': {'audio': 0, 'reasoning': 0}})]"
      ]
     },
     "execution_count": 45,
     "metadata": {},
     "output_type": "execute_result"
    }
   ],
   "source": [
    "result[\"messages\"]"
   ]
  },
  {
   "cell_type": "code",
   "execution_count": 46,
   "metadata": {},
   "outputs": [
    {
     "data": {
      "text/plain": [
       "[UserProfile(user_name='森', interests=['PCゲーム'])]"
      ]
     },
     "execution_count": 46,
     "metadata": {},
     "output_type": "execute_result"
    }
   ],
   "source": [
    "schema = result[\"responses\"]\n",
    "schema"
   ]
  },
  {
   "cell_type": "code",
   "execution_count": 47,
   "metadata": {},
   "outputs": [
    {
     "data": {
      "text/plain": [
       "{'user_name': '森', 'interests': ['PCゲーム']}"
      ]
     },
     "execution_count": 47,
     "metadata": {},
     "output_type": "execute_result"
    }
   ],
   "source": [
    "schema[0].model_dump()"
   ]
  },
  {
   "cell_type": "code",
   "execution_count": 48,
   "metadata": {},
   "outputs": [
    {
     "data": {
      "text/plain": [
       "[{'id': 'call_hz6i2C2iez5egNA1bOUv1SR0'}]"
      ]
     },
     "execution_count": 48,
     "metadata": {},
     "output_type": "execute_result"
    }
   ],
   "source": [
    "result[\"response_metadata\"]"
   ]
  },
  {
   "cell_type": "code",
   "execution_count": 49,
   "metadata": {},
   "outputs": [],
   "source": [
    "updated_conversation = [HumanMessage(content=\"やあ、私は森です。\",),\n",
    "                AIMessage(content=\"はじめまして、森さん。\"),\n",
    "                HumanMessage(content=\"私は本当にPCゲームにはまっています。\"),\n",
    "                AIMessage(content=\"PCゲームが好きなんですね。\"),\n",
    "                HumanMessage(content=\"ゲームプログラミングにも興味があります。\")]\n",
    "\n",
    "system_msg = \"次の会話から新しい情報を取り入れて、長期記憶（JSONドキュメント）を更新してください。\"\n",
    "\n",
    "result = trustcall_extractor.invoke({\"messages\": [SystemMessage(content=system_msg)] + updated_conversation},\n",
    "                                    {\"existing\": {\"UserProfile\": schema[0].model_dump()}})"
   ]
  },
  {
   "cell_type": "code",
   "execution_count": 51,
   "metadata": {},
   "outputs": [
    {
     "name": "stdout",
     "output_type": "stream",
     "text": [
      "[AIMessage(content='', additional_kwargs={'tool_calls': [{'id': 'call_ircLCv1QqBkdYi6ED3s1xtwE', 'function': {'arguments': '{\"user_name\":\"森\",\"interests\":[\"PCゲーム\",\"ゲームプログラミング\"]}', 'name': 'UserProfile'}, 'type': 'function'}], 'refusal': None}, response_metadata={'token_usage': {'completion_tokens': 20, 'prompt_tokens': 167, 'total_tokens': 187, 'completion_tokens_details': {'audio_tokens': 0, 'reasoning_tokens': 0, 'accepted_prediction_tokens': 0, 'rejected_prediction_tokens': 0}, 'prompt_tokens_details': {'audio_tokens': 0, 'cached_tokens': 0}}, 'model_name': 'gpt-4o-mini-2024-07-18', 'system_fingerprint': 'fp_9b78b61c52', 'finish_reason': 'stop', 'logprobs': None}, id='run-20b8f25f-23e1-40a1-ad4c-5c95dd9435f2-0', tool_calls=[{'name': 'UserProfile', 'args': {'user_name': '森', 'interests': ['PCゲーム', 'ゲームプログラミング']}, 'id': 'call_ircLCv1QqBkdYi6ED3s1xtwE', 'type': 'tool_call'}], usage_metadata={'input_tokens': 167, 'output_tokens': 20, 'total_tokens': 187, 'input_token_details': {'audio': 0, 'cache_read': 0}, 'output_token_details': {'audio': 0, 'reasoning': 0}})]\n"
     ]
    }
   ],
   "source": [
    "print(result[\"messages\"])"
   ]
  }
 ],
 "metadata": {
  "kernelspec": {
   "display_name": "learning-langchain-BRoTc1ZH-py3.11",
   "language": "python",
   "name": "python3"
  },
  "language_info": {
   "codemirror_mode": {
    "name": "ipython",
    "version": 3
   },
   "file_extension": ".py",
   "mimetype": "text/x-python",
   "name": "python",
   "nbconvert_exporter": "python",
   "pygments_lexer": "ipython3",
   "version": "3.11.7"
  }
 },
 "nbformat": 4,
 "nbformat_minor": 2
}

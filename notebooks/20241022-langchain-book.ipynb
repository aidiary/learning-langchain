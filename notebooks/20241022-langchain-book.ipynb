{
 "cells": [
  {
   "cell_type": "markdown",
   "metadata": {},
   "source": [
    "## 4. LangChain解説"
   ]
  },
  {
   "cell_type": "code",
   "execution_count": null,
   "metadata": {},
   "outputs": [],
   "source": [
    "from langchain_openai import OpenAI\n",
    "\n",
    "llm = OpenAI(model_name=\"gpt-3.5-turbo-instruct\", temperature=0.0)\n",
    "\n",
    "result = llm.invoke(\"自己紹介してください。\")\n",
    "print(result)"
   ]
  },
  {
   "cell_type": "code",
   "execution_count": null,
   "metadata": {},
   "outputs": [],
   "source": [
    "from langchain_core.messages import AIMessage, HumanMessage, SystemMessage\n",
    "from langchain_openai import ChatOpenAI\n",
    "\n",
    "chat = ChatOpenAI(model_name=\"gpt-3.5-turbo\", temperature=0)\n",
    "\n",
    "messages = [\n",
    "    SystemMessage(content=\"You are a helpful assistant.\"),\n",
    "    HumanMessage(content=\"こんにちは！私はジョンと言います！\"),\n",
    "    AIMessage(content=\"こんにちは、ジョンさん！どのようにお手伝いできますか？\"),\n",
    "    HumanMessage(content= \"私の名前が分かりますか？\")\n",
    "]\n",
    "\n",
    "result = chat.invoke(messages)\n",
    "print(result.content)"
   ]
  },
  {
   "cell_type": "code",
   "execution_count": null,
   "metadata": {},
   "outputs": [],
   "source": [
    "from langchain_openai import ChatOpenAI\n",
    "from langchain_core.messages import HumanMessage\n",
    "\n",
    "chat = ChatOpenAI(model_name=\"gpt-3.5-turbo\", temperature=0.0)\n",
    "\n",
    "messages = [HumanMessage(content=\"自己紹介してください。\")]\n",
    "\n",
    "for chunk in chat.stream(messages):\n",
    "    print(chunk.content)"
   ]
  },
  {
   "cell_type": "code",
   "execution_count": 9,
   "metadata": {},
   "outputs": [
    {
     "name": "stdout",
     "output_type": "stream",
     "text": [
      "以下のレシピを考えてください。\n",
      "\n",
      "料理名: カレー\n",
      "\n"
     ]
    }
   ],
   "source": [
    "from langchain_core.prompts import PromptTemplate\n",
    "\n",
    "prompt = PromptTemplate.from_template(\n",
    "    \"\"\"以下のレシピを考えてください。\n",
    "\n",
    "料理名: {dish}\n",
    "\"\"\"\n",
    ")\n",
    "\n",
    "result = prompt.format(dish=\"カレー\")\n",
    "print(result)"
   ]
  },
  {
   "cell_type": "code",
   "execution_count": 10,
   "metadata": {},
   "outputs": [
    {
     "name": "stdout",
     "output_type": "stream",
     "text": [
      "[SystemMessage(content='あなたはイギリス料理のプロフェッショナルです。', additional_kwargs={}, response_metadata={}), HumanMessage(content='以下の料理のレシピを考えてください。\\n\\n料理名: 肉じゃが', additional_kwargs={}, response_metadata={})]\n"
     ]
    }
   ],
   "source": [
    "from langchain_core.prompts import ChatPromptTemplate\n",
    "\n",
    "chat_prompt = ChatPromptTemplate.from_messages([\n",
    "    (\"system\", \"あなたは{country}料理のプロフェッショナルです。\"),\n",
    "    (\"human\", \"以下の料理のレシピを考えてください。\\n\\n料理名: {dish}\")\n",
    "])\n",
    "\n",
    "messages = chat_prompt.format_messages(country=\"イギリス\", dish=\"肉じゃが\")\n",
    "\n",
    "print(messages)"
   ]
  },
  {
   "cell_type": "code",
   "execution_count": 11,
   "metadata": {},
   "outputs": [
    {
     "name": "stdout",
     "output_type": "stream",
     "text": [
      "肉じゃがは日本の家庭料理ですが、イギリス風にアレンジしたレシピをご紹介します。イギリスの食材を使いながら、肉じゃがの基本的な要素を取り入れたレシピです。\n",
      "\n",
      "### イギリス風肉じゃが\n",
      "\n",
      "#### 材料（4人分）\n",
      "- 牛肉（薄切りまたは角切り）: 400g\n",
      "- ジャガイモ: 4個（中サイズ）\n",
      "- ニンジン: 2本\n",
      "- 玉ねぎ: 1個\n",
      "- グリーンピース: 100g（冷凍でも可）\n",
      "- ビーフストック: 500ml\n",
      "- ソース（ウスターソースまたはトマトケチャップ）: 大さじ2\n",
      "- 砂糖: 大さじ1\n",
      "- 塩: 適量\n",
      "- 黒胡椒: 適量\n",
      "- サラダ油: 大さじ2\n",
      "- パセリ（飾り用）: 適量\n",
      "\n",
      "#### 作り方\n",
      "1. **下ごしらえ**:\n",
      "   - ジャガイモは皮をむき、一口大に切ります。\n",
      "   - ニンジンは皮をむき、斜め切りにします。\n",
      "   - 玉ねぎは薄切りにします。\n",
      "\n",
      "2. **肉の調理**:\n",
      "   - 大きな鍋にサラダ油を熱し、牛肉を加えて中火で炒めます。肉が色づいたら、玉ねぎを加えてさらに炒めます。\n",
      "\n",
      "3. **野菜の追加**:\n",
      "   - 玉ねぎが透明になったら、ジャガイモとニンジンを加え、全体をよく混ぜます。\n",
      "\n",
      "4. **煮込み**:\n",
      "   - ビーフストックを鍋に注ぎ入れ、ウスターソースまたはトマトケチャップ、砂糖を加えます。全体を軽く混ぜ、沸騰させます。\n",
      "   - 沸騰したら、火を弱めて蓋をし、約20〜30分煮込みます。ジャガイモとニンジンが柔らかくなるまで煮ます。\n",
      "\n",
      "5. **仕上げ**:\n",
      "   - 煮込みが終わったら、グリーンピースを加え、さらに5分ほど煮ます。塩と黒胡椒で味を調えます。\n",
      "\n",
      "6. **盛り付け**:\n",
      "   - 器に盛り付け、パセリを散らして完成です。\n",
      "\n",
      "### 提案\n",
      "イギリス風肉じゃがは、マッシュポテトやバターライスと一緒に楽しむと、よりボリューム感が出て美味しくいただけます。また、好みに応じて、他の野菜（例えば、セロリやパースニップ）を加えても良いでしょう。\n"
     ]
    }
   ],
   "source": [
    "from langchain_openai import ChatOpenAI\n",
    "\n",
    "chat = ChatOpenAI(model_name=\"gpt-4o-mini\", temperature=0.0)\n",
    "result = chat.invoke(messages)\n",
    "print(result.content)"
   ]
  },
  {
   "cell_type": "code",
   "execution_count": 12,
   "metadata": {},
   "outputs": [],
   "source": [
    "from pydantic import BaseModel, Field\n",
    "\n",
    "\n",
    "class Recipe(BaseModel):\n",
    "    ingredients: list[str] = Field(description=\"ingredients of the dish\")\n",
    "    steps: list[str] = Field(description=\"steps to make the dish\")"
   ]
  },
  {
   "cell_type": "code",
   "execution_count": 30,
   "metadata": {},
   "outputs": [],
   "source": [
    "from langchain.prompts import ChatPromptTemplate\n",
    "from langchain_openai import ChatOpenAI\n",
    "\n",
    "prompt = ChatPromptTemplate.from_messages(\n",
    "    [\n",
    "        (\"human\", \"以下の料理のレシピを考えてください。\\n\\n料理名: {dish}\")\n",
    "    ]\n",
    ")\n",
    "\n",
    "chat = ChatOpenAI(model_name=\"gpt-4o-mini\", temperature=0.0).with_structured_output(Recipe)\n",
    "\n",
    "chain = prompt | chat\n",
    "\n",
    "output = chain.invoke({\"dish\": \"カレー\"})"
   ]
  },
  {
   "cell_type": "code",
   "execution_count": 31,
   "metadata": {},
   "outputs": [
    {
     "name": "stdout",
     "output_type": "stream",
     "text": [
      "ingredients=['鶏肉', '玉ねぎ', 'にんじん', 'じゃがいも', 'カレールー', '水', 'サラダ油', '塩', 'こしょう', 'ガーリックパウダー', '生姜', 'ご飯'] steps=['鶏肉を一口大に切り、塩、こしょう、ガーリックパウダーで下味をつける。', '玉ねぎを薄切り、にんじんとじゃがいもを一口大に切る。', '鍋にサラダ油を熱し、玉ねぎを炒めて透明になるまで炒める。', '鶏肉を加え、表面が白くなるまで炒める。', 'にんじんとじゃがいもを加え、全体をよく混ぜる。', '水を加え、沸騰したらアクを取り、弱火で20分煮る。', 'カレールーを加え、さらに10分煮込む。', '味を見て、必要に応じて塩やこしょうで調整する。', 'ご飯を皿に盛り、カレーをかけて完成。']\n"
     ]
    }
   ],
   "source": [
    "print(output)"
   ]
  },
  {
   "cell_type": "code",
   "execution_count": 32,
   "metadata": {},
   "outputs": [
    {
     "data": {
      "text/plain": [
       "{'ingredients': ['鶏肉',\n",
       "  '玉ねぎ',\n",
       "  'にんじん',\n",
       "  'じゃがいも',\n",
       "  'カレールー',\n",
       "  '水',\n",
       "  'サラダ油',\n",
       "  '塩',\n",
       "  'こしょう',\n",
       "  'ガーリックパウダー',\n",
       "  '生姜',\n",
       "  'ご飯'],\n",
       " 'steps': ['鶏肉を一口大に切り、塩、こしょう、ガーリックパウダーで下味をつける。',\n",
       "  '玉ねぎを薄切り、にんじんとじゃがいもを一口大に切る。',\n",
       "  '鍋にサラダ油を熱し、玉ねぎを炒めて透明になるまで炒める。',\n",
       "  '鶏肉を加え、表面が白くなるまで炒める。',\n",
       "  'にんじんとじゃがいもを加え、全体をよく混ぜる。',\n",
       "  '水を加え、沸騰したらアクを取り、弱火で20分煮る。',\n",
       "  'カレールーを加え、さらに10分煮込む。',\n",
       "  '味を見て、必要に応じて塩やこしょうで調整する。',\n",
       "  'ご飯を皿に盛り、カレーをかけて完成。']}"
      ]
     },
     "execution_count": 32,
     "metadata": {},
     "output_type": "execute_result"
    }
   ],
   "source": [
    "output.model_dump()"
   ]
  },
  {
   "cell_type": "code",
   "execution_count": 34,
   "metadata": {},
   "outputs": [
    {
     "name": "stdout",
     "output_type": "stream",
     "text": [
      "残りのリンゴは10個です。\n"
     ]
    }
   ],
   "source": [
    "from langchain_core.output_parsers import StrOutputParser\n",
    "from langchain_core.runnables import RunnablePassthrough\n",
    "\n",
    "model = ChatOpenAI(model_name=\"gpt-4o-mini\", temperature=0.0)\n",
    "\n",
    "cot_prompt = PromptTemplate.from_template(\n",
    "    \"\"\"以下の質問に回答してください。\n",
    "\n",
    "質問: {question}\n",
    "\n",
    "ステップバイステップで考えましょう。\n",
    "\"\"\"\n",
    ")\n",
    "\n",
    "cot_chain = (\n",
    "    {\"question\": RunnablePassthrough()}\n",
    "    | cot_prompt\n",
    "    | model\n",
    "    | StrOutputParser()\n",
    ")\n",
    "\n",
    "summarize_prompt = PromptTemplate.from_template(\n",
    "    \"\"\"以下の文章の結論だけを一言に要約してください。\n",
    "\n",
    "{input}\"\"\"\n",
    ")\n",
    "\n",
    "summarize_chain = (\n",
    "    {\"input\": RunnablePassthrough()}\n",
    "    | summarize_prompt\n",
    "    | model\n",
    "    | StrOutputParser()\n",
    ")\n",
    "\n",
    "cot_summarize_chain = cot_chain | summarize_chain\n",
    "\n",
    "result = cot_summarize_chain.invoke(\n",
    "    \"私は市場に行って10個のリンゴを買いました。隣人に2つ、修理工に2つ渡しました。それから5つのリンゴを買って1つ食べました。残りは何個ですか？\"\n",
    ")\n",
    "print(result)"
   ]
  },
  {
   "cell_type": "code",
   "execution_count": null,
   "metadata": {},
   "outputs": [
    {
     "name": "stdout",
     "output_type": "stream",
     "text": [
      "こんにちは！どのようにお手伝いできますか？\n",
      "森さん、こんにちは！お会いできて嬉しいです。今日はどんなことをお話ししましょうか？\n",
      "あなたの名前は森さんです。何か他にお話ししたいことがありますか？\n",
      "何かお手伝いできることがあれば教えてくださいね。質問や話題があればお気軽にどうぞ！\n"
     ]
    }
   ],
   "source": [
    "from operator import itemgetter\n",
    "\n",
    "from langchain_core.output_parsers import StrOutputParser\n",
    "from langchain_core.prompts import MessagesPlaceholder\n",
    "from langchain_core.runnables import RunnableLambda, RunnablePassthrough\n",
    "from langchain.memory import ConversationBufferMemory\n",
    "\n",
    "chat = ChatOpenAI(model_name=\"gpt-4o-mini\", temperature=0.0)\n",
    "\n",
    "prompt = ChatPromptTemplate.from_messages(\n",
    "    [\n",
    "        (\"system\", \"You are a helpful assistant.\"),\n",
    "        MessagesPlaceholder(variable_name=\"history\"),\n",
    "        (\"human\", \"{input}\")\n",
    "    ]\n",
    ")\n",
    "\n",
    "memory = ConversationBufferMemory(return_messages=True)\n",
    "\n",
    "chain = (\n",
    "    RunnablePassthrough.assign(\n",
    "        history=RunnableLambda(memory.load_memory_variables) | itemgetter(\"history\")\n",
    "    )\n",
    "    | prompt\n",
    "    | model\n",
    "    | StrOutputParser()\n",
    ")\n",
    "\n",
    "while True:\n",
    "    user_message = input(\"You: \")\n",
    "    inputs = {\"input\": user_message}\n",
    "\n",
    "    ai_message = chain.invoke(inputs)\n",
    "    memory.save_context(inputs, {\"output\": ai_message})\n",
    "\n",
    "    print(ai_message)"
   ]
  }
 ],
 "metadata": {
  "kernelspec": {
   "display_name": "learning-langchain-BRoTc1ZH-py3.11",
   "language": "python",
   "name": "python3"
  },
  "language_info": {
   "codemirror_mode": {
    "name": "ipython",
    "version": 3
   },
   "file_extension": ".py",
   "mimetype": "text/x-python",
   "name": "python",
   "nbconvert_exporter": "python",
   "pygments_lexer": "ipython3",
   "version": "3.11.7"
  }
 },
 "nbformat": 4,
 "nbformat_minor": 2
}

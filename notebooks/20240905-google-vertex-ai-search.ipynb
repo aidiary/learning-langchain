{
 "cells": [
  {
   "cell_type": "code",
   "execution_count": null,
   "metadata": {},
   "outputs": [],
   "source": [
    "from langchain_google_community import (\n",
    "    VertexAISearchRetriever,\n",
    ")\n",
    "\n",
    "PROJECT_ID = \"inbound-mote-433711-a6\"\n",
    "LOCATION_ID = \"global\"\n",
    "SEARCH_ENGINE_ID = \"alphabet-investor-pdfs_1725497923032\"\n",
    "DATA_STORE_ID = \"alphabet-investor-pdfs_1725497426427\""
   ]
  },
  {
   "cell_type": "code",
   "execution_count": null,
   "metadata": {},
   "outputs": [],
   "source": [
    "retriever = VertexAISearchRetriever(\n",
    "    project_id=PROJECT_ID,\n",
    "    location_id=LOCATION_ID,\n",
    "    data_store_id=DATA_STORE_ID,\n",
    "    max_documents=3,\n",
    ")\n",
    "\n",
    "query = \"What are Alphabet's Other Bets?\"\n",
    "\n",
    "result = retriever.invoke(query)\n",
    "for doc in result:\n",
    "    print(doc)"
   ]
  },
  {
   "cell_type": "code",
   "execution_count": null,
   "metadata": {},
   "outputs": [],
   "source": [
    "from langchain_core.output_parsers import StrOutputParser\n",
    "from langchain_core.prompts import ChatPromptTemplate\n",
    "from langchain_core.runnables import RunnablePassthrough\n",
    "from langchain_google_vertexai import ChatVertexAI\n",
    "\n",
    "prompt = ChatPromptTemplate.from_template(\n",
    "    \"\"\"Answer the question based only on the context provided.\n",
    "\n",
    "    Context: {context}\n",
    "    \n",
    "    Question: {question}\"\"\"\n",
    ")\n",
    "\n",
    "llm = ChatVertexAI(model=\"gemini-1.5-flash-001\", temperature=0)\n",
    "\n",
    "def format_docs(docs):\n",
    "    return \"\\n\\n\".join(doc.page_content for doc in docs)\n",
    "\n",
    "chain = (\n",
    "    {\"context\": retriever | format_docs, \"question\": RunnablePassthrough()}\n",
    "    | prompt\n",
    "    | llm\n",
    "    | StrOutputParser()\n",
    ")\n",
    "\n",
    "print(chain.invoke(query))"
   ]
  }
 ],
 "metadata": {
  "kernelspec": {
   "display_name": "learning-langchain-BRoTc1ZH-py3.11",
   "language": "python",
   "name": "python3"
  },
  "language_info": {
   "codemirror_mode": {
    "name": "ipython",
    "version": 3
   },
   "file_extension": ".py",
   "mimetype": "text/x-python",
   "name": "python",
   "nbconvert_exporter": "python",
   "pygments_lexer": "ipython3",
   "version": "3.11.7"
  }
 },
 "nbformat": 4,
 "nbformat_minor": 2
}

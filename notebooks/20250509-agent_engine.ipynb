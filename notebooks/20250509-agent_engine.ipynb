{
 "cells": [
  {
   "cell_type": "markdown",
   "id": "eb552c68",
   "metadata": {},
   "source": [
    "# LangGraph on Vertex AI\n",
    "\n",
    "- LangGraph エージェントを Vertex AI 上で実行するためのサンプルコード\n",
    "- https://cloud.google.com/vertex-ai/generative-ai/docs/reasoning-engine/overview?hl=ja\n"
   ]
  },
  {
   "cell_type": "markdown",
   "id": "b272e5e2",
   "metadata": {},
   "source": [
    "## デフォルトの LangGraphAgent で ReAct エージェントを作る\n"
   ]
  },
  {
   "cell_type": "code",
   "execution_count": 59,
   "id": "64762004",
   "metadata": {},
   "outputs": [],
   "source": [
    "from langchain_google_vertexai import HarmBlockThreshold, HarmCategory\n",
    "from vertexai.preview.reasoning_engines import LanggraphAgent\n",
    "\n",
    "model = \"gemini-2.0-flash\"\n",
    "\n",
    "safety_settings = {\n",
    "    HarmCategory.HARM_CATEGORY_UNSPECIFIED: HarmBlockThreshold.BLOCK_NONE,\n",
    "    HarmCategory.HARM_CATEGORY_DANGEROUS_CONTENT: HarmBlockThreshold.BLOCK_MEDIUM_AND_ABOVE,\n",
    "    HarmCategory.HARM_CATEGORY_HATE_SPEECH: HarmBlockThreshold.BLOCK_ONLY_HIGH,\n",
    "    HarmCategory.HARM_CATEGORY_HARASSMENT: HarmBlockThreshold.BLOCK_LOW_AND_ABOVE,\n",
    "    HarmCategory.HARM_CATEGORY_SEXUALLY_EXPLICIT: HarmBlockThreshold.BLOCK_NONE,\n",
    "}\n",
    "\n",
    "model_kwargs = {\n",
    "    # temperature (float): The sampling temperature controls the degree of\n",
    "    # randomness in token selection.\n",
    "    \"temperature\": 0.28,\n",
    "    # max_output_tokens (int): The token limit determines the maximum amount of\n",
    "    # text output from one prompt.\n",
    "    \"max_output_tokens\": 1000,\n",
    "    # top_p (float): Tokens are selected from most probable to least until\n",
    "    # the sum of their probabilities equals the top-p value.\n",
    "    \"top_p\": 0.95,\n",
    "    # top_k (int): The next token is selected from among the top-k most\n",
    "    # probable tokens. This is not supported by all model versions. See\n",
    "    # https://cloud.google.com/vertex-ai/generative-ai/docs/multimodal/image-understanding#valid_parameter_values\n",
    "    # for details.\n",
    "    \"top_k\": None,\n",
    "    # safety_settings (Dict[HarmCategory, HarmBlockThreshold]): The safety\n",
    "    # settings to use for generating content.\n",
    "    # (you must create your safety settings using the previous step first).\n",
    "    \"safety_settings\": safety_settings,\n",
    "}\n",
    "\n",
    "\n",
    "agent = LanggraphAgent(\n",
    "    model=model,  # Required.\n",
    "    model_kwargs=model_kwargs,  # Optional.\n",
    ")"
   ]
  },
  {
   "cell_type": "code",
   "execution_count": 39,
   "id": "c6098d24",
   "metadata": {},
   "outputs": [],
   "source": [
    "response = agent.query(\n",
    "    input={\n",
    "        \"messages\": [\n",
    "            (\"user\", \"USドルから日本円への為替レートを教えてください\"),\n",
    "        ]\n",
    "    }\n",
    ")"
   ]
  },
  {
   "cell_type": "code",
   "execution_count": 40,
   "id": "8c159226",
   "metadata": {},
   "outputs": [
    {
     "data": {
      "text/plain": [
       "{'messages': [{'lc': 1,\n",
       "   'type': 'constructor',\n",
       "   'id': ['langchain', 'schema', 'messages', 'HumanMessage'],\n",
       "   'kwargs': {'content': 'USドルから日本円への為替レートを教えてください',\n",
       "    'type': 'human',\n",
       "    'id': 'bd328bbb-530f-4268-8d68-f8734ba0d606'}},\n",
       "  {'lc': 1,\n",
       "   'type': 'constructor',\n",
       "   'id': ['langchain', 'schema', 'messages', 'AIMessage'],\n",
       "   'kwargs': {'content': '現在の為替レートは常に変動しています。リアルタイムの為替レートを知るためには、以下のいずれかの方法をお勧めします。\\n\\n*   **Googleなどの検索エンジンで「USD JPY」と検索する:** ほぼリアルタイムの為替レートが表示されます。\\n*   **信頼できる金融情報サイトやアプリを利用する:** Bloomberg、Reuters、Yahoo! Financeなどが信頼できます。\\n*   **銀行や両替所のウェブサイトを確認する:** 実際に取引を行う場合は、利用する金融機関の為替レートを確認してください。\\n\\n為替レートは常に変動するため、上記の方法で最新の情報を確認してください。\\n',\n",
       "    'response_metadata': {'is_blocked': False,\n",
       "     'safety_ratings': [{'category': 'HARM_CATEGORY_HATE_SPEECH',\n",
       "       'probability_label': 'NEGLIGIBLE',\n",
       "       'probability_score': 6.99526708558551e-07,\n",
       "       'blocked': False,\n",
       "       'severity': 'HARM_SEVERITY_NEGLIGIBLE',\n",
       "       'severity_score': 0.007363021373748779},\n",
       "      {'category': 'HARM_CATEGORY_DANGEROUS_CONTENT',\n",
       "       'probability_label': 'NEGLIGIBLE',\n",
       "       'probability_score': 6.712493359373184e-06,\n",
       "       'blocked': False,\n",
       "       'severity': 'HARM_SEVERITY_NEGLIGIBLE',\n",
       "       'severity_score': 0.020398445427417755},\n",
       "      {'category': 'HARM_CATEGORY_HARASSMENT',\n",
       "       'probability_label': 'NEGLIGIBLE',\n",
       "       'probability_score': 1.5422435808432056e-06,\n",
       "       'blocked': False,\n",
       "       'severity': 'HARM_SEVERITY_NEGLIGIBLE',\n",
       "       'severity_score': 0.0},\n",
       "      {'category': 'HARM_CATEGORY_SEXUALLY_EXPLICIT',\n",
       "       'probability_label': 'NEGLIGIBLE',\n",
       "       'probability_score': 2.6354859983257484e-07,\n",
       "       'blocked': False,\n",
       "       'severity': 'HARM_SEVERITY_NEGLIGIBLE',\n",
       "       'severity_score': 0.014131784439086914}],\n",
       "     'usage_metadata': {'prompt_token_count': 11,\n",
       "      'candidates_token_count': 127,\n",
       "      'total_token_count': 138,\n",
       "      'prompt_tokens_details': [{'modality': 1, 'token_count': 11}],\n",
       "      'candidates_tokens_details': [{'modality': 1, 'token_count': 127}],\n",
       "      'cached_content_token_count': 0,\n",
       "      'cache_tokens_details': []},\n",
       "     'finish_reason': 'STOP',\n",
       "     'avg_logprobs': -0.1384971798874262,\n",
       "     'model_name': 'gemini-2.0-flash'},\n",
       "    'type': 'ai',\n",
       "    'id': 'run--a54bd544-c0a3-4390-9b30-de916485b45d-0',\n",
       "    'usage_metadata': {'input_tokens': 11,\n",
       "     'output_tokens': 127,\n",
       "     'total_tokens': 138},\n",
       "    'tool_calls': [],\n",
       "    'invalid_tool_calls': []}}]}"
      ]
     },
     "execution_count": 40,
     "metadata": {},
     "output_type": "execute_result"
    }
   ],
   "source": [
    "response"
   ]
  },
  {
   "cell_type": "code",
   "execution_count": 41,
   "id": "017e234a",
   "metadata": {},
   "outputs": [
    {
     "data": {
      "text/plain": [
       "2"
      ]
     },
     "execution_count": 41,
     "metadata": {},
     "output_type": "execute_result"
    }
   ],
   "source": [
    "len(response[\"messages\"])"
   ]
  },
  {
   "cell_type": "code",
   "execution_count": 42,
   "id": "03eace95",
   "metadata": {},
   "outputs": [
    {
     "data": {
      "text/plain": [
       "'USドルから日本円への為替レートを教えてください'"
      ]
     },
     "execution_count": 42,
     "metadata": {},
     "output_type": "execute_result"
    }
   ],
   "source": [
    "response[\"messages\"][0][\"kwargs\"][\"content\"]"
   ]
  },
  {
   "cell_type": "code",
   "execution_count": 43,
   "id": "d403c8ec",
   "metadata": {},
   "outputs": [
    {
     "data": {
      "text/plain": [
       "'現在の為替レートは常に変動しています。リアルタイムの為替レートを知るためには、以下のいずれかの方法をお勧めします。\\n\\n*   **Googleなどの検索エンジンで「USD JPY」と検索する:** ほぼリアルタイムの為替レートが表示されます。\\n*   **信頼できる金融情報サイトやアプリを利用する:** Bloomberg、Reuters、Yahoo! Financeなどが信頼できます。\\n*   **銀行や両替所のウェブサイトを確認する:** 実際に取引を行う場合は、利用する金融機関の為替レートを確認してください。\\n\\n為替レートは常に変動するため、上記の方法で最新の情報を確認してください。\\n'"
      ]
     },
     "execution_count": 43,
     "metadata": {},
     "output_type": "execute_result"
    }
   ],
   "source": [
    "response[\"messages\"][1][\"kwargs\"][\"content\"]"
   ]
  },
  {
   "cell_type": "markdown",
   "id": "f9e71189",
   "metadata": {},
   "source": [
    "## 独自ツールを与える\n"
   ]
  },
  {
   "cell_type": "code",
   "execution_count": 44,
   "id": "27107a48",
   "metadata": {},
   "outputs": [],
   "source": [
    "def get_exchange_rate(\n",
    "    currency_from: str = \"USD\",\n",
    "    currency_to: str = \"EUR\",\n",
    "    currency_date: str = \"latest\",\n",
    "):\n",
    "    \"\"\"Retrieves the exchange rate between two currencies on a specified date.\n",
    "\n",
    "    Uses the Frankfurter API (https://api.frankfurter.app/) to obtain\n",
    "    exchange rate data.\n",
    "\n",
    "    Args:\n",
    "        currency_from: The base currency (3-letter currency code).\n",
    "            Defaults to \"USD\" (US Dollar).\n",
    "        currency_to: The target currency (3-letter currency code).\n",
    "            Defaults to \"EUR\" (Euro).\n",
    "        currency_date: The date for which to retrieve the exchange rate.\n",
    "            Defaults to \"latest\" for the most recent exchange rate data.\n",
    "            Can be specified in YYYY-MM-DD format for historical rates.\n",
    "\n",
    "    Returns:\n",
    "        dict: A dictionary containing the exchange rate information.\n",
    "            Example: {\"amount\": 1.0, \"base\": \"USD\", \"date\": \"2023-11-24\",\n",
    "                \"rates\": {\"EUR\": 0.95534}}\n",
    "    \"\"\"\n",
    "    import requests\n",
    "\n",
    "    response = requests.get(\n",
    "        f\"https://api.frankfurter.app/{currency_date}\",\n",
    "        params={\"from\": currency_from, \"to\": currency_to},\n",
    "    )\n",
    "    return response.json()"
   ]
  },
  {
   "cell_type": "code",
   "execution_count": 6,
   "id": "695d04ba",
   "metadata": {},
   "outputs": [
    {
     "data": {
      "text/plain": [
       "{'amount': 1.0, 'base': 'USD', 'date': '2025-05-08', 'rates': {'JPY': 144.68}}"
      ]
     },
     "execution_count": 6,
     "metadata": {},
     "output_type": "execute_result"
    }
   ],
   "source": [
    "# ツールが動作するか確認\n",
    "get_exchange_rate(currency_from=\"USD\", currency_to=\"JPY\")"
   ]
  },
  {
   "cell_type": "code",
   "execution_count": 48,
   "id": "75f8932b",
   "metadata": {},
   "outputs": [],
   "source": [
    "from vertexai.preview.reasoning_engines import LanggraphAgent\n",
    "\n",
    "agent = LanggraphAgent(\n",
    "    model=model,\n",
    "    tools=[get_exchange_rate],\n",
    ")"
   ]
  },
  {
   "cell_type": "code",
   "execution_count": 49,
   "id": "12aee0a4",
   "metadata": {},
   "outputs": [],
   "source": [
    "response = agent.query(\n",
    "    input={\n",
    "        \"messages\": [\n",
    "            (\"user\", \"USドルから日本円への為替レートを教えてください\"),\n",
    "        ]\n",
    "    }\n",
    ")"
   ]
  },
  {
   "cell_type": "code",
   "execution_count": 50,
   "id": "bbe0c33c",
   "metadata": {},
   "outputs": [
    {
     "name": "stdout",
     "output_type": "stream",
     "text": [
      "USドルから日本円への為替レートを教えてください\n",
      "\n",
      "{\"amount\": 1.0, \"base\": \"USD\", \"date\": \"2025-05-08\", \"rates\": {\"JPY\": 144.68}}\n",
      " 現在の米ドルから日本円への為替レートは、1米ドルあたり144.68円です。\n"
     ]
    }
   ],
   "source": [
    "for msg in response[\"messages\"]:\n",
    "    print(msg[\"kwargs\"][\"content\"])"
   ]
  },
  {
   "cell_type": "markdown",
   "id": "2ed4ea67",
   "metadata": {},
   "source": [
    "## 任意のアーキテクチャの LangGraphAgent を作る\n"
   ]
  },
  {
   "cell_type": "code",
   "execution_count": null,
   "id": "1a4a39ed",
   "metadata": {},
   "outputs": [],
   "source": [
    "def langgraph_builder(*, model, **kwargs):\n",
    "    from langchain_core.prompts import ChatPromptTemplate\n",
    "    from langchain_core.output_parsers import StrOutputParser\n",
    "    from langgraph.graph import END, MessageGraph\n",
    "\n",
    "    output_parser = StrOutputParser()\n",
    "\n",
    "    # LanggraphAgentにあたえた文字列のmodelのオブジェクトが自動的に作られている\n",
    "    print(\"*******\", type(model))\n",
    "\n",
    "    planner = (\n",
    "        ChatPromptTemplate.from_template(\"Generate an argument about: {input}\")\n",
    "        | model\n",
    "        | output_parser\n",
    "    )\n",
    "\n",
    "    pros = (\n",
    "        ChatPromptTemplate.from_template(\"List the positive aspects of {input}\")\n",
    "        | model\n",
    "        | output_parser\n",
    "    )\n",
    "\n",
    "    cons = (\n",
    "        ChatPromptTemplate.from_template(\"List the negative aspects of {input}\")\n",
    "        | model\n",
    "        | output_parser\n",
    "    )\n",
    "\n",
    "    summary = (\n",
    "        ChatPromptTemplate.from_template(\n",
    "            \"Input:{input}\\nGenerate a final response given the critique\",\n",
    "        )\n",
    "        | model\n",
    "        | output_parser\n",
    "    )\n",
    "\n",
    "    builder = MessageGraph()\n",
    "    builder.add_node(\"planner\", planner)\n",
    "    builder.add_node(\"pros\", pros)\n",
    "    builder.add_node(\"cons\", cons)\n",
    "    builder.add_node(\"summary\", summary)\n",
    "\n",
    "    builder.add_edge(\"planner\", \"pros\")\n",
    "    builder.add_edge(\"planner\", \"cons\")\n",
    "    builder.add_edge(\"pros\", \"summary\")\n",
    "    builder.add_edge(\"cons\", \"summary\")\n",
    "    builder.add_edge(\"summary\", END)\n",
    "    builder.set_entry_point(\"planner\")\n",
    "    return builder.compile()"
   ]
  },
  {
   "cell_type": "code",
   "execution_count": 70,
   "id": "67059158",
   "metadata": {},
   "outputs": [
    {
     "data": {
      "text/plain": [
       "<vertexai.preview.reasoning_engines.templates.langgraph.LanggraphAgent at 0x7f4a8c28fa10>"
      ]
     },
     "execution_count": 70,
     "metadata": {},
     "output_type": "execute_result"
    }
   ],
   "source": [
    "agent = LanggraphAgent(model=model, runnable_builder=langgraph_builder)\n",
    "agent"
   ]
  },
  {
   "cell_type": "code",
   "execution_count": null,
   "id": "69aa93ec",
   "metadata": {},
   "outputs": [
    {
     "name": "stdout",
     "output_type": "stream",
     "text": [
      "******* <class 'langchain_google_vertexai.chat_models.ChatVertexAI'>\n"
     ]
    },
    {
     "data": {
      "text/plain": [
       "[{'lc': 1,\n",
       "  'type': 'constructor',\n",
       "  'id': ['langchain', 'schema', 'messages', 'HumanMessage'],\n",
       "  'kwargs': {'content': 'スクラムの利点と欠点',\n",
       "   'type': 'human',\n",
       "   'id': 'be8b5df5-7247-4d32-9a9f-3f3362220547'}},\n",
       " {'lc': 1,\n",
       "  'type': 'constructor',\n",
       "  'id': ['langchain', 'schema', 'messages', 'HumanMessage'],\n",
       "  'kwargs': {'content': '## スクラムの利点と欠点：銀の弾丸ではない、状況適合が重要\\n\\nスクラムは、複雑なプロジェクトを管理するための人気のあるアジャイルフレームワークですが、万能薬ではありません。確かに多くの利点がありますが、同時に克服すべき欠点も存在します。スクラムの導入を検討する際には、これらの両側面を理解し、プロジェクトやチームの特性に合わせた適切な適用を心がける必要があります。\\n\\n**スクラムの利点:**\\n\\n*   **柔軟性と適応性:** スクラムは、変化する要件や市場のニーズに迅速に対応できます。短いスプリントサイクルを通して、定期的に進捗状況をレビューし、必要に応じて方向修正を行うことができます。これにより、開発チームは柔軟に対応し、無駄な開発を防ぐことができます。\\n*   **透明性の向上:** スクラムは、デイリースクラム、スプリントレビュー、スプリントレトロスペクティブといったイベントを通じて、プロジェクトの進捗状況、課題、改善点を可視化します。ステークホルダーも参加することで、チーム全体が共通の認識を持ち、スムーズなコミュニケーションを実現できます。\\n*   **チームのエンパワーメント:** スクラムは、自己組織化されたチームを重視します。プロダクトオーナーが何を開発するかを定義し、開発チームがどのように開発するかを決定します。これにより、チームメンバーは責任感を持ち、主体的にプロジェクトに取り組むことができます。\\n*   **品質の向上:** スプリントごとに動くソフトウェアを開発し、レビューを行うことで、早い段階で問題を発見し修正することができます。また、リファクタリングやテストを継続的に行うことで、技術的な負債を減らし、品質を向上させることができます。\\n*   **顧客満足度の向上:** スクラムは、顧客からのフィードバックを重視します。スプリントレビューで顧客に製品をデモンストレーションし、フィードバックを収集することで、顧客のニーズに合った製品を開発することができます。\\n\\n**スクラムの欠点:**\\n\\n*   **オーバーヘッドの増加:** スクラムは、多くのイベント（デイリースクラム、スプリントプランニング、スプリントレビュー、スプリントレトロスペクティブ）を必要とするため、オーバーヘッドが増加する可能性があります。これらのイベントが形式的なものになり、目的を見失ってしまうと、時間の浪費につながる可能性があります。\\n*   **チームの成熟度が重要:** スクラムは、自己組織化されたチームを前提としているため、チームメンバーのスキルや経験、自己管理能力が重要になります。経験の浅いチームや、自己管理能力が低いメンバーが多い場合、スクラムの効果を十分に発揮できない可能性があります。\\n*   **プロダクトオーナーの負担:** プロダクトオーナーは、プロダクトバックログの作成、優先順位付け、ステークホルダーとのコミュニケーションなど、大きな責任を負います。プロダクトオーナーが適切なスキルや経験を持っていない場合、プロジェクト全体の方向性が誤ってしまう可能性があります。\\n*   **スコープクリープのリスク:** スクラムは、変化する要件に対応できますが、スコープクリープのリスクも伴います。スプリント中に頻繁に要件が変更されると、チームの作業負荷が増加し、スプリントゴールを達成できない可能性があります。\\n*   **大規模プロジェクトへの適用:** 大規模プロジェクトにスクラムを適用する場合、複数のスクラムチームを連携させるための複雑な調整が必要になります。スケーリングフレームワーク（Scrum of Scrums、SAFeなど）を導入する必要があり、導入や運用にコストがかかる場合があります。\\n\\n**結論:**\\n\\nスクラムは、適切な状況で使用すれば、プロジェクトの成功に大きく貢献することができます。しかし、その利点を最大限に活かすためには、チームの成熟度、プロジェクトの特性、組織の文化などを考慮し、スクラムの原則を理解した上で、柔軟に適用する必要があります。単にスクラムのルールに従うのではなく、スクラムの精神を理解し、継続的に改善していくことが重要です。スクラムは銀の弾丸ではなく、状況適合が重要であることを認識すべきです。\\n',\n",
       "   'type': 'human',\n",
       "   'id': '2b29f2a7-7a42-4fe6-85a3-4ddb7ad16dcf'}},\n",
       " {'lc': 1,\n",
       "  'type': 'constructor',\n",
       "  'id': ['langchain', 'schema', 'messages', 'HumanMessage'],\n",
       "  'kwargs': {'content': 'スクラムの欠点は以下の通りです。\\n\\n*   **オーバーヘッドの増加:** 多くのイベント（デイリースクラム、スプリントプランニング、スプリントレビュー、スプリントレトロスペクティブ）が必要なため、オーバーヘッドが増加する可能性があります。これらのイベントが形式的なものになり、目的を見失ってしまうと、時間の浪費につながる可能性があります。\\n*   **チームの成熟度が重要:** 自己組織化されたチームを前提としているため、チームメンバーのスキルや経験、自己管理能力が重要になります。経験の浅いチームや、自己管理能力が低いメンバーが多い場合、スクラムの効果を十分に発揮できない可能性があります。\\n*   **プロダクトオーナーの負担:** プロダクトオーナーは、プロダクトバックログの作成、優先順位付け、ステークホルダーとのコミュニケーションなど、大きな責任を負います。プロダクトオーナーが適切なスキルや経験を持っていない場合、プロジェクト全体の方向性が誤ってしまう可能性があります。\\n*   **スコープクリープのリスク:** 変化する要件に対応できますが、スコープクリープのリスクも伴います。スプリント中に頻繁に要件が変更されると、チームの作業負荷が増加し、スプリントゴールを達成できない可能性があります。\\n*   **大規模プロジェクトへの適用:** 大規模プロジェクトにスクラムを適用する場合、複数のスクラムチームを連携させるための複雑な調整が必要になります。スケーリングフレームワーク（Scrum of Scrums、SAFeなど）を導入する必要があり、導入や運用にコストがかかる場合があります。\\n',\n",
       "   'type': 'human',\n",
       "   'id': '0af0c380-159e-4fe4-9676-66d0aaed37b2'}},\n",
       " {'lc': 1,\n",
       "  'type': 'constructor',\n",
       "  'id': ['langchain', 'schema', 'messages', 'HumanMessage'],\n",
       "  'kwargs': {'content': 'スクラムの利点として、以下のような点が挙げられています。\\n\\n*   **柔軟性と適応性:** 変化する要件や市場のニーズに迅速に対応できる。スプリントサイクルを通して、定期的に進捗状況をレビューし、必要に応じて方向修正が可能。無駄な開発を防ぐ。\\n*   **透明性の向上:** デイリースクラム、スプリントレビュー、スプリントレトロスペクティブを通じて、プロジェクトの進捗状況、課題、改善点を可視化する。ステークホルダーも参加することで、チーム全体が共通の認識を持ち、スムーズなコミュニケーションを実現できる。\\n*   **チームのエンパワーメント:** 自己組織化されたチームを重視。プロダクトオーナーが何を開発するかを定義し、開発チームがどのように開発するかを決定。チームメンバーは責任感を持ち、主体的にプロジェクトに取り組むことができる。\\n*   **品質の向上:** スプリントごとに動くソフトウェアを開発し、レビューを行うことで、早い段階で問題を発見し修正できる。リファクタリングやテストを継続的に行うことで、技術的な負債を減らし、品質を向上させることができる。\\n*   **顧客満足度の向上:** 顧客からのフィードバックを重視。スプリントレビューで顧客に製品をデモンストレーションし、フィードバックを収集することで、顧客のニーズに合った製品を開発することができる。\\n',\n",
       "   'type': 'human',\n",
       "   'id': 'cb5b8e51-9083-425f-a5a3-6eff69711b9f'}},\n",
       " {'lc': 1,\n",
       "  'type': 'constructor',\n",
       "  'id': ['langchain', 'schema', 'messages', 'HumanMessage'],\n",
       "  'kwargs': {'content': 'スクラムは、アジャイル開発における反復型フレームワークとして広く採用されていますが、その導入には利点と欠点の両面が存在します。\\n\\n**スクラムの利点:**\\n\\n*   **柔軟性と適応性:** 変化する要求や市場のニーズに迅速に対応できる点が大きな利点です。短いスプリントサイクルを通じて定期的に進捗をレビューし、必要に応じて方向修正を行うことで、無駄な開発を抑えられます。\\n*   **透明性の向上:** デイリースクラム、スプリントレビュー、スプリントレトロスペクティブなどのイベントを通じて、プロジェクトの進捗、課題、改善点が可視化されます。ステークホルダーの参加により、チーム全体の共通認識が醸成され、円滑なコミュニケーションが促進されます。\\n*   **チームのエンパワーメント:** 自己組織化されたチームを重視し、プロダクトオーナーが「何を」開発するかを定義し、開発チームが「どのように」開発するかを決定します。これにより、チームメンバーは責任感と主体性を持ってプロジェクトに取り組むことができます。\\n*   **品質の向上:** スプリントごとに動作するソフトウェアを開発し、レビューすることで、早期に問題を発見し修正できます。継続的なリファクタリングとテストにより、技術的負債を減らし、品質を高めることができます。\\n*   **顧客満足度の向上:** スプリントレビューで顧客に製品をデモンストレーションし、フィードバックを収集することで、顧客ニーズに合致した製品開発が可能となり、顧客満足度向上に貢献します。\\n\\n**スクラムの欠点:**\\n\\n*   **オーバーヘッドの増加:** デイリースクラム、スプリントプランニング、スプリントレビュー、スプリントレトロスペクティブなど、多くのイベントを実施する必要があるため、オーバーヘッドが増加する可能性があります。これらのイベントが形骸化すると、時間の浪費につながる可能性があります。\\n*   **チームの成熟度が重要:** 自己組織化されたチームを前提とするため、チームメンバーのスキル、経験、自己管理能力が求められます。経験の浅いチームや自己管理能力の低いメンバーが多い場合、スクラムの効果を十分に発揮できない可能性があります。\\n*   **プロダクトオーナーの負担:** プロダクトバックログの作成、優先順位付け、ステークホルダーとのコミュニケーションなど、プロダクトオーナーには大きな責任が伴います。適切なスキルや経験を持たないプロダクトオーナーの場合、プロジェクトの方向性が誤るリスクがあります。\\n*   **スコープクリープのリスク:** 変化する要件に対応できる一方、スコープクリープのリスクも存在します。スプリント中に頻繁に要件が変更されると、チームの作業負荷が増加し、スプリントゴール達成が困難になる可能性があります。\\n*   **大規模プロジェクトへの適用:** 大規模プロジェクトにスクラムを適用する際には、複数のスクラムチーム間の連携が必要となり、複雑な調整が求められます。スケーリングフレームワーク（Scrum of Scrums、SAFeなど）の導入が必要となる場合があり、導入・運用コストが発生します。\\n\\nスクラムは強力なフレームワークですが、万能薬ではありません。プロジェクトやチームの特性を考慮し、スクラムの原則を理解した上で、柔軟に適用することが重要です。スクラムのルールに盲目的に従うのではなく、スクラムの精神を理解し、継続的な改善を心がけることで、その効果を最大限に引き出すことができます。\\n',\n",
       "   'type': 'human',\n",
       "   'id': '97e7c775-30bb-494e-9d03-ace33b295de3'}}]"
      ]
     },
     "execution_count": 71,
     "metadata": {},
     "output_type": "execute_result"
    }
   ],
   "source": [
    "response = agent.query(input={\"role\": \"user\", \"content\": \"スクラムの利点と欠点\"})\n",
    "response"
   ]
  },
  {
   "cell_type": "markdown",
   "id": "a1043f4d",
   "metadata": {},
   "source": [
    "## エージェントデプロイ\n"
   ]
  },
  {
   "cell_type": "code",
   "execution_count": null,
   "id": "5eccd966",
   "metadata": {},
   "outputs": [],
   "source": [
    "import vertexai\n",
    "from langchain_google_vertexai import HarmBlockThreshold, HarmCategory\n",
    "from vertexai.preview.reasoning_engines import LanggraphAgent, ReasoningEngine\n",
    "\n",
    "PROJECT_ID = \"inbound-mote-433711-a6\"\n",
    "LOCATION = \"us-central1\"\n",
    "\n",
    "model = \"gemini-2.0-flash\"\n",
    "\n",
    "vertexai.init(\n",
    "    project=PROJECT_ID, location=LOCATION, staging_bucket=\"gs://agent-demo-20250509\"\n",
    ")\n",
    "\n",
    "safety_settings = {\n",
    "    HarmCategory.HARM_CATEGORY_UNSPECIFIED: HarmBlockThreshold.BLOCK_NONE,\n",
    "    HarmCategory.HARM_CATEGORY_DANGEROUS_CONTENT: HarmBlockThreshold.BLOCK_MEDIUM_AND_ABOVE,\n",
    "    HarmCategory.HARM_CATEGORY_HATE_SPEECH: HarmBlockThreshold.BLOCK_ONLY_HIGH,\n",
    "    HarmCategory.HARM_CATEGORY_HARASSMENT: HarmBlockThreshold.BLOCK_LOW_AND_ABOVE,\n",
    "    HarmCategory.HARM_CATEGORY_SEXUALLY_EXPLICIT: HarmBlockThreshold.BLOCK_NONE,\n",
    "}\n",
    "\n",
    "model_kwargs = {\n",
    "    # temperature (float): The sampling temperature controls the degree of\n",
    "    # randomness in token selection.\n",
    "    \"temperature\": 0.28,\n",
    "    # max_output_tokens (int): The token limit determines the maximum amount of\n",
    "    # text output from one prompt.\n",
    "    \"max_output_tokens\": 1000,\n",
    "    # top_p (float): Tokens are selected from most probable to least until\n",
    "    # the sum of their probabilities equals the top-p value.\n",
    "    \"top_p\": 0.95,\n",
    "    # top_k (int): The next token is selected from among the top-k most\n",
    "    # probable tokens. This is not supported by all model versions. See\n",
    "    # https://cloud.google.com/vertex-ai/generative-ai/docs/multimodal/image-understanding#valid_parameter_values\n",
    "    # for details.\n",
    "    \"top_k\": None,\n",
    "    # safety_settings (Dict[HarmCategory, HarmBlockThreshold]): The safety\n",
    "    # settings to use for generating content.\n",
    "    # (you must create your safety settings using the previous step first).\n",
    "    \"safety_settings\": safety_settings,\n",
    "}\n",
    "\n",
    "\n",
    "def get_exchange_rate(\n",
    "    currency_from: str = \"USD\",\n",
    "    currency_to: str = \"EUR\",\n",
    "    currency_date: str = \"latest\",\n",
    "):\n",
    "    \"\"\"Retrieves the exchange rate between two currencies on a specified date.\n",
    "\n",
    "    Uses the Frankfurter API (https://api.frankfurter.app/) to obtain\n",
    "    exchange rate data.\n",
    "\n",
    "    Args:\n",
    "        currency_from: The base currency (3-letter currency code).\n",
    "            Defaults to \"USD\" (US Dollar).\n",
    "        currency_to: The target currency (3-letter currency code).\n",
    "            Defaults to \"EUR\" (Euro).\n",
    "        currency_date: The date for which to retrieve the exchange rate.\n",
    "            Defaults to \"latest\" for the most recent exchange rate data.\n",
    "            Can be specified in YYYY-MM-DD format for historical rates.\n",
    "\n",
    "    Returns:\n",
    "        dict: A dictionary containing the exchange rate information.\n",
    "            Example: {\"amount\": 1.0, \"base\": \"USD\", \"date\": \"2023-11-24\",\n",
    "                \"rates\": {\"EUR\": 0.95534}}\n",
    "    \"\"\"\n",
    "    import requests\n",
    "\n",
    "    response = requests.get(\n",
    "        f\"https://api.frankfurter.app/{currency_date}\",\n",
    "        params={\"from\": currency_from, \"to\": currency_to},\n",
    "    )\n",
    "    return response.json()\n",
    "\n",
    "\n",
    "agent = LanggraphAgent(\n",
    "    model=model,\n",
    "    tools=[get_exchange_rate],\n",
    "    model_kwargs=model_kwargs,\n",
    ")"
   ]
  },
  {
   "cell_type": "code",
   "execution_count": 3,
   "id": "cc0ff46a",
   "metadata": {},
   "outputs": [
    {
     "name": "stdout",
     "output_type": "stream",
     "text": [
      " 現在の米ドルから日本円への為替レートは、1米ドルあたり144.68円です。\n"
     ]
    }
   ],
   "source": [
    "# ローカルで試す\n",
    "response = agent.query(\n",
    "    input={\n",
    "        \"messages\": [\n",
    "            (\"user\", \"USドルから日本円への為替レートを教えてください\"),\n",
    "        ]\n",
    "    }\n",
    ")\n",
    "\n",
    "print(response[\"messages\"][-1][\"kwargs\"][\"content\"])"
   ]
  },
  {
   "cell_type": "code",
   "execution_count": 4,
   "id": "aa50ff04",
   "metadata": {},
   "outputs": [
    {
     "name": "stdout",
     "output_type": "stream",
     "text": [
      "Using bucket agent-demo-20250509\n",
      "Writing to gs://agent-demo-20250509/reasoning_engine/reasoning_engine.pkl\n",
      "Writing to gs://agent-demo-20250509/reasoning_engine/requirements.txt\n",
      "Creating in-memory tarfile of extra_packages\n",
      "Writing to gs://agent-demo-20250509/reasoning_engine/dependencies.tar.gz\n",
      "Creating ReasoningEngine\n",
      "Create ReasoningEngine backing LRO: projects/746152150924/locations/us-central1/reasoningEngines/6523261750106652672/operations/5572900626985123840\n",
      "ReasoningEngine created. Resource name: projects/746152150924/locations/us-central1/reasoningEngines/6523261750106652672\n",
      "To use this ReasoningEngine in another session:\n",
      "reasoning_engine = vertexai.preview.reasoning_engines.ReasoningEngine('projects/746152150924/locations/us-central1/reasoningEngines/6523261750106652672')\n"
     ]
    }
   ],
   "source": [
    "# デプロイ\n",
    "remote_agent = ReasoningEngine.create(\n",
    "    agent,\n",
    "    requirements=[\n",
    "        \"google-cloud-aiplatform[agent_engines,langchain]\",\n",
    "        \"cloudpickle>=3.0.0\",\n",
    "        \"langgraph>=0.2.76\",\n",
    "        \"pydantic>=2.10\",\n",
    "    ],\n",
    "    display_name=\"Exchange Rate Agent\",\n",
    "    description=\"An agent that retrieves exchange rates between currencies.\",\n",
    "    extra_packages=[],\n",
    ")"
   ]
  },
  {
   "cell_type": "code",
   "execution_count": 5,
   "id": "a224bee2",
   "metadata": {},
   "outputs": [
    {
     "data": {
      "text/plain": [
       "<vertexai.reasoning_engines._reasoning_engines.ReasoningEngine object at 0x7f87996b3620> \n",
       "resource name: projects/746152150924/locations/us-central1/reasoningEngines/6523261750106652672"
      ]
     },
     "execution_count": 5,
     "metadata": {},
     "output_type": "execute_result"
    }
   ],
   "source": [
    "remote_agent"
   ]
  },
  {
   "cell_type": "markdown",
   "id": "b48bfe52",
   "metadata": {},
   "source": [
    "## デプロイしたエージェントを使用する\n"
   ]
  },
  {
   "cell_type": "code",
   "execution_count": 7,
   "id": "16785a42",
   "metadata": {},
   "outputs": [
    {
     "data": {
      "text/plain": [
       "[<vertexai.reasoning_engines._reasoning_engines.ReasoningEngine object at 0x7f876fbdf1d0> \n",
       " resource name: projects/746152150924/locations/us-central1/reasoningEngines/6523261750106652672]"
      ]
     },
     "execution_count": 7,
     "metadata": {},
     "output_type": "execute_result"
    }
   ],
   "source": [
    "remote_agent.list()"
   ]
  },
  {
   "cell_type": "code",
   "execution_count": 8,
   "id": "98cab765",
   "metadata": {},
   "outputs": [
    {
     "data": {
      "text/plain": [
       "[{'parameters': {'type': 'object',\n",
       "   'properties': {'input': {'anyOf': [{'type': 'string'},\n",
       "      {'additionalProperties': True, 'type': 'object'}]},\n",
       "    'config': {'nullable': True}},\n",
       "   '$defs': {'RunnableConfig': {'title': 'RunnableConfig',\n",
       "     'type': 'object',\n",
       "     'properties': {'configurable': {'title': 'Configurable',\n",
       "       'type': 'object',\n",
       "       'additionalProperties': True},\n",
       "      'max_concurrency': {'anyOf': [{'type': 'integer'}, {'type': 'null'}],\n",
       "       'title': 'Max Concurrency'},\n",
       "      'tags': {'title': 'Tags', 'type': 'array', 'items': {'type': 'string'}},\n",
       "      'metadata': {'title': 'Metadata',\n",
       "       'type': 'object',\n",
       "       'additionalProperties': True},\n",
       "      'recursion_limit': {'title': 'Recursion Limit', 'type': 'integer'},\n",
       "      'run_name': {'title': 'Run Name', 'type': 'string'},\n",
       "      'run_id': {'anyOf': [{'format': 'uuid', 'type': 'string'},\n",
       "        {'type': 'null'}],\n",
       "       'title': 'Run Id'},\n",
       "      'callbacks': {'anyOf': [{'type': 'array', 'items': {}},\n",
       "        {},\n",
       "        {'type': 'null'}],\n",
       "       'title': 'Callbacks'}},\n",
       "     'description': 'Configuration for a Runnable.'}},\n",
       "   'required': ['input']},\n",
       "  'description': 'Queries the Agent with the given input and config.\\n\\n        Args:\\n            input (Union[str, Mapping[str, Any]]):\\n                Required. The input to be passed to the Agent.\\n            config (langchain_core.runnables.RunnableConfig):\\n                Optional. The config (if any) to be used for invoking the Agent.\\n            **kwargs:\\n                Optional. Any additional keyword arguments to be passed to the\\n                `.invoke()` method of the corresponding AgentExecutor.\\n\\n        Returns:\\n            The output of querying the Agent with the given input and config.\\n        ',\n",
       "  'api_mode': '',\n",
       "  'name': 'query'},\n",
       " {'parameters': {'type': 'object',\n",
       "   'properties': {'config': {'nullable': True}},\n",
       "   '$defs': {'RunnableConfig': {'title': 'RunnableConfig',\n",
       "     'type': 'object',\n",
       "     'properties': {'configurable': {'title': 'Configurable',\n",
       "       'type': 'object',\n",
       "       'additionalProperties': True},\n",
       "      'max_concurrency': {'anyOf': [{'type': 'integer'}, {'type': 'null'}],\n",
       "       'title': 'Max Concurrency'},\n",
       "      'tags': {'title': 'Tags', 'type': 'array', 'items': {'type': 'string'}},\n",
       "      'metadata': {'title': 'Metadata',\n",
       "       'type': 'object',\n",
       "       'additionalProperties': True},\n",
       "      'recursion_limit': {'title': 'Recursion Limit', 'type': 'integer'},\n",
       "      'run_name': {'title': 'Run Name', 'type': 'string'},\n",
       "      'run_id': {'anyOf': [{'format': 'uuid', 'type': 'string'},\n",
       "        {'type': 'null'}],\n",
       "       'title': 'Run Id'},\n",
       "      'callbacks': {'anyOf': [{'type': 'array', 'items': {}},\n",
       "        {},\n",
       "        {'type': 'null'}],\n",
       "       'title': 'Callbacks'}},\n",
       "     'description': 'Configuration for a Runnable.'}},\n",
       "   'required': []},\n",
       "  'description': 'Gets the current state of the Agent.\\n\\n        Args:\\n            config (Optional[RunnableConfig]):\\n                Optional. The config for invoking the Agent.\\n            **kwargs:\\n                Optional. Additional keyword arguments for the `.invoke()` method.\\n\\n        Returns:\\n            Dict[str, Any]: The current state of the Agent.\\n        ',\n",
       "  'api_mode': '',\n",
       "  'name': 'get_state'},\n",
       " {'parameters': {'type': 'object',\n",
       "   'properties': {'config': {'nullable': True}},\n",
       "   '$defs': {'RunnableConfig': {'title': 'RunnableConfig',\n",
       "     'type': 'object',\n",
       "     'properties': {'configurable': {'title': 'Configurable',\n",
       "       'type': 'object',\n",
       "       'additionalProperties': True},\n",
       "      'max_concurrency': {'anyOf': [{'type': 'integer'}, {'type': 'null'}],\n",
       "       'title': 'Max Concurrency'},\n",
       "      'tags': {'title': 'Tags', 'type': 'array', 'items': {'type': 'string'}},\n",
       "      'metadata': {'title': 'Metadata',\n",
       "       'type': 'object',\n",
       "       'additionalProperties': True},\n",
       "      'recursion_limit': {'title': 'Recursion Limit', 'type': 'integer'},\n",
       "      'run_name': {'title': 'Run Name', 'type': 'string'},\n",
       "      'run_id': {'anyOf': [{'format': 'uuid', 'type': 'string'},\n",
       "        {'type': 'null'}],\n",
       "       'title': 'Run Id'},\n",
       "      'callbacks': {'anyOf': [{'type': 'array', 'items': {}},\n",
       "        {},\n",
       "        {'type': 'null'}],\n",
       "       'title': 'Callbacks'}},\n",
       "     'description': 'Configuration for a Runnable.'}},\n",
       "   'required': []},\n",
       "  'description': 'Updates the state of the Agent.\\n\\n        Args:\\n            config (Optional[RunnableConfig]):\\n                Optional. The config for invoking the Agent.\\n            **kwargs:\\n                Optional. Additional keyword arguments for the `.invoke()` method.\\n\\n        Returns:\\n            Dict[str, Any]: The updated state of the Agent.\\n        ',\n",
       "  'api_mode': '',\n",
       "  'name': 'update_state'},\n",
       " {'parameters': {'type': 'object',\n",
       "   'properties': {'input': {'anyOf': [{'type': 'string'},\n",
       "      {'additionalProperties': True, 'type': 'object'}]},\n",
       "    'config': {'nullable': True}},\n",
       "   '$defs': {'RunnableConfig': {'title': 'RunnableConfig',\n",
       "     'type': 'object',\n",
       "     'properties': {'configurable': {'title': 'Configurable',\n",
       "       'type': 'object',\n",
       "       'additionalProperties': True},\n",
       "      'max_concurrency': {'anyOf': [{'type': 'integer'}, {'type': 'null'}],\n",
       "       'title': 'Max Concurrency'},\n",
       "      'tags': {'title': 'Tags', 'type': 'array', 'items': {'type': 'string'}},\n",
       "      'metadata': {'title': 'Metadata',\n",
       "       'type': 'object',\n",
       "       'additionalProperties': True},\n",
       "      'recursion_limit': {'title': 'Recursion Limit', 'type': 'integer'},\n",
       "      'run_name': {'title': 'Run Name', 'type': 'string'},\n",
       "      'run_id': {'anyOf': [{'format': 'uuid', 'type': 'string'},\n",
       "        {'type': 'null'}],\n",
       "       'title': 'Run Id'},\n",
       "      'callbacks': {'anyOf': [{'type': 'array', 'items': {}},\n",
       "        {},\n",
       "        {'type': 'null'}],\n",
       "       'title': 'Callbacks'}},\n",
       "     'description': 'Configuration for a Runnable.'}},\n",
       "   'required': ['input']},\n",
       "  'description': 'Stream queries the Agent with the given input and config.\\n\\n        Args:\\n            input (Union[str, Mapping[str, Any]]):\\n                Required. The input to be passed to the Agent.\\n            config (langchain_core.runnables.RunnableConfig):\\n                Optional. The config (if any) to be used for invoking the Agent.\\n            **kwargs:\\n                Optional. Any additional keyword arguments to be passed to the\\n                `.invoke()` method of the corresponding AgentExecutor.\\n\\n        Yields:\\n            The output of querying the Agent with the given input and config.\\n        ',\n",
       "  'api_mode': 'stream',\n",
       "  'name': 'stream_query'},\n",
       " {'parameters': {'type': 'object',\n",
       "   'properties': {'config': {'nullable': True}},\n",
       "   '$defs': {'RunnableConfig': {'title': 'RunnableConfig',\n",
       "     'type': 'object',\n",
       "     'properties': {'configurable': {'title': 'Configurable',\n",
       "       'type': 'object',\n",
       "       'additionalProperties': True},\n",
       "      'max_concurrency': {'anyOf': [{'type': 'integer'}, {'type': 'null'}],\n",
       "       'title': 'Max Concurrency'},\n",
       "      'tags': {'title': 'Tags', 'type': 'array', 'items': {'type': 'string'}},\n",
       "      'metadata': {'title': 'Metadata',\n",
       "       'type': 'object',\n",
       "       'additionalProperties': True},\n",
       "      'recursion_limit': {'title': 'Recursion Limit', 'type': 'integer'},\n",
       "      'run_name': {'title': 'Run Name', 'type': 'string'},\n",
       "      'run_id': {'anyOf': [{'format': 'uuid', 'type': 'string'},\n",
       "        {'type': 'null'}],\n",
       "       'title': 'Run Id'},\n",
       "      'callbacks': {'anyOf': [{'type': 'array', 'items': {}},\n",
       "        {},\n",
       "        {'type': 'null'}],\n",
       "       'title': 'Callbacks'}},\n",
       "     'description': 'Configuration for a Runnable.'}},\n",
       "   'required': []},\n",
       "  'description': 'Gets the state history of the Agent.\\n\\n        Args:\\n            config (Optional[RunnableConfig]):\\n                Optional. The config for invoking the Agent.\\n            **kwargs:\\n                Optional. Additional keyword arguments for the `.invoke()` method.\\n\\n        Yields:\\n            Dict[str, Any]: The state history of the Agent.\\n        ',\n",
       "  'api_mode': 'stream',\n",
       "  'name': 'get_state_history'}]"
      ]
     },
     "execution_count": 8,
     "metadata": {},
     "output_type": "execute_result"
    }
   ],
   "source": [
    "remote_agent.operation_schemas()"
   ]
  },
  {
   "cell_type": "code",
   "execution_count": 9,
   "id": "cc0fae49",
   "metadata": {},
   "outputs": [],
   "source": [
    "remote_agent = ReasoningEngine(\n",
    "    \"projects/746152150924/locations/us-central1/reasoningEngines/6523261750106652672\"\n",
    ")\n",
    "response = remote_agent.query(\n",
    "    input={\n",
    "        \"messages\": [\n",
    "            (\"user\", \"USドルから日本円への為替レートを教えてください\"),\n",
    "        ]\n",
    "    }\n",
    ")"
   ]
  },
  {
   "cell_type": "code",
   "execution_count": 11,
   "id": "81861778",
   "metadata": {},
   "outputs": [
    {
     "data": {
      "text/plain": [
       "' 現在の米ドルから日本円への為替レートは、1米ドルあたり144.68円です。'"
      ]
     },
     "execution_count": 11,
     "metadata": {},
     "output_type": "execute_result"
    }
   ],
   "source": [
    "response[\"messages\"][-1][\"kwargs\"][\"content\"]"
   ]
  },
  {
   "cell_type": "markdown",
   "id": "07b12eda",
   "metadata": {},
   "source": [
    "## ストリーム\n"
   ]
  },
  {
   "cell_type": "code",
   "execution_count": 16,
   "id": "fb7ba659",
   "metadata": {},
   "outputs": [],
   "source": [
    "remote_agent = ReasoningEngine(\n",
    "    \"projects/746152150924/locations/us-central1/reasoningEngines/6523261750106652672\"\n",
    ")\n",
    "\n",
    "stream_response = remote_agent.stream_query(\n",
    "    input={\n",
    "        \"messages\": [\n",
    "            (\"user\", \"USドルから日本円への為替レートを教えてください\"),\n",
    "        ]\n",
    "    }\n",
    ")"
   ]
  },
  {
   "cell_type": "code",
   "execution_count": 17,
   "id": "3c98a74c",
   "metadata": {},
   "outputs": [
    {
     "name": "stdout",
     "output_type": "stream",
     "text": [
      "{'agent': {'messages': [{'lc': 1, 'type': 'constructor', 'id': ['langchain', 'schema', 'messages', 'AIMessage'], 'kwargs': {'content': '', 'additional_kwargs': {'function_call': {'name': 'get_exchange_rate', 'arguments': '{\"currency_to\": \"JPY\", \"currency_from\": \"USD\"}'}}, 'response_metadata': {'is_blocked': False, 'safety_ratings': [{'category': 'HARM_CATEGORY_HATE_SPEECH', 'probability_label': 'NEGLIGIBLE', 'probability_score': 7.462618327735981e-07, 'blocked': False, 'severity': 'HARM_SEVERITY_NEGLIGIBLE', 'severity_score': 0.0}, {'category': 'HARM_CATEGORY_DANGEROUS_CONTENT', 'probability_label': 'NEGLIGIBLE', 'probability_score': 1.7845194406618248e-06, 'blocked': False, 'severity': 'HARM_SEVERITY_NEGLIGIBLE', 'severity_score': 0.01813860982656479}, {'category': 'HARM_CATEGORY_HARASSMENT', 'probability_label': 'NEGLIGIBLE', 'probability_score': 1.431556142961199e-06, 'blocked': False, 'severity': 'HARM_SEVERITY_NEGLIGIBLE', 'severity_score': 0.0}, {'category': 'HARM_CATEGORY_SEXUALLY_EXPLICIT', 'probability_label': 'NEGLIGIBLE', 'probability_score': 8.419785757496356e-08, 'blocked': False, 'severity': 'HARM_SEVERITY_NEGLIGIBLE', 'severity_score': 0.0}], 'usage_metadata': {'prompt_token_count': 140, 'candidates_token_count': 13, 'total_token_count': 153, 'prompt_tokens_details': [{'modality': 1, 'token_count': 140}], 'candidates_tokens_details': [{'modality': 1, 'token_count': 13}], 'cached_content_token_count': 0, 'cache_tokens_details': []}, 'finish_reason': 'STOP', 'avg_logprobs': -0.016970224105394803, 'model_name': 'gemini-2.0-flash'}, 'type': 'ai', 'id': 'run--3ed6e246-dafa-489e-a7f2-e429cf6d0369-0', 'tool_calls': [{'name': 'get_exchange_rate', 'args': {'currency_to': 'JPY', 'currency_from': 'USD'}, 'id': '605cb482-10c6-4737-a1b7-0cdb8b3cfda4', 'type': 'tool_call'}], 'usage_metadata': {'input_tokens': 140, 'output_tokens': 13, 'total_tokens': 153}, 'invalid_tool_calls': []}}]}}\n",
      "====================================================================================================\n",
      "{'tools': {'messages': [{'lc': 1, 'type': 'constructor', 'id': ['langchain', 'schema', 'messages', 'ToolMessage'], 'kwargs': {'content': '{\"amount\": 1.0, \"base\": \"USD\", \"date\": \"2025-05-08\", \"rates\": {\"JPY\": 144.68}}', 'type': 'tool', 'name': 'get_exchange_rate', 'id': '45934cc3-470b-481c-9fe0-ecba6ede35ae', 'tool_call_id': '605cb482-10c6-4737-a1b7-0cdb8b3cfda4', 'status': 'success'}}]}}\n",
      "====================================================================================================\n",
      "{'agent': {'messages': [{'lc': 1, 'type': 'constructor', 'id': ['langchain', 'schema', 'messages', 'AIMessage'], 'kwargs': {'content': ' 現在の米ドルから日本円への為替レートは、1米ドルあたり144.68円です。', 'response_metadata': {'is_blocked': False, 'safety_ratings': [{'category': 'HARM_CATEGORY_HATE_SPEECH', 'probability_label': 'NEGLIGIBLE', 'probability_score': 3.675923494483868e-07, 'blocked': False, 'severity': 'HARM_SEVERITY_NEGLIGIBLE', 'severity_score': 0.0}, {'category': 'HARM_CATEGORY_DANGEROUS_CONTENT', 'probability_label': 'NEGLIGIBLE', 'probability_score': 7.784304216329474e-06, 'blocked': False, 'severity': 'HARM_SEVERITY_NEGLIGIBLE', 'severity_score': 0.03875928372144699}, {'category': 'HARM_CATEGORY_HARASSMENT', 'probability_label': 'NEGLIGIBLE', 'probability_score': 8.55387952469755e-06, 'blocked': False, 'severity': 'HARM_SEVERITY_NEGLIGIBLE', 'severity_score': 0.012520179152488708}, {'category': 'HARM_CATEGORY_SEXUALLY_EXPLICIT', 'probability_label': 'NEGLIGIBLE', 'probability_score': 4.921117291445398e-09, 'blocked': False, 'severity': 'HARM_SEVERITY_NEGLIGIBLE', 'severity_score': 0.0}], 'usage_metadata': {'prompt_token_count': 176, 'candidates_token_count': 26, 'total_token_count': 202, 'prompt_tokens_details': [{'modality': 1, 'token_count': 176}], 'candidates_tokens_details': [{'modality': 1, 'token_count': 26}], 'cached_content_token_count': 0, 'cache_tokens_details': []}, 'finish_reason': 'STOP', 'avg_logprobs': -0.02538832792868981, 'model_name': 'gemini-2.0-flash'}, 'type': 'ai', 'id': 'run--f035e2fb-4c40-4105-81b0-5f6c7a0df6a9-0', 'usage_metadata': {'input_tokens': 176, 'output_tokens': 26, 'total_tokens': 202}, 'tool_calls': [], 'invalid_tool_calls': []}}]}}\n",
      "====================================================================================================\n"
     ]
    }
   ],
   "source": [
    "for msg in stream_response:\n",
    "    print(msg)\n",
    "    print(\"=\" * 100)"
   ]
  },
  {
   "cell_type": "code",
   "execution_count": null,
   "id": "d0e22831",
   "metadata": {},
   "outputs": [],
   "source": [
    "remote_agent = ReasoningEngine(\n",
    "    \"projects/746152150924/locations/us-central1/reasoningEngines/6523261750106652672\"\n",
    ")\n",
    "\n",
    "# langgraphのstreamと同じようにupdatesとmessagesモードが使える\n",
    "stream_response = remote_agent.stream_query(\n",
    "    input={\n",
    "        \"messages\": [\n",
    "            (\"user\", \"USドルから日本円への為替レートを教えてください\"),\n",
    "        ]\n",
    "    },\n",
    "    stream_mode=[\"updates\", \"messages\"],\n",
    ")"
   ]
  },
  {
   "cell_type": "code",
   "execution_count": 19,
   "id": "57d1485c",
   "metadata": {},
   "outputs": [
    {
     "name": "stdout",
     "output_type": "stream",
     "text": [
      "['messages', [{'lc': 1, 'type': 'constructor', 'id': ['langchain', 'schema', 'messages', 'AIMessageChunk'], 'kwargs': {'content': '', 'additional_kwargs': {'function_call': {'name': 'get_exchange_rate', 'arguments': '{\"currency_to\": \"JPY\", \"currency_from\": \"USD\"}'}}, 'response_metadata': {'safety_ratings': [{'category': 'HARM_CATEGORY_HATE_SPEECH', 'probability_label': 'NEGLIGIBLE', 'probability_score': 7.462618327735981e-07, 'blocked': False, 'severity': 'HARM_SEVERITY_NEGLIGIBLE', 'severity_score': 0.0}, {'category': 'HARM_CATEGORY_DANGEROUS_CONTENT', 'probability_label': 'NEGLIGIBLE', 'probability_score': 1.7845194406618248e-06, 'blocked': False, 'severity': 'HARM_SEVERITY_NEGLIGIBLE', 'severity_score': 0.01813860982656479}, {'category': 'HARM_CATEGORY_HARASSMENT', 'probability_label': 'NEGLIGIBLE', 'probability_score': 1.431556142961199e-06, 'blocked': False, 'severity': 'HARM_SEVERITY_NEGLIGIBLE', 'severity_score': 0.0}, {'category': 'HARM_CATEGORY_SEXUALLY_EXPLICIT', 'probability_label': 'NEGLIGIBLE', 'probability_score': 8.419785757496356e-08, 'blocked': False, 'severity': 'HARM_SEVERITY_NEGLIGIBLE', 'severity_score': 0.0}], 'usage_metadata': {}, 'finish_reason': 'STOP', 'model_name': 'gemini-2.0-flash'}, 'type': 'AIMessageChunk', 'id': 'run--036b4136-55e6-4891-a219-4547b55ce7f7', 'tool_calls': [{'name': 'get_exchange_rate', 'args': {'currency_to': 'JPY', 'currency_from': 'USD'}, 'id': '543451a4-1ad4-4925-819f-8e8b3cb0cbf3', 'type': 'tool_call'}], 'usage_metadata': {'input_tokens': 140, 'output_tokens': 13, 'total_tokens': 153}, 'tool_call_chunks': [{'name': 'get_exchange_rate', 'args': '{\"currency_to\": \"JPY\", \"currency_from\": \"USD\"}', 'id': '543451a4-1ad4-4925-819f-8e8b3cb0cbf3', 'index': None, 'type': 'tool_call_chunk'}], 'invalid_tool_calls': []}}, {'langgraph_step': 1, 'langgraph_node': 'agent', 'langgraph_triggers': ['branch:to:agent'], 'langgraph_path': ['__pregel_pull', 'agent'], 'langgraph_checkpoint_ns': 'agent:edd377be-e54b-b2f4-9937-5d5004328d05', 'checkpoint_ns': 'agent:edd377be-e54b-b2f4-9937-5d5004328d05', 'ls_provider': 'google_vertexai', 'ls_model_name': 'gemini-2.0-flash', 'ls_model_type': 'chat', 'ls_temperature': 0.28, 'ls_max_tokens': 1000}]]\n",
      "====================================================================================================\n",
      "['updates', {'agent': {'messages': [{'lc': 1, 'type': 'constructor', 'id': ['langchain', 'schema', 'messages', 'AIMessage'], 'kwargs': {'content': '', 'additional_kwargs': {'function_call': {'name': 'get_exchange_rate', 'arguments': '{\"currency_to\": \"JPY\", \"currency_from\": \"USD\"}'}}, 'response_metadata': {'safety_ratings': [{'category': 'HARM_CATEGORY_HATE_SPEECH', 'probability_label': 'NEGLIGIBLE', 'probability_score': 7.462618327735981e-07, 'blocked': False, 'severity': 'HARM_SEVERITY_NEGLIGIBLE', 'severity_score': 0.0}, {'category': 'HARM_CATEGORY_DANGEROUS_CONTENT', 'probability_label': 'NEGLIGIBLE', 'probability_score': 1.7845194406618248e-06, 'blocked': False, 'severity': 'HARM_SEVERITY_NEGLIGIBLE', 'severity_score': 0.01813860982656479}, {'category': 'HARM_CATEGORY_HARASSMENT', 'probability_label': 'NEGLIGIBLE', 'probability_score': 1.431556142961199e-06, 'blocked': False, 'severity': 'HARM_SEVERITY_NEGLIGIBLE', 'severity_score': 0.0}, {'category': 'HARM_CATEGORY_SEXUALLY_EXPLICIT', 'probability_label': 'NEGLIGIBLE', 'probability_score': 8.419785757496356e-08, 'blocked': False, 'severity': 'HARM_SEVERITY_NEGLIGIBLE', 'severity_score': 0.0}], 'usage_metadata': {}, 'finish_reason': 'STOP', 'model_name': 'gemini-2.0-flash'}, 'type': 'ai', 'id': 'run--036b4136-55e6-4891-a219-4547b55ce7f7', 'tool_calls': [{'name': 'get_exchange_rate', 'args': {'currency_to': 'JPY', 'currency_from': 'USD'}, 'id': '543451a4-1ad4-4925-819f-8e8b3cb0cbf3', 'type': 'tool_call'}], 'usage_metadata': {'input_tokens': 140, 'output_tokens': 13, 'total_tokens': 153}, 'invalid_tool_calls': []}}]}}]\n",
      "====================================================================================================\n",
      "['messages', [{'lc': 1, 'type': 'constructor', 'id': ['langchain', 'schema', 'messages', 'ToolMessage'], 'kwargs': {'content': '{\"amount\": 1.0, \"base\": \"USD\", \"date\": \"2025-05-08\", \"rates\": {\"JPY\": 144.68}}', 'type': 'tool', 'name': 'get_exchange_rate', 'id': 'ba92b861-57a2-4067-bb71-43be40cadff0', 'tool_call_id': '543451a4-1ad4-4925-819f-8e8b3cb0cbf3', 'status': 'success'}}, {'langgraph_step': 2, 'langgraph_node': 'tools', 'langgraph_triggers': ['branch:to:tools'], 'langgraph_path': ['__pregel_pull', 'tools'], 'langgraph_checkpoint_ns': 'tools:4e773116-8f2b-0775-bcc7-4794be012877'}]]\n",
      "====================================================================================================\n",
      "['updates', {'tools': {'messages': [{'lc': 1, 'type': 'constructor', 'id': ['langchain', 'schema', 'messages', 'ToolMessage'], 'kwargs': {'content': '{\"amount\": 1.0, \"base\": \"USD\", \"date\": \"2025-05-08\", \"rates\": {\"JPY\": 144.68}}', 'type': 'tool', 'name': 'get_exchange_rate', 'id': 'ba92b861-57a2-4067-bb71-43be40cadff0', 'tool_call_id': '543451a4-1ad4-4925-819f-8e8b3cb0cbf3', 'status': 'success'}}]}}]\n",
      "====================================================================================================\n",
      "['messages', [{'lc': 1, 'type': 'constructor', 'id': ['langchain', 'schema', 'messages', 'AIMessageChunk'], 'kwargs': {'content': ' 現在', 'response_metadata': {'safety_ratings': [], 'usage_metadata': {}}, 'type': 'AIMessageChunk', 'id': 'run--24d2f46d-17d8-4a84-ac99-c4cafcedc15f', 'tool_calls': [], 'invalid_tool_calls': []}}, {'langgraph_step': 3, 'langgraph_node': 'agent', 'langgraph_triggers': ['branch:to:agent'], 'langgraph_path': ['__pregel_pull', 'agent'], 'langgraph_checkpoint_ns': 'agent:8f02d6b1-1818-55c9-51b1-87e66d7ab703', 'checkpoint_ns': 'agent:8f02d6b1-1818-55c9-51b1-87e66d7ab703', 'ls_provider': 'google_vertexai', 'ls_model_name': 'gemini-2.0-flash', 'ls_model_type': 'chat', 'ls_temperature': 0.28, 'ls_max_tokens': 1000}]]\n",
      "====================================================================================================\n",
      "['messages', [{'lc': 1, 'type': 'constructor', 'id': ['langchain', 'schema', 'messages', 'AIMessageChunk'], 'kwargs': {'content': 'の米ドルから日本円への為替レートは、1米ドルあたり', 'response_metadata': {'safety_ratings': [{'category': 'HARM_CATEGORY_HATE_SPEECH', 'probability_label': 'NEGLIGIBLE', 'probability_score': 5.062860054749763e-06, 'blocked': False, 'severity': 'HARM_SEVERITY_NEGLIGIBLE', 'severity_score': 0.0}, {'category': 'HARM_CATEGORY_DANGEROUS_CONTENT', 'probability_label': 'NEGLIGIBLE', 'probability_score': 3.416883191675879e-05, 'blocked': False, 'severity': 'HARM_SEVERITY_NEGLIGIBLE', 'severity_score': 0.047571174800395966}, {'category': 'HARM_CATEGORY_HARASSMENT', 'probability_label': 'NEGLIGIBLE', 'probability_score': 1.664922820054926e-05, 'blocked': False, 'severity': 'HARM_SEVERITY_NEGLIGIBLE', 'severity_score': 0.0}, {'category': 'HARM_CATEGORY_SEXUALLY_EXPLICIT', 'probability_label': 'NEGLIGIBLE', 'probability_score': 2.4507235707460495e-07, 'blocked': False, 'severity': 'HARM_SEVERITY_NEGLIGIBLE', 'severity_score': 0.0}], 'usage_metadata': {}}, 'type': 'AIMessageChunk', 'id': 'run--24d2f46d-17d8-4a84-ac99-c4cafcedc15f', 'tool_calls': [], 'invalid_tool_calls': []}}, {'langgraph_step': 3, 'langgraph_node': 'agent', 'langgraph_triggers': ['branch:to:agent'], 'langgraph_path': ['__pregel_pull', 'agent'], 'langgraph_checkpoint_ns': 'agent:8f02d6b1-1818-55c9-51b1-87e66d7ab703', 'checkpoint_ns': 'agent:8f02d6b1-1818-55c9-51b1-87e66d7ab703', 'ls_provider': 'google_vertexai', 'ls_model_name': 'gemini-2.0-flash', 'ls_model_type': 'chat', 'ls_temperature': 0.28, 'ls_max_tokens': 1000}]]\n",
      "====================================================================================================\n",
      "['messages', [{'lc': 1, 'type': 'constructor', 'id': ['langchain', 'schema', 'messages', 'AIMessageChunk'], 'kwargs': {'content': '144.68円です。', 'response_metadata': {'safety_ratings': [{'category': 'HARM_CATEGORY_HATE_SPEECH', 'probability_label': 'NEGLIGIBLE', 'probability_score': 1.483660639678419e-06, 'blocked': False, 'severity': 'HARM_SEVERITY_NEGLIGIBLE', 'severity_score': 0.0}, {'category': 'HARM_CATEGORY_DANGEROUS_CONTENT', 'probability_label': 'NEGLIGIBLE', 'probability_score': 3.200890205334872e-05, 'blocked': False, 'severity': 'HARM_SEVERITY_NEGLIGIBLE', 'severity_score': 0.05744249373674393}, {'category': 'HARM_CATEGORY_HARASSMENT', 'probability_label': 'NEGLIGIBLE', 'probability_score': 1.543335383757949e-05, 'blocked': False, 'severity': 'HARM_SEVERITY_NEGLIGIBLE', 'severity_score': 0.0}, {'category': 'HARM_CATEGORY_SEXUALLY_EXPLICIT', 'probability_label': 'NEGLIGIBLE', 'probability_score': 2.053769065923916e-08, 'blocked': False, 'severity': 'HARM_SEVERITY_NEGLIGIBLE', 'severity_score': 0.0}], 'usage_metadata': {}, 'finish_reason': 'STOP', 'model_name': 'gemini-2.0-flash'}, 'type': 'AIMessageChunk', 'id': 'run--24d2f46d-17d8-4a84-ac99-c4cafcedc15f', 'usage_metadata': {'input_tokens': 176, 'output_tokens': 26, 'total_tokens': 202}, 'tool_calls': [], 'invalid_tool_calls': []}}, {'langgraph_step': 3, 'langgraph_node': 'agent', 'langgraph_triggers': ['branch:to:agent'], 'langgraph_path': ['__pregel_pull', 'agent'], 'langgraph_checkpoint_ns': 'agent:8f02d6b1-1818-55c9-51b1-87e66d7ab703', 'checkpoint_ns': 'agent:8f02d6b1-1818-55c9-51b1-87e66d7ab703', 'ls_provider': 'google_vertexai', 'ls_model_name': 'gemini-2.0-flash', 'ls_model_type': 'chat', 'ls_temperature': 0.28, 'ls_max_tokens': 1000}]]\n",
      "====================================================================================================\n",
      "['updates', {'agent': {'messages': [{'lc': 1, 'type': 'constructor', 'id': ['langchain', 'schema', 'messages', 'AIMessage'], 'kwargs': {'content': ' 現在の米ドルから日本円への為替レートは、1米ドルあたり144.68円です。', 'response_metadata': {'safety_ratings': [{'category': 'HARM_CATEGORY_HATE_SPEECH', 'probability_label': 'NEGLIGIBLE', 'probability_score': 5.062860054749763e-06, 'blocked': False, 'severity': 'HARM_SEVERITY_NEGLIGIBLE', 'severity_score': 0.0}, {'category': 'HARM_CATEGORY_DANGEROUS_CONTENT', 'probability_label': 'NEGLIGIBLE', 'probability_score': 3.416883191675879e-05, 'blocked': False, 'severity': 'HARM_SEVERITY_NEGLIGIBLE', 'severity_score': 0.047571174800395966}, {'category': 'HARM_CATEGORY_HARASSMENT', 'probability_label': 'NEGLIGIBLE', 'probability_score': 1.664922820054926e-05, 'blocked': False, 'severity': 'HARM_SEVERITY_NEGLIGIBLE', 'severity_score': 0.0}, {'category': 'HARM_CATEGORY_SEXUALLY_EXPLICIT', 'probability_label': 'NEGLIGIBLE', 'probability_score': 2.4507235707460495e-07, 'blocked': False, 'severity': 'HARM_SEVERITY_NEGLIGIBLE', 'severity_score': 0.0}, {'category': 'HARM_CATEGORY_HATE_SPEECH', 'probability_label': 'NEGLIGIBLE', 'probability_score': 1.483660639678419e-06, 'blocked': False, 'severity': 'HARM_SEVERITY_NEGLIGIBLE', 'severity_score': 0.0}, {'category': 'HARM_CATEGORY_DANGEROUS_CONTENT', 'probability_label': 'NEGLIGIBLE', 'probability_score': 3.200890205334872e-05, 'blocked': False, 'severity': 'HARM_SEVERITY_NEGLIGIBLE', 'severity_score': 0.05744249373674393}, {'category': 'HARM_CATEGORY_HARASSMENT', 'probability_label': 'NEGLIGIBLE', 'probability_score': 1.543335383757949e-05, 'blocked': False, 'severity': 'HARM_SEVERITY_NEGLIGIBLE', 'severity_score': 0.0}, {'category': 'HARM_CATEGORY_SEXUALLY_EXPLICIT', 'probability_label': 'NEGLIGIBLE', 'probability_score': 2.053769065923916e-08, 'blocked': False, 'severity': 'HARM_SEVERITY_NEGLIGIBLE', 'severity_score': 0.0}], 'usage_metadata': {}, 'finish_reason': 'STOP', 'model_name': 'gemini-2.0-flash'}, 'type': 'ai', 'id': 'run--24d2f46d-17d8-4a84-ac99-c4cafcedc15f', 'usage_metadata': {'input_tokens': 176, 'output_tokens': 26, 'total_tokens': 202}, 'tool_calls': [], 'invalid_tool_calls': []}}]}}]\n",
      "====================================================================================================\n"
     ]
    }
   ],
   "source": [
    "for msg in stream_response:\n",
    "    print(msg)\n",
    "    print(\"=\" * 100)"
   ]
  },
  {
   "cell_type": "markdown",
   "id": "9c21b9c3",
   "metadata": {},
   "source": [
    "## エージェントを削除する\n"
   ]
  },
  {
   "cell_type": "code",
   "execution_count": 20,
   "id": "2ba7ea8b",
   "metadata": {},
   "outputs": [
    {
     "name": "stdout",
     "output_type": "stream",
     "text": [
      "Deleting ReasoningEngine : projects/746152150924/locations/us-central1/reasoningEngines/6523261750106652672\n",
      "ReasoningEngine deleted. . Resource name: projects/746152150924/locations/us-central1/reasoningEngines/6523261750106652672\n",
      "Deleting ReasoningEngine resource: projects/746152150924/locations/us-central1/reasoningEngines/6523261750106652672\n",
      "Delete ReasoningEngine backing LRO: projects/746152150924/locations/us-central1/operations/7050081304762646528\n",
      "ReasoningEngine resource projects/746152150924/locations/us-central1/reasoningEngines/6523261750106652672 deleted.\n"
     ]
    }
   ],
   "source": [
    "remote_agent.delete()"
   ]
  }
 ],
 "metadata": {
  "kernelspec": {
   "display_name": ".venv",
   "language": "python",
   "name": "python3"
  },
  "language_info": {
   "codemirror_mode": {
    "name": "ipython",
    "version": 3
   },
   "file_extension": ".py",
   "mimetype": "text/x-python",
   "name": "python",
   "nbconvert_exporter": "python",
   "pygments_lexer": "ipython3",
   "version": "3.12.9"
  }
 },
 "nbformat": 4,
 "nbformat_minor": 5
}

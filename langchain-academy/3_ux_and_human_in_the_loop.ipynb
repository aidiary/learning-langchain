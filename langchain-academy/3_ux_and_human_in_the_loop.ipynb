{
 "cells": [
  {
   "cell_type": "markdown",
   "metadata": {},
   "source": [
    "## Streaming"
   ]
  },
  {
   "cell_type": "code",
   "execution_count": 1,
   "metadata": {},
   "outputs": [
    {
     "data": {
      "image/jpeg": "[encoded data removed]",
      "text/plain": [
       "<IPython.core.display.Image object>"
      ]
     },
     "metadata": {},
     "output_type": "display_data"
    }
   ],
   "source": [
    "from IPython.display import Image, display\n",
    "\n",
    "from langchain_openai import ChatOpenAI\n",
    "from langchain_core.messages import SystemMessage, HumanMessage, RemoveMessage\n",
    "from langchain_core.runnables import RunnableConfig\n",
    "\n",
    "from langgraph.checkpoint.memory import MemorySaver\n",
    "from langgraph.graph import StateGraph, START, END\n",
    "from langgraph.graph import MessagesState\n",
    "\n",
    "model = ChatOpenAI(model=\"gpt-4o-mini\", temperature=0.0)\n",
    "\n",
    "class State(MessagesState):\n",
    "    summary: str\n",
    "\n",
    "def call_model(state: State, config: RunnableConfig):\n",
    "    summary = state.get(\"summary\", \"\")\n",
    "\n",
    "    if summary:\n",
    "        system_message = f\"これまでの会話の要約です: {summary}\"\n",
    "\n",
    "        messages = [SystemMessage(content=system_message)] + state[\"messages\"]\n",
    "    else:\n",
    "        messages = state[\"messages\"]\n",
    "    \n",
    "    response = model.invoke(messages, config)\n",
    "\n",
    "    return {\"messages\": response}\n",
    "\n",
    "\n",
    "def summarize_conversation(state: State):\n",
    "    summary = state.get(\"summary\", \"\")\n",
    "\n",
    "    if summary:\n",
    "        summary_message = (\n",
    "            f\"これまでの会話の要約は以下の通りです: {summary}\\n\\n\"\n",
    "            \"上記の新しいメッセージを考慮して要約を更新してください:\"\n",
    "        )\n",
    "    else:\n",
    "        summary_message = \"上記の会話の要約を作成してください:\"\n",
    "    \n",
    "    messages = state[\"messages\"] + [HumanMessage(content=summary_message)]\n",
    "    response = model.invoke(messages)\n",
    "\n",
    "    # 最新の2つの会話を残して残りを削除する\n",
    "    delete_messages = [RemoveMessage(id=m.id) for m in state[\"messages\"][:-2]]\n",
    "    return {\"summary\": response.content, \"messages\": delete_messages}\n",
    "\n",
    "\n",
    "def should_continue(state: State):\n",
    "    messages = state[\"messages\"]\n",
    "\n",
    "    # メッセージが増えたら要約を作成する\n",
    "    if len(messages) > 6:\n",
    "        return \"summarize_conversation\"\n",
    "\n",
    "    return END\n",
    "\n",
    "workflow = StateGraph(State)\n",
    "workflow.add_node(\"conversation\", call_model)\n",
    "workflow.add_node(summarize_conversation)\n",
    "\n",
    "workflow.add_edge(START, \"conversation\")\n",
    "workflow.add_conditional_edges(\"conversation\", should_continue)\n",
    "workflow.add_edge(\"summarize_conversation\", END)\n",
    "\n",
    "memory = MemorySaver()\n",
    "graph = workflow.compile(checkpointer=memory)\n",
    "display(Image(graph.get_graph().draw_mermaid_png()))"
   ]
  },
  {
   "cell_type": "markdown",
   "metadata": {},
   "source": [
    "### ノードレベルのストリーム"
   ]
  },
  {
   "cell_type": "code",
   "execution_count": 2,
   "metadata": {},
   "outputs": [
    {
     "name": "stdout",
     "output_type": "stream",
     "text": [
      "{'conversation': {'messages': AIMessage(content='やあ、Lanceさん！お会いできて嬉しいです。今日はどんなことを話しましょうか？', additional_kwargs={'refusal': None}, response_metadata={'token_usage': {'completion_tokens': 26, 'prompt_tokens': 15, 'total_tokens': 41, 'completion_tokens_details': {'audio_tokens': None, 'reasoning_tokens': 0}, 'prompt_tokens_details': {'audio_tokens': None, 'cached_tokens': 0}}, 'model_name': 'gpt-4o-mini-2024-07-18', 'system_fingerprint': 'fp_f59a81427f', 'finish_reason': 'stop', 'logprobs': None}, id='run-e2643ddd-bb5e-4306-bb16-3b88424b1d0f-0', usage_metadata={'input_tokens': 15, 'output_tokens': 26, 'total_tokens': 41, 'input_token_details': {'cache_read': 0}, 'output_token_details': {'reasoning': 0}})}}\n"
     ]
    }
   ],
   "source": [
    "config = {\"configurable\": {\"thread_id\": \"1\"}}\n",
    "\n",
    "for chunk in graph.stream({\"messages\": [HumanMessage(content=\"やあ！私はLanceです。\")]}, config, stream_mode=\"updates\"):\n",
    "    print(chunk)"
   ]
  },
  {
   "cell_type": "code",
   "execution_count": 3,
   "metadata": {},
   "outputs": [
    {
     "name": "stdout",
     "output_type": "stream",
     "text": [
      "==================================\u001b[1m Ai Message \u001b[0m==================================\n",
      "\n",
      "こんにちは、Lanceさん！再びお会いできて嬉しいです。何か特別なことについて話したいことがありますか？それとも、何か質問がありますか？\n"
     ]
    }
   ],
   "source": [
    "for chunk in graph.stream({\"messages\": [HumanMessage(content=\"やあ！私はLanceです。\")]}, config, stream_mode=\"updates\"):\n",
    "    chunk[\"conversation\"][\"messages\"].pretty_print()"
   ]
  },
  {
   "cell_type": "code",
   "execution_count": 9,
   "metadata": {},
   "outputs": [
    {
     "name": "stdout",
     "output_type": "stream",
     "text": [
      "================================\u001b[1m Human Message \u001b[0m=================================\n",
      "\n",
      "こんにちは！私はLanceです。\n",
      "---------------------------------------------------------------------------\n",
      "================================\u001b[1m Human Message \u001b[0m=================================\n",
      "\n",
      "こんにちは！私はLanceです。\n",
      "==================================\u001b[1m Ai Message \u001b[0m==================================\n",
      "\n",
      "こんにちは、Lanceさん！お会いできて嬉しいです。今日はどんなことをお話ししましょうか？\n",
      "---------------------------------------------------------------------------\n"
     ]
    }
   ],
   "source": [
    "config = {\"configurable\": {\"thread_id\": \"3\"}}\n",
    "\n",
    "input_message = HumanMessage(content=\"こんにちは！私はLanceです。\")\n",
    "for event in graph.stream({\"messages\": [input_message]}, config, stream_mode=\"values\"):\n",
    "    for m in event[\"messages\"]:\n",
    "        m.pretty_print()\n",
    "    print(\"---\" * 25)"
   ]
  },
  {
   "cell_type": "markdown",
   "metadata": {},
   "source": [
    "### トークンレベルのストリーム"
   ]
  },
  {
   "cell_type": "code",
   "execution_count": 16,
   "metadata": {},
   "outputs": [
    {
     "name": "stdout",
     "output_type": "stream",
     "text": [
      "Node: . Type: on_chain_start. Name: LangGraph\n",
      "Node: __start__. Type: on_chain_start. Name: __start__\n",
      "Node: __start__. Type: on_chain_end. Name: __start__\n",
      "Node: conversation. Type: on_chain_start. Name: conversation\n",
      "Node: conversation. Type: on_chat_model_start. Name: ChatOpenAI\n",
      "Node: conversation. Type: on_chat_model_stream. Name: ChatOpenAI\n",
      "Node: conversation. Type: on_chat_model_stream. Name: ChatOpenAI\n",
      "Node: conversation. Type: on_chat_model_stream. Name: ChatOpenAI\n",
      "Node: conversation. Type: on_chat_model_stream. Name: ChatOpenAI\n",
      "Node: conversation. Type: on_chat_model_stream. Name: ChatOpenAI\n",
      "Node: conversation. Type: on_chat_model_stream. Name: ChatOpenAI\n",
      "Node: conversation. Type: on_chat_model_stream. Name: ChatOpenAI\n",
      "Node: conversation. Type: on_chat_model_stream. Name: ChatOpenAI\n",
      "Node: conversation. Type: on_chat_model_stream. Name: ChatOpenAI\n",
      "Node: conversation. Type: on_chat_model_stream. Name: ChatOpenAI\n",
      "Node: conversation. Type: on_chat_model_stream. Name: ChatOpenAI\n",
      "Node: conversation. Type: on_chat_model_stream. Name: ChatOpenAI\n",
      "Node: conversation. Type: on_chat_model_stream. Name: ChatOpenAI\n",
      "Node: conversation. Type: on_chat_model_stream. Name: ChatOpenAI\n",
      "Node: conversation. Type: on_chat_model_stream. Name: ChatOpenAI\n",
      "Node: conversation. Type: on_chat_model_stream. Name: ChatOpenAI\n",
      "Node: conversation. Type: on_chat_model_stream. Name: ChatOpenAI\n",
      "Node: conversation. Type: on_chat_model_stream. Name: ChatOpenAI\n",
      "Node: conversation. Type: on_chat_model_stream. Name: ChatOpenAI\n",
      "Node: conversation. Type: on_chat_model_stream. Name: ChatOpenAI\n",
      "Node: conversation. Type: on_chat_model_stream. Name: ChatOpenAI\n",
      "Node: conversation. Type: on_chat_model_stream. Name: ChatOpenAI\n",
      "Node: conversation. Type: on_chat_model_stream. Name: ChatOpenAI\n",
      "Node: conversation. Type: on_chat_model_stream. Name: ChatOpenAI\n",
      "Node: conversation. Type: on_chat_model_stream. Name: ChatOpenAI\n",
      "Node: conversation. Type: on_chat_model_stream. Name: ChatOpenAI\n",
      "Node: conversation. Type: on_chat_model_stream. Name: ChatOpenAI\n",
      "Node: conversation. Type: on_chat_model_stream. Name: ChatOpenAI\n",
      "Node: conversation. Type: on_chat_model_stream. Name: ChatOpenAI\n",
      "Node: conversation. Type: on_chat_model_stream. Name: ChatOpenAI\n",
      "Node: conversation. Type: on_chat_model_stream. Name: ChatOpenAI\n",
      "Node: conversation. Type: on_chat_model_stream. Name: ChatOpenAI\n",
      "Node: conversation. Type: on_chat_model_stream. Name: ChatOpenAI\n",
      "Node: conversation. Type: on_chat_model_stream. Name: ChatOpenAI\n",
      "Node: conversation. Type: on_chat_model_stream. Name: ChatOpenAI\n",
      "Node: conversation. Type: on_chat_model_stream. Name: ChatOpenAI\n",
      "Node: conversation. Type: on_chat_model_stream. Name: ChatOpenAI\n",
      "Node: conversation. Type: on_chat_model_stream. Name: ChatOpenAI\n",
      "Node: conversation. Type: on_chat_model_stream. Name: ChatOpenAI\n",
      "Node: conversation. Type: on_chat_model_stream. Name: ChatOpenAI\n",
      "Node: conversation. Type: on_chat_model_stream. Name: ChatOpenAI\n",
      "Node: conversation. Type: on_chat_model_stream. Name: ChatOpenAI\n",
      "Node: conversation. Type: on_chat_model_stream. Name: ChatOpenAI\n",
      "Node: conversation. Type: on_chat_model_stream. Name: ChatOpenAI\n",
      "Node: conversation. Type: on_chat_model_stream. Name: ChatOpenAI\n",
      "Node: conversation. Type: on_chat_model_stream. Name: ChatOpenAI\n",
      "Node: conversation. Type: on_chat_model_end. Name: ChatOpenAI\n",
      "Node: conversation. Type: on_chain_start. Name: _write\n",
      "Node: conversation. Type: on_chain_end. Name: _write\n",
      "Node: conversation. Type: on_chain_start. Name: should_continue\n",
      "Node: conversation. Type: on_chain_end. Name: should_continue\n",
      "Node: conversation. Type: on_chain_stream. Name: conversation\n",
      "Node: conversation. Type: on_chain_end. Name: conversation\n",
      "Node: . Type: on_chain_stream. Name: LangGraph\n",
      "Node: . Type: on_chain_end. Name: LangGraph\n"
     ]
    }
   ],
   "source": [
    "config = {\"configurable\": {\"thread_id\": \"5\"}}\n",
    "input_message = HumanMessage(content=\"LangGraphのトークンレベルストリームについて一言で教えて\")\n",
    "\n",
    "async for event in graph.astream_events({\"messages\": [input_message]}, config, version=\"v2\"):\n",
    "    print(f'Node: {event[\"metadata\"].get(\"langgraph_node\", \"\")}. Type: {event[\"event\"]}. Name: {event[\"name\"]}')"
   ]
  },
  {
   "cell_type": "code",
   "execution_count": 17,
   "metadata": {},
   "outputs": [
    {
     "name": "stdout",
     "output_type": "stream",
     "text": [
      "{'chunk': AIMessageChunk(content='', additional_kwargs={}, response_metadata={}, id='run-cce81353-86a3-4d27-b8e2-f53629aeeafc')}\n",
      "{'chunk': AIMessageChunk(content='Lang', additional_kwargs={}, response_metadata={}, id='run-cce81353-86a3-4d27-b8e2-f53629aeeafc')}\n",
      "{'chunk': AIMessageChunk(content='Graph', additional_kwargs={}, response_metadata={}, id='run-cce81353-86a3-4d27-b8e2-f53629aeeafc')}\n",
      "{'chunk': AIMessageChunk(content='の', additional_kwargs={}, response_metadata={}, id='run-cce81353-86a3-4d27-b8e2-f53629aeeafc')}\n",
      "{'chunk': AIMessageChunk(content='ト', additional_kwargs={}, response_metadata={}, id='run-cce81353-86a3-4d27-b8e2-f53629aeeafc')}\n",
      "{'chunk': AIMessageChunk(content='ーク', additional_kwargs={}, response_metadata={}, id='run-cce81353-86a3-4d27-b8e2-f53629aeeafc')}\n",
      "{'chunk': AIMessageChunk(content='ン', additional_kwargs={}, response_metadata={}, id='run-cce81353-86a3-4d27-b8e2-f53629aeeafc')}\n",
      "{'chunk': AIMessageChunk(content='レ', additional_kwargs={}, response_metadata={}, id='run-cce81353-86a3-4d27-b8e2-f53629aeeafc')}\n",
      "{'chunk': AIMessageChunk(content='ベル', additional_kwargs={}, response_metadata={}, id='run-cce81353-86a3-4d27-b8e2-f53629aeeafc')}\n",
      "{'chunk': AIMessageChunk(content='スト', additional_kwargs={}, response_metadata={}, id='run-cce81353-86a3-4d27-b8e2-f53629aeeafc')}\n",
      "{'chunk': AIMessageChunk(content='リ', additional_kwargs={}, response_metadata={}, id='run-cce81353-86a3-4d27-b8e2-f53629aeeafc')}\n",
      "{'chunk': AIMessageChunk(content='ーム', additional_kwargs={}, response_metadata={}, id='run-cce81353-86a3-4d27-b8e2-f53629aeeafc')}\n",
      "{'chunk': AIMessageChunk(content='は', additional_kwargs={}, response_metadata={}, id='run-cce81353-86a3-4d27-b8e2-f53629aeeafc')}\n",
      "{'chunk': AIMessageChunk(content='、', additional_kwargs={}, response_metadata={}, id='run-cce81353-86a3-4d27-b8e2-f53629aeeafc')}\n",
      "{'chunk': AIMessageChunk(content='言', additional_kwargs={}, response_metadata={}, id='run-cce81353-86a3-4d27-b8e2-f53629aeeafc')}\n",
      "{'chunk': AIMessageChunk(content='語', additional_kwargs={}, response_metadata={}, id='run-cce81353-86a3-4d27-b8e2-f53629aeeafc')}\n",
      "{'chunk': AIMessageChunk(content='モデル', additional_kwargs={}, response_metadata={}, id='run-cce81353-86a3-4d27-b8e2-f53629aeeafc')}\n",
      "{'chunk': AIMessageChunk(content='が', additional_kwargs={}, response_metadata={}, id='run-cce81353-86a3-4d27-b8e2-f53629aeeafc')}\n",
      "{'chunk': AIMessageChunk(content='生成', additional_kwargs={}, response_metadata={}, id='run-cce81353-86a3-4d27-b8e2-f53629aeeafc')}\n",
      "{'chunk': AIMessageChunk(content='する', additional_kwargs={}, response_metadata={}, id='run-cce81353-86a3-4d27-b8e2-f53629aeeafc')}\n",
      "{'chunk': AIMessageChunk(content='テ', additional_kwargs={}, response_metadata={}, id='run-cce81353-86a3-4d27-b8e2-f53629aeeafc')}\n",
      "{'chunk': AIMessageChunk(content='キ', additional_kwargs={}, response_metadata={}, id='run-cce81353-86a3-4d27-b8e2-f53629aeeafc')}\n",
      "{'chunk': AIMessageChunk(content='スト', additional_kwargs={}, response_metadata={}, id='run-cce81353-86a3-4d27-b8e2-f53629aeeafc')}\n",
      "{'chunk': AIMessageChunk(content='を', additional_kwargs={}, response_metadata={}, id='run-cce81353-86a3-4d27-b8e2-f53629aeeafc')}\n",
      "{'chunk': AIMessageChunk(content='ト', additional_kwargs={}, response_metadata={}, id='run-cce81353-86a3-4d27-b8e2-f53629aeeafc')}\n",
      "{'chunk': AIMessageChunk(content='ーク', additional_kwargs={}, response_metadata={}, id='run-cce81353-86a3-4d27-b8e2-f53629aeeafc')}\n",
      "{'chunk': AIMessageChunk(content='ン', additional_kwargs={}, response_metadata={}, id='run-cce81353-86a3-4d27-b8e2-f53629aeeafc')}\n",
      "{'chunk': AIMessageChunk(content='単', additional_kwargs={}, response_metadata={}, id='run-cce81353-86a3-4d27-b8e2-f53629aeeafc')}\n",
      "{'chunk': AIMessageChunk(content='位', additional_kwargs={}, response_metadata={}, id='run-cce81353-86a3-4d27-b8e2-f53629aeeafc')}\n",
      "{'chunk': AIMessageChunk(content='で', additional_kwargs={}, response_metadata={}, id='run-cce81353-86a3-4d27-b8e2-f53629aeeafc')}\n",
      "{'chunk': AIMessageChunk(content='リア', additional_kwargs={}, response_metadata={}, id='run-cce81353-86a3-4d27-b8e2-f53629aeeafc')}\n",
      "{'chunk': AIMessageChunk(content='ル', additional_kwargs={}, response_metadata={}, id='run-cce81353-86a3-4d27-b8e2-f53629aeeafc')}\n",
      "{'chunk': AIMessageChunk(content='タイ', additional_kwargs={}, response_metadata={}, id='run-cce81353-86a3-4d27-b8e2-f53629aeeafc')}\n",
      "{'chunk': AIMessageChunk(content='ム', additional_kwargs={}, response_metadata={}, id='run-cce81353-86a3-4d27-b8e2-f53629aeeafc')}\n",
      "{'chunk': AIMessageChunk(content='に', additional_kwargs={}, response_metadata={}, id='run-cce81353-86a3-4d27-b8e2-f53629aeeafc')}\n",
      "{'chunk': AIMessageChunk(content='処', additional_kwargs={}, response_metadata={}, id='run-cce81353-86a3-4d27-b8e2-f53629aeeafc')}\n",
      "{'chunk': AIMessageChunk(content='理', additional_kwargs={}, response_metadata={}, id='run-cce81353-86a3-4d27-b8e2-f53629aeeafc')}\n",
      "{'chunk': AIMessageChunk(content='・', additional_kwargs={}, response_metadata={}, id='run-cce81353-86a3-4d27-b8e2-f53629aeeafc')}\n",
      "{'chunk': AIMessageChunk(content='出', additional_kwargs={}, response_metadata={}, id='run-cce81353-86a3-4d27-b8e2-f53629aeeafc')}\n",
      "{'chunk': AIMessageChunk(content='力', additional_kwargs={}, response_metadata={}, id='run-cce81353-86a3-4d27-b8e2-f53629aeeafc')}\n",
      "{'chunk': AIMessageChunk(content='する', additional_kwargs={}, response_metadata={}, id='run-cce81353-86a3-4d27-b8e2-f53629aeeafc')}\n",
      "{'chunk': AIMessageChunk(content='機', additional_kwargs={}, response_metadata={}, id='run-cce81353-86a3-4d27-b8e2-f53629aeeafc')}\n",
      "{'chunk': AIMessageChunk(content='能', additional_kwargs={}, response_metadata={}, id='run-cce81353-86a3-4d27-b8e2-f53629aeeafc')}\n",
      "{'chunk': AIMessageChunk(content='です', additional_kwargs={}, response_metadata={}, id='run-cce81353-86a3-4d27-b8e2-f53629aeeafc')}\n",
      "{'chunk': AIMessageChunk(content='。', additional_kwargs={}, response_metadata={}, id='run-cce81353-86a3-4d27-b8e2-f53629aeeafc')}\n",
      "{'chunk': AIMessageChunk(content='', additional_kwargs={}, response_metadata={'finish_reason': 'stop', 'model_name': 'gpt-4o-mini-2024-07-18', 'system_fingerprint': 'fp_f59a81427f'}, id='run-cce81353-86a3-4d27-b8e2-f53629aeeafc')}\n"
     ]
    }
   ],
   "source": [
    "config = {\"configurable\": {\"thread_id\": \"7\"}}\n",
    "input_message = HumanMessage(content=\"LangGraphのトークンレベルストリームについて一言で教えて\")\n",
    "async for event in graph.astream_events({\"messages\": [input_message]}, config, version=\"v2\"):\n",
    "    if event[\"event\"] == \"on_chat_model_stream\" and event[\"metadata\"].get(\"langgraph_node\", \"\") == \"conversation\":\n",
    "        print(event[\"data\"])"
   ]
  },
  {
   "cell_type": "code",
   "execution_count": 18,
   "metadata": {},
   "outputs": [
    {
     "name": "stdout",
     "output_type": "stream",
     "text": [
      "|Lang|Graph|の|ト|ーク|ン|レ|ベル|スト|リ|ーム|は|、|言|語|モデル|が|生成|する|テ|キ|スト|を|ト|ーク|ン|単|位|で|リア|ル|タイ|ム|に|処|理|・|出|力|する|機|能|です|。||"
     ]
    }
   ],
   "source": [
    "config = {\"configurable\": {\"thread_id\": \"8\"}}\n",
    "input_message = HumanMessage(content=\"LangGraphのトークンレベルストリームについて一言で教えて\")\n",
    "async for event in graph.astream_events({\"messages\": [input_message]}, config, version=\"v2\"):\n",
    "    if event[\"event\"] == \"on_chat_model_stream\" and event[\"metadata\"].get(\"langgraph_node\", \"\") == \"conversation\":\n",
    "        data = event[\"data\"]\n",
    "        print(data[\"chunk\"].content, end=\"|\")"
   ]
  },
  {
   "cell_type": "markdown",
   "metadata": {},
   "source": [
    "## Breakpoints: ノードの実行を一時停止する"
   ]
  },
  {
   "cell_type": "code",
   "execution_count": 1,
   "metadata": {},
   "outputs": [],
   "source": [
    "from langchain_openai import ChatOpenAI\n",
    "\n",
    "def multiply(a: int, b: int) -> int:\n",
    "    \"\"\"Multiply a and b.\n",
    "\n",
    "    Args:\n",
    "        a: first int\n",
    "        b: second int\n",
    "    \"\"\"\n",
    "    return a * b\n",
    "\n",
    "def add(a: int, b: int) -> int:\n",
    "    \"\"\"Adds a and b.\n",
    "\n",
    "    Args:\n",
    "        a: first int\n",
    "        b: second int\n",
    "    \"\"\"\n",
    "    return a + b\n",
    "\n",
    "def divide(a: int, b: int) -> float:\n",
    "    \"\"\"Adds a and b.\n",
    "\n",
    "    Args:\n",
    "        a: first int\n",
    "        b: second int\n",
    "    \"\"\"\n",
    "    return a / b\n",
    "\n",
    "tools = [add, multiply, divide]\n",
    "llm = ChatOpenAI(model=\"gpt-4o-mini\")\n",
    "llm_with_tools = llm.bind_tools(tools)"
   ]
  },
  {
   "cell_type": "code",
   "execution_count": null,
   "metadata": {},
   "outputs": [
    {
     "data": {
      "image/jpeg": "[encoded data removed]",
      "text/plain": [
       "<IPython.core.display.Image object>"
      ]
     },
     "metadata": {},
     "output_type": "display_data"
    }
   ],
   "source": [
    "from IPython.display import Image, display\n",
    "\n",
    "from langgraph.checkpoint.memory import MemorySaver\n",
    "from langgraph.graph import MessagesState\n",
    "from langgraph.graph import START, StateGraph\n",
    "from langgraph.prebuilt import tools_condition, ToolNode\n",
    "\n",
    "from langchain_core.messages import AIMessage, HumanMessage, SystemMessage\n",
    "\n",
    "\n",
    "sys_msg = SystemMessage(content=\"あなたは一連の入力に対して算術計算を行うことを任務とする、役立つアシスタントです。\")\n",
    "\n",
    "def assistant(state: MessagesState):\n",
    "    return {\"messages\": [llm_with_tools.invoke([sys_msg] + state[\"messages\"])]}\n",
    "\n",
    "builder = StateGraph(MessagesState)\n",
    "\n",
    "builder.add_node(\"assistant\", assistant)\n",
    "builder.add_node(\"tools\", ToolNode(tools))\n",
    "\n",
    "builder.add_edge(START, \"assistant\")\n",
    "builder.add_conditional_edges(\n",
    "    \"assistant\",\n",
    "    tools_condition\n",
    ")\n",
    "builder.add_edge(\"tools\", \"assistant\")\n",
    "\n",
    "memory = MemorySaver()\n",
    "graph = builder.compile(interrupt_before=[\"tools\"], checkpointer=memory)\n",
    "\n",
    "display(Image(graph.get_graph().draw_mermaid_png()))"
   ]
  },
  {
   "cell_type": "code",
   "execution_count": 15,
   "metadata": {},
   "outputs": [
    {
     "name": "stdout",
     "output_type": "stream",
     "text": [
      "================================\u001b[1m Human Message \u001b[0m=================================\n",
      "\n",
      "2かける3は？\n",
      "==================================\u001b[1m Ai Message \u001b[0m==================================\n",
      "Tool Calls:\n",
      "  multiply (call_lfREe1d0YBOmqz1vaCny5Ybi)\n",
      " Call ID: call_lfREe1d0YBOmqz1vaCny5Ybi\n",
      "  Args:\n",
      "    a: 2\n",
      "    b: 3\n"
     ]
    }
   ],
   "source": [
    "initial_input = {\"messages\": HumanMessage(content=\"2かける3は？\")}\n",
    "\n",
    "thread = {\"configurable\": {\"thread_id\": \"1\"}}\n",
    "\n",
    "for event in graph.stream(initial_input, thread, stream_mode=\"values\"):\n",
    "    event[\"messages\"][-1].pretty_print()"
   ]
  },
  {
   "cell_type": "code",
   "execution_count": 16,
   "metadata": {},
   "outputs": [
    {
     "data": {
      "text/plain": [
       "('tools',)"
      ]
     },
     "execution_count": 16,
     "metadata": {},
     "output_type": "execute_result"
    }
   ],
   "source": [
    "state = graph.get_state(thread)\n",
    "state.next"
   ]
  },
  {
   "cell_type": "code",
   "execution_count": 17,
   "metadata": {},
   "outputs": [
    {
     "name": "stdout",
     "output_type": "stream",
     "text": [
      "==================================\u001b[1m Ai Message \u001b[0m==================================\n",
      "Tool Calls:\n",
      "  multiply (call_lfREe1d0YBOmqz1vaCny5Ybi)\n",
      " Call ID: call_lfREe1d0YBOmqz1vaCny5Ybi\n",
      "  Args:\n",
      "    a: 2\n",
      "    b: 3\n",
      "=================================\u001b[1m Tool Message \u001b[0m=================================\n",
      "Name: multiply\n",
      "\n",
      "6\n",
      "==================================\u001b[1m Ai Message \u001b[0m==================================\n",
      "\n",
      "2かける3は6です。\n"
     ]
    }
   ],
   "source": [
    "# Noneを入力すると停止したノードから再開される\n",
    "for event in graph.stream(None, thread, stream_mode=\"values\"):\n",
    "    event[\"messages\"][-1].pretty_print()"
   ]
  },
  {
   "cell_type": "code",
   "execution_count": 21,
   "metadata": {},
   "outputs": [
    {
     "name": "stdout",
     "output_type": "stream",
     "text": [
      "================================\u001b[1m Human Message \u001b[0m=================================\n",
      "\n",
      "2かける3は？\n",
      "==================================\u001b[1m Ai Message \u001b[0m==================================\n",
      "Tool Calls:\n",
      "  multiply (call_r430MFjvammxAajZgpGg9Daj)\n",
      " Call ID: call_r430MFjvammxAajZgpGg9Daj\n",
      "  Args:\n",
      "    a: 2\n",
      "    b: 3\n",
      "==================================\u001b[1m Ai Message \u001b[0m==================================\n",
      "Tool Calls:\n",
      "  multiply (call_r430MFjvammxAajZgpGg9Daj)\n",
      " Call ID: call_r430MFjvammxAajZgpGg9Daj\n",
      "  Args:\n",
      "    a: 2\n",
      "    b: 3\n",
      "=================================\u001b[1m Tool Message \u001b[0m=================================\n",
      "Name: multiply\n",
      "\n",
      "6\n",
      "==================================\u001b[1m Ai Message \u001b[0m==================================\n",
      "\n",
      "2かける3は6です。\n"
     ]
    }
   ],
   "source": [
    "# Toolを使うまえにユーザの確認をはさむ\n",
    "initial_input = {\"messages\": HumanMessage(content=\"2かける3は？\")}\n",
    "\n",
    "thread = {\"configurable\": {\"thread_id\": \"2\"}}\n",
    "\n",
    "for event in graph.stream(initial_input, thread, stream_mode=\"values\"):\n",
    "    event[\"messages\"][-1].pretty_print()\n",
    "\n",
    "user_approval = input(\"ツールを呼び出したいですか？ (yes/no): \")\n",
    "\n",
    "if user_approval.lower() == \"yes\":\n",
    "    for event in graph.stream(None, thread, stream_mode=\"values\"):\n",
    "        event[\"messages\"][-1].pretty_print()\n",
    "else:\n",
    "    print(\"ユーザによってツール実行がキャンセルされました\")"
   ]
  },
  {
   "cell_type": "markdown",
   "metadata": {},
   "source": [
    "## Editing State: ノードの状態を修正する"
   ]
  },
  {
   "cell_type": "code",
   "execution_count": 3,
   "metadata": {},
   "outputs": [
    {
     "data": {
      "image/jpeg": "[encoded data removed]",
      "text/plain": [
       "<IPython.core.display.Image object>"
      ]
     },
     "metadata": {},
     "output_type": "display_data"
    }
   ],
   "source": [
    "# Breakpointで実行を止めて状態を修正できる\n",
    "from IPython.display import Image, display\n",
    "\n",
    "from langgraph.checkpoint.memory import MemorySaver\n",
    "from langgraph.graph import MessagesState\n",
    "from langgraph.graph import START, StateGraph\n",
    "from langgraph.prebuilt import tools_condition, ToolNode\n",
    "\n",
    "from langchain_core.messages import AIMessage, HumanMessage, SystemMessage\n",
    "\n",
    "sys_msg = SystemMessage(content=\"あなたは一連の入力に対して算術計算を行うことを任務とする、役立つアシスタントです。\")\n",
    "\n",
    "def assistant(state: MessagesState):\n",
    "    return {\"messages\": [llm_with_tools.invoke([sys_msg] + state[\"messages\"])]}\n",
    "\n",
    "builder = StateGraph(MessagesState)\n",
    "\n",
    "builder.add_node(\"assistant\", assistant)\n",
    "builder.add_node(\"tools\", ToolNode(tools))\n",
    "\n",
    "builder.add_edge(START, \"assistant\")\n",
    "builder.add_conditional_edges(\n",
    "    \"assistant\",\n",
    "    tools_condition\n",
    ")\n",
    "builder.add_edge(\"tools\", \"assistant\")\n",
    "\n",
    "memory = MemorySaver()\n",
    "# LLMの実行の直前で止める\n",
    "graph = builder.compile(interrupt_before=[\"assistant\"], checkpointer=memory)\n",
    "\n",
    "display(Image(graph.get_graph().draw_mermaid_png()))"
   ]
  },
  {
   "cell_type": "code",
   "execution_count": 4,
   "metadata": {},
   "outputs": [
    {
     "name": "stdout",
     "output_type": "stream",
     "text": [
      "================================\u001b[1m Human Message \u001b[0m=================================\n",
      "\n",
      "2かける3は？\n"
     ]
    }
   ],
   "source": [
    "initial_input = {\"messages\": HumanMessage(content=\"2かける3は？\")}\n",
    "\n",
    "thread = {\"configurable\": {\"thread_id\": \"1\"}}\n",
    "\n",
    "for event in graph.stream(initial_input, thread, stream_mode=\"values\"):\n",
    "    event[\"messages\"][-1].pretty_print()"
   ]
  },
  {
   "cell_type": "code",
   "execution_count": null,
   "metadata": {},
   "outputs": [
    {
     "data": {
      "text/plain": [
       "{'configurable': {'thread_id': '1',\n",
       "  'checkpoint_ns': '',\n",
       "  'checkpoint_id': '1ef96805-6039-6c25-8001-9194297bf209'}}"
      ]
     },
     "execution_count": 5,
     "metadata": {},
     "output_type": "execute_result"
    }
   ],
   "source": [
    "# 状態の更新\n",
    "# idを指定すれば既存のメッセージを上書きできるがここでは追加\n",
    "graph.update_state(\n",
    "    thread,\n",
    "    # Reducerによってmessagesが追加される\n",
    "    {\"messages\": [HumanMessage(content=\"間違えた。3かける3は？\")]}\n",
    ")"
   ]
  },
  {
   "cell_type": "code",
   "execution_count": 6,
   "metadata": {},
   "outputs": [
    {
     "name": "stdout",
     "output_type": "stream",
     "text": [
      "================================\u001b[1m Human Message \u001b[0m=================================\n",
      "\n",
      "2かける3は？\n",
      "================================\u001b[1m Human Message \u001b[0m=================================\n",
      "\n",
      "間違えた。3かける3は？\n"
     ]
    }
   ],
   "source": [
    "new_state = graph.get_state(thread).values\n",
    "for m in new_state[\"messages\"]:\n",
    "    m.pretty_print()"
   ]
  },
  {
   "cell_type": "code",
   "execution_count": 7,
   "metadata": {},
   "outputs": [
    {
     "name": "stdout",
     "output_type": "stream",
     "text": [
      "================================\u001b[1m Human Message \u001b[0m=================================\n",
      "\n",
      "間違えた。3かける3は？\n",
      "==================================\u001b[1m Ai Message \u001b[0m==================================\n",
      "Tool Calls:\n",
      "  multiply (call_4Cqhf9tiy1x4AxuVcmGhyNuX)\n",
      " Call ID: call_4Cqhf9tiy1x4AxuVcmGhyNuX\n",
      "  Args:\n",
      "    a: 3\n",
      "    b: 3\n",
      "=================================\u001b[1m Tool Message \u001b[0m=================================\n",
      "Name: multiply\n",
      "\n",
      "9\n"
     ]
    }
   ],
   "source": [
    "# 続きから再開する\n",
    "for event in graph.stream(None, thread, stream_mode=\"values\"):\n",
    "    event[\"messages\"][-1].pretty_print()"
   ]
  },
  {
   "cell_type": "markdown",
   "metadata": {},
   "source": [
    "## 人間によるフィードバックノードを追加する"
   ]
  },
  {
   "cell_type": "code",
   "execution_count": null,
   "metadata": {},
   "outputs": [
    {
     "data": {
      "image/jpeg": "[encoded data removed]",
      "text/plain": [
       "<IPython.core.display.Image object>"
      ]
     },
     "metadata": {},
     "output_type": "display_data"
    }
   ],
   "source": [
    "# Breakpointで実行を止めて状態を修正できる\n",
    "from IPython.display import Image, display\n",
    "\n",
    "from langgraph.checkpoint.memory import MemorySaver\n",
    "from langgraph.graph import MessagesState\n",
    "from langgraph.graph import START, StateGraph\n",
    "from langgraph.prebuilt import tools_condition, ToolNode\n",
    "\n",
    "from langchain_core.messages import AIMessage, HumanMessage, SystemMessage\n",
    "\n",
    "sys_msg = SystemMessage(content=\"あなたは一連の入力に対して算術計算を行うことを任務とする、役立つアシスタントです。\")\n",
    "\n",
    "def human_feedback(sate: MessagesState):\n",
    "    # 実際の状態の更新処理はグラフ実行時に書く\n",
    "    pass\n",
    "\n",
    "def assistant(state: MessagesState):\n",
    "    return {\"messages\": [llm_with_tools.invoke([sys_msg] + state[\"messages\"])]}\n",
    "\n",
    "builder = StateGraph(MessagesState)\n",
    "\n",
    "builder.add_node(\"assistant\", assistant)\n",
    "builder.add_node(\"tools\", ToolNode(tools))\n",
    "builder.add_node(\"human_feedback\", human_feedback)\n",
    "\n",
    "builder.add_edge(START, \"human_feedback\")\n",
    "builder.add_edge(\"human_feedback\", \"assistant\")\n",
    "builder.add_conditional_edges(\n",
    "    \"assistant\",\n",
    "    tools_condition\n",
    ")\n",
    "builder.add_edge(\"tools\", \"human_feedback\")\n",
    "\n",
    "memory = MemorySaver()\n",
    "# LLMの実行の直前で止める\n",
    "graph = builder.compile(interrupt_before=[\"human_feedback\"], checkpointer=memory)\n",
    "\n",
    "display(Image(graph.get_graph().draw_mermaid_png()))"
   ]
  },
  {
   "cell_type": "code",
   "execution_count": 11,
   "metadata": {},
   "outputs": [
    {
     "name": "stdout",
     "output_type": "stream",
     "text": [
      "================================\u001b[1m Human Message \u001b[0m=================================\n",
      "\n",
      "2かける3は？\n",
      "================================\u001b[1m Human Message \u001b[0m=================================\n",
      "\n",
      "3*3は\n",
      "==================================\u001b[1m Ai Message \u001b[0m==================================\n",
      "Tool Calls:\n",
      "  multiply (call_0wvF5Djlaf2Aq45iJvfEDShA)\n",
      " Call ID: call_0wvF5Djlaf2Aq45iJvfEDShA\n",
      "  Args:\n",
      "    a: 2\n",
      "    b: 3\n",
      "  multiply (call_tbuUjtLjLgvd93yOJYtEW4DC)\n",
      " Call ID: call_tbuUjtLjLgvd93yOJYtEW4DC\n",
      "  Args:\n",
      "    a: 3\n",
      "    b: 3\n",
      "=================================\u001b[1m Tool Message \u001b[0m=================================\n",
      "Name: multiply\n",
      "\n",
      "9\n"
     ]
    }
   ],
   "source": [
    "initial_input = {\"messages\": HumanMessage(content=\"2かける3は？\")}\n",
    "\n",
    "thread = {\"configurable\": {\"thread_id\": \"6\"}}\n",
    "\n",
    "for event in graph.stream(initial_input, thread, stream_mode=\"values\"):\n",
    "    event[\"messages\"][-1].pretty_print()\n",
    "\n",
    "# 人間のフィードバック（状態の更新）\n",
    "user_input = input(\"どのように状態更新したいか教えてください: \")\n",
    "graph.update_state(thread, {\"messages\": user_input}, as_node=\"human_feedback\")\n",
    "\n",
    "for event in graph.stream(None, thread, stream_mode=\"values\"):\n",
    "    event[\"messages\"][-1].pretty_print()"
   ]
  },
  {
   "cell_type": "markdown",
   "metadata": {},
   "source": [
    "## 動的なノードの停止（NodeInterrupt）"
   ]
  },
  {
   "cell_type": "code",
   "execution_count": 19,
   "metadata": {},
   "outputs": [
    {
     "data": {
      "image/jpeg": "[encoded data removed]",
      "text/plain": [
       "<IPython.core.display.Image object>"
      ]
     },
     "metadata": {},
     "output_type": "display_data"
    }
   ],
   "source": [
    "from IPython.display import Image, display\n",
    "\n",
    "from typing_extensions import TypedDict\n",
    "from langgraph.checkpoint.memory import MemorySaver\n",
    "from langgraph.errors import NodeInterrupt\n",
    "from langgraph.graph import START, END, StateGraph\n",
    "\n",
    "class State(TypedDict):\n",
    "    input: str\n",
    "\n",
    "def step_1(state: State) -> State:\n",
    "    print(\"--- Step 1 ---\")\n",
    "    return state\n",
    "\n",
    "def step_2(state: State) -> State:\n",
    "    if len(state[\"input\"]) > 5:\n",
    "        raise NodeInterrupt(f\"入力が5文字より長いです: {state['input']}\")\n",
    "\n",
    "    print(\"--- Step 2 ---\")\n",
    "    return state\n",
    "\n",
    "def step_3(state: State) -> State:\n",
    "    print(\"--- Step 3 ---\")\n",
    "    return state\n",
    "\n",
    "builder = StateGraph(State)\n",
    "builder.add_node(\"step_1\", step_1)\n",
    "builder.add_node(\"step_2\", step_2)\n",
    "builder.add_node(\"step_3\", step_3)\n",
    "\n",
    "builder.add_edge(START, \"step_1\")\n",
    "builder.add_edge(\"step_1\", \"step_2\")\n",
    "builder.add_edge(\"step_2\", \"step_3\")\n",
    "builder.add_edge(\"step_3\", END)\n",
    "\n",
    "memory = MemorySaver()\n",
    "\n",
    "graph = builder.compile(checkpointer=memory)\n",
    "\n",
    "display(Image(graph.get_graph().draw_mermaid_png()))"
   ]
  },
  {
   "cell_type": "code",
   "execution_count": 20,
   "metadata": {},
   "outputs": [
    {
     "name": "stdout",
     "output_type": "stream",
     "text": [
      "{'input': 'hello world'}\n",
      "--- Step 1 ---\n",
      "{'input': 'hello world'}\n"
     ]
    }
   ],
   "source": [
    "initial_input = {\"input\": \"hello world\"}\n",
    "thread_config = {\"configurable\": {\"thread_id\": \"1\"}}\n",
    "\n",
    "for event in graph.stream(initial_input, thread_config, stream_mode=\"values\"):\n",
    "    print(event)"
   ]
  },
  {
   "cell_type": "code",
   "execution_count": 21,
   "metadata": {},
   "outputs": [
    {
     "data": {
      "text/plain": [
       "('step_2',)"
      ]
     },
     "execution_count": 21,
     "metadata": {},
     "output_type": "execute_result"
    }
   ],
   "source": [
    "state = graph.get_state(thread_config)\n",
    "state.next"
   ]
  },
  {
   "cell_type": "code",
   "execution_count": 22,
   "metadata": {},
   "outputs": [
    {
     "data": {
      "text/plain": [
       "(PregelTask(id='9f3e95a9-6a03-9538-17cb-d8d6252b8289', name='step_2', path=('__pregel_pull', 'step_2'), error=None, interrupts=(Interrupt(value='入力が5文字より長いです: hello world', when='during'),), state=None, result=None),)"
      ]
     },
     "execution_count": 22,
     "metadata": {},
     "output_type": "execute_result"
    }
   ],
   "source": [
    "state.tasks"
   ]
  },
  {
   "cell_type": "code",
   "execution_count": 23,
   "metadata": {},
   "outputs": [
    {
     "name": "stdout",
     "output_type": "stream",
     "text": [
      "{'input': 'hello world'}\n"
     ]
    }
   ],
   "source": [
    "# 続きから始めるが何もしないと同じノードで止まる\n",
    "for event in graph.stream(None, thread_config, stream_mode=\"values\"):\n",
    "    print(event)"
   ]
  },
  {
   "cell_type": "code",
   "execution_count": 24,
   "metadata": {},
   "outputs": [
    {
     "data": {
      "text/plain": [
       "{'configurable': {'thread_id': '1',\n",
       "  'checkpoint_ns': '',\n",
       "  'checkpoint_id': '1ef96869-5c43-6956-8002-9b2490262a78'}}"
      ]
     },
     "execution_count": 24,
     "metadata": {},
     "output_type": "execute_result"
    }
   ],
   "source": [
    "# 状態を修正\n",
    "graph.update_state(thread_config, {\"input\": \"hi\"})"
   ]
  },
  {
   "cell_type": "code",
   "execution_count": 25,
   "metadata": {},
   "outputs": [
    {
     "name": "stdout",
     "output_type": "stream",
     "text": [
      "{'input': 'hi'}\n",
      "--- Step 2 ---\n",
      "{'input': 'hi'}\n",
      "--- Step 3 ---\n",
      "{'input': 'hi'}\n"
     ]
    }
   ],
   "source": [
    "for event in graph.stream(None, thread_config, stream_mode=\"values\"):\n",
    "    print(event)"
   ]
  },
  {
   "cell_type": "markdown",
   "metadata": {},
   "source": [
    "## タイムトラベル"
   ]
  },
  {
   "cell_type": "code",
   "execution_count": 72,
   "metadata": {},
   "outputs": [
    {
     "data": {
      "image/jpeg": "[encoded data removed]",
      "text/plain": [
       "<IPython.core.display.Image object>"
      ]
     },
     "metadata": {},
     "output_type": "display_data"
    }
   ],
   "source": [
    "# Breakpointで実行を止めて状態を修正できる\n",
    "from IPython.display import Image, display\n",
    "\n",
    "from langgraph.checkpoint.memory import MemorySaver\n",
    "from langgraph.graph import MessagesState\n",
    "from langgraph.graph import START, StateGraph\n",
    "from langgraph.prebuilt import tools_condition, ToolNode\n",
    "\n",
    "from langchain_core.messages import AIMessage, HumanMessage, SystemMessage\n",
    "\n",
    "sys_msg = SystemMessage(content=\"あなたは一連の入力に対して算術計算を行うことを任務とする、役立つアシスタントです。\")\n",
    "\n",
    "def assistant(state: MessagesState):\n",
    "    return {\"messages\": [llm_with_tools.invoke([sys_msg] + state[\"messages\"])]}\n",
    "\n",
    "builder = StateGraph(MessagesState)\n",
    "\n",
    "builder.add_node(\"assistant\", assistant)\n",
    "builder.add_node(\"tools\", ToolNode(tools))\n",
    "\n",
    "builder.add_edge(START, \"assistant\")\n",
    "builder.add_conditional_edges(\n",
    "    \"assistant\",\n",
    "    tools_condition\n",
    ")\n",
    "builder.add_edge(\"tools\", \"assistant\")\n",
    "\n",
    "memory = MemorySaver()\n",
    "graph = builder.compile(checkpointer=memory)\n",
    "\n",
    "display(Image(graph.get_graph().draw_mermaid_png()))"
   ]
  },
  {
   "cell_type": "code",
   "execution_count": 73,
   "metadata": {},
   "outputs": [
    {
     "name": "stdout",
     "output_type": "stream",
     "text": [
      "================================\u001b[1m Human Message \u001b[0m=================================\n",
      "\n",
      "2かける3は？\n",
      "==================================\u001b[1m Ai Message \u001b[0m==================================\n",
      "Tool Calls:\n",
      "  multiply (call_B8sWEUSNDmJtPxj9m84w1vlh)\n",
      " Call ID: call_B8sWEUSNDmJtPxj9m84w1vlh\n",
      "  Args:\n",
      "    a: 2\n",
      "    b: 3\n",
      "=================================\u001b[1m Tool Message \u001b[0m=================================\n",
      "Name: multiply\n",
      "\n",
      "6\n",
      "==================================\u001b[1m Ai Message \u001b[0m==================================\n",
      "\n",
      "2かける3は6です。\n"
     ]
    }
   ],
   "source": [
    "initial_input = {\"messages\": HumanMessage(content=\"2かける3は？\")}\n",
    "\n",
    "thread = {\"configurable\": {\"thread_id\": \"1\"}}\n",
    "\n",
    "for event in graph.stream(initial_input, thread, stream_mode=\"values\"):\n",
    "    event[\"messages\"][-1].pretty_print()"
   ]
  },
  {
   "cell_type": "code",
   "execution_count": 74,
   "metadata": {},
   "outputs": [
    {
     "data": {
      "text/plain": [
       "[HumanMessage(content='2かける3は？', additional_kwargs={}, response_metadata={}, id='b3a0c6df-0c08-4487-8dbe-b93f35e36a26'),\n",
       " AIMessage(content='', additional_kwargs={'tool_calls': [{'id': 'call_B8sWEUSNDmJtPxj9m84w1vlh', 'function': {'arguments': '{\"a\":2,\"b\":3}', 'name': 'multiply'}, 'type': 'function'}], 'refusal': None}, response_metadata={'token_usage': {'completion_tokens': 17, 'prompt_tokens': 149, 'total_tokens': 166, 'completion_tokens_details': {'audio_tokens': None, 'reasoning_tokens': 0}, 'prompt_tokens_details': {'audio_tokens': None, 'cached_tokens': 0}}, 'model_name': 'gpt-4o-mini-2024-07-18', 'system_fingerprint': 'fp_8bfc6a7dc2', 'finish_reason': 'tool_calls', 'logprobs': None}, id='run-e7dd022a-a272-4a77-b21a-ab1ebe6bca53-0', tool_calls=[{'name': 'multiply', 'args': {'a': 2, 'b': 3}, 'id': 'call_B8sWEUSNDmJtPxj9m84w1vlh', 'type': 'tool_call'}], usage_metadata={'input_tokens': 149, 'output_tokens': 17, 'total_tokens': 166, 'input_token_details': {'cache_read': 0}, 'output_token_details': {'reasoning': 0}}),\n",
       " ToolMessage(content='6', name='multiply', id='d65afc48-b99f-44bb-92d4-8b7f4879656f', tool_call_id='call_B8sWEUSNDmJtPxj9m84w1vlh'),\n",
       " AIMessage(content='2かける3は6です。', additional_kwargs={'refusal': None}, response_metadata={'token_usage': {'completion_tokens': 10, 'prompt_tokens': 174, 'total_tokens': 184, 'completion_tokens_details': {'audio_tokens': None, 'reasoning_tokens': 0}, 'prompt_tokens_details': {'audio_tokens': None, 'cached_tokens': 0}}, 'model_name': 'gpt-4o-mini-2024-07-18', 'system_fingerprint': 'fp_8bfc6a7dc2', 'finish_reason': 'stop', 'logprobs': None}, id='run-f5c13cd1-4fba-4f58-a438-5832967264c9-0', usage_metadata={'input_tokens': 174, 'output_tokens': 10, 'total_tokens': 184, 'input_token_details': {'cache_read': 0}, 'output_token_details': {'reasoning': 0}})]"
      ]
     },
     "execution_count": 74,
     "metadata": {},
     "output_type": "execute_result"
    }
   ],
   "source": [
    "# スレッドの現在の状態を調べる\n",
    "snapshot = graph.get_state(thread)\n",
    "snapshot.values[\"messages\"]"
   ]
  },
  {
   "cell_type": "code",
   "execution_count": 75,
   "metadata": {},
   "outputs": [
    {
     "data": {
      "text/plain": [
       "5"
      ]
     },
     "execution_count": 75,
     "metadata": {},
     "output_type": "execute_result"
    }
   ],
   "source": [
    "all_states = [s for s in graph.get_state_history(thread)]\n",
    "len(all_states)"
   ]
  },
  {
   "cell_type": "code",
   "execution_count": 76,
   "metadata": {},
   "outputs": [
    {
     "data": {
      "text/plain": [
       "[HumanMessage(content='2かける3は？', additional_kwargs={}, response_metadata={}, id='b3a0c6df-0c08-4487-8dbe-b93f35e36a26'),\n",
       " AIMessage(content='', additional_kwargs={'tool_calls': [{'id': 'call_B8sWEUSNDmJtPxj9m84w1vlh', 'function': {'arguments': '{\"a\":2,\"b\":3}', 'name': 'multiply'}, 'type': 'function'}], 'refusal': None}, response_metadata={'token_usage': {'completion_tokens': 17, 'prompt_tokens': 149, 'total_tokens': 166, 'completion_tokens_details': {'audio_tokens': None, 'reasoning_tokens': 0}, 'prompt_tokens_details': {'audio_tokens': None, 'cached_tokens': 0}}, 'model_name': 'gpt-4o-mini-2024-07-18', 'system_fingerprint': 'fp_8bfc6a7dc2', 'finish_reason': 'tool_calls', 'logprobs': None}, id='run-e7dd022a-a272-4a77-b21a-ab1ebe6bca53-0', tool_calls=[{'name': 'multiply', 'args': {'a': 2, 'b': 3}, 'id': 'call_B8sWEUSNDmJtPxj9m84w1vlh', 'type': 'tool_call'}], usage_metadata={'input_tokens': 149, 'output_tokens': 17, 'total_tokens': 166, 'input_token_details': {'cache_read': 0}, 'output_token_details': {'reasoning': 0}}),\n",
       " ToolMessage(content='6', name='multiply', id='d65afc48-b99f-44bb-92d4-8b7f4879656f', tool_call_id='call_B8sWEUSNDmJtPxj9m84w1vlh'),\n",
       " AIMessage(content='2かける3は6です。', additional_kwargs={'refusal': None}, response_metadata={'token_usage': {'completion_tokens': 10, 'prompt_tokens': 174, 'total_tokens': 184, 'completion_tokens_details': {'audio_tokens': None, 'reasoning_tokens': 0}, 'prompt_tokens_details': {'audio_tokens': None, 'cached_tokens': 0}}, 'model_name': 'gpt-4o-mini-2024-07-18', 'system_fingerprint': 'fp_8bfc6a7dc2', 'finish_reason': 'stop', 'logprobs': None}, id='run-f5c13cd1-4fba-4f58-a438-5832967264c9-0', usage_metadata={'input_tokens': 174, 'output_tokens': 10, 'total_tokens': 184, 'input_token_details': {'cache_read': 0}, 'output_token_details': {'reasoning': 0}})]"
      ]
     },
     "execution_count": 76,
     "metadata": {},
     "output_type": "execute_result"
    }
   ],
   "source": [
    "# インデックスが小さいほど新しい状態\n",
    "all_states[0].values[\"messages\"]"
   ]
  },
  {
   "cell_type": "code",
   "execution_count": 77,
   "metadata": {},
   "outputs": [
    {
     "data": {
      "text/plain": [
       "[HumanMessage(content='2かける3は？', additional_kwargs={}, response_metadata={}, id='b3a0c6df-0c08-4487-8dbe-b93f35e36a26'),\n",
       " AIMessage(content='', additional_kwargs={'tool_calls': [{'id': 'call_B8sWEUSNDmJtPxj9m84w1vlh', 'function': {'arguments': '{\"a\":2,\"b\":3}', 'name': 'multiply'}, 'type': 'function'}], 'refusal': None}, response_metadata={'token_usage': {'completion_tokens': 17, 'prompt_tokens': 149, 'total_tokens': 166, 'completion_tokens_details': {'audio_tokens': None, 'reasoning_tokens': 0}, 'prompt_tokens_details': {'audio_tokens': None, 'cached_tokens': 0}}, 'model_name': 'gpt-4o-mini-2024-07-18', 'system_fingerprint': 'fp_8bfc6a7dc2', 'finish_reason': 'tool_calls', 'logprobs': None}, id='run-e7dd022a-a272-4a77-b21a-ab1ebe6bca53-0', tool_calls=[{'name': 'multiply', 'args': {'a': 2, 'b': 3}, 'id': 'call_B8sWEUSNDmJtPxj9m84w1vlh', 'type': 'tool_call'}], usage_metadata={'input_tokens': 149, 'output_tokens': 17, 'total_tokens': 166, 'input_token_details': {'cache_read': 0}, 'output_token_details': {'reasoning': 0}}),\n",
       " ToolMessage(content='6', name='multiply', id='d65afc48-b99f-44bb-92d4-8b7f4879656f', tool_call_id='call_B8sWEUSNDmJtPxj9m84w1vlh')]"
      ]
     },
     "execution_count": 77,
     "metadata": {},
     "output_type": "execute_result"
    }
   ],
   "source": [
    "# 1つ前の状態\n",
    "all_states[1].values[\"messages\"]"
   ]
  },
  {
   "cell_type": "code",
   "execution_count": 78,
   "metadata": {},
   "outputs": [
    {
     "data": {
      "text/plain": [
       "[HumanMessage(content='2かける3は？', additional_kwargs={}, response_metadata={}, id='b3a0c6df-0c08-4487-8dbe-b93f35e36a26'),\n",
       " AIMessage(content='', additional_kwargs={'tool_calls': [{'id': 'call_B8sWEUSNDmJtPxj9m84w1vlh', 'function': {'arguments': '{\"a\":2,\"b\":3}', 'name': 'multiply'}, 'type': 'function'}], 'refusal': None}, response_metadata={'token_usage': {'completion_tokens': 17, 'prompt_tokens': 149, 'total_tokens': 166, 'completion_tokens_details': {'audio_tokens': None, 'reasoning_tokens': 0}, 'prompt_tokens_details': {'audio_tokens': None, 'cached_tokens': 0}}, 'model_name': 'gpt-4o-mini-2024-07-18', 'system_fingerprint': 'fp_8bfc6a7dc2', 'finish_reason': 'tool_calls', 'logprobs': None}, id='run-e7dd022a-a272-4a77-b21a-ab1ebe6bca53-0', tool_calls=[{'name': 'multiply', 'args': {'a': 2, 'b': 3}, 'id': 'call_B8sWEUSNDmJtPxj9m84w1vlh', 'type': 'tool_call'}], usage_metadata={'input_tokens': 149, 'output_tokens': 17, 'total_tokens': 166, 'input_token_details': {'cache_read': 0}, 'output_token_details': {'reasoning': 0}})]"
      ]
     },
     "execution_count": 78,
     "metadata": {},
     "output_type": "execute_result"
    }
   ],
   "source": [
    "# 2つ前の状態\n",
    "all_states[2].values[\"messages\"]"
   ]
  },
  {
   "cell_type": "code",
   "execution_count": 79,
   "metadata": {},
   "outputs": [
    {
     "data": {
      "text/plain": [
       "StateSnapshot(values={'messages': [HumanMessage(content='2かける3は？', additional_kwargs={}, response_metadata={}, id='b3a0c6df-0c08-4487-8dbe-b93f35e36a26'), AIMessage(content='', additional_kwargs={'tool_calls': [{'id': 'call_B8sWEUSNDmJtPxj9m84w1vlh', 'function': {'arguments': '{\"a\":2,\"b\":3}', 'name': 'multiply'}, 'type': 'function'}], 'refusal': None}, response_metadata={'token_usage': {'completion_tokens': 17, 'prompt_tokens': 149, 'total_tokens': 166, 'completion_tokens_details': {'audio_tokens': None, 'reasoning_tokens': 0}, 'prompt_tokens_details': {'audio_tokens': None, 'cached_tokens': 0}}, 'model_name': 'gpt-4o-mini-2024-07-18', 'system_fingerprint': 'fp_8bfc6a7dc2', 'finish_reason': 'tool_calls', 'logprobs': None}, id='run-e7dd022a-a272-4a77-b21a-ab1ebe6bca53-0', tool_calls=[{'name': 'multiply', 'args': {'a': 2, 'b': 3}, 'id': 'call_B8sWEUSNDmJtPxj9m84w1vlh', 'type': 'tool_call'}], usage_metadata={'input_tokens': 149, 'output_tokens': 17, 'total_tokens': 166, 'input_token_details': {'cache_read': 0}, 'output_token_details': {'reasoning': 0}}), ToolMessage(content='6', name='multiply', id='d65afc48-b99f-44bb-92d4-8b7f4879656f', tool_call_id='call_B8sWEUSNDmJtPxj9m84w1vlh')]}, next=('assistant',), config={'configurable': {'thread_id': '1', 'checkpoint_ns': '', 'checkpoint_id': '1ef96901-4473-6f2e-8002-7e1d466d4cb5'}}, metadata={'source': 'loop', 'writes': {'tools': {'messages': [ToolMessage(content='6', name='multiply', id='d65afc48-b99f-44bb-92d4-8b7f4879656f', tool_call_id='call_B8sWEUSNDmJtPxj9m84w1vlh')]}}, 'step': 2, 'parents': {}}, created_at='2024-10-30T07:25:03.144516+00:00', parent_config={'configurable': {'thread_id': '1', 'checkpoint_ns': '', 'checkpoint_id': '1ef96901-446d-6618-8001-ca165ee5e5d3'}}, tasks=(PregelTask(id='1e8c6d3f-2e98-1bb9-e62a-1688c87e2cb3', name='assistant', path=('__pregel_pull', 'assistant'), error=None, interrupts=(), state=None, result={'messages': [AIMessage(content='2かける3は6です。', additional_kwargs={'refusal': None}, response_metadata={'token_usage': {'completion_tokens': 10, 'prompt_tokens': 174, 'total_tokens': 184, 'completion_tokens_details': {'audio_tokens': None, 'reasoning_tokens': 0}, 'prompt_tokens_details': {'audio_tokens': None, 'cached_tokens': 0}}, 'model_name': 'gpt-4o-mini-2024-07-18', 'system_fingerprint': 'fp_8bfc6a7dc2', 'finish_reason': 'stop', 'logprobs': None}, id='run-f5c13cd1-4fba-4f58-a438-5832967264c9-0', usage_metadata={'input_tokens': 174, 'output_tokens': 10, 'total_tokens': 184, 'input_token_details': {'cache_read': 0}, 'output_token_details': {'reasoning': 0}})]}),))"
      ]
     },
     "execution_count": 79,
     "metadata": {},
     "output_type": "execute_result"
    }
   ],
   "source": [
    "# リプレイ\n",
    "to_replay = all_states[1]\n",
    "to_replay"
   ]
  },
  {
   "cell_type": "code",
   "execution_count": 80,
   "metadata": {},
   "outputs": [
    {
     "data": {
      "text/plain": [
       "[HumanMessage(content='2かける3は？', additional_kwargs={}, response_metadata={}, id='b3a0c6df-0c08-4487-8dbe-b93f35e36a26'),\n",
       " AIMessage(content='', additional_kwargs={'tool_calls': [{'id': 'call_B8sWEUSNDmJtPxj9m84w1vlh', 'function': {'arguments': '{\"a\":2,\"b\":3}', 'name': 'multiply'}, 'type': 'function'}], 'refusal': None}, response_metadata={'token_usage': {'completion_tokens': 17, 'prompt_tokens': 149, 'total_tokens': 166, 'completion_tokens_details': {'audio_tokens': None, 'reasoning_tokens': 0}, 'prompt_tokens_details': {'audio_tokens': None, 'cached_tokens': 0}}, 'model_name': 'gpt-4o-mini-2024-07-18', 'system_fingerprint': 'fp_8bfc6a7dc2', 'finish_reason': 'tool_calls', 'logprobs': None}, id='run-e7dd022a-a272-4a77-b21a-ab1ebe6bca53-0', tool_calls=[{'name': 'multiply', 'args': {'a': 2, 'b': 3}, 'id': 'call_B8sWEUSNDmJtPxj9m84w1vlh', 'type': 'tool_call'}], usage_metadata={'input_tokens': 149, 'output_tokens': 17, 'total_tokens': 166, 'input_token_details': {'cache_read': 0}, 'output_token_details': {'reasoning': 0}}),\n",
       " ToolMessage(content='6', name='multiply', id='d65afc48-b99f-44bb-92d4-8b7f4879656f', tool_call_id='call_B8sWEUSNDmJtPxj9m84w1vlh')]"
      ]
     },
     "execution_count": 80,
     "metadata": {},
     "output_type": "execute_result"
    }
   ],
   "source": [
    "to_replay.values[\"messages\"]"
   ]
  },
  {
   "cell_type": "code",
   "execution_count": 81,
   "metadata": {},
   "outputs": [
    {
     "data": {
      "text/plain": [
       "('assistant',)"
      ]
     },
     "execution_count": 81,
     "metadata": {},
     "output_type": "execute_result"
    }
   ],
   "source": [
    "to_replay.next"
   ]
  },
  {
   "cell_type": "code",
   "execution_count": 82,
   "metadata": {},
   "outputs": [
    {
     "data": {
      "text/plain": [
       "{'configurable': {'thread_id': '1',\n",
       "  'checkpoint_ns': '',\n",
       "  'checkpoint_id': '1ef96901-4473-6f2e-8002-7e1d466d4cb5'}}"
      ]
     },
     "execution_count": 82,
     "metadata": {},
     "output_type": "execute_result"
    }
   ],
   "source": [
    "to_replay.config"
   ]
  },
  {
   "cell_type": "code",
   "execution_count": null,
   "metadata": {},
   "outputs": [
    {
     "name": "stdout",
     "output_type": "stream",
     "text": [
      "=================================\u001b[1m Tool Message \u001b[0m=================================\n",
      "Name: multiply\n",
      "\n",
      "6\n",
      "==================================\u001b[1m Ai Message \u001b[0m==================================\n",
      "\n",
      "2かける3は6です。\n"
     ]
    }
   ],
   "source": [
    "# configを指定するとそこから開始できる\n",
    "for event in graph.stream(None, to_replay.config, stream_mode=\"values\"):\n",
    "    event[\"messages\"][-1].pretty_print()"
   ]
  },
  {
   "cell_type": "markdown",
   "metadata": {},
   "source": [
    "## Forking: 巻き戻して状態を変更して再開する"
   ]
  },
  {
   "cell_type": "code",
   "execution_count": 84,
   "metadata": {},
   "outputs": [
    {
     "data": {
      "text/plain": [
       "[HumanMessage(content='2かける3は？', additional_kwargs={}, response_metadata={}, id='b3a0c6df-0c08-4487-8dbe-b93f35e36a26')]"
      ]
     },
     "execution_count": 84,
     "metadata": {},
     "output_type": "execute_result"
    }
   ],
   "source": [
    "to_fork = all_states[-2]\n",
    "to_fork.values[\"messages\"]"
   ]
  },
  {
   "cell_type": "code",
   "execution_count": 85,
   "metadata": {},
   "outputs": [
    {
     "data": {
      "text/plain": [
       "{'configurable': {'thread_id': '1',\n",
       "  'checkpoint_ns': '',\n",
       "  'checkpoint_id': '1ef96901-3da6-63e5-8000-a919557a6ca7'}}"
      ]
     },
     "execution_count": 85,
     "metadata": {},
     "output_type": "execute_result"
    }
   ],
   "source": [
    "to_fork.config"
   ]
  },
  {
   "cell_type": "code",
   "execution_count": 86,
   "metadata": {},
   "outputs": [
    {
     "data": {
      "text/plain": [
       "{'configurable': {'thread_id': '1',\n",
       "  'checkpoint_ns': '',\n",
       "  'checkpoint_id': '1ef9690b-c484-6d1d-8001-9c89254832ad'}}"
      ]
     },
     "execution_count": 86,
     "metadata": {},
     "output_type": "execute_result"
    }
   ],
   "source": [
    "# messagesを上書きする\n",
    "fork_config = graph.update_state(\n",
    "    to_fork.config,\n",
    "    {\"messages\": [HumanMessage(content=\"5かける3は？\", id=to_fork.values[\"messages\"][0].id)]}\n",
    ")\n",
    "fork_config"
   ]
  },
  {
   "cell_type": "code",
   "execution_count": null,
   "metadata": {},
   "outputs": [
    {
     "data": {
      "text/plain": [
       "[HumanMessage(content='5かける3は？', additional_kwargs={}, response_metadata={}, id='b3a0c6df-0c08-4487-8dbe-b93f35e36a26')]"
      ]
     },
     "execution_count": 87,
     "metadata": {},
     "output_type": "execute_result"
    }
   ],
   "source": [
    "# 状態が更新され巻き戻っているのがわかる\n",
    "all_states = [state for state in graph.get_state_history(thread)]\n",
    "all_states[0].values[\"messages\"]"
   ]
  },
  {
   "cell_type": "code",
   "execution_count": null,
   "metadata": {},
   "outputs": [
    {
     "data": {
      "text/plain": [
       "[HumanMessage(content='5かける3は？', additional_kwargs={}, response_metadata={}, id='b3a0c6df-0c08-4487-8dbe-b93f35e36a26')]"
      ]
     },
     "execution_count": 88,
     "metadata": {},
     "output_type": "execute_result"
    }
   ],
   "source": [
    "# 現在の状態も巻き戻っている\n",
    "graph.get_state({\"configurable\": {\"thread_id\": \"1\"}}).values[\"messages\"]"
   ]
  },
  {
   "cell_type": "code",
   "execution_count": 89,
   "metadata": {},
   "outputs": [
    {
     "name": "stdout",
     "output_type": "stream",
     "text": [
      "================================\u001b[1m Human Message \u001b[0m=================================\n",
      "\n",
      "5かける3は？\n",
      "==================================\u001b[1m Ai Message \u001b[0m==================================\n",
      "Tool Calls:\n",
      "  multiply (call_n9pSc6uJuzp9ft763ocnHEP4)\n",
      " Call ID: call_n9pSc6uJuzp9ft763ocnHEP4\n",
      "  Args:\n",
      "    a: 5\n",
      "    b: 3\n",
      "=================================\u001b[1m Tool Message \u001b[0m=================================\n",
      "Name: multiply\n",
      "\n",
      "15\n",
      "==================================\u001b[1m Ai Message \u001b[0m==================================\n",
      "\n",
      "5かける3は15です。\n"
     ]
    }
   ],
   "source": [
    "# 巻き戻しから再開\n",
    "for event in graph.stream(None, fork_config, stream_mode=\"values\"):\n",
    "    event[\"messages\"][-1].pretty_print()"
   ]
  },
  {
   "cell_type": "code",
   "execution_count": 90,
   "metadata": {},
   "outputs": [
    {
     "data": {
      "text/plain": [
       "[HumanMessage(content='5かける3は？', additional_kwargs={}, response_metadata={}, id='b3a0c6df-0c08-4487-8dbe-b93f35e36a26'),\n",
       " AIMessage(content='', additional_kwargs={'tool_calls': [{'id': 'call_n9pSc6uJuzp9ft763ocnHEP4', 'function': {'arguments': '{\"a\":5,\"b\":3}', 'name': 'multiply'}, 'type': 'function'}], 'refusal': None}, response_metadata={'token_usage': {'completion_tokens': 17, 'prompt_tokens': 149, 'total_tokens': 166, 'completion_tokens_details': {'audio_tokens': None, 'reasoning_tokens': 0}, 'prompt_tokens_details': {'audio_tokens': None, 'cached_tokens': 0}}, 'model_name': 'gpt-4o-mini-2024-07-18', 'system_fingerprint': 'fp_f59a81427f', 'finish_reason': 'tool_calls', 'logprobs': None}, id='run-d2762c68-6171-490e-985d-d8c1a7e2e1b3-0', tool_calls=[{'name': 'multiply', 'args': {'a': 5, 'b': 3}, 'id': 'call_n9pSc6uJuzp9ft763ocnHEP4', 'type': 'tool_call'}], usage_metadata={'input_tokens': 149, 'output_tokens': 17, 'total_tokens': 166, 'input_token_details': {'cache_read': 0}, 'output_token_details': {'reasoning': 0}}),\n",
       " ToolMessage(content='15', name='multiply', id='2e9c8936-a7c7-4bb7-a2ed-2044b1536b05', tool_call_id='call_n9pSc6uJuzp9ft763ocnHEP4'),\n",
       " AIMessage(content='5かける3は15です。', additional_kwargs={'refusal': None}, response_metadata={'token_usage': {'completion_tokens': 10, 'prompt_tokens': 174, 'total_tokens': 184, 'completion_tokens_details': {'audio_tokens': None, 'reasoning_tokens': 0}, 'prompt_tokens_details': {'audio_tokens': None, 'cached_tokens': 0}}, 'model_name': 'gpt-4o-mini-2024-07-18', 'system_fingerprint': 'fp_f59a81427f', 'finish_reason': 'stop', 'logprobs': None}, id='run-3ac6f720-04f6-48d0-9bec-bca24ed3daac-0', usage_metadata={'input_tokens': 174, 'output_tokens': 10, 'total_tokens': 184, 'input_token_details': {'cache_read': 0}, 'output_token_details': {'reasoning': 0}})]"
      ]
     },
     "execution_count": 90,
     "metadata": {},
     "output_type": "execute_result"
    }
   ],
   "source": [
    "graph.get_state({\"configurable\": {\"thread_id\": \"1\"}}).values[\"messages\"]"
   ]
  }
 ],
 "metadata": {
  "kernelspec": {
   "display_name": "learning-langchain-BRoTc1ZH-py3.11",
   "language": "python",
   "name": "python3"
  },
  "language_info": {
   "codemirror_mode": {
    "name": "ipython",
    "version": 3
   },
   "file_extension": ".py",
   "mimetype": "text/x-python",
   "name": "python",
   "nbconvert_exporter": "python",
   "pygments_lexer": "ipython3",
   "version": "3.11.7"
  }
 },
 "nbformat": 4,
 "nbformat_minor": 2
}

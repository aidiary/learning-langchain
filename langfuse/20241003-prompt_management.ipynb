{
 "cells": [
  {
   "cell_type": "code",
   "execution_count": null,
   "metadata": {},
   "outputs": [],
   "source": [
    "from langfuse import Langfuse\n",
    "\n",
    "langfuse = Langfuse()\n",
    "langfuse.create_prompt(\n",
    "    name=\"movie-critic\",\n",
    "    type=\"text\",\n",
    "    prompt=\"As a {{criticlevel}} movie critic, do you love {{movie}}?\",\n",
    "    labels={\"production\"},\n",
    "    config={\n",
    "        \"model\": \"gpt-4o-mini\",\n",
    "        \"temperature\": 0.7,\n",
    "        \"supported_languages\": [\"en\", \"ja\"],\n",
    "    },\n",
    ")"
   ]
  },
  {
   "cell_type": "code",
   "execution_count": null,
   "metadata": {},
   "outputs": [],
   "source": [
    "langfuse.create_prompt(\n",
    "    name=\"movie-critic-chat\",\n",
    "    type=\"chat\",\n",
    "    prompt=[\n",
    "        {\"role\": \"system\", \"content\": \"You are an {{criticlevel}} movie critic.\"},\n",
    "        {\"role\": \"user\", \"content\": \"Do you like {{movie}}?\"},\n",
    "    ],\n",
    "    labels={\"production\"},\n",
    "    config={\n",
    "        \"model\": \"gpt-4o-mini\",\n",
    "        \"temperature\": 0.7,\n",
    "        \"supported_languages\": [\"en\", \"ja\"],\n",
    "    },\n",
    ")"
   ]
  },
  {
   "cell_type": "code",
   "execution_count": null,
   "metadata": {},
   "outputs": [],
   "source": [
    "prompt = langfuse.get_prompt(\"movie-critic\")\n",
    "compiled_prompt = prompt.compile(criticlevel=\"expoert\", movie=\"Dune 2\")\n",
    "print(compiled_prompt)"
   ]
  },
  {
   "cell_type": "code",
   "execution_count": null,
   "metadata": {},
   "outputs": [],
   "source": [
    "chat_prompt = langfuse.get_prompt(\"movie-critic-chat\", type=\"chat\")\n",
    "compiled_chat_prompt = chat_prompt.compile(criticlevel=\"amateur\", movie=\"Dune 2\")\n",
    "compiled_chat_prompt"
   ]
  },
  {
   "cell_type": "code",
   "execution_count": null,
   "metadata": {},
   "outputs": [],
   "source": [
    "prompt = langfuse.get_prompt(\"movie-critic\", version=1)\n",
    "prompt.prompt"
   ]
  },
  {
   "cell_type": "code",
   "execution_count": 10,
   "metadata": {},
   "outputs": [],
   "source": [
    "from langfuse.decorators import langfuse_context, observe\n",
    "\n",
    "\n",
    "@observe(as_type=\"generation\")\n",
    "def nested_generation():\n",
    "    prompt = langfuse.get_prompt(\"movie-critic\")\n",
    "\n",
    "    langfuse_context.update_current_observation(\n",
    "        prompt=prompt\n",
    "    )\n",
    "\n",
    "\n",
    "@observe()\n",
    "def main():\n",
    "    nested_generation()\n",
    "\n",
    "\n",
    "main()"
   ]
  }
 ],
 "metadata": {
  "kernelspec": {
   "display_name": "learning-langchain-BRoTc1ZH-py3.11",
   "language": "python",
   "name": "python3"
  },
  "language_info": {
   "codemirror_mode": {
    "name": "ipython",
    "version": 3
   },
   "file_extension": ".py",
   "mimetype": "text/x-python",
   "name": "python",
   "nbconvert_exporter": "python",
   "pygments_lexer": "ipython3",
   "version": "3.11.7"
  }
 },
 "nbformat": 4,
 "nbformat_minor": 2
}
